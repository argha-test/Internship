{
 "cells": [
  {
   "cell_type": "markdown",
   "id": "960c4a48",
   "metadata": {},
   "source": [
    "# Q1: Write a python program to scrape data for “Data Analyst” Job position in “Bangalore” location.\n",
    "you have to scrape the job-title, job-location, company_name, experience_required. You have to scrape first 10\n",
    "jobs data."
   ]
  },
  {
   "cell_type": "code",
   "execution_count": 1,
   "id": "e896dc29",
   "metadata": {},
   "outputs": [
    {
     "name": "stdout",
     "output_type": "stream",
     "text": [
      "Requirement already satisfied: selenium in c:\\users\\user\\anaconda3\\lib\\site-packages (4.0.0)\n",
      "Requirement already satisfied: trio-websocket~=0.9 in c:\\users\\user\\anaconda3\\lib\\site-packages (from selenium) (0.9.2)\n",
      "Requirement already satisfied: urllib3[secure]~=1.26 in c:\\users\\user\\anaconda3\\lib\\site-packages (from selenium) (1.26.4)\n",
      "Requirement already satisfied: trio~=0.17 in c:\\users\\user\\anaconda3\\lib\\site-packages (from selenium) (0.19.0)\n",
      "Requirement already satisfied: sortedcontainers in c:\\users\\user\\anaconda3\\lib\\site-packages (from trio~=0.17->selenium) (2.3.0)\n",
      "Requirement already satisfied: outcome in c:\\users\\user\\anaconda3\\lib\\site-packages (from trio~=0.17->selenium) (1.1.0)\n",
      "Requirement already satisfied: attrs>=19.2.0 in c:\\users\\user\\anaconda3\\lib\\site-packages (from trio~=0.17->selenium) (20.3.0)\n",
      "Requirement already satisfied: cffi>=1.14 in c:\\users\\user\\anaconda3\\lib\\site-packages (from trio~=0.17->selenium) (1.14.5)\n",
      "Requirement already satisfied: async-generator>=1.9 in c:\\users\\user\\anaconda3\\lib\\site-packages (from trio~=0.17->selenium) (1.10)\n",
      "Requirement already satisfied: idna in c:\\users\\user\\anaconda3\\lib\\site-packages (from trio~=0.17->selenium) (2.10)\n",
      "Requirement already satisfied: sniffio in c:\\users\\user\\anaconda3\\lib\\site-packages (from trio~=0.17->selenium) (1.2.0)\n",
      "Requirement already satisfied: pycparser in c:\\users\\user\\anaconda3\\lib\\site-packages (from cffi>=1.14->trio~=0.17->selenium) (2.20)\n",
      "Requirement already satisfied: wsproto>=0.14 in c:\\users\\user\\anaconda3\\lib\\site-packages (from trio-websocket~=0.9->selenium) (1.0.0)\n",
      "Requirement already satisfied: pyOpenSSL>=0.14 in c:\\users\\user\\anaconda3\\lib\\site-packages (from urllib3[secure]~=1.26->selenium) (20.0.1)\n",
      "Requirement already satisfied: cryptography>=1.3.4 in c:\\users\\user\\anaconda3\\lib\\site-packages (from urllib3[secure]~=1.26->selenium) (3.4.7)\n",
      "Requirement already satisfied: certifi in c:\\users\\user\\anaconda3\\lib\\site-packages (from urllib3[secure]~=1.26->selenium) (2020.12.5)\n",
      "Requirement already satisfied: six>=1.5.2 in c:\\users\\user\\anaconda3\\lib\\site-packages (from pyOpenSSL>=0.14->urllib3[secure]~=1.26->selenium) (1.15.0)\n",
      "Requirement already satisfied: h11<1,>=0.9.0 in c:\\users\\user\\anaconda3\\lib\\site-packages (from wsproto>=0.14->trio-websocket~=0.9->selenium) (0.12.0)\n"
     ]
    }
   ],
   "source": [
    "!pip install selenium"
   ]
  },
  {
   "cell_type": "code",
   "execution_count": 2,
   "id": "49f32360",
   "metadata": {},
   "outputs": [],
   "source": [
    "import selenium\n",
    "import pandas as pd\n",
    "from selenium import webdriver"
   ]
  },
  {
   "cell_type": "code",
   "execution_count": 25,
   "id": "33b61ad4",
   "metadata": {},
   "outputs": [
    {
     "name": "stderr",
     "output_type": "stream",
     "text": [
      "<ipython-input-25-694a9f76f626>:1: DeprecationWarning: executable_path has been deprecated, please pass in a Service object\n",
      "  driver = webdriver.Chrome(r\"D:/chromedriver_win32/chromedriver.exe\")\n"
     ]
    }
   ],
   "source": [
    "driver = webdriver.Chrome(r\"D:/chromedriver_win32/chromedriver.exe\")"
   ]
  },
  {
   "cell_type": "code",
   "execution_count": 4,
   "id": "5d99b5ca",
   "metadata": {},
   "outputs": [],
   "source": [
    "driver.get(\"https://www.naukri.com/\")"
   ]
  },
  {
   "cell_type": "code",
   "execution_count": 5,
   "id": "a95be349",
   "metadata": {},
   "outputs": [
    {
     "name": "stderr",
     "output_type": "stream",
     "text": [
      "<ipython-input-5-0d3fc218a79a>:1: DeprecationWarning: find_element_by_* commands are deprecated. Please use find_element() instead\n",
      "  search_job = driver.find_element_by_id(\"qsb-keyword-sugg\")\n",
      "<ipython-input-5-0d3fc218a79a>:3: DeprecationWarning: find_element_by_* commands are deprecated. Please use find_element() instead\n",
      "  search_loc = driver.find_element_by_xpath(\"//input[@id='qsb-location-sugg']\")\n"
     ]
    }
   ],
   "source": [
    "search_job = driver.find_element_by_id(\"qsb-keyword-sugg\")\n",
    "search_job.send_keys(\"Data Analyst\")\n",
    "search_loc = driver.find_element_by_xpath(\"//input[@id='qsb-location-sugg']\")\n",
    "search_loc.send_keys(\"Bangalore\")"
   ]
  },
  {
   "cell_type": "code",
   "execution_count": 6,
   "id": "3a9ef63b",
   "metadata": {},
   "outputs": [
    {
     "name": "stderr",
     "output_type": "stream",
     "text": [
      "<ipython-input-6-8b88693cac94>:1: DeprecationWarning: find_element_by_* commands are deprecated. Please use find_element() instead\n",
      "  search_btn= driver.find_element_by_xpath(\"//div[@class='search-btn']/button\")\n"
     ]
    }
   ],
   "source": [
    "search_btn= driver.find_element_by_xpath(\"//div[@class='search-btn']/button\")\n",
    "search_btn.click()"
   ]
  },
  {
   "cell_type": "code",
   "execution_count": 7,
   "id": "2812895b",
   "metadata": {},
   "outputs": [],
   "source": [
    "url=\"https://www.naukri.com/data-analyst-jobs-in-bangalore?k=data%20analyst&l=bangalore\""
   ]
  },
  {
   "cell_type": "code",
   "execution_count": 8,
   "id": "dca0e8d0",
   "metadata": {},
   "outputs": [],
   "source": [
    "driver.get(url)"
   ]
  },
  {
   "cell_type": "code",
   "execution_count": 9,
   "id": "34f11ea3",
   "metadata": {},
   "outputs": [],
   "source": [
    "job_titles=[]\n",
    "company_names=[]\n",
    "locations_list=[]\n",
    "experience_list=[]"
   ]
  },
  {
   "cell_type": "code",
   "execution_count": 20,
   "id": "7df8a301",
   "metadata": {},
   "outputs": [
    {
     "name": "stderr",
     "output_type": "stream",
     "text": [
      "<ipython-input-20-6a62be88574a>:1: DeprecationWarning: find_elements_by_* commands are deprecated. Please use find_elements() instead\n",
      "  titles_tags=driver.find_elements_by_xpath(\"//a[@class='title fw500 ellipsis']\")\n"
     ]
    },
    {
     "data": {
      "text/plain": [
       "[<selenium.webdriver.remote.webelement.WebElement (session=\"a96d1351e932c010e2efdb588cdedb19\", element=\"4ae106d5-8fca-47af-96f5-1e3deeb02733\")>,\n",
       " <selenium.webdriver.remote.webelement.WebElement (session=\"a96d1351e932c010e2efdb588cdedb19\", element=\"74cb7afd-0087-483e-a02e-ff229e70dba1\")>,\n",
       " <selenium.webdriver.remote.webelement.WebElement (session=\"a96d1351e932c010e2efdb588cdedb19\", element=\"8ee2fb57-d6b0-451b-9c6b-89b88441485c\")>,\n",
       " <selenium.webdriver.remote.webelement.WebElement (session=\"a96d1351e932c010e2efdb588cdedb19\", element=\"c8be68a2-7ed0-454d-9b97-0a2106bcd13c\")>,\n",
       " <selenium.webdriver.remote.webelement.WebElement (session=\"a96d1351e932c010e2efdb588cdedb19\", element=\"e0b36328-9018-4a95-b4cf-cb4e181c3c56\")>,\n",
       " <selenium.webdriver.remote.webelement.WebElement (session=\"a96d1351e932c010e2efdb588cdedb19\", element=\"27b61b98-4402-46b8-b25b-9acd088a3e4e\")>,\n",
       " <selenium.webdriver.remote.webelement.WebElement (session=\"a96d1351e932c010e2efdb588cdedb19\", element=\"928c3787-d9d2-4ebb-a667-f95660d3c1a9\")>,\n",
       " <selenium.webdriver.remote.webelement.WebElement (session=\"a96d1351e932c010e2efdb588cdedb19\", element=\"8cad08fc-c32e-4edb-8889-1ce5c0779c8c\")>,\n",
       " <selenium.webdriver.remote.webelement.WebElement (session=\"a96d1351e932c010e2efdb588cdedb19\", element=\"e5805384-b9de-482a-9fd3-2accd6745b0e\")>,\n",
       " <selenium.webdriver.remote.webelement.WebElement (session=\"a96d1351e932c010e2efdb588cdedb19\", element=\"a14c9cb3-e5af-482c-b2d4-690e1ac1787e\")>]"
      ]
     },
     "execution_count": 20,
     "metadata": {},
     "output_type": "execute_result"
    }
   ],
   "source": [
    "titles_tags=driver.find_elements_by_xpath(\"//a[@class='title fw500 ellipsis']\")\n",
    "titles_tags[0:10]"
   ]
  },
  {
   "cell_type": "code",
   "execution_count": 21,
   "id": "19640c1b",
   "metadata": {},
   "outputs": [
    {
     "data": {
      "text/plain": [
       "['Data Analyst',\n",
       " 'Business Data Analyst - MIS & Reporting',\n",
       " 'Business Data Analyst - Database Design/Mining',\n",
       " 'Senior Data Analyst - SQL/Tableau/Redshift',\n",
       " 'Sr Business Data Analyst',\n",
       " 'Lead Data Analyst - Claim Analytics',\n",
       " 'Lead Data Analyst - Claim Analytics',\n",
       " 'ID&A - Data Analyst - Informatica MDM',\n",
       " 'Data Analyst',\n",
       " 'Data Analyst']"
      ]
     },
     "execution_count": 21,
     "metadata": {},
     "output_type": "execute_result"
    }
   ],
   "source": [
    "for i in titles_tags:\n",
    "    title=i.text\n",
    "    job_titles.append(title)\n",
    "job_titles[0:10]"
   ]
  },
  {
   "cell_type": "code",
   "execution_count": 22,
   "id": "25de75a2",
   "metadata": {},
   "outputs": [
    {
     "name": "stderr",
     "output_type": "stream",
     "text": [
      "<ipython-input-22-e396278fca32>:1: DeprecationWarning: find_elements_by_* commands are deprecated. Please use find_elements() instead\n",
      "  companies_tags=driver.find_elements_by_xpath(\"//a[@class='subTitle ellipsis fleft']\")\n"
     ]
    },
    {
     "data": {
      "text/plain": [
       "[<selenium.webdriver.remote.webelement.WebElement (session=\"a96d1351e932c010e2efdb588cdedb19\", element=\"a6b88239-8233-43fa-9b92-22cbdb041858\")>,\n",
       " <selenium.webdriver.remote.webelement.WebElement (session=\"a96d1351e932c010e2efdb588cdedb19\", element=\"008d73dd-ff42-4509-b77e-b59f407d3e10\")>,\n",
       " <selenium.webdriver.remote.webelement.WebElement (session=\"a96d1351e932c010e2efdb588cdedb19\", element=\"2b24ec29-0383-41fc-9098-49cd108ff45d\")>,\n",
       " <selenium.webdriver.remote.webelement.WebElement (session=\"a96d1351e932c010e2efdb588cdedb19\", element=\"f39c0a27-2e8c-43a3-8b40-923b0dfeb17c\")>,\n",
       " <selenium.webdriver.remote.webelement.WebElement (session=\"a96d1351e932c010e2efdb588cdedb19\", element=\"e7135af1-bff2-4deb-8d04-22fde4e3d683\")>,\n",
       " <selenium.webdriver.remote.webelement.WebElement (session=\"a96d1351e932c010e2efdb588cdedb19\", element=\"ab7e567e-bf9a-49f5-a6d6-8e13bb47c0f8\")>,\n",
       " <selenium.webdriver.remote.webelement.WebElement (session=\"a96d1351e932c010e2efdb588cdedb19\", element=\"6eae61a4-88c9-4d8d-8698-f02b2226cce7\")>,\n",
       " <selenium.webdriver.remote.webelement.WebElement (session=\"a96d1351e932c010e2efdb588cdedb19\", element=\"7c569778-7413-48fd-9939-cd433fc4f3dc\")>,\n",
       " <selenium.webdriver.remote.webelement.WebElement (session=\"a96d1351e932c010e2efdb588cdedb19\", element=\"01f63ba2-48e2-4cfc-bae5-d983d5a87887\")>,\n",
       " <selenium.webdriver.remote.webelement.WebElement (session=\"a96d1351e932c010e2efdb588cdedb19\", element=\"23dff6ce-8df7-458b-8ed7-7baf4de6eda8\")>]"
      ]
     },
     "execution_count": 22,
     "metadata": {},
     "output_type": "execute_result"
    }
   ],
   "source": [
    "companies_tags=driver.find_elements_by_xpath(\"//a[@class='subTitle ellipsis fleft']\")\n",
    "companies_tags[0:10]"
   ]
  },
  {
   "cell_type": "code",
   "execution_count": 23,
   "id": "43d33b2b",
   "metadata": {},
   "outputs": [
    {
     "data": {
      "text/plain": [
       "['Applied Materials',\n",
       " 'INTERTRUST GROUP',\n",
       " 'AugmatrixGo',\n",
       " 'Pronto Consulting Services',\n",
       " 'ExecBoardinAsia',\n",
       " 'InnovAccer',\n",
       " 'InnovAccer',\n",
       " 'Shell',\n",
       " 'Capgemini',\n",
       " 'Snaphunt']"
      ]
     },
     "execution_count": 23,
     "metadata": {},
     "output_type": "execute_result"
    }
   ],
   "source": [
    "for i in companies_tags:\n",
    "    company_names.append(i.text)\n",
    "company_names[0:10]"
   ]
  },
  {
   "cell_type": "code",
   "execution_count": 24,
   "id": "e92ceb1c",
   "metadata": {},
   "outputs": [
    {
     "name": "stderr",
     "output_type": "stream",
     "text": [
      "<ipython-input-24-2d0d7c086bc8>:1: DeprecationWarning: find_elements_by_* commands are deprecated. Please use find_elements() instead\n",
      "  experience_tags=driver.find_elements_by_xpath(\"//li[@class='fleft grey-text br2 placeHolderLi experience']/span\")\n"
     ]
    },
    {
     "data": {
      "text/plain": [
       "[<selenium.webdriver.remote.webelement.WebElement (session=\"a96d1351e932c010e2efdb588cdedb19\", element=\"97e9e3df-0e7f-4c0d-95cf-e7bd524dd1dc\")>,\n",
       " <selenium.webdriver.remote.webelement.WebElement (session=\"a96d1351e932c010e2efdb588cdedb19\", element=\"e450c660-2068-420b-aeb4-a742e2e34830\")>,\n",
       " <selenium.webdriver.remote.webelement.WebElement (session=\"a96d1351e932c010e2efdb588cdedb19\", element=\"daca5f6d-1909-4e5e-834e-899029f4c796\")>,\n",
       " <selenium.webdriver.remote.webelement.WebElement (session=\"a96d1351e932c010e2efdb588cdedb19\", element=\"f203d711-44f6-4d1d-99dd-e5bc97f2b9d2\")>,\n",
       " <selenium.webdriver.remote.webelement.WebElement (session=\"a96d1351e932c010e2efdb588cdedb19\", element=\"22de6277-01f9-4ddb-b257-c7c0c2550a4b\")>,\n",
       " <selenium.webdriver.remote.webelement.WebElement (session=\"a96d1351e932c010e2efdb588cdedb19\", element=\"f96ca380-29d8-4276-bcd6-420501f77c4b\")>,\n",
       " <selenium.webdriver.remote.webelement.WebElement (session=\"a96d1351e932c010e2efdb588cdedb19\", element=\"4c7b5754-440e-4c07-a53b-36f475a4d59b\")>,\n",
       " <selenium.webdriver.remote.webelement.WebElement (session=\"a96d1351e932c010e2efdb588cdedb19\", element=\"86fd80a6-7e2f-44c7-97c5-32b28a94ca0f\")>,\n",
       " <selenium.webdriver.remote.webelement.WebElement (session=\"a96d1351e932c010e2efdb588cdedb19\", element=\"e9bb6bbb-5f0f-4a42-ae67-9d4247fbf4a9\")>,\n",
       " <selenium.webdriver.remote.webelement.WebElement (session=\"a96d1351e932c010e2efdb588cdedb19\", element=\"8fc12713-785d-4212-b857-d82f1bda3c28\")>]"
      ]
     },
     "execution_count": 24,
     "metadata": {},
     "output_type": "execute_result"
    }
   ],
   "source": [
    "experience_tags=driver.find_elements_by_xpath(\"//li[@class='fleft grey-text br2 placeHolderLi experience']/span\")\n",
    "experience_tags[0:10]"
   ]
  },
  {
   "cell_type": "code",
   "execution_count": 25,
   "id": "6bc7795e",
   "metadata": {},
   "outputs": [
    {
     "data": {
      "text/plain": [
       "['0-3 Yrs',\n",
       " '3-8 Yrs',\n",
       " '2-5 Yrs',\n",
       " '6-10 Yrs',\n",
       " '5-10 Yrs',\n",
       " '7-12 Yrs',\n",
       " '7-12 Yrs',\n",
       " '5-9 Yrs',\n",
       " '2-5 Yrs',\n",
       " '0-2 Yrs']"
      ]
     },
     "execution_count": 25,
     "metadata": {},
     "output_type": "execute_result"
    }
   ],
   "source": [
    "for i in experience_tags:\n",
    "    experience_list.append(i.text)\n",
    "experience_list[0:10]"
   ]
  },
  {
   "cell_type": "code",
   "execution_count": 16,
   "id": "807a7460",
   "metadata": {},
   "outputs": [
    {
     "name": "stderr",
     "output_type": "stream",
     "text": [
      "<ipython-input-16-933124090294>:1: DeprecationWarning: find_elements_by_* commands are deprecated. Please use find_elements() instead\n",
      "  location_tags=driver.find_elements_by_xpath(\"//li[@class='fleft grey-text br2 placeHolderLi location']/span[1]\")\n"
     ]
    },
    {
     "data": {
      "text/plain": [
       "[<selenium.webdriver.remote.webelement.WebElement (session=\"a96d1351e932c010e2efdb588cdedb19\", element=\"be060eb7-16a0-42c4-987a-afc9bf593d7c\")>,\n",
       " <selenium.webdriver.remote.webelement.WebElement (session=\"a96d1351e932c010e2efdb588cdedb19\", element=\"43c1456b-d881-49c5-a657-bd8de85e50d5\")>,\n",
       " <selenium.webdriver.remote.webelement.WebElement (session=\"a96d1351e932c010e2efdb588cdedb19\", element=\"e347caba-1464-435c-a3ea-4f996b5038b1\")>,\n",
       " <selenium.webdriver.remote.webelement.WebElement (session=\"a96d1351e932c010e2efdb588cdedb19\", element=\"6c63b935-95b8-4204-9a3e-828fd778facc\")>,\n",
       " <selenium.webdriver.remote.webelement.WebElement (session=\"a96d1351e932c010e2efdb588cdedb19\", element=\"943a9600-3278-4f4f-851c-452131cf18f9\")>,\n",
       " <selenium.webdriver.remote.webelement.WebElement (session=\"a96d1351e932c010e2efdb588cdedb19\", element=\"47779c53-5b1c-4ca3-ab7f-99ddc1ed13ce\")>,\n",
       " <selenium.webdriver.remote.webelement.WebElement (session=\"a96d1351e932c010e2efdb588cdedb19\", element=\"12c2057d-ca6f-4f61-b119-9e2c3e9f56c8\")>,\n",
       " <selenium.webdriver.remote.webelement.WebElement (session=\"a96d1351e932c010e2efdb588cdedb19\", element=\"79292580-afa0-410c-9222-63f9ebc2aa5b\")>,\n",
       " <selenium.webdriver.remote.webelement.WebElement (session=\"a96d1351e932c010e2efdb588cdedb19\", element=\"7422adf5-4059-4f02-a135-b49079e47a7d\")>,\n",
       " <selenium.webdriver.remote.webelement.WebElement (session=\"a96d1351e932c010e2efdb588cdedb19\", element=\"8c886e93-9d1a-41a2-a4af-6c55a6b236ba\")>]"
      ]
     },
     "execution_count": 16,
     "metadata": {},
     "output_type": "execute_result"
    }
   ],
   "source": [
    "location_tags=driver.find_elements_by_xpath(\"//li[@class='fleft grey-text br2 placeHolderLi location']/span[1]\")\n",
    "location_tags[0:10]"
   ]
  },
  {
   "cell_type": "code",
   "execution_count": 17,
   "id": "5511da62",
   "metadata": {},
   "outputs": [
    {
     "data": {
      "text/plain": [
       "['Bangalore/Bengaluru',\n",
       " 'Mumbai, Bangalore/Bengaluru',\n",
       " 'Bangalore/Bengaluru',\n",
       " 'Noida, Mumbai, Indore, Hyderabad/Secunderabad, Pune, Chennai, Bangalore/Bengaluru',\n",
       " 'Bangalore/Bengaluru',\n",
       " 'Noida, Bangalore/Bengaluru',\n",
       " 'Noida, Bangalore/Bengaluru',\n",
       " 'Bangalore/Bengaluru',\n",
       " 'Bangalore/Bengaluru',\n",
       " 'Bangalore/Bengaluru']"
      ]
     },
     "execution_count": 17,
     "metadata": {},
     "output_type": "execute_result"
    }
   ],
   "source": [
    "for i in location_tags:\n",
    "    locations_list.append(i.text)\n",
    "locations_list[0:10]"
   ]
  },
  {
   "cell_type": "code",
   "execution_count": 26,
   "id": "f5a289f8",
   "metadata": {},
   "outputs": [],
   "source": [
    "jobs=pd.DataFrame({})\n",
    "jobs[\"title\"]=job_titles[0:10]\n",
    "jobs[\"company\"]=company_names[0:10]\n",
    "jobs[\"experience_required\"]=experience_list[0:10]\n",
    "jobs[\"Location\"]=locations_list[0:10]"
   ]
  },
  {
   "cell_type": "code",
   "execution_count": 27,
   "id": "d1d7565e",
   "metadata": {},
   "outputs": [
    {
     "data": {
      "text/html": [
       "<div>\n",
       "<style scoped>\n",
       "    .dataframe tbody tr th:only-of-type {\n",
       "        vertical-align: middle;\n",
       "    }\n",
       "\n",
       "    .dataframe tbody tr th {\n",
       "        vertical-align: top;\n",
       "    }\n",
       "\n",
       "    .dataframe thead th {\n",
       "        text-align: right;\n",
       "    }\n",
       "</style>\n",
       "<table border=\"1\" class=\"dataframe\">\n",
       "  <thead>\n",
       "    <tr style=\"text-align: right;\">\n",
       "      <th></th>\n",
       "      <th>title</th>\n",
       "      <th>company</th>\n",
       "      <th>experience_required</th>\n",
       "      <th>Location</th>\n",
       "    </tr>\n",
       "  </thead>\n",
       "  <tbody>\n",
       "    <tr>\n",
       "      <th>0</th>\n",
       "      <td>Data Analyst</td>\n",
       "      <td>Applied Materials</td>\n",
       "      <td>0-3 Yrs</td>\n",
       "      <td>Bangalore/Bengaluru</td>\n",
       "    </tr>\n",
       "    <tr>\n",
       "      <th>1</th>\n",
       "      <td>Business Data Analyst - MIS &amp; Reporting</td>\n",
       "      <td>INTERTRUST GROUP</td>\n",
       "      <td>3-8 Yrs</td>\n",
       "      <td>Mumbai, Bangalore/Bengaluru</td>\n",
       "    </tr>\n",
       "    <tr>\n",
       "      <th>2</th>\n",
       "      <td>Business Data Analyst - Database Design/Mining</td>\n",
       "      <td>AugmatrixGo</td>\n",
       "      <td>2-5 Yrs</td>\n",
       "      <td>Bangalore/Bengaluru</td>\n",
       "    </tr>\n",
       "    <tr>\n",
       "      <th>3</th>\n",
       "      <td>Senior Data Analyst - SQL/Tableau/Redshift</td>\n",
       "      <td>Pronto Consulting Services</td>\n",
       "      <td>6-10 Yrs</td>\n",
       "      <td>Noida, Mumbai, Indore, Hyderabad/Secunderabad,...</td>\n",
       "    </tr>\n",
       "    <tr>\n",
       "      <th>4</th>\n",
       "      <td>Sr Business Data Analyst</td>\n",
       "      <td>ExecBoardinAsia</td>\n",
       "      <td>5-10 Yrs</td>\n",
       "      <td>Bangalore/Bengaluru</td>\n",
       "    </tr>\n",
       "    <tr>\n",
       "      <th>5</th>\n",
       "      <td>Lead Data Analyst - Claim Analytics</td>\n",
       "      <td>InnovAccer</td>\n",
       "      <td>7-12 Yrs</td>\n",
       "      <td>Noida, Bangalore/Bengaluru</td>\n",
       "    </tr>\n",
       "    <tr>\n",
       "      <th>6</th>\n",
       "      <td>Lead Data Analyst - Claim Analytics</td>\n",
       "      <td>InnovAccer</td>\n",
       "      <td>7-12 Yrs</td>\n",
       "      <td>Noida, Bangalore/Bengaluru</td>\n",
       "    </tr>\n",
       "    <tr>\n",
       "      <th>7</th>\n",
       "      <td>ID&amp;A - Data Analyst - Informatica MDM</td>\n",
       "      <td>Shell</td>\n",
       "      <td>5-9 Yrs</td>\n",
       "      <td>Bangalore/Bengaluru</td>\n",
       "    </tr>\n",
       "    <tr>\n",
       "      <th>8</th>\n",
       "      <td>Data Analyst</td>\n",
       "      <td>Capgemini</td>\n",
       "      <td>2-5 Yrs</td>\n",
       "      <td>Bangalore/Bengaluru</td>\n",
       "    </tr>\n",
       "    <tr>\n",
       "      <th>9</th>\n",
       "      <td>Data Analyst</td>\n",
       "      <td>Snaphunt</td>\n",
       "      <td>0-2 Yrs</td>\n",
       "      <td>Bangalore/Bengaluru</td>\n",
       "    </tr>\n",
       "  </tbody>\n",
       "</table>\n",
       "</div>"
      ],
      "text/plain": [
       "                                            title                     company  \\\n",
       "0                                    Data Analyst           Applied Materials   \n",
       "1         Business Data Analyst - MIS & Reporting            INTERTRUST GROUP   \n",
       "2  Business Data Analyst - Database Design/Mining                 AugmatrixGo   \n",
       "3      Senior Data Analyst - SQL/Tableau/Redshift  Pronto Consulting Services   \n",
       "4                        Sr Business Data Analyst             ExecBoardinAsia   \n",
       "5             Lead Data Analyst - Claim Analytics                  InnovAccer   \n",
       "6             Lead Data Analyst - Claim Analytics                  InnovAccer   \n",
       "7           ID&A - Data Analyst - Informatica MDM                       Shell   \n",
       "8                                    Data Analyst                   Capgemini   \n",
       "9                                    Data Analyst                    Snaphunt   \n",
       "\n",
       "  experience_required                                           Location  \n",
       "0             0-3 Yrs                                Bangalore/Bengaluru  \n",
       "1             3-8 Yrs                        Mumbai, Bangalore/Bengaluru  \n",
       "2             2-5 Yrs                                Bangalore/Bengaluru  \n",
       "3            6-10 Yrs  Noida, Mumbai, Indore, Hyderabad/Secunderabad,...  \n",
       "4            5-10 Yrs                                Bangalore/Bengaluru  \n",
       "5            7-12 Yrs                         Noida, Bangalore/Bengaluru  \n",
       "6            7-12 Yrs                         Noida, Bangalore/Bengaluru  \n",
       "7             5-9 Yrs                                Bangalore/Bengaluru  \n",
       "8             2-5 Yrs                                Bangalore/Bengaluru  \n",
       "9             0-2 Yrs                                Bangalore/Bengaluru  "
      ]
     },
     "execution_count": 27,
     "metadata": {},
     "output_type": "execute_result"
    }
   ],
   "source": [
    "jobs"
   ]
  },
  {
   "cell_type": "code",
   "execution_count": null,
   "id": "baa5b6d0",
   "metadata": {},
   "outputs": [],
   "source": []
  },
  {
   "cell_type": "markdown",
   "id": "db02f180",
   "metadata": {},
   "source": [
    "# Q2: Write a python program to scrape data for “Data Scientist” Job position in “Bangalore” location.\n",
    "you have to scrape the job-title, job-location, company_name. You have to scrape first 10 jobs data.\n",
    "This task will be done in following steps:"
   ]
  },
  {
   "cell_type": "code",
   "execution_count": 1,
   "id": "6c635950",
   "metadata": {},
   "outputs": [
    {
     "name": "stdout",
     "output_type": "stream",
     "text": [
      "Requirement already satisfied: selenium in c:\\users\\user\\anaconda3\\lib\\site-packages (4.0.0)\n",
      "Requirement already satisfied: trio~=0.17 in c:\\users\\user\\anaconda3\\lib\\site-packages (from selenium) (0.19.0)\n",
      "Requirement already satisfied: urllib3[secure]~=1.26 in c:\\users\\user\\anaconda3\\lib\\site-packages (from selenium) (1.26.4)\n",
      "Requirement already satisfied: trio-websocket~=0.9 in c:\\users\\user\\anaconda3\\lib\\site-packages (from selenium) (0.9.2)\n",
      "Requirement already satisfied: idna in c:\\users\\user\\anaconda3\\lib\\site-packages (from trio~=0.17->selenium) (2.10)\n",
      "Requirement already satisfied: cffi>=1.14 in c:\\users\\user\\anaconda3\\lib\\site-packages (from trio~=0.17->selenium) (1.14.5)\n",
      "Requirement already satisfied: async-generator>=1.9 in c:\\users\\user\\anaconda3\\lib\\site-packages (from trio~=0.17->selenium) (1.10)\n",
      "Requirement already satisfied: sortedcontainers in c:\\users\\user\\anaconda3\\lib\\site-packages (from trio~=0.17->selenium) (2.3.0)\n",
      "Requirement already satisfied: sniffio in c:\\users\\user\\anaconda3\\lib\\site-packages (from trio~=0.17->selenium) (1.2.0)\n",
      "Requirement already satisfied: attrs>=19.2.0 in c:\\users\\user\\anaconda3\\lib\\site-packages (from trio~=0.17->selenium) (20.3.0)\n",
      "Requirement already satisfied: outcome in c:\\users\\user\\anaconda3\\lib\\site-packages (from trio~=0.17->selenium) (1.1.0)\n",
      "Requirement already satisfied: pycparser in c:\\users\\user\\anaconda3\\lib\\site-packages (from cffi>=1.14->trio~=0.17->selenium) (2.20)\n",
      "Requirement already satisfied: wsproto>=0.14 in c:\\users\\user\\anaconda3\\lib\\site-packages (from trio-websocket~=0.9->selenium) (1.0.0)\n",
      "Requirement already satisfied: pyOpenSSL>=0.14 in c:\\users\\user\\anaconda3\\lib\\site-packages (from urllib3[secure]~=1.26->selenium) (20.0.1)\n",
      "Requirement already satisfied: certifi in c:\\users\\user\\anaconda3\\lib\\site-packages (from urllib3[secure]~=1.26->selenium) (2020.12.5)\n",
      "Requirement already satisfied: cryptography>=1.3.4 in c:\\users\\user\\anaconda3\\lib\\site-packages (from urllib3[secure]~=1.26->selenium) (3.4.7)\n",
      "Requirement already satisfied: six>=1.5.2 in c:\\users\\user\\anaconda3\\lib\\site-packages (from pyOpenSSL>=0.14->urllib3[secure]~=1.26->selenium) (1.15.0)\n",
      "Requirement already satisfied: h11<1,>=0.9.0 in c:\\users\\user\\anaconda3\\lib\\site-packages (from wsproto>=0.14->trio-websocket~=0.9->selenium) (0.12.0)\n"
     ]
    }
   ],
   "source": [
    "!pip install selenium"
   ]
  },
  {
   "cell_type": "code",
   "execution_count": 2,
   "id": "5ec1c0f4",
   "metadata": {},
   "outputs": [],
   "source": [
    "import selenium\n",
    "from selenium import webdriver\n",
    "import pandas as pd"
   ]
  },
  {
   "cell_type": "code",
   "execution_count": 4,
   "id": "4605f30e",
   "metadata": {},
   "outputs": [
    {
     "name": "stderr",
     "output_type": "stream",
     "text": [
      "<ipython-input-4-9971e46ce402>:1: DeprecationWarning: executable_path has been deprecated, please pass in a Service object\n",
      "  driver2 = webdriver.Chrome(r\"D:/chromedriver_win32/chromedriver.exe\")\n"
     ]
    }
   ],
   "source": [
    "driver2 = webdriver.Chrome(r\"D:/chromedriver_win32/chromedriver.exe\")"
   ]
  },
  {
   "cell_type": "code",
   "execution_count": 5,
   "id": "d64b8d5d",
   "metadata": {},
   "outputs": [],
   "source": [
    "driver2.get(\"https://www.naukri.com/\")"
   ]
  },
  {
   "cell_type": "code",
   "execution_count": 7,
   "id": "a117e50d",
   "metadata": {},
   "outputs": [
    {
     "name": "stderr",
     "output_type": "stream",
     "text": [
      "<ipython-input-7-20f24079fa52>:1: DeprecationWarning: find_element_by_* commands are deprecated. Please use find_element() instead\n",
      "  search_job = driver2.find_element_by_id(\"qsb-keyword-sugg\")\n",
      "<ipython-input-7-20f24079fa52>:3: DeprecationWarning: find_element_by_* commands are deprecated. Please use find_element() instead\n",
      "  search_loc = driver2.find_element_by_xpath(\"//input[@id='qsb-location-sugg']\")\n"
     ]
    }
   ],
   "source": [
    "search_job = driver2.find_element_by_id(\"qsb-keyword-sugg\")\n",
    "search_job.send_keys(\"Data Scientist\")\n",
    "search_loc = driver2.find_element_by_xpath(\"//input[@id='qsb-location-sugg']\")\n",
    "search_loc.send_keys(\"Delhi\")"
   ]
  },
  {
   "cell_type": "code",
   "execution_count": 8,
   "id": "f3797ea8",
   "metadata": {},
   "outputs": [
    {
     "name": "stderr",
     "output_type": "stream",
     "text": [
      "<ipython-input-8-fbb8456fc75c>:1: DeprecationWarning: find_element_by_* commands are deprecated. Please use find_element() instead\n",
      "  search_btn= driver2.find_element_by_xpath(\"//div[@class='search-btn']/button\")\n"
     ]
    }
   ],
   "source": [
    "search_btn= driver2.find_element_by_xpath(\"//div[@class='search-btn']/button\")\n",
    "search_btn.click()"
   ]
  },
  {
   "cell_type": "code",
   "execution_count": 10,
   "id": "6314f253",
   "metadata": {},
   "outputs": [],
   "source": [
    "driver2.get(\"https://www.naukri.com/data-scientist-jobs-in-delhi?k=data%20scientist&l=delhi\")"
   ]
  },
  {
   "cell_type": "code",
   "execution_count": 12,
   "id": "878cca9f",
   "metadata": {},
   "outputs": [],
   "source": [
    "job_titles=[]\n",
    "company_names=[]\n",
    "locations_list=[]\n"
   ]
  },
  {
   "cell_type": "code",
   "execution_count": 13,
   "id": "7379d9a5",
   "metadata": {},
   "outputs": [
    {
     "name": "stderr",
     "output_type": "stream",
     "text": [
      "<ipython-input-13-dcd6907a7bca>:1: DeprecationWarning: find_elements_by_* commands are deprecated. Please use find_elements() instead\n",
      "  titles_tags=driver2.find_elements_by_xpath(\"//a[@class='title fw500 ellipsis']\")\n"
     ]
    },
    {
     "data": {
      "text/plain": [
       "['Data Scientist- Predictive Modelling',\n",
       " 'Data Scientist',\n",
       " 'Co-Founder - Principal Data Scientist/Senior Data Scientist',\n",
       " 'Data Scientist: ML and NLP Expert',\n",
       " 'Lead Data Scientist',\n",
       " 'Data Scientist',\n",
       " 'Data Scientist',\n",
       " 'Manager/Senior Manager Data Scientist (Health & Public Service )',\n",
       " 'Data Scientist-Manager/ Senior Manager',\n",
       " 'Data Scientist/ Analyst Specialist']"
      ]
     },
     "execution_count": 13,
     "metadata": {},
     "output_type": "execute_result"
    }
   ],
   "source": [
    "titles_tags=driver2.find_elements_by_xpath(\"//a[@class='title fw500 ellipsis']\")\n",
    "for i in titles_tags:\n",
    "    title=i.text\n",
    "    job_titles.append(title)\n",
    "job_titles[0:10]\n"
   ]
  },
  {
   "cell_type": "code",
   "execution_count": 15,
   "id": "6068e550",
   "metadata": {},
   "outputs": [
    {
     "name": "stderr",
     "output_type": "stream",
     "text": [
      "<ipython-input-15-33d1d63295dd>:1: DeprecationWarning: find_elements_by_* commands are deprecated. Please use find_elements() instead\n",
      "  companies_tags=driver2.find_elements_by_xpath(\"//a[@class='subTitle ellipsis fleft']\")\n"
     ]
    },
    {
     "data": {
      "text/plain": [
       "['Emmess technologies private Limited',\n",
       " 'Think i',\n",
       " 'Benovymed Healthcare Private Limited',\n",
       " 'Evalueserve',\n",
       " 'Freshworks',\n",
       " 'First Employer',\n",
       " 'First Employer',\n",
       " 'Mount Talent Consulting Private Limited',\n",
       " 'Mount Talent Consulting Private Limited',\n",
       " 'TransOrg Solutions Services (P) Ltd.']"
      ]
     },
     "execution_count": 15,
     "metadata": {},
     "output_type": "execute_result"
    }
   ],
   "source": [
    "companies_tags=driver2.find_elements_by_xpath(\"//a[@class='subTitle ellipsis fleft']\")\n",
    "for i in companies_tags:\n",
    "    company_names.append(i.text)\n",
    "company_names[0:10]"
   ]
  },
  {
   "cell_type": "code",
   "execution_count": 16,
   "id": "5b0731d0",
   "metadata": {},
   "outputs": [
    {
     "name": "stderr",
     "output_type": "stream",
     "text": [
      "<ipython-input-16-a913651aeb46>:1: DeprecationWarning: find_elements_by_* commands are deprecated. Please use find_elements() instead\n",
      "  location_tags=driver2.find_elements_by_xpath(\"//li[@class='fleft grey-text br2 placeHolderLi location']/span[1]\")\n"
     ]
    },
    {
     "data": {
      "text/plain": [
       "['Noida, Gurgaon/Gurugram, Bangalore/Bengaluru, Delhi / NCR',\n",
       " 'Kochi/Cochin, Kolkata, Hyderabad/Secunderabad, Pune, Ahmedabad, Chennai, Bangalore/Bengaluru, Delhi / NCR, Mumbai (All Areas)',\n",
       " 'Gurgaon/Gurugram, Delhi / NCR',\n",
       " 'Noida, Hyderabad/Secunderabad, Gurgaon/Gurugram, Bangalore/Bengaluru',\n",
       " 'Faridabad, Bangalore/Bengaluru',\n",
       " 'Gurgaon/Gurugram, Delhi / NCR',\n",
       " 'Gurgaon/Gurugram, Delhi / NCR',\n",
       " 'Gurgaon/Gurugram, Bangalore/Bengaluru, Mumbai (All Areas)',\n",
       " 'Bangalore/Bengaluru, Delhi / NCR, Mumbai (All Areas)',\n",
       " 'Noida, New Delhi, Gurgaon/Gurugram, Delhi / NCR, Mumbai (All Areas)']"
      ]
     },
     "execution_count": 16,
     "metadata": {},
     "output_type": "execute_result"
    }
   ],
   "source": [
    "location_tags=driver2.find_elements_by_xpath(\"//li[@class='fleft grey-text br2 placeHolderLi location']/span[1]\")\n",
    "for i in location_tags:\n",
    "    locations_list.append(i.text)\n",
    "locations_list[0:10]"
   ]
  },
  {
   "cell_type": "code",
   "execution_count": 21,
   "id": "74febf4e",
   "metadata": {},
   "outputs": [],
   "source": [
    "jobs_Delhi=pd.DataFrame({})\n",
    "jobs_Delhi[\"title\"]=job_titles[0:10]\n",
    "jobs_Delhi[\"company\"]=company_names[0:10]\n",
    "jobs_Delhi[\"Location\"]=locations_list[0:10]"
   ]
  },
  {
   "cell_type": "code",
   "execution_count": 22,
   "id": "c9d97d3d",
   "metadata": {},
   "outputs": [
    {
     "data": {
      "text/html": [
       "<div>\n",
       "<style scoped>\n",
       "    .dataframe tbody tr th:only-of-type {\n",
       "        vertical-align: middle;\n",
       "    }\n",
       "\n",
       "    .dataframe tbody tr th {\n",
       "        vertical-align: top;\n",
       "    }\n",
       "\n",
       "    .dataframe thead th {\n",
       "        text-align: right;\n",
       "    }\n",
       "</style>\n",
       "<table border=\"1\" class=\"dataframe\">\n",
       "  <thead>\n",
       "    <tr style=\"text-align: right;\">\n",
       "      <th></th>\n",
       "      <th>title</th>\n",
       "      <th>company</th>\n",
       "      <th>Location</th>\n",
       "    </tr>\n",
       "  </thead>\n",
       "  <tbody>\n",
       "    <tr>\n",
       "      <th>0</th>\n",
       "      <td>Data Scientist- Predictive Modelling</td>\n",
       "      <td>Emmess technologies private Limited</td>\n",
       "      <td>Noida, Gurgaon/Gurugram, Bangalore/Bengaluru, ...</td>\n",
       "    </tr>\n",
       "    <tr>\n",
       "      <th>1</th>\n",
       "      <td>Data Scientist</td>\n",
       "      <td>Think i</td>\n",
       "      <td>Kochi/Cochin, Kolkata, Hyderabad/Secunderabad,...</td>\n",
       "    </tr>\n",
       "    <tr>\n",
       "      <th>2</th>\n",
       "      <td>Co-Founder - Principal Data Scientist/Senior D...</td>\n",
       "      <td>Benovymed Healthcare Private Limited</td>\n",
       "      <td>Gurgaon/Gurugram, Delhi / NCR</td>\n",
       "    </tr>\n",
       "    <tr>\n",
       "      <th>3</th>\n",
       "      <td>Data Scientist: ML and NLP Expert</td>\n",
       "      <td>Evalueserve</td>\n",
       "      <td>Noida, Hyderabad/Secunderabad, Gurgaon/Gurugra...</td>\n",
       "    </tr>\n",
       "    <tr>\n",
       "      <th>4</th>\n",
       "      <td>Lead Data Scientist</td>\n",
       "      <td>Freshworks</td>\n",
       "      <td>Faridabad, Bangalore/Bengaluru</td>\n",
       "    </tr>\n",
       "    <tr>\n",
       "      <th>5</th>\n",
       "      <td>Data Scientist</td>\n",
       "      <td>First Employer</td>\n",
       "      <td>Gurgaon/Gurugram, Delhi / NCR</td>\n",
       "    </tr>\n",
       "    <tr>\n",
       "      <th>6</th>\n",
       "      <td>Data Scientist</td>\n",
       "      <td>First Employer</td>\n",
       "      <td>Gurgaon/Gurugram, Delhi / NCR</td>\n",
       "    </tr>\n",
       "    <tr>\n",
       "      <th>7</th>\n",
       "      <td>Manager/Senior Manager Data Scientist (Health ...</td>\n",
       "      <td>Mount Talent Consulting Private Limited</td>\n",
       "      <td>Gurgaon/Gurugram, Bangalore/Bengaluru, Mumbai ...</td>\n",
       "    </tr>\n",
       "    <tr>\n",
       "      <th>8</th>\n",
       "      <td>Data Scientist-Manager/ Senior Manager</td>\n",
       "      <td>Mount Talent Consulting Private Limited</td>\n",
       "      <td>Bangalore/Bengaluru, Delhi / NCR, Mumbai (All ...</td>\n",
       "    </tr>\n",
       "    <tr>\n",
       "      <th>9</th>\n",
       "      <td>Data Scientist/ Analyst Specialist</td>\n",
       "      <td>TransOrg Solutions Services (P) Ltd.</td>\n",
       "      <td>Noida, New Delhi, Gurgaon/Gurugram, Delhi / NC...</td>\n",
       "    </tr>\n",
       "  </tbody>\n",
       "</table>\n",
       "</div>"
      ],
      "text/plain": [
       "                                               title  \\\n",
       "0               Data Scientist- Predictive Modelling   \n",
       "1                                     Data Scientist   \n",
       "2  Co-Founder - Principal Data Scientist/Senior D...   \n",
       "3                  Data Scientist: ML and NLP Expert   \n",
       "4                                Lead Data Scientist   \n",
       "5                                     Data Scientist   \n",
       "6                                     Data Scientist   \n",
       "7  Manager/Senior Manager Data Scientist (Health ...   \n",
       "8             Data Scientist-Manager/ Senior Manager   \n",
       "9                 Data Scientist/ Analyst Specialist   \n",
       "\n",
       "                                   company  \\\n",
       "0      Emmess technologies private Limited   \n",
       "1                                  Think i   \n",
       "2     Benovymed Healthcare Private Limited   \n",
       "3                              Evalueserve   \n",
       "4                               Freshworks   \n",
       "5                           First Employer   \n",
       "6                           First Employer   \n",
       "7  Mount Talent Consulting Private Limited   \n",
       "8  Mount Talent Consulting Private Limited   \n",
       "9     TransOrg Solutions Services (P) Ltd.   \n",
       "\n",
       "                                            Location  \n",
       "0  Noida, Gurgaon/Gurugram, Bangalore/Bengaluru, ...  \n",
       "1  Kochi/Cochin, Kolkata, Hyderabad/Secunderabad,...  \n",
       "2                      Gurgaon/Gurugram, Delhi / NCR  \n",
       "3  Noida, Hyderabad/Secunderabad, Gurgaon/Gurugra...  \n",
       "4                     Faridabad, Bangalore/Bengaluru  \n",
       "5                      Gurgaon/Gurugram, Delhi / NCR  \n",
       "6                      Gurgaon/Gurugram, Delhi / NCR  \n",
       "7  Gurgaon/Gurugram, Bangalore/Bengaluru, Mumbai ...  \n",
       "8  Bangalore/Bengaluru, Delhi / NCR, Mumbai (All ...  \n",
       "9  Noida, New Delhi, Gurgaon/Gurugram, Delhi / NC...  "
      ]
     },
     "execution_count": 22,
     "metadata": {},
     "output_type": "execute_result"
    }
   ],
   "source": [
    "jobs_Delhi"
   ]
  },
  {
   "cell_type": "code",
   "execution_count": null,
   "id": "b578c827",
   "metadata": {},
   "outputs": [],
   "source": []
  },
  {
   "cell_type": "markdown",
   "id": "61561e62",
   "metadata": {},
   "source": [
    "# Q3: In this question you have to scrape data using the filters available on the webpage as shown below:\n",
    "                            You have to use the location and salary filter.\n",
    "                            You have to scrape data for “Data Scientist” designation for first 10 job results.\n",
    "                            You have to scrape the job-title, job-location, company name, experience required.\n",
    "                            The location filter to be used is “Delhi/NCR” The salary filter to be used is “3-6” lakhs"
   ]
  },
  {
   "cell_type": "code",
   "execution_count": 23,
   "id": "97be7c9a",
   "metadata": {},
   "outputs": [
    {
     "name": "stdout",
     "output_type": "stream",
     "text": [
      "Requirement already satisfied: selenium in c:\\users\\user\\anaconda3\\lib\\site-packages (4.0.0)\n",
      "Requirement already satisfied: trio~=0.17 in c:\\users\\user\\anaconda3\\lib\\site-packages (from selenium) (0.19.0)\n",
      "Requirement already satisfied: urllib3[secure]~=1.26 in c:\\users\\user\\anaconda3\\lib\\site-packages (from selenium) (1.26.4)\n",
      "Requirement already satisfied: trio-websocket~=0.9 in c:\\users\\user\\anaconda3\\lib\\site-packages (from selenium) (0.9.2)\n",
      "Requirement already satisfied: attrs>=19.2.0 in c:\\users\\user\\anaconda3\\lib\\site-packages (from trio~=0.17->selenium) (20.3.0)\n",
      "Requirement already satisfied: sniffio in c:\\users\\user\\anaconda3\\lib\\site-packages (from trio~=0.17->selenium) (1.2.0)\n",
      "Requirement already satisfied: idna in c:\\users\\user\\anaconda3\\lib\\site-packages (from trio~=0.17->selenium) (2.10)\n",
      "Requirement already satisfied: async-generator>=1.9 in c:\\users\\user\\anaconda3\\lib\\site-packages (from trio~=0.17->selenium) (1.10)\n",
      "Requirement already satisfied: outcome in c:\\users\\user\\anaconda3\\lib\\site-packages (from trio~=0.17->selenium) (1.1.0)\n",
      "Requirement already satisfied: sortedcontainers in c:\\users\\user\\anaconda3\\lib\\site-packages (from trio~=0.17->selenium) (2.3.0)\n",
      "Requirement already satisfied: cffi>=1.14 in c:\\users\\user\\anaconda3\\lib\\site-packages (from trio~=0.17->selenium) (1.14.5)\n",
      "Requirement already satisfied: pycparser in c:\\users\\user\\anaconda3\\lib\\site-packages (from cffi>=1.14->trio~=0.17->selenium) (2.20)\n",
      "Requirement already satisfied: wsproto>=0.14 in c:\\users\\user\\anaconda3\\lib\\site-packages (from trio-websocket~=0.9->selenium) (1.0.0)\n",
      "Requirement already satisfied: pyOpenSSL>=0.14 in c:\\users\\user\\anaconda3\\lib\\site-packages (from urllib3[secure]~=1.26->selenium) (20.0.1)\n",
      "Requirement already satisfied: cryptography>=1.3.4 in c:\\users\\user\\anaconda3\\lib\\site-packages (from urllib3[secure]~=1.26->selenium) (3.4.7)\n",
      "Requirement already satisfied: certifi in c:\\users\\user\\anaconda3\\lib\\site-packages (from urllib3[secure]~=1.26->selenium) (2020.12.5)\n",
      "Requirement already satisfied: six>=1.5.2 in c:\\users\\user\\anaconda3\\lib\\site-packages (from pyOpenSSL>=0.14->urllib3[secure]~=1.26->selenium) (1.15.0)\n",
      "Requirement already satisfied: h11<1,>=0.9.0 in c:\\users\\user\\anaconda3\\lib\\site-packages (from wsproto>=0.14->trio-websocket~=0.9->selenium) (0.12.0)\n"
     ]
    }
   ],
   "source": [
    "#Lets start\n",
    "!pip install selenium"
   ]
  },
  {
   "cell_type": "code",
   "execution_count": 24,
   "id": "90ba8a5b",
   "metadata": {},
   "outputs": [],
   "source": [
    "import selenium\n",
    "from selenium import webdriver\n",
    "import pandas as pd"
   ]
  },
  {
   "cell_type": "code",
   "execution_count": 41,
   "id": "29ed238f",
   "metadata": {},
   "outputs": [
    {
     "name": "stderr",
     "output_type": "stream",
     "text": [
      "<ipython-input-41-a48f4aed95a0>:1: DeprecationWarning: executable_path has been deprecated, please pass in a Service object\n",
      "  driver3 = webdriver.Chrome(r\"D:/chromedriver_win32/chromedriver.exe\")\n"
     ]
    }
   ],
   "source": [
    "driver3 = webdriver.Chrome(r\"D:/chromedriver_win32/chromedriver.exe\")"
   ]
  },
  {
   "cell_type": "code",
   "execution_count": 42,
   "id": "5ff8edbf",
   "metadata": {},
   "outputs": [],
   "source": [
    "driver3.get(\"https://www.naukri.com/\")"
   ]
  },
  {
   "cell_type": "code",
   "execution_count": 43,
   "id": "8e1e991f",
   "metadata": {},
   "outputs": [
    {
     "name": "stderr",
     "output_type": "stream",
     "text": [
      "<ipython-input-43-334a167d190e>:1: DeprecationWarning: find_element_by_* commands are deprecated. Please use find_element() instead\n",
      "  search_job = driver3.find_element_by_id(\"qsb-keyword-sugg\")\n",
      "<ipython-input-43-334a167d190e>:3: DeprecationWarning: find_element_by_* commands are deprecated. Please use find_element() instead\n",
      "  search_btn= driver3.find_element_by_xpath(\"//div[@class='search-btn']/button\")\n"
     ]
    }
   ],
   "source": [
    "search_job = driver3.find_element_by_id(\"qsb-keyword-sugg\")\n",
    "search_job.send_keys(\"Data Scientist\")\n",
    "search_btn= driver3.find_element_by_xpath(\"//div[@class='search-btn']/button\")\n",
    "search_btn.click()"
   ]
  },
  {
   "cell_type": "code",
   "execution_count": 44,
   "id": "e23f88b2",
   "metadata": {},
   "outputs": [
    {
     "name": "stderr",
     "output_type": "stream",
     "text": [
      "<ipython-input-44-1bd98c13dff3>:1: DeprecationWarning: find_element_by_* commands are deprecated. Please use find_element() instead\n",
      "  filter_location=driver3.find_element_by_xpath(\"//span[@title='Delhi / NCR']\")\n"
     ]
    }
   ],
   "source": [
    "filter_location=driver3.find_element_by_xpath(\"//span[@title='Delhi / NCR']\")\n",
    "filter_location.click()"
   ]
  },
  {
   "cell_type": "code",
   "execution_count": 45,
   "id": "9ec59b9c",
   "metadata": {},
   "outputs": [
    {
     "name": "stderr",
     "output_type": "stream",
     "text": [
      "<ipython-input-45-1b81a3c7ed5b>:1: DeprecationWarning: find_element_by_* commands are deprecated. Please use find_element() instead\n",
      "  filter_salary=driver3.find_element_by_xpath(\"//span[@title='3-6 Lakhs']\")\n"
     ]
    }
   ],
   "source": [
    "filter_salary=driver3.find_element_by_xpath(\"//span[@title='3-6 Lakhs']\")\n",
    "filter_salary.click()"
   ]
  },
  {
   "cell_type": "code",
   "execution_count": 47,
   "id": "a83ae499",
   "metadata": {},
   "outputs": [],
   "source": [
    "job_titles=[]\n",
    "company_names=[]\n",
    "locations_list=[]\n",
    "experience_list=[]"
   ]
  },
  {
   "cell_type": "code",
   "execution_count": 49,
   "id": "2d2860c6",
   "metadata": {},
   "outputs": [
    {
     "name": "stderr",
     "output_type": "stream",
     "text": [
      "<ipython-input-49-15ac3cd928c4>:1: DeprecationWarning: find_elements_by_* commands are deprecated. Please use find_elements() instead\n",
      "  titles_tags=driver3.find_elements_by_xpath(\"//a[@class='title fw500 ellipsis']\")\n"
     ]
    },
    {
     "data": {
      "text/plain": [
       "['Data Scientist',\n",
       " 'Job Opportunity || Data Scientist || HCL Technologies',\n",
       " 'Immediate requirement For Data Scientist',\n",
       " 'Data Scientist',\n",
       " 'Data Scientist Internship',\n",
       " 'Data Scientist',\n",
       " 'Project Manager | Team Leader | Senior Data Scientist',\n",
       " 'Senior Data Scientist',\n",
       " 'Academic Counsellor - Data Scientist',\n",
       " 'Data Scientist']"
      ]
     },
     "execution_count": 49,
     "metadata": {},
     "output_type": "execute_result"
    }
   ],
   "source": [
    "titles_tags=driver3.find_elements_by_xpath(\"//a[@class='title fw500 ellipsis']\")\n",
    "for i in titles_tags:\n",
    "    title=i.text\n",
    "    job_titles.append(title)\n",
    "job_titles[0:10]"
   ]
  },
  {
   "cell_type": "code",
   "execution_count": 50,
   "id": "688bdd2a",
   "metadata": {},
   "outputs": [
    {
     "name": "stderr",
     "output_type": "stream",
     "text": [
      "<ipython-input-50-1f5bd091ace1>:1: DeprecationWarning: find_elements_by_* commands are deprecated. Please use find_elements() instead\n",
      "  companies_tags=driver3.find_elements_by_xpath(\"//a[@class='subTitle ellipsis fleft']\")\n"
     ]
    },
    {
     "data": {
      "text/plain": [
       "['Think i',\n",
       " 'HCL Technologies',\n",
       " 'CALIBEHR BUSINESS SUPPORT SERVICES PRIVATE LIMITED',\n",
       " 'SVK Global Solutions Private Limited',\n",
       " 'iHackers Inc',\n",
       " 'Fractal Analytics',\n",
       " 'Tidyquant (OPC) Private Limited',\n",
       " 'iNICU',\n",
       " 'GreatLearning',\n",
       " 'Sentieo']"
      ]
     },
     "execution_count": 50,
     "metadata": {},
     "output_type": "execute_result"
    }
   ],
   "source": [
    "companies_tags=driver3.find_elements_by_xpath(\"//a[@class='subTitle ellipsis fleft']\")\n",
    "for i in companies_tags:\n",
    "    company_names.append(i.text)\n",
    "company_names[0:10]"
   ]
  },
  {
   "cell_type": "code",
   "execution_count": 52,
   "id": "c8d82a21",
   "metadata": {},
   "outputs": [
    {
     "name": "stderr",
     "output_type": "stream",
     "text": [
      "<ipython-input-52-d6fc1c0ec011>:1: DeprecationWarning: find_elements_by_* commands are deprecated. Please use find_elements() instead\n",
      "  location_tags=driver3.find_elements_by_xpath(\"//li[@class='fleft grey-text br2 placeHolderLi location']/span[1]\")\n"
     ]
    },
    {
     "data": {
      "text/plain": [
       "['Kochi/Cochin, Kolkata, Hyderabad/Secunderabad, Pune, Ahmedabad, Chennai, Bangalore/Bengaluru, Delhi / NCR, Mumbai (All Areas)',\n",
       " 'Delhi / NCR',\n",
       " 'Mumbai, Hyderabad/Secunderabad, Pune, Chennai, Tamia, Bangalore/Bengaluru, Delhi / NCR',\n",
       " 'Noida',\n",
       " 'New Delhi',\n",
       " 'Mumbai, Gurgaon/Gurugram, Bangalore/Bengaluru',\n",
       " 'Remote',\n",
       " 'Delhi',\n",
       " 'Gurgaon/Gurugram, Bangalore/Bengaluru',\n",
       " 'Delhi']"
      ]
     },
     "execution_count": 52,
     "metadata": {},
     "output_type": "execute_result"
    }
   ],
   "source": [
    "location_tags=driver3.find_elements_by_xpath(\"//li[@class='fleft grey-text br2 placeHolderLi location']/span[1]\")\n",
    "for i in location_tags:\n",
    "    locations_list.append(i.text)\n",
    "locations_list[0:10]"
   ]
  },
  {
   "cell_type": "code",
   "execution_count": 54,
   "id": "c34c8014",
   "metadata": {},
   "outputs": [
    {
     "name": "stderr",
     "output_type": "stream",
     "text": [
      "<ipython-input-54-21b9583ae541>:1: DeprecationWarning: find_elements_by_* commands are deprecated. Please use find_elements() instead\n",
      "  experience_tags=driver3.find_elements_by_xpath(\"//li[@class='fleft grey-text br2 placeHolderLi experience']/span\")\n"
     ]
    },
    {
     "data": {
      "text/plain": [
       "['0-2 Yrs',\n",
       " '4-7 Yrs',\n",
       " '2-7 Yrs',\n",
       " '6-10 Yrs',\n",
       " '0-1 Yrs',\n",
       " '3-7 Yrs',\n",
       " '2-7 Yrs',\n",
       " '1-5 Yrs',\n",
       " '1-4 Yrs',\n",
       " '2-7 Yrs']"
      ]
     },
     "execution_count": 54,
     "metadata": {},
     "output_type": "execute_result"
    }
   ],
   "source": [
    "experience_tags=driver3.find_elements_by_xpath(\"//li[@class='fleft grey-text br2 placeHolderLi experience']/span\")\n",
    "for i in experience_tags:\n",
    "    experience_list.append(i.text)\n",
    "experience_list[0:10]"
   ]
  },
  {
   "cell_type": "code",
   "execution_count": 55,
   "id": "f0252652",
   "metadata": {},
   "outputs": [],
   "source": [
    "jobs_filter=pd.DataFrame({})\n",
    "jobs_filter[\"title\"]=job_titles[0:10]\n",
    "jobs_filter[\"company\"]=company_names[0:10]\n",
    "jobs_filter[\"Location\"]=locations_list[0:10]\n",
    "jobs_filter[\"experience_required\"]=experience_list[0:10]"
   ]
  },
  {
   "cell_type": "code",
   "execution_count": 56,
   "id": "210344ec",
   "metadata": {},
   "outputs": [
    {
     "data": {
      "text/html": [
       "<div>\n",
       "<style scoped>\n",
       "    .dataframe tbody tr th:only-of-type {\n",
       "        vertical-align: middle;\n",
       "    }\n",
       "\n",
       "    .dataframe tbody tr th {\n",
       "        vertical-align: top;\n",
       "    }\n",
       "\n",
       "    .dataframe thead th {\n",
       "        text-align: right;\n",
       "    }\n",
       "</style>\n",
       "<table border=\"1\" class=\"dataframe\">\n",
       "  <thead>\n",
       "    <tr style=\"text-align: right;\">\n",
       "      <th></th>\n",
       "      <th>title</th>\n",
       "      <th>company</th>\n",
       "      <th>Location</th>\n",
       "      <th>experience_required</th>\n",
       "    </tr>\n",
       "  </thead>\n",
       "  <tbody>\n",
       "    <tr>\n",
       "      <th>0</th>\n",
       "      <td>Data Scientist</td>\n",
       "      <td>Think i</td>\n",
       "      <td>Kochi/Cochin, Kolkata, Hyderabad/Secunderabad,...</td>\n",
       "      <td>0-2 Yrs</td>\n",
       "    </tr>\n",
       "    <tr>\n",
       "      <th>1</th>\n",
       "      <td>Job Opportunity || Data Scientist || HCL Techn...</td>\n",
       "      <td>HCL Technologies</td>\n",
       "      <td>Delhi / NCR</td>\n",
       "      <td>4-7 Yrs</td>\n",
       "    </tr>\n",
       "    <tr>\n",
       "      <th>2</th>\n",
       "      <td>Immediate requirement For Data Scientist</td>\n",
       "      <td>CALIBEHR BUSINESS SUPPORT SERVICES PRIVATE LIM...</td>\n",
       "      <td>Mumbai, Hyderabad/Secunderabad, Pune, Chennai,...</td>\n",
       "      <td>2-7 Yrs</td>\n",
       "    </tr>\n",
       "    <tr>\n",
       "      <th>3</th>\n",
       "      <td>Data Scientist</td>\n",
       "      <td>SVK Global Solutions Private Limited</td>\n",
       "      <td>Noida</td>\n",
       "      <td>6-10 Yrs</td>\n",
       "    </tr>\n",
       "    <tr>\n",
       "      <th>4</th>\n",
       "      <td>Data Scientist Internship</td>\n",
       "      <td>iHackers Inc</td>\n",
       "      <td>New Delhi</td>\n",
       "      <td>0-1 Yrs</td>\n",
       "    </tr>\n",
       "    <tr>\n",
       "      <th>5</th>\n",
       "      <td>Data Scientist</td>\n",
       "      <td>Fractal Analytics</td>\n",
       "      <td>Mumbai, Gurgaon/Gurugram, Bangalore/Bengaluru</td>\n",
       "      <td>3-7 Yrs</td>\n",
       "    </tr>\n",
       "    <tr>\n",
       "      <th>6</th>\n",
       "      <td>Project Manager | Team Leader | Senior Data Sc...</td>\n",
       "      <td>Tidyquant (OPC) Private Limited</td>\n",
       "      <td>Remote</td>\n",
       "      <td>2-7 Yrs</td>\n",
       "    </tr>\n",
       "    <tr>\n",
       "      <th>7</th>\n",
       "      <td>Senior Data Scientist</td>\n",
       "      <td>iNICU</td>\n",
       "      <td>Delhi</td>\n",
       "      <td>1-5 Yrs</td>\n",
       "    </tr>\n",
       "    <tr>\n",
       "      <th>8</th>\n",
       "      <td>Academic Counsellor - Data Scientist</td>\n",
       "      <td>GreatLearning</td>\n",
       "      <td>Gurgaon/Gurugram, Bangalore/Bengaluru</td>\n",
       "      <td>1-4 Yrs</td>\n",
       "    </tr>\n",
       "    <tr>\n",
       "      <th>9</th>\n",
       "      <td>Data Scientist</td>\n",
       "      <td>Sentieo</td>\n",
       "      <td>Delhi</td>\n",
       "      <td>2-7 Yrs</td>\n",
       "    </tr>\n",
       "  </tbody>\n",
       "</table>\n",
       "</div>"
      ],
      "text/plain": [
       "                                               title  \\\n",
       "0                                     Data Scientist   \n",
       "1  Job Opportunity || Data Scientist || HCL Techn...   \n",
       "2           Immediate requirement For Data Scientist   \n",
       "3                                     Data Scientist   \n",
       "4                          Data Scientist Internship   \n",
       "5                                     Data Scientist   \n",
       "6  Project Manager | Team Leader | Senior Data Sc...   \n",
       "7                              Senior Data Scientist   \n",
       "8               Academic Counsellor - Data Scientist   \n",
       "9                                     Data Scientist   \n",
       "\n",
       "                                             company  \\\n",
       "0                                            Think i   \n",
       "1                                   HCL Technologies   \n",
       "2  CALIBEHR BUSINESS SUPPORT SERVICES PRIVATE LIM...   \n",
       "3               SVK Global Solutions Private Limited   \n",
       "4                                       iHackers Inc   \n",
       "5                                  Fractal Analytics   \n",
       "6                    Tidyquant (OPC) Private Limited   \n",
       "7                                              iNICU   \n",
       "8                                      GreatLearning   \n",
       "9                                            Sentieo   \n",
       "\n",
       "                                            Location experience_required  \n",
       "0  Kochi/Cochin, Kolkata, Hyderabad/Secunderabad,...             0-2 Yrs  \n",
       "1                                        Delhi / NCR             4-7 Yrs  \n",
       "2  Mumbai, Hyderabad/Secunderabad, Pune, Chennai,...             2-7 Yrs  \n",
       "3                                              Noida            6-10 Yrs  \n",
       "4                                          New Delhi             0-1 Yrs  \n",
       "5      Mumbai, Gurgaon/Gurugram, Bangalore/Bengaluru             3-7 Yrs  \n",
       "6                                             Remote             2-7 Yrs  \n",
       "7                                              Delhi             1-5 Yrs  \n",
       "8              Gurgaon/Gurugram, Bangalore/Bengaluru             1-4 Yrs  \n",
       "9                                              Delhi             2-7 Yrs  "
      ]
     },
     "execution_count": 56,
     "metadata": {},
     "output_type": "execute_result"
    }
   ],
   "source": [
    "jobs_filter"
   ]
  },
  {
   "cell_type": "code",
   "execution_count": null,
   "id": "49f64ec4",
   "metadata": {},
   "outputs": [],
   "source": []
  },
  {
   "cell_type": "markdown",
   "id": "549b9147",
   "metadata": {},
   "source": [
    "# Q4: Scrape data of first 100 sunglasses listings on flipkart.com. You have to scrape four attributes:\n",
    "1. Brand\n",
    "2. Product Description\n",
    "3. Price\n",
    "4. discount"
   ]
  },
  {
   "cell_type": "code",
   "execution_count": 1,
   "id": "3001b302",
   "metadata": {},
   "outputs": [
    {
     "name": "stdout",
     "output_type": "stream",
     "text": [
      "Requirement already satisfied: selenium in c:\\users\\user\\anaconda3\\lib\\site-packages (4.0.0)\n",
      "Requirement already satisfied: urllib3[secure]~=1.26 in c:\\users\\user\\anaconda3\\lib\\site-packages (from selenium) (1.26.4)\n",
      "Requirement already satisfied: trio~=0.17 in c:\\users\\user\\anaconda3\\lib\\site-packages (from selenium) (0.19.0)\n",
      "Requirement already satisfied: trio-websocket~=0.9 in c:\\users\\user\\anaconda3\\lib\\site-packages (from selenium) (0.9.2)\n",
      "Requirement already satisfied: sniffio in c:\\users\\user\\anaconda3\\lib\\site-packages (from trio~=0.17->selenium) (1.2.0)\n",
      "Requirement already satisfied: async-generator>=1.9 in c:\\users\\user\\anaconda3\\lib\\site-packages (from trio~=0.17->selenium) (1.10)\n",
      "Requirement already satisfied: outcome in c:\\users\\user\\anaconda3\\lib\\site-packages (from trio~=0.17->selenium) (1.1.0)\n",
      "Requirement already satisfied: idna in c:\\users\\user\\anaconda3\\lib\\site-packages (from trio~=0.17->selenium) (2.10)\n",
      "Requirement already satisfied: sortedcontainers in c:\\users\\user\\anaconda3\\lib\\site-packages (from trio~=0.17->selenium) (2.3.0)\n",
      "Requirement already satisfied: attrs>=19.2.0 in c:\\users\\user\\anaconda3\\lib\\site-packages (from trio~=0.17->selenium) (20.3.0)\n",
      "Requirement already satisfied: cffi>=1.14 in c:\\users\\user\\anaconda3\\lib\\site-packages (from trio~=0.17->selenium) (1.14.5)\n",
      "Requirement already satisfied: pycparser in c:\\users\\user\\anaconda3\\lib\\site-packages (from cffi>=1.14->trio~=0.17->selenium) (2.20)\n",
      "Requirement already satisfied: wsproto>=0.14 in c:\\users\\user\\anaconda3\\lib\\site-packages (from trio-websocket~=0.9->selenium) (1.0.0)\n",
      "Requirement already satisfied: pyOpenSSL>=0.14 in c:\\users\\user\\anaconda3\\lib\\site-packages (from urllib3[secure]~=1.26->selenium) (20.0.1)\n",
      "Requirement already satisfied: certifi in c:\\users\\user\\anaconda3\\lib\\site-packages (from urllib3[secure]~=1.26->selenium) (2020.12.5)\n",
      "Requirement already satisfied: cryptography>=1.3.4 in c:\\users\\user\\anaconda3\\lib\\site-packages (from urllib3[secure]~=1.26->selenium) (3.4.7)\n",
      "Requirement already satisfied: six>=1.5.2 in c:\\users\\user\\anaconda3\\lib\\site-packages (from pyOpenSSL>=0.14->urllib3[secure]~=1.26->selenium) (1.15.0)\n",
      "Requirement already satisfied: h11<1,>=0.9.0 in c:\\users\\user\\anaconda3\\lib\\site-packages (from wsproto>=0.14->trio-websocket~=0.9->selenium) (0.12.0)\n"
     ]
    }
   ],
   "source": [
    "!pip install selenium"
   ]
  },
  {
   "cell_type": "code",
   "execution_count": 2,
   "id": "97628344",
   "metadata": {},
   "outputs": [],
   "source": [
    "import selenium\n",
    "from selenium import webdriver\n",
    "import pandas as pd"
   ]
  },
  {
   "cell_type": "code",
   "execution_count": 3,
   "id": "79fe55fc",
   "metadata": {},
   "outputs": [
    {
     "name": "stderr",
     "output_type": "stream",
     "text": [
      "<ipython-input-3-0e76b1b5efcd>:1: DeprecationWarning: executable_path has been deprecated, please pass in a Service object\n",
      "  driver4= webdriver.Chrome(r\"D:/chromedriver_win32/chromedriver.exe\")\n"
     ]
    }
   ],
   "source": [
    "driver4= webdriver.Chrome(r\"D:/chromedriver_win32/chromedriver.exe\")"
   ]
  },
  {
   "cell_type": "code",
   "execution_count": 4,
   "id": "290da076",
   "metadata": {},
   "outputs": [],
   "source": [
    "driver4.get(\"https://www.flipkart.com/\")"
   ]
  },
  {
   "cell_type": "code",
   "execution_count": 5,
   "id": "5e518b25",
   "metadata": {},
   "outputs": [
    {
     "name": "stderr",
     "output_type": "stream",
     "text": [
      "<ipython-input-5-9f53e300f736>:2: DeprecationWarning: find_element_by_* commands are deprecated. Please use find_element() instead\n",
      "  cutloginpage=driver4.find_element_by_xpath('//button[@class=\"_2KpZ6l _2doB4z\"]')\n"
     ]
    }
   ],
   "source": [
    "# Closeloginpopuppage \n",
    "cutloginpage=driver4.find_element_by_xpath('//button[@class=\"_2KpZ6l _2doB4z\"]')\n",
    "cutloginpage.click()"
   ]
  },
  {
   "cell_type": "code",
   "execution_count": 6,
   "id": "b0387575",
   "metadata": {},
   "outputs": [
    {
     "name": "stderr",
     "output_type": "stream",
     "text": [
      "<ipython-input-6-cdc19b922298>:2: DeprecationWarning: find_element_by_* commands are deprecated. Please use find_element() instead\n",
      "  searchforproduct = driver4.find_element_by_xpath(\"//input[@title='Search for products, brands and more']\")\n"
     ]
    }
   ],
   "source": [
    "#search for product\n",
    "searchforproduct = driver4.find_element_by_xpath(\"//input[@title='Search for products, brands and more']\")\n",
    "searchforproduct.send_keys(\"sunglasses\")"
   ]
  },
  {
   "cell_type": "code",
   "execution_count": 7,
   "id": "2f9538d9",
   "metadata": {},
   "outputs": [
    {
     "name": "stderr",
     "output_type": "stream",
     "text": [
      "<ipython-input-7-ca7658f565b5>:1: DeprecationWarning: find_element_by_* commands are deprecated. Please use find_element() instead\n",
      "  search_btn= driver4.find_element_by_xpath(\"//button[@type='submit']\")\n"
     ]
    }
   ],
   "source": [
    "search_btn= driver4.find_element_by_xpath(\"//button[@type='submit']\")\n",
    "search_btn.click()"
   ]
  },
  {
   "cell_type": "code",
   "execution_count": 8,
   "id": "9f917a59",
   "metadata": {},
   "outputs": [
    {
     "name": "stderr",
     "output_type": "stream",
     "text": [
      "<ipython-input-8-e04171189534>:2: DeprecationWarning: find_element_by_* commands are deprecated. Please use find_element() instead\n",
      "  li = driver4.find_element_by_xpath('//div[@class=\"_2MImiq\"]/nav/a[1]')\n",
      "<ipython-input-8-e04171189534>:4: DeprecationWarning: find_element_by_* commands are deprecated. Please use find_element() instead\n",
      "  li = driver4.find_element_by_xpath('//div[@class=\"_2MImiq\"]/nav/a[2]')\n",
      "<ipython-input-8-e04171189534>:6: DeprecationWarning: find_element_by_* commands are deprecated. Please use find_element() instead\n",
      "  li = driver4.find_element_by_xpath('//div[@class=\"_2MImiq\"]/nav/a[3]')\n"
     ]
    },
    {
     "data": {
      "text/plain": [
       "['https://www.flipkart.com/search?q=sunglasses&otracker=search&otracker1=search&marketplace=FLIPKART&as-show=on&as=off&page=1',\n",
       " 'https://www.flipkart.com/search?q=sunglasses&otracker=search&otracker1=search&marketplace=FLIPKART&as-show=on&as=off&page=2',\n",
       " 'https://www.flipkart.com/search?q=sunglasses&otracker=search&otracker1=search&marketplace=FLIPKART&as-show=on&as=off&page=3']"
      ]
     },
     "execution_count": 8,
     "metadata": {},
     "output_type": "execute_result"
    }
   ],
   "source": [
    "urls=[]\n",
    "li = driver4.find_element_by_xpath('//div[@class=\"_2MImiq\"]/nav/a[1]')\n",
    "urls.append(li.get_attribute('href'))\n",
    "li = driver4.find_element_by_xpath('//div[@class=\"_2MImiq\"]/nav/a[2]')\n",
    "urls.append(li.get_attribute('href'))  \n",
    "li = driver4.find_element_by_xpath('//div[@class=\"_2MImiq\"]/nav/a[3]')\n",
    "urls.append(li.get_attribute('href')) \n",
    "\n",
    "urls"
   ]
  },
  {
   "cell_type": "code",
   "execution_count": 9,
   "id": "c3f40732",
   "metadata": {},
   "outputs": [],
   "source": [
    "Brand=[]\n",
    "Product_Description=[]\n",
    "Price=[]\n",
    "discount=[]"
   ]
  },
  {
   "cell_type": "code",
   "execution_count": 11,
   "id": "c592fec3",
   "metadata": {},
   "outputs": [
    {
     "name": "stderr",
     "output_type": "stream",
     "text": [
      "<ipython-input-11-e39f91fad1a5>:3: DeprecationWarning: find_elements_by_* commands are deprecated. Please use find_elements() instead\n",
      "  brands=driver4.find_elements_by_xpath(\"//div[@class='_2WkVRV']\")\n",
      "<ipython-input-11-e39f91fad1a5>:6: DeprecationWarning: find_elements_by_* commands are deprecated. Please use find_elements() instead\n",
      "  products = driver4.find_elements_by_xpath('//a[contains(@class,\"IRpwTa\")]')\n",
      "<ipython-input-11-e39f91fad1a5>:9: DeprecationWarning: find_elements_by_* commands are deprecated. Please use find_elements() instead\n",
      "  prices= driver4.find_elements_by_xpath('//div[@class=\"_30jeq3\"]')\n",
      "<ipython-input-11-e39f91fad1a5>:12: DeprecationWarning: find_elements_by_* commands are deprecated. Please use find_elements() instead\n",
      "  dis= driver4.find_elements_by_xpath('//div[@class=\"_3Ay6Sb\"]')\n"
     ]
    }
   ],
   "source": [
    "for j in urls:\n",
    "    driver4.get(j)\n",
    "    brands=driver4.find_elements_by_xpath(\"//div[@class='_2WkVRV']\")\n",
    "    for i in brands:\n",
    "        Brand.append(i.text)\n",
    "    products = driver4.find_elements_by_xpath('//a[contains(@class,\"IRpwTa\")]')\n",
    "    for i in products:\n",
    "        Product_Description.append(i.text)\n",
    "    prices= driver4.find_elements_by_xpath('//div[@class=\"_30jeq3\"]')\n",
    "    for i in prices:\n",
    "        Price.append(i.text)\n",
    "    dis= driver4.find_elements_by_xpath('//div[@class=\"_3Ay6Sb\"]')\n",
    "    for i in dis:\n",
    "        discount.append(i.text)\n",
    "    "
   ]
  },
  {
   "cell_type": "code",
   "execution_count": 12,
   "id": "afe24c37",
   "metadata": {},
   "outputs": [
    {
     "name": "stdout",
     "output_type": "stream",
     "text": [
      "240 240 240 120\n"
     ]
    }
   ],
   "source": [
    "print(len(Brand),len(Product_Description),len(Price),len(discount))"
   ]
  },
  {
   "cell_type": "code",
   "execution_count": 13,
   "id": "3f8ac3cf",
   "metadata": {},
   "outputs": [],
   "source": [
    "sunglass_dataset=pd.DataFrame({})\n",
    "sunglass_dataset[\"Brand\"]=Brand[0:100]\n",
    "sunglass_dataset[\"Product_Description\"]=Product_Description[0:100]\n",
    "sunglass_dataset[\"Price\"]=Price[0:100]\n",
    "sunglass_dataset[\"Product_discount\"]=discount[0:100]"
   ]
  },
  {
   "cell_type": "code",
   "execution_count": 14,
   "id": "5222793a",
   "metadata": {},
   "outputs": [
    {
     "data": {
      "text/html": [
       "<div>\n",
       "<style scoped>\n",
       "    .dataframe tbody tr th:only-of-type {\n",
       "        vertical-align: middle;\n",
       "    }\n",
       "\n",
       "    .dataframe tbody tr th {\n",
       "        vertical-align: top;\n",
       "    }\n",
       "\n",
       "    .dataframe thead th {\n",
       "        text-align: right;\n",
       "    }\n",
       "</style>\n",
       "<table border=\"1\" class=\"dataframe\">\n",
       "  <thead>\n",
       "    <tr style=\"text-align: right;\">\n",
       "      <th></th>\n",
       "      <th>Brand</th>\n",
       "      <th>Product_Description</th>\n",
       "      <th>Price</th>\n",
       "      <th>Product_discount</th>\n",
       "    </tr>\n",
       "  </thead>\n",
       "  <tbody>\n",
       "    <tr>\n",
       "      <th>0</th>\n",
       "      <td>ROZZETTA CRAFT</td>\n",
       "      <td>UV Protection, Gradient Round Sunglasses (Free...</td>\n",
       "      <td>₹336</td>\n",
       "      <td>83% off</td>\n",
       "    </tr>\n",
       "    <tr>\n",
       "      <th>1</th>\n",
       "      <td>ROZZETTA CRAFT</td>\n",
       "      <td>UV Protection, Riding Glasses Rectangular Sung...</td>\n",
       "      <td>₹426</td>\n",
       "      <td>80% off</td>\n",
       "    </tr>\n",
       "    <tr>\n",
       "      <th>2</th>\n",
       "      <td>Elligator</td>\n",
       "      <td>UV Protection Round Sunglasses (54)</td>\n",
       "      <td>₹248</td>\n",
       "      <td>90% off</td>\n",
       "    </tr>\n",
       "    <tr>\n",
       "      <th>3</th>\n",
       "      <td>SRPM</td>\n",
       "      <td>UV Protection Wayfarer Sunglasses (56)</td>\n",
       "      <td>₹188</td>\n",
       "      <td>85% off</td>\n",
       "    </tr>\n",
       "    <tr>\n",
       "      <th>4</th>\n",
       "      <td>SUNBEE</td>\n",
       "      <td>UV Protection, Polarized, Mirrored Round Sungl...</td>\n",
       "      <td>₹276</td>\n",
       "      <td>83% off</td>\n",
       "    </tr>\n",
       "    <tr>\n",
       "      <th>...</th>\n",
       "      <td>...</td>\n",
       "      <td>...</td>\n",
       "      <td>...</td>\n",
       "      <td>...</td>\n",
       "    </tr>\n",
       "    <tr>\n",
       "      <th>95</th>\n",
       "      <td>ROZZETTA CRAFT</td>\n",
       "      <td>UV Protection, Gradient Retro Square Sunglasse...</td>\n",
       "      <td>₹349</td>\n",
       "      <td>80% off</td>\n",
       "    </tr>\n",
       "    <tr>\n",
       "      <th>96</th>\n",
       "      <td>NuVew</td>\n",
       "      <td>UV Protection, Mirrored, Night Vision, Riding ...</td>\n",
       "      <td>₹364</td>\n",
       "      <td>60% off</td>\n",
       "    </tr>\n",
       "    <tr>\n",
       "      <th>97</th>\n",
       "      <td>kingsunglasses</td>\n",
       "      <td>UV Protection, Riding Glasses, Mirrored Wayfar...</td>\n",
       "      <td>₹199</td>\n",
       "      <td>83% off</td>\n",
       "    </tr>\n",
       "    <tr>\n",
       "      <th>98</th>\n",
       "      <td>Singco India</td>\n",
       "      <td>UV Protection Round Sunglasses (Free Size)</td>\n",
       "      <td>₹217</td>\n",
       "      <td>78% off</td>\n",
       "    </tr>\n",
       "    <tr>\n",
       "      <th>99</th>\n",
       "      <td>ROZZETTA CRAFT</td>\n",
       "      <td>UV Protection, Gradient Rectangular Sunglasses...</td>\n",
       "      <td>₹383</td>\n",
       "      <td>82% off</td>\n",
       "    </tr>\n",
       "  </tbody>\n",
       "</table>\n",
       "<p>100 rows × 4 columns</p>\n",
       "</div>"
      ],
      "text/plain": [
       "             Brand                                Product_Description Price  \\\n",
       "0   ROZZETTA CRAFT  UV Protection, Gradient Round Sunglasses (Free...  ₹336   \n",
       "1   ROZZETTA CRAFT  UV Protection, Riding Glasses Rectangular Sung...  ₹426   \n",
       "2        Elligator                UV Protection Round Sunglasses (54)  ₹248   \n",
       "3             SRPM             UV Protection Wayfarer Sunglasses (56)  ₹188   \n",
       "4           SUNBEE  UV Protection, Polarized, Mirrored Round Sungl...  ₹276   \n",
       "..             ...                                                ...   ...   \n",
       "95  ROZZETTA CRAFT  UV Protection, Gradient Retro Square Sunglasse...  ₹349   \n",
       "96           NuVew  UV Protection, Mirrored, Night Vision, Riding ...  ₹364   \n",
       "97  kingsunglasses  UV Protection, Riding Glasses, Mirrored Wayfar...  ₹199   \n",
       "98    Singco India         UV Protection Round Sunglasses (Free Size)  ₹217   \n",
       "99  ROZZETTA CRAFT  UV Protection, Gradient Rectangular Sunglasses...  ₹383   \n",
       "\n",
       "   Product_discount  \n",
       "0           83% off  \n",
       "1           80% off  \n",
       "2           90% off  \n",
       "3           85% off  \n",
       "4           83% off  \n",
       "..              ...  \n",
       "95          80% off  \n",
       "96          60% off  \n",
       "97          83% off  \n",
       "98          78% off  \n",
       "99          82% off  \n",
       "\n",
       "[100 rows x 4 columns]"
      ]
     },
     "execution_count": 14,
     "metadata": {},
     "output_type": "execute_result"
    }
   ],
   "source": [
    "sunglass_dataset"
   ]
  },
  {
   "cell_type": "code",
   "execution_count": null,
   "id": "01c983e5",
   "metadata": {},
   "outputs": [],
   "source": []
  },
  {
   "cell_type": "markdown",
   "id": "fd583d11",
   "metadata": {},
   "source": [
    "# Q5: Scrape 100 reviews data from flipkart.com for iphone11 phone. You have to go the link:"
   ]
  },
  {
   "cell_type": "markdown",
   "id": "d9522f11",
   "metadata": {},
   "source": [
    "As shown in the above page you have to scrape the tick marked attributes. These are:\n",
    "1. Rating\n",
    "2. Review_summary\n",
    "3. Full review\n",
    "4. You have to scrape this data for first 100 reviews."
   ]
  },
  {
   "cell_type": "code",
   "execution_count": 1,
   "id": "7188aae2",
   "metadata": {},
   "outputs": [
    {
     "name": "stdout",
     "output_type": "stream",
     "text": [
      "Requirement already satisfied: selenium in c:\\users\\user\\anaconda3\\lib\\site-packages (4.0.0)\n",
      "Requirement already satisfied: urllib3[secure]~=1.26 in c:\\users\\user\\anaconda3\\lib\\site-packages (from selenium) (1.26.4)\n",
      "Requirement already satisfied: trio~=0.17 in c:\\users\\user\\anaconda3\\lib\\site-packages (from selenium) (0.19.0)\n",
      "Requirement already satisfied: trio-websocket~=0.9 in c:\\users\\user\\anaconda3\\lib\\site-packages (from selenium) (0.9.2)\n",
      "Requirement already satisfied: attrs>=19.2.0 in c:\\users\\user\\anaconda3\\lib\\site-packages (from trio~=0.17->selenium) (20.3.0)\n",
      "Requirement already satisfied: async-generator>=1.9 in c:\\users\\user\\anaconda3\\lib\\site-packages (from trio~=0.17->selenium) (1.10)\n",
      "Requirement already satisfied: outcome in c:\\users\\user\\anaconda3\\lib\\site-packages (from trio~=0.17->selenium) (1.1.0)\n",
      "Requirement already satisfied: cffi>=1.14 in c:\\users\\user\\anaconda3\\lib\\site-packages (from trio~=0.17->selenium) (1.14.5)\n",
      "Requirement already satisfied: sortedcontainers in c:\\users\\user\\anaconda3\\lib\\site-packages (from trio~=0.17->selenium) (2.3.0)\n",
      "Requirement already satisfied: sniffio in c:\\users\\user\\anaconda3\\lib\\site-packages (from trio~=0.17->selenium) (1.2.0)\n",
      "Requirement already satisfied: idna in c:\\users\\user\\anaconda3\\lib\\site-packages (from trio~=0.17->selenium) (2.10)\n",
      "Requirement already satisfied: pycparser in c:\\users\\user\\anaconda3\\lib\\site-packages (from cffi>=1.14->trio~=0.17->selenium) (2.20)\n",
      "Requirement already satisfied: wsproto>=0.14 in c:\\users\\user\\anaconda3\\lib\\site-packages (from trio-websocket~=0.9->selenium) (1.0.0)\n",
      "Requirement already satisfied: certifi in c:\\users\\user\\anaconda3\\lib\\site-packages (from urllib3[secure]~=1.26->selenium) (2020.12.5)\n",
      "Requirement already satisfied: pyOpenSSL>=0.14 in c:\\users\\user\\anaconda3\\lib\\site-packages (from urllib3[secure]~=1.26->selenium) (20.0.1)\n",
      "Requirement already satisfied: cryptography>=1.3.4 in c:\\users\\user\\anaconda3\\lib\\site-packages (from urllib3[secure]~=1.26->selenium) (3.4.7)\n",
      "Requirement already satisfied: six>=1.5.2 in c:\\users\\user\\anaconda3\\lib\\site-packages (from pyOpenSSL>=0.14->urllib3[secure]~=1.26->selenium) (1.15.0)\n",
      "Requirement already satisfied: h11<1,>=0.9.0 in c:\\users\\user\\anaconda3\\lib\\site-packages (from wsproto>=0.14->trio-websocket~=0.9->selenium) (0.12.0)\n"
     ]
    }
   ],
   "source": [
    "!pip install selenium"
   ]
  },
  {
   "cell_type": "code",
   "execution_count": 2,
   "id": "c67785fa",
   "metadata": {},
   "outputs": [],
   "source": [
    "import selenium \n",
    "from selenium import webdriver\n",
    "import pandas as pd"
   ]
  },
  {
   "cell_type": "code",
   "execution_count": 3,
   "id": "daf544b5",
   "metadata": {},
   "outputs": [
    {
     "name": "stderr",
     "output_type": "stream",
     "text": [
      "<ipython-input-3-f0614391e23a>:1: DeprecationWarning: executable_path has been deprecated, please pass in a Service object\n",
      "  driver5= webdriver.Chrome(r\"D:/chromedriver_win32/chromedriver.exe\")\n"
     ]
    }
   ],
   "source": [
    "driver5= webdriver.Chrome(r\"D:/chromedriver_win32/chromedriver.exe\")"
   ]
  },
  {
   "cell_type": "code",
   "execution_count": 4,
   "id": "48c1f820",
   "metadata": {},
   "outputs": [],
   "source": [
    "driver5.get(\"https://www.flipkart.com/apple-iphone-11-black-64-gb-includes- earpods-poweradapter/p/itm0f37c2240b217?pid=MOBFKCTSVZAXUHGR&lid=LSTMOBFKCTSVZAXUHGREPBFGI&marketplace\")"
   ]
  },
  {
   "cell_type": "code",
   "execution_count": 5,
   "id": "d18f8d4b",
   "metadata": {},
   "outputs": [],
   "source": [
    "rating=[]\n",
    "review_summary=[]\n",
    "full_review=[]"
   ]
  },
  {
   "cell_type": "code",
   "execution_count": 6,
   "id": "eb09c680",
   "metadata": {},
   "outputs": [
    {
     "data": {
      "text/plain": [
       "['https://www.flipkart.com/apple-iphone-11-black-64-gb-includes-earpods-power-adapter/product-reviews/itm0f37c2240b217?pid=MOBFKCTSVZAXUHGR&lid=LSTMOBFKCTSVZAXUHGREPBFGI&marketplace=FLIPKART&page=1',\n",
       " 'https://www.flipkart.com/apple-iphone-11-black-64-gb-includes-earpods-power-adapter/product-reviews/itm0f37c2240b217?pid=MOBFKCTSVZAXUHGR&lid=LSTMOBFKCTSVZAXUHGREPBFGI&marketplace=FLIPKART&page=2',\n",
       " 'https://www.flipkart.com/apple-iphone-11-black-64-gb-includes-earpods-power-adapter/product-reviews/itm0f37c2240b217?pid=MOBFKCTSVZAXUHGR&lid=LSTMOBFKCTSVZAXUHGREPBFGI&marketplace=FLIPKART&page=3',\n",
       " 'https://www.flipkart.com/apple-iphone-11-black-64-gb-includes-earpods-power-adapter/product-reviews/itm0f37c2240b217?pid=MOBFKCTSVZAXUHGR&lid=LSTMOBFKCTSVZAXUHGREPBFGI&marketplace=FLIPKART&page=4',\n",
       " 'https://www.flipkart.com/apple-iphone-11-black-64-gb-includes-earpods-power-adapter/product-reviews/itm0f37c2240b217?pid=MOBFKCTSVZAXUHGR&lid=LSTMOBFKCTSVZAXUHGREPBFGI&marketplace=FLIPKART&page=5',\n",
       " 'https://www.flipkart.com/apple-iphone-11-black-64-gb-includes-earpods-power-adapter/product-reviews/itm0f37c2240b217?pid=MOBFKCTSVZAXUHGR&lid=LSTMOBFKCTSVZAXUHGREPBFGI&marketplace=FLIPKART&page=6',\n",
       " 'https://www.flipkart.com/apple-iphone-11-black-64-gb-includes-earpods-power-adapter/product-reviews/itm0f37c2240b217?pid=MOBFKCTSVZAXUHGR&lid=LSTMOBFKCTSVZAXUHGREPBFGI&marketplace=FLIPKART&page=7',\n",
       " 'https://www.flipkart.com/apple-iphone-11-black-64-gb-includes-earpods-power-adapter/product-reviews/itm0f37c2240b217?pid=MOBFKCTSVZAXUHGR&lid=LSTMOBFKCTSVZAXUHGREPBFGI&marketplace=FLIPKART&page=8',\n",
       " 'https://www.flipkart.com/apple-iphone-11-black-64-gb-includes-earpods-power-adapter/product-reviews/itm0f37c2240b217?pid=MOBFKCTSVZAXUHGR&lid=LSTMOBFKCTSVZAXUHGREPBFGI&marketplace=FLIPKART&page=9',\n",
       " 'https://www.flipkart.com/apple-iphone-11-black-64-gb-includes-earpods-power-adapter/product-reviews/itm0f37c2240b217?pid=MOBFKCTSVZAXUHGR&lid=LSTMOBFKCTSVZAXUHGREPBFGI&marketplace=FLIPKART&page=10',\n",
       " 'https://www.flipkart.com/apple-iphone-11-black-64-gb-includes-earpods-power-adapter/product-reviews/itm0f37c2240b217?pid=MOBFKCTSVZAXUHGR&lid=LSTMOBFKCTSVZAXUHGREPBFGI&marketplace=FLIPKART&page=11',\n",
       " 'https://www.flipkart.com/apple-iphone-11-black-64-gb-includes-earpods-power-adapter/product-reviews/itm0f37c2240b217?pid=MOBFKCTSVZAXUHGR&lid=LSTMOBFKCTSVZAXUHGREPBFGI&marketplace=FLIPKART&page=12']"
      ]
     },
     "execution_count": 6,
     "metadata": {},
     "output_type": "execute_result"
    }
   ],
   "source": [
    "max_page=13\n",
    "urls=[]\n",
    "for i in range (1, max_page):\n",
    "    url=f\"https://www.flipkart.com/apple-iphone-11-black-64-gb-includes-earpods-power-adapter/product-reviews/itm0f37c2240b217?pid=MOBFKCTSVZAXUHGR&lid=LSTMOBFKCTSVZAXUHGREPBFGI&marketplace=FLIPKART&page={i}\"\n",
    "    urls.append(url)\n",
    "    \n",
    "urls\n",
    "        "
   ]
  },
  {
   "cell_type": "code",
   "execution_count": 7,
   "id": "ea47fd02",
   "metadata": {},
   "outputs": [
    {
     "name": "stderr",
     "output_type": "stream",
     "text": [
      "<ipython-input-7-8e23c5767089>:3: DeprecationWarning: find_elements_by_* commands are deprecated. Please use find_elements() instead\n",
      "  for j in driver5.find_elements_by_xpath('//div[@class=\"_3LWZlK _1BLPMq\"]'):\n",
      "<ipython-input-7-8e23c5767089>:5: DeprecationWarning: find_elements_by_* commands are deprecated. Please use find_elements() instead\n",
      "  for m in driver5.find_elements_by_xpath('//p[@class=\"_2-N8zT\"]'):\n",
      "<ipython-input-7-8e23c5767089>:7: DeprecationWarning: find_elements_by_* commands are deprecated. Please use find_elements() instead\n",
      "  for k in driver5.find_elements_by_xpath('//div[@class=\"\"]'):\n"
     ]
    }
   ],
   "source": [
    "for i in urls:\n",
    "    driver5.get(i)\n",
    "    for j in driver5.find_elements_by_xpath('//div[@class=\"_3LWZlK _1BLPMq\"]'):\n",
    "        rating.append(j.text)\n",
    "    for m in driver5.find_elements_by_xpath('//p[@class=\"_2-N8zT\"]'):\n",
    "        review_summary.append(m.text)\n",
    "    for k in driver5.find_elements_by_xpath('//div[@class=\"\"]'):\n",
    "        full_review.append(k.text.replace(\"\\n\",\" \"))"
   ]
  },
  {
   "cell_type": "code",
   "execution_count": 8,
   "id": "f3041b78",
   "metadata": {},
   "outputs": [],
   "source": [
    "iphone_review=pd.DataFrame({})\n",
    "iphone_review[\"Rating\"]=rating[0:100]\n",
    "iphone_review[\"Review_Summary\"]=review_summary[0:100]\n",
    "iphone_review[\"Full_Review\"]=full_review[0:100]"
   ]
  },
  {
   "cell_type": "code",
   "execution_count": 9,
   "id": "6a2d9091",
   "metadata": {},
   "outputs": [
    {
     "data": {
      "text/html": [
       "<div>\n",
       "<style scoped>\n",
       "    .dataframe tbody tr th:only-of-type {\n",
       "        vertical-align: middle;\n",
       "    }\n",
       "\n",
       "    .dataframe tbody tr th {\n",
       "        vertical-align: top;\n",
       "    }\n",
       "\n",
       "    .dataframe thead th {\n",
       "        text-align: right;\n",
       "    }\n",
       "</style>\n",
       "<table border=\"1\" class=\"dataframe\">\n",
       "  <thead>\n",
       "    <tr style=\"text-align: right;\">\n",
       "      <th></th>\n",
       "      <th>Rating</th>\n",
       "      <th>Review_Summary</th>\n",
       "      <th>Full_Review</th>\n",
       "    </tr>\n",
       "  </thead>\n",
       "  <tbody>\n",
       "    <tr>\n",
       "      <th>0</th>\n",
       "      <td>5</td>\n",
       "      <td>Brilliant</td>\n",
       "      <td>The Best Phone for the Money  The iPhone 11 of...</td>\n",
       "    </tr>\n",
       "    <tr>\n",
       "      <th>1</th>\n",
       "      <td>5</td>\n",
       "      <td>Simply awesome</td>\n",
       "      <td>Really satisfied with the Product I received.....</td>\n",
       "    </tr>\n",
       "    <tr>\n",
       "      <th>2</th>\n",
       "      <td>5</td>\n",
       "      <td>Perfect product!</td>\n",
       "      <td>Amazing phone with great cameras and better ba...</td>\n",
       "    </tr>\n",
       "    <tr>\n",
       "      <th>3</th>\n",
       "      <td>5</td>\n",
       "      <td>Worth every penny</td>\n",
       "      <td>Previously I was using one plus 3t it was a gr...</td>\n",
       "    </tr>\n",
       "    <tr>\n",
       "      <th>4</th>\n",
       "      <td>5</td>\n",
       "      <td>Fabulous!</td>\n",
       "      <td>This is my first iOS phone. I am very happy wi...</td>\n",
       "    </tr>\n",
       "    <tr>\n",
       "      <th>...</th>\n",
       "      <td>...</td>\n",
       "      <td>...</td>\n",
       "      <td>...</td>\n",
       "    </tr>\n",
       "    <tr>\n",
       "      <th>95</th>\n",
       "      <td>5</td>\n",
       "      <td>Super!</td>\n",
       "      <td>This is my first ever iPhone. And I truly don’...</td>\n",
       "    </tr>\n",
       "    <tr>\n",
       "      <th>96</th>\n",
       "      <td>3</td>\n",
       "      <td>Just wow!</td>\n",
       "      <td>The ultimate performance Camera is superb The ...</td>\n",
       "    </tr>\n",
       "    <tr>\n",
       "      <th>97</th>\n",
       "      <td>5</td>\n",
       "      <td>Terrific purchase</td>\n",
       "      <td>I use a Note10+ and have been using both iOS a...</td>\n",
       "    </tr>\n",
       "    <tr>\n",
       "      <th>98</th>\n",
       "      <td>5</td>\n",
       "      <td>Awesome</td>\n",
       "      <td>The phone is completely good As far as camera ...</td>\n",
       "    </tr>\n",
       "    <tr>\n",
       "      <th>99</th>\n",
       "      <td>5</td>\n",
       "      <td>Decent product</td>\n",
       "      <td>Everything u ll like it when u use this iPhone...</td>\n",
       "    </tr>\n",
       "  </tbody>\n",
       "</table>\n",
       "<p>100 rows × 3 columns</p>\n",
       "</div>"
      ],
      "text/plain": [
       "   Rating     Review_Summary  \\\n",
       "0       5          Brilliant   \n",
       "1       5     Simply awesome   \n",
       "2       5   Perfect product!   \n",
       "3       5  Worth every penny   \n",
       "4       5          Fabulous!   \n",
       "..    ...                ...   \n",
       "95      5             Super!   \n",
       "96      3          Just wow!   \n",
       "97      5  Terrific purchase   \n",
       "98      5            Awesome   \n",
       "99      5     Decent product   \n",
       "\n",
       "                                          Full_Review  \n",
       "0   The Best Phone for the Money  The iPhone 11 of...  \n",
       "1   Really satisfied with the Product I received.....  \n",
       "2   Amazing phone with great cameras and better ba...  \n",
       "3   Previously I was using one plus 3t it was a gr...  \n",
       "4   This is my first iOS phone. I am very happy wi...  \n",
       "..                                                ...  \n",
       "95  This is my first ever iPhone. And I truly don’...  \n",
       "96  The ultimate performance Camera is superb The ...  \n",
       "97  I use a Note10+ and have been using both iOS a...  \n",
       "98  The phone is completely good As far as camera ...  \n",
       "99  Everything u ll like it when u use this iPhone...  \n",
       "\n",
       "[100 rows x 3 columns]"
      ]
     },
     "execution_count": 9,
     "metadata": {},
     "output_type": "execute_result"
    }
   ],
   "source": [
    "iphone_review"
   ]
  },
  {
   "cell_type": "code",
   "execution_count": null,
   "id": "e2e98865",
   "metadata": {},
   "outputs": [],
   "source": []
  },
  {
   "cell_type": "markdown",
   "id": "97c7bd79",
   "metadata": {},
   "source": [
    "# Q6: Scrape data for first 100 sneakers you find when you visit flipkart.com and search for “sneakers” in the search field."
   ]
  },
  {
   "cell_type": "markdown",
   "id": "7a206838",
   "metadata": {},
   "source": [
    "You have to scrape 4 attributes of each sneaker:\n",
    "1. Brand\n",
    "2. Product Description\n",
    "3. Price\n",
    "4. discount"
   ]
  },
  {
   "cell_type": "code",
   "execution_count": 1,
   "id": "54ad50e2",
   "metadata": {},
   "outputs": [
    {
     "name": "stdout",
     "output_type": "stream",
     "text": [
      "Requirement already satisfied: selenium in c:\\users\\user\\anaconda3\\lib\\site-packages (4.0.0)\n",
      "Requirement already satisfied: trio-websocket~=0.9 in c:\\users\\user\\anaconda3\\lib\\site-packages (from selenium) (0.9.2)\n",
      "Requirement already satisfied: urllib3[secure]~=1.26 in c:\\users\\user\\anaconda3\\lib\\site-packages (from selenium) (1.26.4)\n",
      "Requirement already satisfied: trio~=0.17 in c:\\users\\user\\anaconda3\\lib\\site-packages (from selenium) (0.19.0)\n",
      "Requirement already satisfied: outcome in c:\\users\\user\\anaconda3\\lib\\site-packages (from trio~=0.17->selenium) (1.1.0)\n",
      "Requirement already satisfied: idna in c:\\users\\user\\anaconda3\\lib\\site-packages (from trio~=0.17->selenium) (2.10)\n",
      "Requirement already satisfied: cffi>=1.14 in c:\\users\\user\\anaconda3\\lib\\site-packages (from trio~=0.17->selenium) (1.14.5)\n",
      "Requirement already satisfied: async-generator>=1.9 in c:\\users\\user\\anaconda3\\lib\\site-packages (from trio~=0.17->selenium) (1.10)\n",
      "Requirement already satisfied: attrs>=19.2.0 in c:\\users\\user\\anaconda3\\lib\\site-packages (from trio~=0.17->selenium) (20.3.0)\n",
      "Requirement already satisfied: sniffio in c:\\users\\user\\anaconda3\\lib\\site-packages (from trio~=0.17->selenium) (1.2.0)\n",
      "Requirement already satisfied: sortedcontainers in c:\\users\\user\\anaconda3\\lib\\site-packages (from trio~=0.17->selenium) (2.3.0)\n",
      "Requirement already satisfied: pycparser in c:\\users\\user\\anaconda3\\lib\\site-packages (from cffi>=1.14->trio~=0.17->selenium) (2.20)\n",
      "Requirement already satisfied: wsproto>=0.14 in c:\\users\\user\\anaconda3\\lib\\site-packages (from trio-websocket~=0.9->selenium) (1.0.0)\n",
      "Requirement already satisfied: certifi in c:\\users\\user\\anaconda3\\lib\\site-packages (from urllib3[secure]~=1.26->selenium) (2020.12.5)\n",
      "Requirement already satisfied: cryptography>=1.3.4 in c:\\users\\user\\anaconda3\\lib\\site-packages (from urllib3[secure]~=1.26->selenium) (3.4.7)\n",
      "Requirement already satisfied: pyOpenSSL>=0.14 in c:\\users\\user\\anaconda3\\lib\\site-packages (from urllib3[secure]~=1.26->selenium) (20.0.1)\n",
      "Requirement already satisfied: six>=1.5.2 in c:\\users\\user\\anaconda3\\lib\\site-packages (from pyOpenSSL>=0.14->urllib3[secure]~=1.26->selenium) (1.15.0)\n",
      "Requirement already satisfied: h11<1,>=0.9.0 in c:\\users\\user\\anaconda3\\lib\\site-packages (from wsproto>=0.14->trio-websocket~=0.9->selenium) (0.12.0)\n"
     ]
    }
   ],
   "source": [
    "!pip install selenium"
   ]
  },
  {
   "cell_type": "code",
   "execution_count": 2,
   "id": "8de82902",
   "metadata": {},
   "outputs": [],
   "source": [
    "import selenium\n",
    "from selenium import webdriver\n",
    "import pandas as pd"
   ]
  },
  {
   "cell_type": "code",
   "execution_count": 3,
   "id": "416bc255",
   "metadata": {},
   "outputs": [
    {
     "name": "stderr",
     "output_type": "stream",
     "text": [
      "<ipython-input-3-9e795cc238e6>:1: DeprecationWarning: executable_path has been deprecated, please pass in a Service object\n",
      "  driver6= webdriver.Chrome(r\"D:/chromedriver_win32/chromedriver.exe\")\n"
     ]
    }
   ],
   "source": [
    "driver6= webdriver.Chrome(r\"D:/chromedriver_win32/chromedriver.exe\")"
   ]
  },
  {
   "cell_type": "code",
   "execution_count": 4,
   "id": "fb2f0756",
   "metadata": {},
   "outputs": [],
   "source": [
    "driver6.get(\"https://www.flipkart.com/\")"
   ]
  },
  {
   "cell_type": "code",
   "execution_count": 5,
   "id": "f1644f3f",
   "metadata": {},
   "outputs": [
    {
     "name": "stderr",
     "output_type": "stream",
     "text": [
      "<ipython-input-5-2a1a8016c9a1>:2: DeprecationWarning: find_element_by_* commands are deprecated. Please use find_element() instead\n",
      "  cutloginpage=driver6.find_element_by_xpath('//button[@class=\"_2KpZ6l _2doB4z\"]')\n"
     ]
    }
   ],
   "source": [
    "# Closeloginpopuppage \n",
    "cutloginpage=driver6.find_element_by_xpath('//button[@class=\"_2KpZ6l _2doB4z\"]')\n",
    "cutloginpage.click()"
   ]
  },
  {
   "cell_type": "code",
   "execution_count": 6,
   "id": "6227e99f",
   "metadata": {},
   "outputs": [
    {
     "name": "stderr",
     "output_type": "stream",
     "text": [
      "<ipython-input-6-315f07709f46>:2: DeprecationWarning: find_element_by_* commands are deprecated. Please use find_element() instead\n",
      "  searchforproduct = driver6.find_element_by_xpath(\"//input[@title='Search for products, brands and more']\")\n",
      "<ipython-input-6-315f07709f46>:4: DeprecationWarning: find_element_by_* commands are deprecated. Please use find_element() instead\n",
      "  search_btn= driver6.find_element_by_xpath(\"//button[@type='submit']\")\n"
     ]
    }
   ],
   "source": [
    "#search for product\n",
    "searchforproduct = driver6.find_element_by_xpath(\"//input[@title='Search for products, brands and more']\")\n",
    "searchforproduct.send_keys(\"sneakers\")\n",
    "search_btn= driver6.find_element_by_xpath(\"//button[@type='submit']\")\n",
    "search_btn.click()"
   ]
  },
  {
   "cell_type": "code",
   "execution_count": 7,
   "id": "d6880f8e",
   "metadata": {},
   "outputs": [
    {
     "name": "stderr",
     "output_type": "stream",
     "text": [
      "<ipython-input-7-030c531d5359>:2: DeprecationWarning: find_element_by_* commands are deprecated. Please use find_element() instead\n",
      "  li = driver6.find_element_by_xpath('//div[@class=\"_2MImiq\"]/nav/a[1]')\n",
      "<ipython-input-7-030c531d5359>:4: DeprecationWarning: find_element_by_* commands are deprecated. Please use find_element() instead\n",
      "  li = driver6.find_element_by_xpath('//div[@class=\"_2MImiq\"]/nav/a[2]')\n",
      "<ipython-input-7-030c531d5359>:6: DeprecationWarning: find_element_by_* commands are deprecated. Please use find_element() instead\n",
      "  li = driver6.find_element_by_xpath('//div[@class=\"_2MImiq\"]/nav/a[3]')\n"
     ]
    },
    {
     "data": {
      "text/plain": [
       "['https://www.flipkart.com/search?q=sneakers&otracker=search&otracker1=search&marketplace=FLIPKART&as-show=off&as=off&page=1',\n",
       " 'https://www.flipkart.com/search?q=sneakers&otracker=search&otracker1=search&marketplace=FLIPKART&as-show=off&as=off&page=2',\n",
       " 'https://www.flipkart.com/search?q=sneakers&otracker=search&otracker1=search&marketplace=FLIPKART&as-show=off&as=off&page=3']"
      ]
     },
     "execution_count": 7,
     "metadata": {},
     "output_type": "execute_result"
    }
   ],
   "source": [
    "urls=[]\n",
    "li = driver6.find_element_by_xpath('//div[@class=\"_2MImiq\"]/nav/a[1]')\n",
    "urls.append(li.get_attribute('href'))\n",
    "li = driver6.find_element_by_xpath('//div[@class=\"_2MImiq\"]/nav/a[2]')\n",
    "urls.append(li.get_attribute('href'))  \n",
    "li = driver6.find_element_by_xpath('//div[@class=\"_2MImiq\"]/nav/a[3]')\n",
    "urls.append(li.get_attribute('href')) \n",
    "\n",
    "urls"
   ]
  },
  {
   "cell_type": "code",
   "execution_count": 8,
   "id": "5d54a057",
   "metadata": {},
   "outputs": [],
   "source": [
    "Brand=[]\n",
    "Product_Description=[]\n",
    "Price=[]\n",
    "discount=[]"
   ]
  },
  {
   "cell_type": "code",
   "execution_count": 9,
   "id": "7e0ed989",
   "metadata": {},
   "outputs": [
    {
     "name": "stderr",
     "output_type": "stream",
     "text": [
      "<ipython-input-9-f4397da033b4>:3: DeprecationWarning: find_elements_by_* commands are deprecated. Please use find_elements() instead\n",
      "  brands=driver6.find_elements_by_xpath(\"//div[@class='_2WkVRV']\")\n",
      "<ipython-input-9-f4397da033b4>:6: DeprecationWarning: find_elements_by_* commands are deprecated. Please use find_elements() instead\n",
      "  products = driver6.find_elements_by_xpath('//a[contains(@class,\"IRpwTa\")]')\n",
      "<ipython-input-9-f4397da033b4>:9: DeprecationWarning: find_elements_by_* commands are deprecated. Please use find_elements() instead\n",
      "  prices= driver6.find_elements_by_xpath('//div[@class=\"_30jeq3\"]')\n",
      "<ipython-input-9-f4397da033b4>:12: DeprecationWarning: find_elements_by_* commands are deprecated. Please use find_elements() instead\n",
      "  dis= driver6.find_elements_by_xpath('//div[@class=\"_3Ay6Sb\"]')\n"
     ]
    }
   ],
   "source": [
    "for j in urls:\n",
    "    driver6.get(j)\n",
    "    brands=driver6.find_elements_by_xpath(\"//div[@class='_2WkVRV']\")\n",
    "    for i in brands:\n",
    "        Brand.append(i.text)\n",
    "    products = driver6.find_elements_by_xpath('//a[contains(@class,\"IRpwTa\")]')\n",
    "    for i in products:\n",
    "        Product_Description.append(i.text)\n",
    "    prices= driver6.find_elements_by_xpath('//div[@class=\"_30jeq3\"]')\n",
    "    for i in prices:\n",
    "        Price.append(i.text)\n",
    "    dis= driver6.find_elements_by_xpath('//div[@class=\"_3Ay6Sb\"]')\n",
    "    for i in dis:\n",
    "        discount.append(i.text)\n",
    "        "
   ]
  },
  {
   "cell_type": "code",
   "execution_count": 10,
   "id": "79d3c674",
   "metadata": {},
   "outputs": [
    {
     "name": "stdout",
     "output_type": "stream",
     "text": [
      "120 120 120 120\n"
     ]
    }
   ],
   "source": [
    "print(len(Brand),len(Product_Description),len(Price),len(discount))"
   ]
  },
  {
   "cell_type": "code",
   "execution_count": 11,
   "id": "081c3fe6",
   "metadata": {},
   "outputs": [],
   "source": [
    "sneakers_dataset=pd.DataFrame({})\n",
    "sneakers_dataset[\"Brand\"]=Brand[0:100]\n",
    "sneakers_dataset[\"Product_Description\"]=Product_Description[0:100]\n",
    "sneakers_dataset[\"Price\"]=Price[0:100]\n",
    "sneakers_dataset[\"Product_Discount\"]=discount[0:100]"
   ]
  },
  {
   "cell_type": "code",
   "execution_count": 12,
   "id": "f1666cfa",
   "metadata": {},
   "outputs": [
    {
     "data": {
      "text/html": [
       "<div>\n",
       "<style scoped>\n",
       "    .dataframe tbody tr th:only-of-type {\n",
       "        vertical-align: middle;\n",
       "    }\n",
       "\n",
       "    .dataframe tbody tr th {\n",
       "        vertical-align: top;\n",
       "    }\n",
       "\n",
       "    .dataframe thead th {\n",
       "        text-align: right;\n",
       "    }\n",
       "</style>\n",
       "<table border=\"1\" class=\"dataframe\">\n",
       "  <thead>\n",
       "    <tr style=\"text-align: right;\">\n",
       "      <th></th>\n",
       "      <th>Brand</th>\n",
       "      <th>Product_Description</th>\n",
       "      <th>Price</th>\n",
       "      <th>Product_Discount</th>\n",
       "    </tr>\n",
       "  </thead>\n",
       "  <tbody>\n",
       "    <tr>\n",
       "      <th>0</th>\n",
       "      <td>BIRDE</td>\n",
       "      <td>Sports Shoes Sneakers For Men</td>\n",
       "      <td>₹299</td>\n",
       "      <td>70% off</td>\n",
       "    </tr>\n",
       "    <tr>\n",
       "      <th>1</th>\n",
       "      <td>CHamps</td>\n",
       "      <td>BIDEN-3-ON Sneakers For Men</td>\n",
       "      <td>₹749</td>\n",
       "      <td>31% off</td>\n",
       "    </tr>\n",
       "    <tr>\n",
       "      <th>2</th>\n",
       "      <td>FOOTGRAB</td>\n",
       "      <td>White Boots || High Tops || Sneakers For Men</td>\n",
       "      <td>₹549</td>\n",
       "      <td>45% off</td>\n",
       "    </tr>\n",
       "    <tr>\n",
       "      <th>3</th>\n",
       "      <td>Numenzo</td>\n",
       "      <td>Sneakers For Men</td>\n",
       "      <td>₹479</td>\n",
       "      <td>63% off</td>\n",
       "    </tr>\n",
       "    <tr>\n",
       "      <th>4</th>\n",
       "      <td>Magnolia</td>\n",
       "      <td>Sneakers For Men</td>\n",
       "      <td>₹398</td>\n",
       "      <td>60% off</td>\n",
       "    </tr>\n",
       "    <tr>\n",
       "      <th>...</th>\n",
       "      <td>...</td>\n",
       "      <td>...</td>\n",
       "      <td>...</td>\n",
       "      <td>...</td>\n",
       "    </tr>\n",
       "    <tr>\n",
       "      <th>95</th>\n",
       "      <td>Extoes</td>\n",
       "      <td>Modern Trendy Shoes Combo pack of 4 Sneakers F...</td>\n",
       "      <td>₹898</td>\n",
       "      <td>40% off</td>\n",
       "    </tr>\n",
       "    <tr>\n",
       "      <th>96</th>\n",
       "      <td>hzisbo</td>\n",
       "      <td>Sneakers For Men</td>\n",
       "      <td>₹479</td>\n",
       "      <td>52% off</td>\n",
       "    </tr>\n",
       "    <tr>\n",
       "      <th>97</th>\n",
       "      <td>HOC</td>\n",
       "      <td>Luxury Fashionable Breathable White shoes for ...</td>\n",
       "      <td>₹429</td>\n",
       "      <td>78% off</td>\n",
       "    </tr>\n",
       "    <tr>\n",
       "      <th>98</th>\n",
       "      <td>SPADE CLUB</td>\n",
       "      <td>Sneakers For Men</td>\n",
       "      <td>₹639</td>\n",
       "      <td>36% off</td>\n",
       "    </tr>\n",
       "    <tr>\n",
       "      <th>99</th>\n",
       "      <td>aadi</td>\n",
       "      <td>Sneakers For Men</td>\n",
       "      <td>₹473</td>\n",
       "      <td>76% off</td>\n",
       "    </tr>\n",
       "  </tbody>\n",
       "</table>\n",
       "<p>100 rows × 4 columns</p>\n",
       "</div>"
      ],
      "text/plain": [
       "         Brand                                Product_Description Price  \\\n",
       "0        BIRDE                      Sports Shoes Sneakers For Men  ₹299   \n",
       "1       CHamps                        BIDEN-3-ON Sneakers For Men  ₹749   \n",
       "2     FOOTGRAB       White Boots || High Tops || Sneakers For Men  ₹549   \n",
       "3      Numenzo                                   Sneakers For Men  ₹479   \n",
       "4     Magnolia                                   Sneakers For Men  ₹398   \n",
       "..         ...                                                ...   ...   \n",
       "95      Extoes  Modern Trendy Shoes Combo pack of 4 Sneakers F...  ₹898   \n",
       "96      hzisbo                                   Sneakers For Men  ₹479   \n",
       "97         HOC  Luxury Fashionable Breathable White shoes for ...  ₹429   \n",
       "98  SPADE CLUB                                   Sneakers For Men  ₹639   \n",
       "99        aadi                                   Sneakers For Men  ₹473   \n",
       "\n",
       "   Product_Discount  \n",
       "0           70% off  \n",
       "1           31% off  \n",
       "2           45% off  \n",
       "3           63% off  \n",
       "4           60% off  \n",
       "..              ...  \n",
       "95          40% off  \n",
       "96          52% off  \n",
       "97          78% off  \n",
       "98          36% off  \n",
       "99          76% off  \n",
       "\n",
       "[100 rows x 4 columns]"
      ]
     },
     "execution_count": 12,
     "metadata": {},
     "output_type": "execute_result"
    }
   ],
   "source": [
    "sneakers_dataset"
   ]
  },
  {
   "cell_type": "code",
   "execution_count": null,
   "id": "54c153e8",
   "metadata": {},
   "outputs": [],
   "source": []
  },
  {
   "cell_type": "markdown",
   "id": "c406bf0d",
   "metadata": {},
   "source": [
    "# Q7: Go to the link - https://www.myntra.com/shoes .Set Price filter to “Rs. 6649 to Rs. 13099” , Color filter to “Black”, as shown in the below image."
   ]
  },
  {
   "cell_type": "code",
   "execution_count": 1,
   "id": "77b878e6",
   "metadata": {},
   "outputs": [
    {
     "name": "stdout",
     "output_type": "stream",
     "text": [
      "Requirement already satisfied: selenium in c:\\users\\user\\anaconda3\\lib\\site-packages (4.0.0)\n",
      "Requirement already satisfied: urllib3[secure]~=1.26 in c:\\users\\user\\anaconda3\\lib\\site-packages (from selenium) (1.26.4)\n",
      "Requirement already satisfied: trio-websocket~=0.9 in c:\\users\\user\\anaconda3\\lib\\site-packages (from selenium) (0.9.2)\n",
      "Requirement already satisfied: trio~=0.17 in c:\\users\\user\\anaconda3\\lib\\site-packages (from selenium) (0.19.0)\n",
      "Requirement already satisfied: idna in c:\\users\\user\\anaconda3\\lib\\site-packages (from trio~=0.17->selenium) (2.10)\n",
      "Requirement already satisfied: outcome in c:\\users\\user\\anaconda3\\lib\\site-packages (from trio~=0.17->selenium) (1.1.0)\n",
      "Requirement already satisfied: sniffio in c:\\users\\user\\anaconda3\\lib\\site-packages (from trio~=0.17->selenium) (1.2.0)\n",
      "Requirement already satisfied: sortedcontainers in c:\\users\\user\\anaconda3\\lib\\site-packages (from trio~=0.17->selenium) (2.3.0)\n",
      "Requirement already satisfied: cffi>=1.14 in c:\\users\\user\\anaconda3\\lib\\site-packages (from trio~=0.17->selenium) (1.14.5)\n",
      "Requirement already satisfied: attrs>=19.2.0 in c:\\users\\user\\anaconda3\\lib\\site-packages (from trio~=0.17->selenium) (20.3.0)\n",
      "Requirement already satisfied: async-generator>=1.9 in c:\\users\\user\\anaconda3\\lib\\site-packages (from trio~=0.17->selenium) (1.10)\n",
      "Requirement already satisfied: pycparser in c:\\users\\user\\anaconda3\\lib\\site-packages (from cffi>=1.14->trio~=0.17->selenium) (2.20)\n",
      "Requirement already satisfied: wsproto>=0.14 in c:\\users\\user\\anaconda3\\lib\\site-packages (from trio-websocket~=0.9->selenium) (1.0.0)\n",
      "Requirement already satisfied: pyOpenSSL>=0.14 in c:\\users\\user\\anaconda3\\lib\\site-packages (from urllib3[secure]~=1.26->selenium) (20.0.1)\n",
      "Requirement already satisfied: cryptography>=1.3.4 in c:\\users\\user\\anaconda3\\lib\\site-packages (from urllib3[secure]~=1.26->selenium) (3.4.7)\n",
      "Requirement already satisfied: certifi in c:\\users\\user\\anaconda3\\lib\\site-packages (from urllib3[secure]~=1.26->selenium) (2020.12.5)\n",
      "Requirement already satisfied: six>=1.5.2 in c:\\users\\user\\anaconda3\\lib\\site-packages (from pyOpenSSL>=0.14->urllib3[secure]~=1.26->selenium) (1.15.0)\n",
      "Requirement already satisfied: h11<1,>=0.9.0 in c:\\users\\user\\anaconda3\\lib\\site-packages (from wsproto>=0.14->trio-websocket~=0.9->selenium) (0.12.0)\n"
     ]
    }
   ],
   "source": [
    "!pip install selenium"
   ]
  },
  {
   "cell_type": "code",
   "execution_count": 2,
   "id": "724870fc",
   "metadata": {},
   "outputs": [],
   "source": [
    "import selenium \n",
    "from selenium import webdriver\n",
    "import pandas as pd"
   ]
  },
  {
   "cell_type": "code",
   "execution_count": 3,
   "id": "5d78f4b7",
   "metadata": {},
   "outputs": [
    {
     "name": "stderr",
     "output_type": "stream",
     "text": [
      "<ipython-input-3-4ba61926838e>:1: DeprecationWarning: executable_path has been deprecated, please pass in a Service object\n",
      "  driver7= webdriver.Chrome(r\"D:/chromedriver_win32/chromedriver.exe\")\n"
     ]
    }
   ],
   "source": [
    "driver7= webdriver.Chrome(r\"D:/chromedriver_win32/chromedriver.exe\")"
   ]
  },
  {
   "cell_type": "code",
   "execution_count": 5,
   "id": "2b8afe6d",
   "metadata": {},
   "outputs": [],
   "source": [
    "driver7.get(\"https://www.myntra.com/shoes\")"
   ]
  },
  {
   "cell_type": "code",
   "execution_count": 14,
   "id": "703813b4",
   "metadata": {},
   "outputs": [
    {
     "name": "stderr",
     "output_type": "stream",
     "text": [
      "<ipython-input-14-b1d14eb1366c>:1: DeprecationWarning: find_element_by_* commands are deprecated. Please use find_element() instead\n",
      "  price_filter= driver7.find_element_by_xpath(\"//ul[@class='price-list']/li[2]\")\n"
     ]
    }
   ],
   "source": [
    "price_filter= driver7.find_element_by_xpath(\"//ul[@class='price-list']/li[2]\")\n",
    "price_filter.click()"
   ]
  },
  {
   "cell_type": "code",
   "execution_count": 16,
   "id": "0e9d9856",
   "metadata": {},
   "outputs": [
    {
     "name": "stderr",
     "output_type": "stream",
     "text": [
      "<ipython-input-16-99cbeb49629b>:1: DeprecationWarning: find_element_by_* commands are deprecated. Please use find_element() instead\n",
      "  color_filter=driver7.find_element_by_xpath(\"//span[@data-colorhex='black']\")\n"
     ]
    }
   ],
   "source": [
    "color_filter=driver7.find_element_by_xpath(\"//span[@data-colorhex='black']\")\n",
    "color_filter.click()"
   ]
  },
  {
   "cell_type": "code",
   "execution_count": 18,
   "id": "3a6260e5",
   "metadata": {},
   "outputs": [
    {
     "data": {
      "text/plain": [
       "['https://www.myntra.com/shoes?f=Color%3ABlack_36454f&rf=Price%3A7149.0_14099.0_7149.0%20TO%2014099.0%2C7187.0_14125.0_7187.0%20TO%2014125.0&p=1',\n",
       " 'https://www.myntra.com/shoes?f=Color%3ABlack_36454f&rf=Price%3A7149.0_14099.0_7149.0%20TO%2014099.0%2C7187.0_14125.0_7187.0%20TO%2014125.0&p=2',\n",
       " 'https://www.myntra.com/shoes?f=Color%3ABlack_36454f&rf=Price%3A7149.0_14099.0_7149.0%20TO%2014099.0%2C7187.0_14125.0_7187.0%20TO%2014125.0&p=3']"
      ]
     },
     "execution_count": 18,
     "metadata": {},
     "output_type": "execute_result"
    }
   ],
   "source": [
    "max_page=4\n",
    "urls=[]\n",
    "for i in range(1,max_page):\n",
    "    url=f\"https://www.myntra.com/shoes?f=Color%3ABlack_36454f&rf=Price%3A7149.0_14099.0_7149.0%20TO%2014099.0%2C7187.0_14125.0_7187.0%20TO%2014125.0&p={i}\"\n",
    "    urls.append(url)\n",
    "urls"
   ]
  },
  {
   "cell_type": "code",
   "execution_count": 19,
   "id": "f9b53e13",
   "metadata": {},
   "outputs": [],
   "source": [
    "brand=[]\n",
    "product_description=[]\n",
    "price=[]"
   ]
  },
  {
   "cell_type": "code",
   "execution_count": 20,
   "id": "5887f58f",
   "metadata": {},
   "outputs": [
    {
     "name": "stderr",
     "output_type": "stream",
     "text": [
      "<ipython-input-20-9559f53bf77b>:3: DeprecationWarning: find_elements_by_* commands are deprecated. Please use find_elements() instead\n",
      "  for j in driver7.find_elements_by_xpath('//h3[@class=\"product-brand\"]'):\n",
      "<ipython-input-20-9559f53bf77b>:5: DeprecationWarning: find_elements_by_* commands are deprecated. Please use find_elements() instead\n",
      "  for j in driver7.find_elements_by_xpath('//h4[@class=\"product-product\"]'):\n",
      "<ipython-input-20-9559f53bf77b>:7: DeprecationWarning: find_elements_by_* commands are deprecated. Please use find_elements() instead\n",
      "  for j in driver7.find_elements_by_xpath('//div[@class=\"product-price\"]'):\n"
     ]
    }
   ],
   "source": [
    "for i in urls:\n",
    "    driver7.get(i)\n",
    "    for j in driver7.find_elements_by_xpath('//h3[@class=\"product-brand\"]'):\n",
    "        brand.append(j.text)\n",
    "    for j in driver7.find_elements_by_xpath('//h4[@class=\"product-product\"]'):\n",
    "        product_description.append(j.text)\n",
    "    for j in driver7.find_elements_by_xpath('//div[@class=\"product-price\"]'):\n",
    "        price.append(j.text)"
   ]
  },
  {
   "cell_type": "code",
   "execution_count": 21,
   "id": "847bcd09",
   "metadata": {},
   "outputs": [
    {
     "name": "stdout",
     "output_type": "stream",
     "text": [
      "150 150 150\n"
     ]
    }
   ],
   "source": [
    "print(len(brand),len(brand),len(brand))"
   ]
  },
  {
   "cell_type": "code",
   "execution_count": 22,
   "id": "6f9dde28",
   "metadata": {},
   "outputs": [],
   "source": [
    "myntra_shoe=pd.DataFrame({})\n",
    "myntra_shoe[\"Shoe_Brand\"]=brand[0:100]\n",
    "myntra_shoe[\"Prouct_Descripton\"]=product_description[0:100]\n",
    "myntra_shoe[\"Prices\"]=price[0:100]"
   ]
  },
  {
   "cell_type": "code",
   "execution_count": 23,
   "id": "537e5642",
   "metadata": {},
   "outputs": [
    {
     "data": {
      "text/html": [
       "<div>\n",
       "<style scoped>\n",
       "    .dataframe tbody tr th:only-of-type {\n",
       "        vertical-align: middle;\n",
       "    }\n",
       "\n",
       "    .dataframe tbody tr th {\n",
       "        vertical-align: top;\n",
       "    }\n",
       "\n",
       "    .dataframe thead th {\n",
       "        text-align: right;\n",
       "    }\n",
       "</style>\n",
       "<table border=\"1\" class=\"dataframe\">\n",
       "  <thead>\n",
       "    <tr style=\"text-align: right;\">\n",
       "      <th></th>\n",
       "      <th>Shoe_Brand</th>\n",
       "      <th>Prouct_Descripton</th>\n",
       "      <th>Prices</th>\n",
       "    </tr>\n",
       "  </thead>\n",
       "  <tbody>\n",
       "    <tr>\n",
       "      <th>0</th>\n",
       "      <td>Nike</td>\n",
       "      <td>AIR ZOOM PEGASUS Running Shoes</td>\n",
       "      <td>Rs. 9995</td>\n",
       "    </tr>\n",
       "    <tr>\n",
       "      <th>1</th>\n",
       "      <td>Nike</td>\n",
       "      <td>LEBRON WITNESS Basketball Shoe</td>\n",
       "      <td>Rs. 8295</td>\n",
       "    </tr>\n",
       "    <tr>\n",
       "      <th>2</th>\n",
       "      <td>Nike</td>\n",
       "      <td>Men Zoom Span 4 Running Shoes</td>\n",
       "      <td>Rs. 7195</td>\n",
       "    </tr>\n",
       "    <tr>\n",
       "      <th>3</th>\n",
       "      <td>Nike</td>\n",
       "      <td>Men ZOOM SPAN 4 Running Shoes</td>\n",
       "      <td>Rs. 7195</td>\n",
       "    </tr>\n",
       "    <tr>\n",
       "      <th>4</th>\n",
       "      <td>Nike</td>\n",
       "      <td>Air Zoom Pegasus 38 Shield Run</td>\n",
       "      <td>Rs. 11495</td>\n",
       "    </tr>\n",
       "    <tr>\n",
       "      <th>...</th>\n",
       "      <td>...</td>\n",
       "      <td>...</td>\n",
       "      <td>...</td>\n",
       "    </tr>\n",
       "    <tr>\n",
       "      <th>95</th>\n",
       "      <td>J.FONTINI</td>\n",
       "      <td>Men Solid Loafers</td>\n",
       "      <td>Rs. 8990</td>\n",
       "    </tr>\n",
       "    <tr>\n",
       "      <th>96</th>\n",
       "      <td>Birkenstock</td>\n",
       "      <td>Women Boston Big Buckle Black</td>\n",
       "      <td>Rs. 11990</td>\n",
       "    </tr>\n",
       "    <tr>\n",
       "      <th>97</th>\n",
       "      <td>KLEAT</td>\n",
       "      <td>Men Woven Design Loafers</td>\n",
       "      <td>Rs. 7999</td>\n",
       "    </tr>\n",
       "    <tr>\n",
       "      <th>98</th>\n",
       "      <td>Ruosh</td>\n",
       "      <td>Men Solid Leather Formal Oxfords</td>\n",
       "      <td>Rs. 10792Rs. 13490(20% OFF)</td>\n",
       "    </tr>\n",
       "    <tr>\n",
       "      <th>99</th>\n",
       "      <td>Puma</td>\n",
       "      <td>Men Magnify Nitro Running</td>\n",
       "      <td>Rs. 10399Rs. 12999(20% OFF)</td>\n",
       "    </tr>\n",
       "  </tbody>\n",
       "</table>\n",
       "<p>100 rows × 3 columns</p>\n",
       "</div>"
      ],
      "text/plain": [
       "     Shoe_Brand                 Prouct_Descripton                       Prices\n",
       "0          Nike    AIR ZOOM PEGASUS Running Shoes                     Rs. 9995\n",
       "1          Nike    LEBRON WITNESS Basketball Shoe                     Rs. 8295\n",
       "2          Nike     Men Zoom Span 4 Running Shoes                     Rs. 7195\n",
       "3          Nike     Men ZOOM SPAN 4 Running Shoes                     Rs. 7195\n",
       "4          Nike    Air Zoom Pegasus 38 Shield Run                    Rs. 11495\n",
       "..          ...                               ...                          ...\n",
       "95    J.FONTINI                 Men Solid Loafers                     Rs. 8990\n",
       "96  Birkenstock     Women Boston Big Buckle Black                    Rs. 11990\n",
       "97        KLEAT          Men Woven Design Loafers                     Rs. 7999\n",
       "98        Ruosh  Men Solid Leather Formal Oxfords  Rs. 10792Rs. 13490(20% OFF)\n",
       "99         Puma         Men Magnify Nitro Running  Rs. 10399Rs. 12999(20% OFF)\n",
       "\n",
       "[100 rows x 3 columns]"
      ]
     },
     "execution_count": 23,
     "metadata": {},
     "output_type": "execute_result"
    }
   ],
   "source": [
    "myntra_shoe"
   ]
  },
  {
   "cell_type": "code",
   "execution_count": null,
   "id": "b0502250",
   "metadata": {},
   "outputs": [],
   "source": []
  },
  {
   "cell_type": "markdown",
   "id": "0a9b2afa",
   "metadata": {},
   "source": [
    "# Q8: Go to webpage https://www.amazon.in/  Enter “Laptop” in the search field and then click the search icon.Then set CPU Type filter to “Intel Core i7” and “Intel Core i9” as shown in the below image:"
   ]
  },
  {
   "cell_type": "markdown",
   "id": "c396bc88",
   "metadata": {},
   "source": [
    "After setting the filters scrape first 10 laptops data. You have to scrape 3 attributes for each laptop:\n",
    "1. Title\n",
    "2. Ratings\n",
    "3. Price"
   ]
  },
  {
   "cell_type": "code",
   "execution_count": 1,
   "id": "5ec2049b",
   "metadata": {},
   "outputs": [
    {
     "name": "stdout",
     "output_type": "stream",
     "text": [
      "Requirement already satisfied: selenium in c:\\users\\user\\anaconda3\\lib\\site-packages (4.0.0)\n",
      "Requirement already satisfied: trio-websocket~=0.9 in c:\\users\\user\\anaconda3\\lib\\site-packages (from selenium) (0.9.2)\n",
      "Requirement already satisfied: urllib3[secure]~=1.26 in c:\\users\\user\\anaconda3\\lib\\site-packages (from selenium) (1.26.4)\n",
      "Requirement already satisfied: trio~=0.17 in c:\\users\\user\\anaconda3\\lib\\site-packages (from selenium) (0.19.0)\n",
      "Requirement already satisfied: idna in c:\\users\\user\\anaconda3\\lib\\site-packages (from trio~=0.17->selenium) (2.10)\n",
      "Requirement already satisfied: cffi>=1.14 in c:\\users\\user\\anaconda3\\lib\\site-packages (from trio~=0.17->selenium) (1.14.5)\n",
      "Requirement already satisfied: outcome in c:\\users\\user\\anaconda3\\lib\\site-packages (from trio~=0.17->selenium) (1.1.0)\n",
      "Requirement already satisfied: sortedcontainers in c:\\users\\user\\anaconda3\\lib\\site-packages (from trio~=0.17->selenium) (2.3.0)\n",
      "Requirement already satisfied: sniffio in c:\\users\\user\\anaconda3\\lib\\site-packages (from trio~=0.17->selenium) (1.2.0)\n",
      "Requirement already satisfied: async-generator>=1.9 in c:\\users\\user\\anaconda3\\lib\\site-packages (from trio~=0.17->selenium) (1.10)\n",
      "Requirement already satisfied: attrs>=19.2.0 in c:\\users\\user\\anaconda3\\lib\\site-packages (from trio~=0.17->selenium) (20.3.0)\n",
      "Requirement already satisfied: pycparser in c:\\users\\user\\anaconda3\\lib\\site-packages (from cffi>=1.14->trio~=0.17->selenium) (2.20)\n",
      "Requirement already satisfied: wsproto>=0.14 in c:\\users\\user\\anaconda3\\lib\\site-packages (from trio-websocket~=0.9->selenium) (1.0.0)\n",
      "Requirement already satisfied: pyOpenSSL>=0.14 in c:\\users\\user\\anaconda3\\lib\\site-packages (from urllib3[secure]~=1.26->selenium) (20.0.1)\n",
      "Requirement already satisfied: cryptography>=1.3.4 in c:\\users\\user\\anaconda3\\lib\\site-packages (from urllib3[secure]~=1.26->selenium) (3.4.7)\n",
      "Requirement already satisfied: certifi in c:\\users\\user\\anaconda3\\lib\\site-packages (from urllib3[secure]~=1.26->selenium) (2020.12.5)\n",
      "Requirement already satisfied: six>=1.5.2 in c:\\users\\user\\anaconda3\\lib\\site-packages (from pyOpenSSL>=0.14->urllib3[secure]~=1.26->selenium) (1.15.0)\n",
      "Requirement already satisfied: h11<1,>=0.9.0 in c:\\users\\user\\anaconda3\\lib\\site-packages (from wsproto>=0.14->trio-websocket~=0.9->selenium) (0.12.0)\n"
     ]
    }
   ],
   "source": [
    "!pip install selenium"
   ]
  },
  {
   "cell_type": "code",
   "execution_count": 2,
   "id": "f5e3678a",
   "metadata": {},
   "outputs": [],
   "source": [
    "import selenium\n",
    "from selenium import webdriver\n",
    "import pandas as pd"
   ]
  },
  {
   "cell_type": "code",
   "execution_count": 3,
   "id": "4e56a014",
   "metadata": {},
   "outputs": [
    {
     "name": "stderr",
     "output_type": "stream",
     "text": [
      "<ipython-input-3-ae7003b3eb04>:1: DeprecationWarning: executable_path has been deprecated, please pass in a Service object\n",
      "  driver8= webdriver.Chrome(r\"D:/chromedriver_win32/chromedriver.exe\")\n"
     ]
    }
   ],
   "source": [
    "driver8= webdriver.Chrome(r\"D:/chromedriver_win32/chromedriver.exe\")"
   ]
  },
  {
   "cell_type": "code",
   "execution_count": 4,
   "id": "aa41a6b4",
   "metadata": {},
   "outputs": [],
   "source": [
    "driver8.get(\"https://www.amazon.in/\")"
   ]
  },
  {
   "cell_type": "code",
   "execution_count": 5,
   "id": "df02f2a1",
   "metadata": {},
   "outputs": [
    {
     "name": "stderr",
     "output_type": "stream",
     "text": [
      "<ipython-input-5-92f8d0721a50>:1: DeprecationWarning: find_element_by_* commands are deprecated. Please use find_element() instead\n",
      "  search= driver8.find_element_by_xpath('//input[@id=\"twotabsearchtextbox\"]')\n"
     ]
    }
   ],
   "source": [
    "search= driver8.find_element_by_xpath('//input[@id=\"twotabsearchtextbox\"]')\n",
    "search.send_keys(\"laptop\")"
   ]
  },
  {
   "cell_type": "code",
   "execution_count": 6,
   "id": "44b0ccc5",
   "metadata": {},
   "outputs": [
    {
     "name": "stderr",
     "output_type": "stream",
     "text": [
      "<ipython-input-6-77cd1c47e25c>:1: DeprecationWarning: find_element_by_* commands are deprecated. Please use find_element() instead\n",
      "  search_btn= driver8.find_element_by_xpath('//input[@type=\"submit\"]')\n"
     ]
    }
   ],
   "source": [
    "search_btn= driver8.find_element_by_xpath('//input[@type=\"submit\"]')\n",
    "search_btn.click()"
   ]
  },
  {
   "cell_type": "code",
   "execution_count": 7,
   "id": "559e15fc",
   "metadata": {},
   "outputs": [
    {
     "name": "stderr",
     "output_type": "stream",
     "text": [
      "<ipython-input-7-fa41c10bd799>:1: DeprecationWarning: find_element_by_* commands are deprecated. Please use find_element() instead\n",
      "  i7_filter= driver8.find_element_by_xpath('//*[@id=\"p_n_feature_thirteen_browse-bin/12598163031\"]/span/a')\n"
     ]
    }
   ],
   "source": [
    "i7_filter= driver8.find_element_by_xpath('//*[@id=\"p_n_feature_thirteen_browse-bin/12598163031\"]/span/a')\n",
    "i7_filter.click()"
   ]
  },
  {
   "cell_type": "code",
   "execution_count": null,
   "id": "7660f731",
   "metadata": {},
   "outputs": [],
   "source": [
    "#i9_filter= driver8.find_element_by_xpath('//*[@id=\"p_n_feature_thirteen_browse-bin/16757432031\"]/span/a')\n",
    "#i9_filter.click()"
   ]
  },
  {
   "cell_type": "code",
   "execution_count": 11,
   "id": "1218c1d1",
   "metadata": {},
   "outputs": [],
   "source": [
    "title=[]\n",
    "price=[]\n",
    "rating=[]"
   ]
  },
  {
   "cell_type": "code",
   "execution_count": 13,
   "id": "0944744d",
   "metadata": {},
   "outputs": [
    {
     "name": "stderr",
     "output_type": "stream",
     "text": [
      "<ipython-input-13-f79a4500ffc0>:1: DeprecationWarning: find_elements_by_* commands are deprecated. Please use find_elements() instead\n",
      "  titles=driver8.find_elements_by_xpath('//span[@class=\"a-size-medium a-color-base a-text-normal\"]')\n"
     ]
    },
    {
     "data": {
      "text/plain": [
       "['LG Gram 17 Ultra-Light Intel Evo 11th Gen Core i7,16 GB RAM, 512 GB SSD, Win-10, Iris Xe Graphics, 17-inches (43.18 cms), Thunderbolt 4, USC -C x 2 (with Power), 1.35 kg, 3 Yr Warranty (17Z90P, Black)',\n",
       " 'LG Gram 14 Ultralight Intel Evo 11th Gen Core i7,16 GB RAM, 512 GB SSD, Win-10, Iris Xe Graphics, 14-inches (35.56 cms), Thunderbolt 4, USC -Cx2 (with Power), 999 Grams, 3 Yr Warranty (14Z90P, Black)',\n",
       " 'Mi Notebook Horizon Edition 14 Intel Core i7-10510U 10th Gen Thin and Light Laptop(8GB/512GB SSD/Windows 10/Nvidia MX350 2GB Graphics/Grey/1.35Kg)(Without Webcam) XMA1904-AF']"
      ]
     },
     "execution_count": 13,
     "metadata": {},
     "output_type": "execute_result"
    }
   ],
   "source": [
    "titles=driver8.find_elements_by_xpath('//span[@class=\"a-size-medium a-color-base a-text-normal\"]')\n",
    "for i in titles:\n",
    "    title.append(i.text)\n",
    "title[0:3]"
   ]
  },
  {
   "cell_type": "code",
   "execution_count": 14,
   "id": "3c1b1ee1",
   "metadata": {},
   "outputs": [
    {
     "name": "stderr",
     "output_type": "stream",
     "text": [
      "<ipython-input-14-c9b8b9c1baf5>:1: DeprecationWarning: find_elements_by_* commands are deprecated. Please use find_elements() instead\n",
      "  prices=driver8.find_elements_by_xpath('//span[@class=\"a-price-whole\"]')\n"
     ]
    },
    {
     "data": {
      "text/plain": [
       "['1,06,057', '87,999', '58,990']"
      ]
     },
     "execution_count": 14,
     "metadata": {},
     "output_type": "execute_result"
    }
   ],
   "source": [
    "prices=driver8.find_elements_by_xpath('//span[@class=\"a-price-whole\"]')\n",
    "for i in prices:\n",
    "    price.append(i.text)\n",
    "price[0:3]"
   ]
  },
  {
   "cell_type": "code",
   "execution_count": 16,
   "id": "872c5920",
   "metadata": {},
   "outputs": [
    {
     "name": "stderr",
     "output_type": "stream",
     "text": [
      "<ipython-input-16-9db2dcdd4ec6>:1: DeprecationWarning: find_elements_by_* commands are deprecated. Please use find_elements() instead\n",
      "  ratings=driver8.find_elements_by_xpath('//div[@class=\"a-row a-size-small\"]/span[1]')\n"
     ]
    },
    {
     "data": {
      "text/plain": [
       "['4.4 out of 5 stars', '4.0 out of 5 stars', '4.2 out of 5 stars']"
      ]
     },
     "execution_count": 16,
     "metadata": {},
     "output_type": "execute_result"
    }
   ],
   "source": [
    "ratings=driver8.find_elements_by_xpath('//div[@class=\"a-row a-size-small\"]/span[1]')   \n",
    "for i in ratings:\n",
    "    rating.append(i.get_attribute('aria-label'))\n",
    "rating[0:3]"
   ]
  },
  {
   "cell_type": "code",
   "execution_count": 19,
   "id": "964a70e3",
   "metadata": {},
   "outputs": [],
   "source": [
    "amazone_laptop=pd.DataFrame({})\n",
    "amazone_laptop[\"Title\"]=title[0:10]\n",
    "amazone_laptop[\"Price\"]=price[0:10]\n",
    "amazone_laptop[\"Rating\"]=rating[0:10]"
   ]
  },
  {
   "cell_type": "code",
   "execution_count": 20,
   "id": "0d9a2ebc",
   "metadata": {},
   "outputs": [
    {
     "data": {
      "text/html": [
       "<div>\n",
       "<style scoped>\n",
       "    .dataframe tbody tr th:only-of-type {\n",
       "        vertical-align: middle;\n",
       "    }\n",
       "\n",
       "    .dataframe tbody tr th {\n",
       "        vertical-align: top;\n",
       "    }\n",
       "\n",
       "    .dataframe thead th {\n",
       "        text-align: right;\n",
       "    }\n",
       "</style>\n",
       "<table border=\"1\" class=\"dataframe\">\n",
       "  <thead>\n",
       "    <tr style=\"text-align: right;\">\n",
       "      <th></th>\n",
       "      <th>Title</th>\n",
       "      <th>Price</th>\n",
       "      <th>Rating</th>\n",
       "    </tr>\n",
       "  </thead>\n",
       "  <tbody>\n",
       "    <tr>\n",
       "      <th>0</th>\n",
       "      <td>LG Gram 17 Ultra-Light Intel Evo 11th Gen Core...</td>\n",
       "      <td>1,06,057</td>\n",
       "      <td>4.4 out of 5 stars</td>\n",
       "    </tr>\n",
       "    <tr>\n",
       "      <th>1</th>\n",
       "      <td>LG Gram 14 Ultralight Intel Evo 11th Gen Core ...</td>\n",
       "      <td>87,999</td>\n",
       "      <td>4.0 out of 5 stars</td>\n",
       "    </tr>\n",
       "    <tr>\n",
       "      <th>2</th>\n",
       "      <td>Mi Notebook Horizon Edition 14 Intel Core i7-1...</td>\n",
       "      <td>58,990</td>\n",
       "      <td>4.2 out of 5 stars</td>\n",
       "    </tr>\n",
       "    <tr>\n",
       "      <th>3</th>\n",
       "      <td>ASUS TUF Gaming F17 (2021), 17.3-inch (43.94 c...</td>\n",
       "      <td>1,13,990</td>\n",
       "      <td>4.6 out of 5 stars</td>\n",
       "    </tr>\n",
       "    <tr>\n",
       "      <th>4</th>\n",
       "      <td>Lenovo ThinkBook 13s Intel 11th Gen Core i7 13...</td>\n",
       "      <td>89,990</td>\n",
       "      <td>4.3 out of 5 stars</td>\n",
       "    </tr>\n",
       "    <tr>\n",
       "      <th>5</th>\n",
       "      <td>Dell 14 (2021) i7-1195G7 2in1 Touch Screen Lap...</td>\n",
       "      <td>88,490</td>\n",
       "      <td>5.0 out of 5 stars</td>\n",
       "    </tr>\n",
       "    <tr>\n",
       "      <th>6</th>\n",
       "      <td>HP Pavilion (2021) Intel 11th Gen Core i7 14 i...</td>\n",
       "      <td>84,990</td>\n",
       "      <td>4.3 out of 5 stars</td>\n",
       "    </tr>\n",
       "    <tr>\n",
       "      <th>7</th>\n",
       "      <td>Acer Nitro 5 11th Gen Intel Core i7-11800H 15....</td>\n",
       "      <td>85,990</td>\n",
       "      <td>3.8 out of 5 stars</td>\n",
       "    </tr>\n",
       "    <tr>\n",
       "      <th>8</th>\n",
       "      <td>Dell Latitude E6430 14.1 Inch Business Laptop ...</td>\n",
       "      <td>36,999</td>\n",
       "      <td>4.1 out of 5 stars</td>\n",
       "    </tr>\n",
       "    <tr>\n",
       "      <th>9</th>\n",
       "      <td>ASUS TUF Dash F15 (2021) 15.6-inch (39.62 cms)...</td>\n",
       "      <td>93,990</td>\n",
       "      <td>3.7 out of 5 stars</td>\n",
       "    </tr>\n",
       "  </tbody>\n",
       "</table>\n",
       "</div>"
      ],
      "text/plain": [
       "                                               Title     Price  \\\n",
       "0  LG Gram 17 Ultra-Light Intel Evo 11th Gen Core...  1,06,057   \n",
       "1  LG Gram 14 Ultralight Intel Evo 11th Gen Core ...    87,999   \n",
       "2  Mi Notebook Horizon Edition 14 Intel Core i7-1...    58,990   \n",
       "3  ASUS TUF Gaming F17 (2021), 17.3-inch (43.94 c...  1,13,990   \n",
       "4  Lenovo ThinkBook 13s Intel 11th Gen Core i7 13...    89,990   \n",
       "5  Dell 14 (2021) i7-1195G7 2in1 Touch Screen Lap...    88,490   \n",
       "6  HP Pavilion (2021) Intel 11th Gen Core i7 14 i...    84,990   \n",
       "7  Acer Nitro 5 11th Gen Intel Core i7-11800H 15....    85,990   \n",
       "8  Dell Latitude E6430 14.1 Inch Business Laptop ...    36,999   \n",
       "9  ASUS TUF Dash F15 (2021) 15.6-inch (39.62 cms)...    93,990   \n",
       "\n",
       "               Rating  \n",
       "0  4.4 out of 5 stars  \n",
       "1  4.0 out of 5 stars  \n",
       "2  4.2 out of 5 stars  \n",
       "3  4.6 out of 5 stars  \n",
       "4  4.3 out of 5 stars  \n",
       "5  5.0 out of 5 stars  \n",
       "6  4.3 out of 5 stars  \n",
       "7  3.8 out of 5 stars  \n",
       "8  4.1 out of 5 stars  \n",
       "9  3.7 out of 5 stars  "
      ]
     },
     "execution_count": 20,
     "metadata": {},
     "output_type": "execute_result"
    }
   ],
   "source": [
    "amazone_laptop"
   ]
  },
  {
   "cell_type": "code",
   "execution_count": null,
   "id": "02b798ec",
   "metadata": {},
   "outputs": [],
   "source": []
  },
  {
   "cell_type": "markdown",
   "id": "a18ca689",
   "metadata": {},
   "source": [
    "# Q9: Write a python program to scrape data for first 10 job results for Data Scientist Designation in Noida location. You have to scrape company name, No. of days ago when job was posted, Rating of the company.This task will be done in following steps:"
   ]
  },
  {
   "cell_type": "markdown",
   "id": "04eac16e",
   "metadata": {},
   "source": [
    "1. First get the webpage https://www.ambitionbox.com/\n",
    "2. Click on the Job option as shown in the image\n",
    "3. After reaching to the next webpage, In place of “Search by Designations, Companies, Skills” enter\n",
    "    “Data Scientist” and click on search button.\n",
    "4. You will reach to the following web page click on location and in place of “Search location” enter\n",
    "    “Noida” and select location “Noida”.\n",
    "5. Then scrape the data for the first 10 jobs results you get on the above shown page.\n",
    "6. Finally create a dataframe of the scraped data."
   ]
  },
  {
   "cell_type": "code",
   "execution_count": 1,
   "id": "0825d1df",
   "metadata": {},
   "outputs": [
    {
     "name": "stdout",
     "output_type": "stream",
     "text": [
      "Requirement already satisfied: selenium in c:\\users\\user\\anaconda3\\lib\\site-packages (4.0.0)\n",
      "Requirement already satisfied: trio-websocket~=0.9 in c:\\users\\user\\anaconda3\\lib\\site-packages (from selenium) (0.9.2)\n",
      "Requirement already satisfied: urllib3[secure]~=1.26 in c:\\users\\user\\anaconda3\\lib\\site-packages (from selenium) (1.26.4)\n",
      "Requirement already satisfied: trio~=0.17 in c:\\users\\user\\anaconda3\\lib\\site-packages (from selenium) (0.19.0)\n",
      "Requirement already satisfied: sortedcontainers in c:\\users\\user\\anaconda3\\lib\\site-packages (from trio~=0.17->selenium) (2.3.0)\n",
      "Requirement already satisfied: idna in c:\\users\\user\\anaconda3\\lib\\site-packages (from trio~=0.17->selenium) (2.10)\n",
      "Requirement already satisfied: cffi>=1.14 in c:\\users\\user\\anaconda3\\lib\\site-packages (from trio~=0.17->selenium) (1.14.5)\n",
      "Requirement already satisfied: async-generator>=1.9 in c:\\users\\user\\anaconda3\\lib\\site-packages (from trio~=0.17->selenium) (1.10)\n",
      "Requirement already satisfied: outcome in c:\\users\\user\\anaconda3\\lib\\site-packages (from trio~=0.17->selenium) (1.1.0)\n",
      "Requirement already satisfied: sniffio in c:\\users\\user\\anaconda3\\lib\\site-packages (from trio~=0.17->selenium) (1.2.0)\n",
      "Requirement already satisfied: attrs>=19.2.0 in c:\\users\\user\\anaconda3\\lib\\site-packages (from trio~=0.17->selenium) (20.3.0)\n",
      "Requirement already satisfied: pycparser in c:\\users\\user\\anaconda3\\lib\\site-packages (from cffi>=1.14->trio~=0.17->selenium) (2.20)\n",
      "Requirement already satisfied: wsproto>=0.14 in c:\\users\\user\\anaconda3\\lib\\site-packages (from trio-websocket~=0.9->selenium) (1.0.0)\n",
      "Requirement already satisfied: pyOpenSSL>=0.14 in c:\\users\\user\\anaconda3\\lib\\site-packages (from urllib3[secure]~=1.26->selenium) (20.0.1)\n",
      "Requirement already satisfied: certifi in c:\\users\\user\\anaconda3\\lib\\site-packages (from urllib3[secure]~=1.26->selenium) (2020.12.5)\n",
      "Requirement already satisfied: cryptography>=1.3.4 in c:\\users\\user\\anaconda3\\lib\\site-packages (from urllib3[secure]~=1.26->selenium) (3.4.7)\n",
      "Requirement already satisfied: six>=1.5.2 in c:\\users\\user\\anaconda3\\lib\\site-packages (from pyOpenSSL>=0.14->urllib3[secure]~=1.26->selenium) (1.15.0)\n",
      "Requirement already satisfied: h11<1,>=0.9.0 in c:\\users\\user\\anaconda3\\lib\\site-packages (from wsproto>=0.14->trio-websocket~=0.9->selenium) (0.12.0)\n"
     ]
    }
   ],
   "source": [
    "!pip install selenium"
   ]
  },
  {
   "cell_type": "code",
   "execution_count": 2,
   "id": "282cfdbd",
   "metadata": {},
   "outputs": [],
   "source": [
    "import selenium\n",
    "from selenium import webdriver\n",
    "import pandas as pd"
   ]
  },
  {
   "cell_type": "code",
   "execution_count": 3,
   "id": "a8f8d700",
   "metadata": {},
   "outputs": [
    {
     "name": "stderr",
     "output_type": "stream",
     "text": [
      "<ipython-input-3-a48f24ac12f9>:1: DeprecationWarning: executable_path has been deprecated, please pass in a Service object\n",
      "  driver9= webdriver.Chrome(r\"D:/chromedriver_win32/chromedriver.exe\")\n"
     ]
    }
   ],
   "source": [
    "driver9= webdriver.Chrome(r\"D:/chromedriver_win32/chromedriver.exe\")"
   ]
  },
  {
   "cell_type": "code",
   "execution_count": 4,
   "id": "7ccc1ab6",
   "metadata": {},
   "outputs": [],
   "source": [
    "driver9.get(\"https://www.ambitionbox.com/\")"
   ]
  },
  {
   "cell_type": "code",
   "execution_count": 5,
   "id": "337bb7aa",
   "metadata": {},
   "outputs": [
    {
     "name": "stderr",
     "output_type": "stream",
     "text": [
      "<ipython-input-5-7867909cfab3>:1: DeprecationWarning: find_element_by_* commands are deprecated. Please use find_element() instead\n",
      "  jobs= driver9.find_element_by_xpath('//*[@id=\"headerWrapper\"]/nav/nav/a[6]')\n"
     ]
    }
   ],
   "source": [
    "jobs= driver9.find_element_by_xpath('//*[@id=\"headerWrapper\"]/nav/nav/a[6]')\n",
    "jobs.click()"
   ]
  },
  {
   "cell_type": "code",
   "execution_count": 6,
   "id": "67292130",
   "metadata": {},
   "outputs": [
    {
     "name": "stderr",
     "output_type": "stream",
     "text": [
      "<ipython-input-6-2ee877f54855>:1: DeprecationWarning: find_element_by_* commands are deprecated. Please use find_element() instead\n",
      "  search= driver9.find_element_by_xpath('//*[@id=\"jobs-typeahead\"]/span/input')\n"
     ]
    }
   ],
   "source": [
    "search= driver9.find_element_by_xpath('//*[@id=\"jobs-typeahead\"]/span/input')\n",
    "search.send_keys('data scientist')"
   ]
  },
  {
   "cell_type": "code",
   "execution_count": 7,
   "id": "c430ccdc",
   "metadata": {},
   "outputs": [
    {
     "name": "stderr",
     "output_type": "stream",
     "text": [
      "<ipython-input-7-ed8b8b74044a>:1: DeprecationWarning: find_element_by_* commands are deprecated. Please use find_element() instead\n",
      "  search_btn= driver9.find_element_by_xpath('//*[@id=\"jobSearchPage\"]/div[2]/div[1]/div/div/div/button')\n"
     ]
    }
   ],
   "source": [
    "search_btn= driver9.find_element_by_xpath('//*[@id=\"jobSearchPage\"]/div[2]/div[1]/div/div/div/button')\n",
    "search_btn.click()"
   ]
  },
  {
   "cell_type": "code",
   "execution_count": 8,
   "id": "b7888daa",
   "metadata": {},
   "outputs": [
    {
     "name": "stderr",
     "output_type": "stream",
     "text": [
      "<ipython-input-8-96a5bb8da7cd>:1: DeprecationWarning: find_element_by_* commands are deprecated. Please use find_element() instead\n",
      "  location= driver9.find_element_by_xpath('//*[@id=\"filters-row\"]/div/div/div[2]/div[1]/i').click()\n"
     ]
    }
   ],
   "source": [
    "location= driver9.find_element_by_xpath('//*[@id=\"filters-row\"]/div/div/div[2]/div[1]/i').click()"
   ]
  },
  {
   "cell_type": "code",
   "execution_count": 9,
   "id": "84673033",
   "metadata": {},
   "outputs": [
    {
     "name": "stderr",
     "output_type": "stream",
     "text": [
      "<ipython-input-9-368a5055c211>:1: DeprecationWarning: find_element_by_* commands are deprecated. Please use find_element() instead\n",
      "  search_location= driver9.find_element_by_xpath('//*[@id=\"filters-row\"]/div/div/div[2]/div[2]/div/div[2]/input')\n"
     ]
    }
   ],
   "source": [
    "search_location= driver9.find_element_by_xpath('//*[@id=\"filters-row\"]/div/div/div[2]/div[2]/div/div[2]/input')\n",
    "search_location.send_keys(\"Noida\")"
   ]
  },
  {
   "cell_type": "code",
   "execution_count": 10,
   "id": "3e5e49b8",
   "metadata": {},
   "outputs": [
    {
     "name": "stderr",
     "output_type": "stream",
     "text": [
      "<ipython-input-10-fcddef60e4eb>:1: DeprecationWarning: find_element_by_* commands are deprecated. Please use find_element() instead\n",
      "  noida_location= driver9.find_element_by_xpath('//*[@id=\"filters-row\"]/div/div/div[2]/div[2]/div/div[3]/div/div/div[1]/label')\n"
     ]
    }
   ],
   "source": [
    "noida_location= driver9.find_element_by_xpath('//*[@id=\"filters-row\"]/div/div/div[2]/div[2]/div/div[3]/div/div/div[1]/label')\n",
    "noida_location.click()"
   ]
  },
  {
   "cell_type": "code",
   "execution_count": 11,
   "id": "53caf233",
   "metadata": {},
   "outputs": [],
   "source": [
    "company_name=[]\n",
    "time=[]\n",
    "rating=[]"
   ]
  },
  {
   "cell_type": "code",
   "execution_count": 12,
   "id": "c6a8f6c2",
   "metadata": {},
   "outputs": [
    {
     "name": "stderr",
     "output_type": "stream",
     "text": [
      "<ipython-input-12-a331bd458da0>:1: DeprecationWarning: find_elements_by_* commands are deprecated. Please use find_elements() instead\n",
      "  company = driver9.find_elements_by_xpath('//div[@class=\"company-info\"]')\n"
     ]
    },
    {
     "data": {
      "text/plain": [
       "['Optum Global Solutions (India) Private Limited\\n · \\n4.1\\nbased on 1.4k Reviews',\n",
       " 'Optum Global Solutions (India) Private Limited\\n4.1\\n(1.4k Reviews)',\n",
       " 'Steria India Ltd\\n4.1\\n(829 Reviews)']"
      ]
     },
     "execution_count": 12,
     "metadata": {},
     "output_type": "execute_result"
    }
   ],
   "source": [
    "company = driver9.find_elements_by_xpath('//div[@class=\"company-info\"]')\n",
    "for i in company:\n",
    "    company_name.append(i.text)\n",
    "company_name[0:3]"
   ]
  },
  {
   "cell_type": "code",
   "execution_count": 14,
   "id": "8bbf5bf6",
   "metadata": {},
   "outputs": [
    {
     "name": "stderr",
     "output_type": "stream",
     "text": [
      "<ipython-input-14-867241819465>:1: DeprecationWarning: find_elements_by_* commands are deprecated. Please use find_elements() instead\n",
      "  timing= driver9.find_elements_by_xpath('//span[@class=\"body-small-l\"]')\n"
     ]
    },
    {
     "data": {
      "text/plain": [
       "['8d ago', 'via naukri.com', '15hr ago']"
      ]
     },
     "execution_count": 14,
     "metadata": {},
     "output_type": "execute_result"
    }
   ],
   "source": [
    "timing= driver9.find_elements_by_xpath('//span[@class=\"body-small-l\"]')\n",
    "for i in timing:\n",
    "    time.append(i.text)\n",
    "time[0:3]"
   ]
  },
  {
   "cell_type": "code",
   "execution_count": 15,
   "id": "cc0eebd7",
   "metadata": {},
   "outputs": [
    {
     "name": "stderr",
     "output_type": "stream",
     "text": [
      "<ipython-input-15-4ee3558c55b8>:1: DeprecationWarning: find_elements_by_* commands are deprecated. Please use find_elements() instead\n",
      "  rate= driver9.find_elements_by_xpath('//span[@class=\"body-small\"]')\n"
     ]
    },
    {
     "data": {
      "text/plain": [
       "['4.1', '4.1', '4.1']"
      ]
     },
     "execution_count": 15,
     "metadata": {},
     "output_type": "execute_result"
    }
   ],
   "source": [
    "rate= driver9.find_elements_by_xpath('//span[@class=\"body-small\"]')\n",
    "for i in rate:\n",
    "    rating.append(i.text)\n",
    "rating[0:3]   "
   ]
  },
  {
   "cell_type": "code",
   "execution_count": 16,
   "id": "4bc26ae6",
   "metadata": {},
   "outputs": [
    {
     "data": {
      "text/html": [
       "<div>\n",
       "<style scoped>\n",
       "    .dataframe tbody tr th:only-of-type {\n",
       "        vertical-align: middle;\n",
       "    }\n",
       "\n",
       "    .dataframe tbody tr th {\n",
       "        vertical-align: top;\n",
       "    }\n",
       "\n",
       "    .dataframe thead th {\n",
       "        text-align: right;\n",
       "    }\n",
       "</style>\n",
       "<table border=\"1\" class=\"dataframe\">\n",
       "  <thead>\n",
       "    <tr style=\"text-align: right;\">\n",
       "      <th></th>\n",
       "      <th>Comany_name</th>\n",
       "      <th>Posted_Before</th>\n",
       "      <th>Rating</th>\n",
       "    </tr>\n",
       "  </thead>\n",
       "  <tbody>\n",
       "    <tr>\n",
       "      <th>0</th>\n",
       "      <td>Optum Global Solutions (India) Private Limited...</td>\n",
       "      <td>8d ago</td>\n",
       "      <td>4.1</td>\n",
       "    </tr>\n",
       "    <tr>\n",
       "      <th>1</th>\n",
       "      <td>Optum Global Solutions (India) Private Limited...</td>\n",
       "      <td>via naukri.com</td>\n",
       "      <td>4.1</td>\n",
       "    </tr>\n",
       "    <tr>\n",
       "      <th>2</th>\n",
       "      <td>Steria India Ltd\\n4.1\\n(829 Reviews)</td>\n",
       "      <td>15hr ago</td>\n",
       "      <td>4.1</td>\n",
       "    </tr>\n",
       "    <tr>\n",
       "      <th>3</th>\n",
       "      <td>Ameriprise Financial\\n4.1\\n(250 Reviews)</td>\n",
       "      <td>via naukri.com</td>\n",
       "      <td>4.1</td>\n",
       "    </tr>\n",
       "    <tr>\n",
       "      <th>4</th>\n",
       "      <td>Optum Global Solutions (India) Private Limited...</td>\n",
       "      <td>3d ago</td>\n",
       "      <td>4.1</td>\n",
       "    </tr>\n",
       "    <tr>\n",
       "      <th>5</th>\n",
       "      <td>Steria India Ltd\\n4.1\\n(829 Reviews)</td>\n",
       "      <td>via naukri.com</td>\n",
       "      <td>4.1</td>\n",
       "    </tr>\n",
       "    <tr>\n",
       "      <th>6</th>\n",
       "      <td>Steria India Ltd\\n4.1\\n(829 Reviews)</td>\n",
       "      <td>29d ago</td>\n",
       "      <td>3.8</td>\n",
       "    </tr>\n",
       "    <tr>\n",
       "      <th>7</th>\n",
       "      <td>HCL Technologies Limited\\n3.8\\n(13.2k Reviews)</td>\n",
       "      <td>via naukri.com</td>\n",
       "      <td>4.2</td>\n",
       "    </tr>\n",
       "    <tr>\n",
       "      <th>8</th>\n",
       "      <td>Zyoin\\n4.2\\n(61 Reviews)</td>\n",
       "      <td>20d ago</td>\n",
       "      <td>3.9</td>\n",
       "    </tr>\n",
       "    <tr>\n",
       "      <th>9</th>\n",
       "      <td>GI Group\\n3.9\\n(68 Reviews)</td>\n",
       "      <td>via naukri.com</td>\n",
       "      <td>3.9</td>\n",
       "    </tr>\n",
       "  </tbody>\n",
       "</table>\n",
       "</div>"
      ],
      "text/plain": [
       "                                         Comany_name   Posted_Before Rating\n",
       "0  Optum Global Solutions (India) Private Limited...          8d ago    4.1\n",
       "1  Optum Global Solutions (India) Private Limited...  via naukri.com    4.1\n",
       "2               Steria India Ltd\\n4.1\\n(829 Reviews)        15hr ago    4.1\n",
       "3           Ameriprise Financial\\n4.1\\n(250 Reviews)  via naukri.com    4.1\n",
       "4  Optum Global Solutions (India) Private Limited...          3d ago    4.1\n",
       "5               Steria India Ltd\\n4.1\\n(829 Reviews)  via naukri.com    4.1\n",
       "6               Steria India Ltd\\n4.1\\n(829 Reviews)         29d ago    3.8\n",
       "7     HCL Technologies Limited\\n3.8\\n(13.2k Reviews)  via naukri.com    4.2\n",
       "8                           Zyoin\\n4.2\\n(61 Reviews)         20d ago    3.9\n",
       "9                        GI Group\\n3.9\\n(68 Reviews)  via naukri.com    3.9"
      ]
     },
     "execution_count": 16,
     "metadata": {},
     "output_type": "execute_result"
    }
   ],
   "source": [
    "ambitionbox_data=pd.DataFrame({})\n",
    "ambitionbox_data[\"Comany_name\"]=company_name[0:10]\n",
    "ambitionbox_data[\"Posted_Before\"]=time[0:10]\n",
    "ambitionbox_data[\"Rating\"]=rating[0:10]\n",
    "ambitionbox_data"
   ]
  },
  {
   "cell_type": "code",
   "execution_count": null,
   "id": "9941acea",
   "metadata": {},
   "outputs": [],
   "source": []
  },
  {
   "cell_type": "markdown",
   "id": "8b4c51fa",
   "metadata": {},
   "source": [
    "# Q10: Write a python program to scrape the salary data for Data Scientist designation. You have to scrape Company name, Number of salaries, Average salary, Min salary, Max Salary."
   ]
  },
  {
   "cell_type": "markdown",
   "id": "09aebfdf",
   "metadata": {},
   "source": [
    "1. First get the webpage https://www.ambitionbox.com/\n",
    "2. Click on the salaries option as shown in the image.\n",
    "3. After reaching to the following webpage, In place of “Search Job Profile” enters “Data Scientist” and\n",
    "    then click on “Data Scientist”.\n",
    "4. Scrape the data for the first 10 companies. Scrape the company name, total salary record, average\n",
    "    salary, minimum salary, maximum salary, experience required.\n",
    "5. Store the data in a dataframe"
   ]
  },
  {
   "cell_type": "code",
   "execution_count": 2,
   "id": "69cda676",
   "metadata": {},
   "outputs": [
    {
     "name": "stdout",
     "output_type": "stream",
     "text": [
      "Requirement already satisfied: selenium in c:\\users\\user\\anaconda3\\lib\\site-packages (4.0.0)\n",
      "Requirement already satisfied: urllib3[secure]~=1.26 in c:\\users\\user\\anaconda3\\lib\\site-packages (from selenium) (1.26.4)\n",
      "Requirement already satisfied: trio-websocket~=0.9 in c:\\users\\user\\anaconda3\\lib\\site-packages (from selenium) (0.9.2)\n",
      "Requirement already satisfied: trio~=0.17 in c:\\users\\user\\anaconda3\\lib\\site-packages (from selenium) (0.19.0)\n",
      "Requirement already satisfied: idna in c:\\users\\user\\anaconda3\\lib\\site-packages (from trio~=0.17->selenium) (2.10)\n",
      "Requirement already satisfied: sortedcontainers in c:\\users\\user\\anaconda3\\lib\\site-packages (from trio~=0.17->selenium) (2.3.0)\n",
      "Requirement already satisfied: outcome in c:\\users\\user\\anaconda3\\lib\\site-packages (from trio~=0.17->selenium) (1.1.0)\n",
      "Requirement already satisfied: async-generator>=1.9 in c:\\users\\user\\anaconda3\\lib\\site-packages (from trio~=0.17->selenium) (1.10)\n",
      "Requirement already satisfied: cffi>=1.14 in c:\\users\\user\\anaconda3\\lib\\site-packages (from trio~=0.17->selenium) (1.14.5)\n",
      "Requirement already satisfied: attrs>=19.2.0 in c:\\users\\user\\anaconda3\\lib\\site-packages (from trio~=0.17->selenium) (20.3.0)\n",
      "Requirement already satisfied: sniffio in c:\\users\\user\\anaconda3\\lib\\site-packages (from trio~=0.17->selenium) (1.2.0)\n",
      "Requirement already satisfied: pycparser in c:\\users\\user\\anaconda3\\lib\\site-packages (from cffi>=1.14->trio~=0.17->selenium) (2.20)\n",
      "Requirement already satisfied: wsproto>=0.14 in c:\\users\\user\\anaconda3\\lib\\site-packages (from trio-websocket~=0.9->selenium) (1.0.0)\n",
      "Requirement already satisfied: pyOpenSSL>=0.14 in c:\\users\\user\\anaconda3\\lib\\site-packages (from urllib3[secure]~=1.26->selenium) (20.0.1)\n",
      "Requirement already satisfied: cryptography>=1.3.4 in c:\\users\\user\\anaconda3\\lib\\site-packages (from urllib3[secure]~=1.26->selenium) (3.4.7)\n",
      "Requirement already satisfied: certifi in c:\\users\\user\\anaconda3\\lib\\site-packages (from urllib3[secure]~=1.26->selenium) (2020.12.5)\n",
      "Requirement already satisfied: six>=1.5.2 in c:\\users\\user\\anaconda3\\lib\\site-packages (from pyOpenSSL>=0.14->urllib3[secure]~=1.26->selenium) (1.15.0)\n",
      "Requirement already satisfied: h11<1,>=0.9.0 in c:\\users\\user\\anaconda3\\lib\\site-packages (from wsproto>=0.14->trio-websocket~=0.9->selenium) (0.12.0)\n"
     ]
    }
   ],
   "source": [
    "!pip install selenium"
   ]
  },
  {
   "cell_type": "code",
   "execution_count": 3,
   "id": "2a591c25",
   "metadata": {},
   "outputs": [],
   "source": [
    "import selenium\n",
    "from selenium import webdriver\n",
    "import pandas as pd\n",
    "from selenium.webdriver.common.keys import Keys"
   ]
  },
  {
   "cell_type": "code",
   "execution_count": 3,
   "id": "7aa063dd",
   "metadata": {},
   "outputs": [],
   "source": [
    "#import selenium\n",
    "\n",
    "#from selenium import webdriver\n",
    "#PATH = 'C:\\Program Files (x86)\\chromedriver.exe' #extracting path of the webdriver\n",
    "#driver10 = webdriver.Chrome(PATH)\n",
    "\n",
    "#from selenium.webdriver.common.keys import Keys"
   ]
  },
  {
   "cell_type": "code",
   "execution_count": 4,
   "id": "cb618629",
   "metadata": {},
   "outputs": [
    {
     "name": "stderr",
     "output_type": "stream",
     "text": [
      "<ipython-input-4-09d6e2267edb>:1: DeprecationWarning: executable_path has been deprecated, please pass in a Service object\n",
      "  driver10= webdriver.Chrome(r\"D:/chromedriver_win32/chromedriver.exe\")\n"
     ]
    }
   ],
   "source": [
    "driver10= webdriver.Chrome(r\"D:/chromedriver_win32/chromedriver.exe\")"
   ]
  },
  {
   "cell_type": "code",
   "execution_count": 5,
   "id": "911e7eb9",
   "metadata": {
    "scrolled": true
   },
   "outputs": [],
   "source": [
    "driver10.get(\"https://www.ambitionbox.com/\")"
   ]
  },
  {
   "cell_type": "code",
   "execution_count": 6,
   "id": "f1c15756",
   "metadata": {},
   "outputs": [
    {
     "name": "stderr",
     "output_type": "stream",
     "text": [
      "<ipython-input-6-dc2887ed7ca5>:1: DeprecationWarning: find_element_by_* commands are deprecated. Please use find_element() instead\n",
      "  salaries_tab = driver10.find_element_by_xpath('//*[@id=\"headerWrapper\"]/nav/nav/a[4]')\n"
     ]
    }
   ],
   "source": [
    "salaries_tab = driver10.find_element_by_xpath('//*[@id=\"headerWrapper\"]/nav/nav/a[4]')\n",
    "salaries_tab.click()"
   ]
  },
  {
   "cell_type": "code",
   "execution_count": 7,
   "id": "a5496a62",
   "metadata": {},
   "outputs": [
    {
     "name": "stderr",
     "output_type": "stream",
     "text": [
      "<ipython-input-7-7245f58097fc>:1: DeprecationWarning: find_element_by_* commands are deprecated. Please use find_element() instead\n",
      "  search_job_profile = driver10.find_element_by_xpath('//*[@id=\"jobProfileSearchbox\"]')\n"
     ]
    }
   ],
   "source": [
    "search_job_profile = driver10.find_element_by_xpath('//*[@id=\"jobProfileSearchbox\"]')\n",
    "search_job_profile.send_keys(\"Data Scientist\")"
   ]
  },
  {
   "cell_type": "code",
   "execution_count": 8,
   "id": "8ebeaf7a",
   "metadata": {},
   "outputs": [
    {
     "name": "stderr",
     "output_type": "stream",
     "text": [
      "<ipython-input-8-aca63bd71286>:1: DeprecationWarning: find_element_by_* commands are deprecated. Please use find_element() instead\n",
      "  search_datascientist= driver10.find_element_by_xpath('/html/body/div/div/div/main/section[1]/div[2]/div[1]/span/div/div/div[1]')\n"
     ]
    }
   ],
   "source": [
    "search_datascientist= driver10.find_element_by_xpath('/html/body/div/div/div/main/section[1]/div[2]/div[1]/span/div/div/div[1]')\n",
    "search_datascientist.click()"
   ]
  },
  {
   "cell_type": "code",
   "execution_count": 9,
   "id": "476d5d0d",
   "metadata": {},
   "outputs": [],
   "source": [
    "company_name=[]\n",
    "salary=[]\n",
    "avg_salary=[]\n",
    "min_salary=[]\n",
    "max_salary=[]\n",
    "exp_required=[]"
   ]
  },
  {
   "cell_type": "code",
   "execution_count": 10,
   "id": "6863cd07",
   "metadata": {},
   "outputs": [
    {
     "name": "stderr",
     "output_type": "stream",
     "text": [
      "<ipython-input-10-cbc51d700c04>:1: DeprecationWarning: find_elements_by_* commands are deprecated. Please use find_elements() instead\n",
      "  company= driver10.find_elements_by_xpath('//div[@class=\"name\"]/a')\n"
     ]
    },
    {
     "data": {
      "text/plain": [
       "['Ab Inbev',\n",
       " 'Optum',\n",
       " 'Fractal Analytics',\n",
       " 'Tiger Analytics',\n",
       " 'UnitedHealth',\n",
       " 'Verizon',\n",
       " 'Ganit Business Solutions',\n",
       " 'Deloitte',\n",
       " 'Ernst & Young',\n",
       " 'Ericsson']"
      ]
     },
     "execution_count": 10,
     "metadata": {},
     "output_type": "execute_result"
    }
   ],
   "source": [
    "company= driver10.find_elements_by_xpath('//div[@class=\"name\"]/a')\n",
    "for i in company:\n",
    "    company_name.append(i.text)\n",
    "    \n",
    "company_name\n"
   ]
  },
  {
   "cell_type": "code",
   "execution_count": 11,
   "id": "692f9ccc",
   "metadata": {},
   "outputs": [
    {
     "name": "stderr",
     "output_type": "stream",
     "text": [
      "<ipython-input-11-a3b176c191c3>:1: DeprecationWarning: find_elements_by_* commands are deprecated. Please use find_elements() instead\n",
      "  salaries= driver10.find_elements_by_xpath('//div[@class=\"name\"]/span')\n"
     ]
    },
    {
     "data": {
      "text/plain": [
       "['based on 10 salaries',\n",
       " 'based on 22 salaries',\n",
       " 'based on 60 salaries',\n",
       " 'based on 24 salaries',\n",
       " 'based on 45 salaries',\n",
       " 'based on 14 salaries',\n",
       " 'based on 12 salaries',\n",
       " 'based on 45 salaries',\n",
       " 'based on 26 salaries',\n",
       " 'based on 43 salaries']"
      ]
     },
     "execution_count": 11,
     "metadata": {},
     "output_type": "execute_result"
    }
   ],
   "source": [
    "salaries= driver10.find_elements_by_xpath('//div[@class=\"name\"]/span')\n",
    "for i in salaries:\n",
    "    salary.append(i.text)\n",
    "salary"
   ]
  },
  {
   "cell_type": "code",
   "execution_count": 12,
   "id": "a7ea1206",
   "metadata": {},
   "outputs": [
    {
     "name": "stderr",
     "output_type": "stream",
     "text": [
      "<ipython-input-12-7338fd0c5e81>:1: DeprecationWarning: find_elements_by_* commands are deprecated. Please use find_elements() instead\n",
      "  avg= driver10.find_elements_by_xpath('//div[@class=\"average-indicator-wrapper\"]')\n"
     ]
    },
    {
     "data": {
      "text/plain": [
       "['₹ 19.4L',\n",
       " '₹ 15.1L',\n",
       " '₹ 14.7L',\n",
       " '₹ 13.4L',\n",
       " '₹ 13.3L',\n",
       " '₹ 12.7L',\n",
       " '₹ 12.4L',\n",
       " '₹ 11.2L',\n",
       " '₹ 11.1L',\n",
       " '₹ 10.9L']"
      ]
     },
     "execution_count": 12,
     "metadata": {},
     "output_type": "execute_result"
    }
   ],
   "source": [
    "avg= driver10.find_elements_by_xpath('//div[@class=\"average-indicator-wrapper\"]')\n",
    "for i in avg:\n",
    "    avg_salary.append(i.text)\n",
    "avg_salary[0:10]"
   ]
  },
  {
   "cell_type": "code",
   "execution_count": 13,
   "id": "4f3c3f40",
   "metadata": {},
   "outputs": [
    {
     "name": "stderr",
     "output_type": "stream",
     "text": [
      "<ipython-input-13-fbad164c9823>:1: DeprecationWarning: find_elements_by_* commands are deprecated. Please use find_elements() instead\n",
      "  min= driver10.find_elements_by_xpath('//div[@class=\"value body-medium\"]')\n"
     ]
    },
    {
     "data": {
      "text/plain": [
       "['₹ 15.0L',\n",
       " '₹ 11.0L',\n",
       " '₹ 9.0L',\n",
       " '₹ 8.3L',\n",
       " '₹ 7.2L',\n",
       " '₹ 10.0L',\n",
       " '₹ 8.5L',\n",
       " '₹ 6.9L',\n",
       " '₹ 6.0L',\n",
       " '₹ 5.0L']"
      ]
     },
     "execution_count": 13,
     "metadata": {},
     "output_type": "execute_result"
    }
   ],
   "source": [
    "min= driver10.find_elements_by_xpath('//div[@class=\"value body-medium\"]')\n",
    "for i in range(0,len(min),2):\n",
    "    min_salary.append(min[i].text)\n",
    "min_salary[0:10]"
   ]
  },
  {
   "cell_type": "code",
   "execution_count": 14,
   "id": "eec4b2ac",
   "metadata": {},
   "outputs": [
    {
     "name": "stderr",
     "output_type": "stream",
     "text": [
      "<ipython-input-14-6c59197f7013>:1: DeprecationWarning: find_elements_by_* commands are deprecated. Please use find_elements() instead\n",
      "  max= driver10.find_elements_by_xpath('//div[@class=\"value body-medium\"]')\n"
     ]
    },
    {
     "data": {
      "text/plain": [
       "['₹ 23.0L',\n",
       " '₹ 21.3L',\n",
       " '₹ 20.8L',\n",
       " '₹ 18.5L',\n",
       " '₹ 20.5L',\n",
       " '₹ 21.0L',\n",
       " '₹ 15.0L',\n",
       " '₹ 20.5L',\n",
       " '₹ 20.0L',\n",
       " '₹ 21.5L']"
      ]
     },
     "execution_count": 14,
     "metadata": {},
     "output_type": "execute_result"
    }
   ],
   "source": [
    "max= driver10.find_elements_by_xpath('//div[@class=\"value body-medium\"]')\n",
    "for i in range(1,len(max),2):\n",
    "    max_salary.append(max[i].text)\n",
    "max_salary[0:10]"
   ]
  },
  {
   "cell_type": "code",
   "execution_count": 15,
   "id": "5ae9d307",
   "metadata": {},
   "outputs": [
    {
     "name": "stderr",
     "output_type": "stream",
     "text": [
      "<ipython-input-15-a63476d72135>:1: DeprecationWarning: find_elements_by_* commands are deprecated. Please use find_elements() instead\n",
      "  exp= driver10.find_elements_by_xpath('//div[@class=\"salaries sbold-list-header\"]')\n"
     ]
    },
    {
     "data": {
      "text/plain": [
       "['Data Scientist . 4 yrs exp',\n",
       " 'Data Scientist . 3-4 yrs exp',\n",
       " 'Data Scientist . 2-4 yrs exp',\n",
       " 'Data Scientist . 3-4 yrs exp',\n",
       " 'Data Scientist . 2-4 yrs exp',\n",
       " 'Data Scientist . 4 yrs exp',\n",
       " 'Data Scientist . 4 yrs exp',\n",
       " 'Data Scientist . 2-4 yrs exp',\n",
       " 'Data Scientist . 3-4 yrs exp',\n",
       " 'Data Scientist . 3-4 yrs exp']"
      ]
     },
     "execution_count": 15,
     "metadata": {},
     "output_type": "execute_result"
    }
   ],
   "source": [
    "exp= driver10.find_elements_by_xpath('//div[@class=\"salaries sbold-list-header\"]')\n",
    "for i in exp:\n",
    "    exp_required.append(i.text.replace(\"\\n\",\"\"))\n",
    "exp_required[0:10]"
   ]
  },
  {
   "cell_type": "code",
   "execution_count": 16,
   "id": "d52fb0f1",
   "metadata": {},
   "outputs": [
    {
     "name": "stdout",
     "output_type": "stream",
     "text": [
      "10 10 10 10 10\n"
     ]
    }
   ],
   "source": [
    "print(len(company_name),len(avg_salary),len(min_salary),len(max_salary),len(exp_required))"
   ]
  },
  {
   "cell_type": "code",
   "execution_count": 17,
   "id": "eb1336e6",
   "metadata": {},
   "outputs": [],
   "source": [
    "ambitionbox_dataset=pd.DataFrame({})\n",
    "ambitionbox_dataset[\"Company_Name\"]=company_name[0:10]\n",
    "ambitionbox_dataset[\"Total_Salary\"]=salary[0:10]\n",
    "ambitionbox_dataset[\"Avg_Salary\"]=avg_salary[0:10]\n",
    "ambitionbox_dataset[\"Min_Salary\"]=min_salary[0:10]\n",
    "ambitionbox_dataset[\"Max_Salary\"]=max_salary[0:10]\n",
    "ambitionbox_dataset[\"Total_Experience\"]=exp_required[0:10]"
   ]
  },
  {
   "cell_type": "code",
   "execution_count": 18,
   "id": "8831e1e5",
   "metadata": {},
   "outputs": [
    {
     "data": {
      "text/html": [
       "<div>\n",
       "<style scoped>\n",
       "    .dataframe tbody tr th:only-of-type {\n",
       "        vertical-align: middle;\n",
       "    }\n",
       "\n",
       "    .dataframe tbody tr th {\n",
       "        vertical-align: top;\n",
       "    }\n",
       "\n",
       "    .dataframe thead th {\n",
       "        text-align: right;\n",
       "    }\n",
       "</style>\n",
       "<table border=\"1\" class=\"dataframe\">\n",
       "  <thead>\n",
       "    <tr style=\"text-align: right;\">\n",
       "      <th></th>\n",
       "      <th>Company_Name</th>\n",
       "      <th>Total_Salary</th>\n",
       "      <th>Avg_Salary</th>\n",
       "      <th>Min_Salary</th>\n",
       "      <th>Max_Salary</th>\n",
       "      <th>Total_Experience</th>\n",
       "    </tr>\n",
       "  </thead>\n",
       "  <tbody>\n",
       "    <tr>\n",
       "      <th>0</th>\n",
       "      <td>Ab Inbev</td>\n",
       "      <td>based on 10 salaries</td>\n",
       "      <td>₹ 19.4L</td>\n",
       "      <td>₹ 15.0L</td>\n",
       "      <td>₹ 23.0L</td>\n",
       "      <td>Data Scientist . 4 yrs exp</td>\n",
       "    </tr>\n",
       "    <tr>\n",
       "      <th>1</th>\n",
       "      <td>Optum</td>\n",
       "      <td>based on 22 salaries</td>\n",
       "      <td>₹ 15.1L</td>\n",
       "      <td>₹ 11.0L</td>\n",
       "      <td>₹ 21.3L</td>\n",
       "      <td>Data Scientist . 3-4 yrs exp</td>\n",
       "    </tr>\n",
       "    <tr>\n",
       "      <th>2</th>\n",
       "      <td>Fractal Analytics</td>\n",
       "      <td>based on 60 salaries</td>\n",
       "      <td>₹ 14.7L</td>\n",
       "      <td>₹ 9.0L</td>\n",
       "      <td>₹ 20.8L</td>\n",
       "      <td>Data Scientist . 2-4 yrs exp</td>\n",
       "    </tr>\n",
       "    <tr>\n",
       "      <th>3</th>\n",
       "      <td>Tiger Analytics</td>\n",
       "      <td>based on 24 salaries</td>\n",
       "      <td>₹ 13.4L</td>\n",
       "      <td>₹ 8.3L</td>\n",
       "      <td>₹ 18.5L</td>\n",
       "      <td>Data Scientist . 3-4 yrs exp</td>\n",
       "    </tr>\n",
       "    <tr>\n",
       "      <th>4</th>\n",
       "      <td>UnitedHealth</td>\n",
       "      <td>based on 45 salaries</td>\n",
       "      <td>₹ 13.3L</td>\n",
       "      <td>₹ 7.2L</td>\n",
       "      <td>₹ 20.5L</td>\n",
       "      <td>Data Scientist . 2-4 yrs exp</td>\n",
       "    </tr>\n",
       "    <tr>\n",
       "      <th>5</th>\n",
       "      <td>Verizon</td>\n",
       "      <td>based on 14 salaries</td>\n",
       "      <td>₹ 12.7L</td>\n",
       "      <td>₹ 10.0L</td>\n",
       "      <td>₹ 21.0L</td>\n",
       "      <td>Data Scientist . 4 yrs exp</td>\n",
       "    </tr>\n",
       "    <tr>\n",
       "      <th>6</th>\n",
       "      <td>Ganit Business Solutions</td>\n",
       "      <td>based on 12 salaries</td>\n",
       "      <td>₹ 12.4L</td>\n",
       "      <td>₹ 8.5L</td>\n",
       "      <td>₹ 15.0L</td>\n",
       "      <td>Data Scientist . 4 yrs exp</td>\n",
       "    </tr>\n",
       "    <tr>\n",
       "      <th>7</th>\n",
       "      <td>Deloitte</td>\n",
       "      <td>based on 45 salaries</td>\n",
       "      <td>₹ 11.2L</td>\n",
       "      <td>₹ 6.9L</td>\n",
       "      <td>₹ 20.5L</td>\n",
       "      <td>Data Scientist . 2-4 yrs exp</td>\n",
       "    </tr>\n",
       "    <tr>\n",
       "      <th>8</th>\n",
       "      <td>Ernst &amp; Young</td>\n",
       "      <td>based on 26 salaries</td>\n",
       "      <td>₹ 11.1L</td>\n",
       "      <td>₹ 6.0L</td>\n",
       "      <td>₹ 20.0L</td>\n",
       "      <td>Data Scientist . 3-4 yrs exp</td>\n",
       "    </tr>\n",
       "    <tr>\n",
       "      <th>9</th>\n",
       "      <td>Ericsson</td>\n",
       "      <td>based on 43 salaries</td>\n",
       "      <td>₹ 10.9L</td>\n",
       "      <td>₹ 5.0L</td>\n",
       "      <td>₹ 21.5L</td>\n",
       "      <td>Data Scientist . 3-4 yrs exp</td>\n",
       "    </tr>\n",
       "  </tbody>\n",
       "</table>\n",
       "</div>"
      ],
      "text/plain": [
       "               Company_Name          Total_Salary Avg_Salary Min_Salary  \\\n",
       "0                  Ab Inbev  based on 10 salaries    ₹ 19.4L    ₹ 15.0L   \n",
       "1                     Optum  based on 22 salaries    ₹ 15.1L    ₹ 11.0L   \n",
       "2         Fractal Analytics  based on 60 salaries    ₹ 14.7L     ₹ 9.0L   \n",
       "3           Tiger Analytics  based on 24 salaries    ₹ 13.4L     ₹ 8.3L   \n",
       "4              UnitedHealth  based on 45 salaries    ₹ 13.3L     ₹ 7.2L   \n",
       "5                   Verizon  based on 14 salaries    ₹ 12.7L    ₹ 10.0L   \n",
       "6  Ganit Business Solutions  based on 12 salaries    ₹ 12.4L     ₹ 8.5L   \n",
       "7                  Deloitte  based on 45 salaries    ₹ 11.2L     ₹ 6.9L   \n",
       "8             Ernst & Young  based on 26 salaries    ₹ 11.1L     ₹ 6.0L   \n",
       "9                  Ericsson  based on 43 salaries    ₹ 10.9L     ₹ 5.0L   \n",
       "\n",
       "  Max_Salary              Total_Experience  \n",
       "0    ₹ 23.0L    Data Scientist . 4 yrs exp  \n",
       "1    ₹ 21.3L  Data Scientist . 3-4 yrs exp  \n",
       "2    ₹ 20.8L  Data Scientist . 2-4 yrs exp  \n",
       "3    ₹ 18.5L  Data Scientist . 3-4 yrs exp  \n",
       "4    ₹ 20.5L  Data Scientist . 2-4 yrs exp  \n",
       "5    ₹ 21.0L    Data Scientist . 4 yrs exp  \n",
       "6    ₹ 15.0L    Data Scientist . 4 yrs exp  \n",
       "7    ₹ 20.5L  Data Scientist . 2-4 yrs exp  \n",
       "8    ₹ 20.0L  Data Scientist . 3-4 yrs exp  \n",
       "9    ₹ 21.5L  Data Scientist . 3-4 yrs exp  "
      ]
     },
     "execution_count": 18,
     "metadata": {},
     "output_type": "execute_result"
    }
   ],
   "source": [
    "ambitionbox_dataset"
   ]
  },
  {
   "cell_type": "code",
   "execution_count": null,
   "id": "bb6817d0",
   "metadata": {},
   "outputs": [],
   "source": []
  }
 ],
 "metadata": {
  "kernelspec": {
   "display_name": "Python 3",
   "language": "python",
   "name": "python3"
  },
  "language_info": {
   "codemirror_mode": {
    "name": "ipython",
    "version": 3
   },
   "file_extension": ".py",
   "mimetype": "text/x-python",
   "name": "python",
   "nbconvert_exporter": "python",
   "pygments_lexer": "ipython3",
   "version": "3.8.8"
  }
 },
 "nbformat": 4,
 "nbformat_minor": 5
}
