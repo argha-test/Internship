{
 "cells": [
  {
   "cell_type": "markdown",
   "id": "5479327a",
   "metadata": {},
   "source": [
    "# Worksheet_Set_1"
   ]
  },
  {
   "cell_type": "markdown",
   "id": "50396593",
   "metadata": {},
   "source": [
    "11. Write a python program to find the factorial of a number"
   ]
  },
  {
   "cell_type": "code",
   "execution_count": 1,
   "id": "d3d4e84c",
   "metadata": {},
   "outputs": [
    {
     "name": "stdout",
     "output_type": "stream",
     "text": [
      "Enter Number: 5\n",
      "The factorial of 5 is 120\n"
     ]
    }
   ],
   "source": [
    "num = int(input(\"Enter Number: \"))    \n",
    "factorial = 1    \n",
    "if num < 0:    \n",
    "   print(\"Negetive number not exist\")    \n",
    "elif num == 0:    \n",
    "   print(\"The factorial of 0 is 1\")    \n",
    "else:    \n",
    "   for i in range(1,num + 1):    \n",
    "       factorial = factorial*i    \n",
    "   print(\"The factorial of\",num,\"is\",factorial)  "
   ]
  },
  {
   "cell_type": "markdown",
   "id": "7df9111c",
   "metadata": {},
   "source": [
    "12. Write a python program to find whether a number is prime or composite."
   ]
  },
  {
   "cell_type": "code",
   "execution_count": 2,
   "id": "956aa7d1",
   "metadata": {},
   "outputs": [
    {
     "name": "stdout",
     "output_type": "stream",
     "text": [
      "Enter The Number: 6\n",
      "6 is a Composite Number\n"
     ]
    }
   ],
   "source": [
    "number = int(input(\"Enter The Number: \"))\n",
    "\n",
    "if number > 1:\n",
    "    for i in range(2,int(number/2)+1):\n",
    "        if (number % i == 0):\n",
    "            print(number, \"is a Composite Number\")\n",
    "            break\n",
    "    else:\n",
    "        print(number,\"is a Prime Number\")   \n",
    "else:\n",
    "    print(number,\"Negative number not a Prime Number\")"
   ]
  },
  {
   "cell_type": "markdown",
   "id": "71df067c",
   "metadata": {},
   "source": [
    "13.Write a python program to check whether a given string is palindrome or not."
   ]
  },
  {
   "cell_type": "code",
   "execution_count": 5,
   "id": "a390f90e",
   "metadata": {},
   "outputs": [
    {
     "name": "stdout",
     "output_type": "stream",
     "text": [
      "Enter a string: sure\n",
      "Not a palindrome\n"
     ]
    }
   ],
   "source": [
    "string=input((\"Enter a string: \"))\n",
    "if(string==string[::-1]):\n",
    "      print(\"The string is a palindrome\")\n",
    "else:\n",
    "      print(\"Not a palindrome\")"
   ]
  },
  {
   "cell_type": "markdown",
   "id": "f835eedd",
   "metadata": {},
   "source": [
    "14.Write a Python program to get the third side of right-angled triangle from two given sides."
   ]
  },
  {
   "cell_type": "code",
   "execution_count": 13,
   "id": "1b3b7cfe",
   "metadata": {},
   "outputs": [
    {
     "name": "stdout",
     "output_type": "stream",
     "text": [
      "Enter first number: 3\n",
      "Enter first number: 4\n",
      "The third side of right-angled triangle is:  5.0\n"
     ]
    }
   ],
   "source": [
    "def findHypotenuse(x,y):\n",
    " \n",
    "    z = (((x * x) + (y * y))**(1/2))\n",
    "    return z\n",
    " \n",
    "hypo=findHypotenuse(int(input(\"Enter first number: \")),int(input(\"Enter first number: \")))\n",
    "print(\"The third side of right-angled triangle is: \",hypo)"
   ]
  },
  {
   "cell_type": "markdown",
   "id": "9bd46c5e",
   "metadata": {},
   "source": [
    "15.Write a python program to print the frequency of each of the characters present in a given string"
   ]
  },
  {
   "cell_type": "code",
   "execution_count": 20,
   "id": "6ec4a8e8",
   "metadata": {},
   "outputs": [
    {
     "name": "stdout",
     "output_type": "stream",
     "text": [
      "count of all character is: Counter({'a': 2, 'p': 2, 'w': 1, 'h': 1, 't': 1, 's': 1})\n"
     ]
    }
   ],
   "source": [
    "from collections import Counter\n",
    "\n",
    "string = \"whatsapp\"\n",
    "count = Counter(string)\n",
    "print(\"count of all character is: \" + str(count))"
   ]
  },
  {
   "cell_type": "code",
   "execution_count": null,
   "id": "da167542",
   "metadata": {},
   "outputs": [],
   "source": []
  }
 ],
 "metadata": {
  "kernelspec": {
   "display_name": "Python 3",
   "language": "python",
   "name": "python3"
  },
  "language_info": {
   "codemirror_mode": {
    "name": "ipython",
    "version": 3
   },
   "file_extension": ".py",
   "mimetype": "text/x-python",
   "name": "python",
   "nbconvert_exporter": "python",
   "pygments_lexer": "ipython3",
   "version": "3.8.8"
  }
 },
 "nbformat": 4,
 "nbformat_minor": 5
}
