{
 "cells": [
  {
   "cell_type": "markdown",
   "id": "3c2f3144",
   "metadata": {},
   "source": [
    "### Rating Prediction Data Scrapping"
   ]
  },
  {
   "cell_type": "code",
   "execution_count": 1,
   "id": "068fa21e",
   "metadata": {},
   "outputs": [],
   "source": [
    "#import all the required libraries\n",
    "import pandas as pd\n",
    "import selenium\n",
    "from selenium import webdriver\n",
    "import time\n",
    "from selenium.webdriver.common.keys import Keys\n",
    "from selenium.webdriver.common.action_chains import ActionChains\n",
    "from selenium.common.exceptions import StaleElementReferenceException, NoSuchElementException, TimeoutException, ElementNotInteractableException, ElementClickInterceptedException\n",
    "from collections import Counter\n",
    "import warnings\n",
    "warnings.filterwarnings('ignore')"
   ]
  },
  {
   "cell_type": "code",
   "execution_count": 2,
   "id": "33e42188",
   "metadata": {},
   "outputs": [],
   "source": [
    "#webdriver\n",
    "driver=webdriver.Chrome(r\"D:\\chromedriver\\chromedriver.exe\")\n",
    "time.sleep(3)"
   ]
  },
  {
   "cell_type": "markdown",
   "id": "e0691560",
   "metadata": {},
   "source": [
    "##### Headphones"
   ]
  },
  {
   "cell_type": "code",
   "execution_count": 55,
   "id": "1af96c62",
   "metadata": {},
   "outputs": [],
   "source": [
    "url = \"https://www.nykaa.com/\"\n",
    "driver.get(url)\n",
    "\n",
    "time.sleep(2)\n",
    "\n",
    "search_bar = driver.find_element_by_class_name(\"css-1p0hsio\")    # Locating searc_bar by id\n",
    "search_bar.clear()                                               # clearing search_bar\n",
    "search_bar.send_keys('Headphones')                                   # sending user input to search bar\n",
    "search_bar.submit()"
   ]
  },
  {
   "cell_type": "code",
   "execution_count": 56,
   "id": "994719c8",
   "metadata": {},
   "outputs": [],
   "source": [
    "links1=[]\n",
    "driver.execute_script(\"window.scrollTo(0,document.body.scrollHeight)\")\n",
    "time.sleep(2)\n",
    "try:\n",
    "    for l in driver.find_elements_by_xpath('//div[@class=\"product-list-box card desktop-cart\"]/a'):\n",
    "        links1.append(l.get_attribute('href'))\n",
    "        time.sleep(1)\n",
    "except NoSuchElementException:\n",
    "        links1.append(\"-\")\n",
    "        time.sleep(1)"
   ]
  },
  {
   "cell_type": "raw",
   "id": "2dc7447c",
   "metadata": {},
   "source": [
    "len(links1)"
   ]
  },
  {
   "cell_type": "code",
   "execution_count": 57,
   "id": "becde7e6",
   "metadata": {},
   "outputs": [],
   "source": [
    "url = \"https://www.nykaa.com/\"\n",
    "driver.get(url)\n",
    "\n",
    "time.sleep(2)\n",
    "\n",
    "search_bar = driver.find_element_by_class_name(\"css-1p0hsio\")    # Locating searc_bar by id\n",
    "search_bar.clear()                                               # clearing search_bar\n",
    "search_bar.send_keys('smart watches')                                   # sending user input to search bar\n",
    "search_bar.submit()"
   ]
  },
  {
   "cell_type": "code",
   "execution_count": 58,
   "id": "31a8ceb8",
   "metadata": {},
   "outputs": [],
   "source": [
    "driver.execute_script(\"window.scrollTo(0,document.body.scrollHeight)\")\n",
    "time.sleep(2)\n",
    "try:\n",
    "    for l in driver.find_elements_by_xpath('//div[@class=\"product-list-box card desktop-cart\"]/a'):\n",
    "        links1.append(l.get_attribute('href'))\n",
    "        time.sleep(1)\n",
    "except NoSuchElementException:\n",
    "        links1.append(\"-\")\n",
    "        time.sleep(1)"
   ]
  },
  {
   "cell_type": "raw",
   "id": "540b09c4",
   "metadata": {},
   "source": [
    "len(links1)"
   ]
  },
  {
   "cell_type": "code",
   "execution_count": 59,
   "id": "6ebd5c84",
   "metadata": {},
   "outputs": [],
   "source": [
    "Rating1=[]\n",
    "Review1=[]\n",
    "Review_title1=[]\n",
    "for url in links1:\n",
    "    driver.get(url)\n",
    "    time.sleep(2)\n",
    "    \n",
    "    try:\n",
    "        all_reviews = driver.find_element_by_xpath('//a[@class=\"all-review-btn\"]')\n",
    "        a =all_reviews.get_attribute('href')\n",
    "        driver.get(a)\n",
    "        \n",
    "        dropdown = driver.find_element_by_xpath('//*[@id=\"js-pd-scroll-start\"]/div[1]/div[2]/section/div/div')\n",
    "        negative = driver.find_element_by_xpath('//*[@id=\"js-pd-scroll-start\"]/div[1]/div[2]/section/div/div/span')\n",
    "        action= ActionChains(driver)\n",
    "        action.move_to_element(dropdown).move_to_element(negative).click().perform()\n",
    "        \n",
    "            # Extracting stars\n",
    "        try:\n",
    "            rating = driver.find_elements_by_xpath('//div[@class=\"desc-section\"]/div[1]/div[1]')  \n",
    "            for r in rating:\n",
    "                Rating1.append(r.text)\n",
    "        except NoSuchElementException:\n",
    "            Rating1.append('-')\n",
    "\n",
    "        time.sleep(1)\n",
    "        # Extracting review\n",
    "        try:\n",
    "            review = driver.find_elements_by_xpath('//div[@class=\"review-details\"]/section/p')   \n",
    "            for r in review:\n",
    "                Review1.append(r.text)\n",
    "        except NoSuchElementException:\n",
    "            Review1.append('-')\n",
    "\n",
    "        time.sleep(1)\n",
    "        # Extracting review\n",
    "        try:\n",
    "            review_title = driver.find_elements_by_xpath('//div[@class=\"review-details\"]/section/h4')  \n",
    "            for r in review_title:\n",
    "                Review_title1.append(r.text)\n",
    "        except NoSuchElementException:\n",
    "            Review_title1.append('-')\n",
    "    except TimeoutException:\n",
    "        pass        \n",
    "    except NoSuchElementException:\n",
    "        pass"
   ]
  },
  {
   "cell_type": "code",
   "execution_count": 60,
   "id": "d99e7a60",
   "metadata": {},
   "outputs": [],
   "source": [
    "# dictionary of lists \n",
    "dict = {'Rating': Rating1, 'Review': Review1, 'Review_title': Review_title1} \n",
    "     \n",
    "df = pd.DataFrame(dict)\n",
    "\n",
    "# saving the dataframe\n",
    "df.to_csv('Nykaa.csv')"
   ]
  },
  {
   "cell_type": "code",
   "execution_count": 61,
   "id": "6ed300bd",
   "metadata": {},
   "outputs": [],
   "source": [
    "items=['Headphones', 'Phones', 'smart watches', 'Monitors', 'Home theater', 'Router']\n",
    "links2=[]\n",
    "for i in items:\n",
    "    \n",
    "      # Opening the homepage of snapdeal\n",
    "    url = \"https://www.snapdeal.com/\"\n",
    "    driver.get(url)\n",
    "\n",
    "    time.sleep(2)\n",
    "    \n",
    "    search_bar = driver.find_element_by_xpath('//*[@id=\"inputValEnter\"]')    # Finding the search bar using it's xpath\n",
    "    search_bar.clear()                                             # clearing search_bar\n",
    "    search_bar.send_keys(i)                                   # sending user input to search bar\n",
    "    search_button = driver.find_element_by_xpath('//*[@id=\"sdHeader\"]/div[4]/div[2]/div/div[2]/button')       # Locating search_button by xpath\n",
    "    search_button.click()  \n",
    "    \n",
    "    try:\n",
    "        for l in driver.find_elements_by_xpath('//a[@class=\"dp-widget-link noUdLine hashAdded\"]'):\n",
    "            links2.append(l.get_attribute('href'))\n",
    "            time.sleep(1)\n",
    "    except NoSuchElementException:\n",
    "            links2.append(\"-\")\n",
    "            time.sleep(1)"
   ]
  },
  {
   "cell_type": "raw",
   "id": "468a04b7",
   "metadata": {},
   "source": [
    "len(links2)"
   ]
  },
  {
   "cell_type": "code",
   "execution_count": 62,
   "id": "84a06d83",
   "metadata": {},
   "outputs": [],
   "source": [
    "Rating2=[]\n",
    "Review2=[]\n",
    "Review_title2=[]\n",
    "for url in links2:\n",
    "    driver.get(url)\n",
    "    time.sleep(2)\n",
    "    \n",
    "        # Extracting stars\n",
    "    try:\n",
    "        rating = driver.find_elements_by_xpath('//div[@class=\"user-review\"]//div[@class=\"rating\"]')  \n",
    "        for r in rating:\n",
    "            child= r.find_elements_by_tag_name(\"i\")\n",
    "            Rating2.append(len(child))\n",
    "    except NoSuchElementException:\n",
    "        Rating2.append('-')\n",
    "\n",
    "    time.sleep(1)\n",
    "    # Extracting review\n",
    "    try:\n",
    "        review = driver.find_elements_by_xpath('//div[@class=\"commentreview\"]/div/div[2]/div[2]')   \n",
    "        for r in review:\n",
    "            Review2.append(r.text)\n",
    "    except NoSuchElementException:\n",
    "        Review2.append('-')\n",
    "\n",
    "    time.sleep(1)\n",
    "    # Extracting review\n",
    "    try:\n",
    "        review_title = driver.find_elements_by_xpath('//div[@class=\"commentreview\"]/div/div[2]/div[1]/div[2]')  \n",
    "        for r in review_title:\n",
    "            Review_title2.append(r.text)\n",
    "    except NoSuchElementException:\n",
    "        Review_title2.append('-') "
   ]
  },
  {
   "cell_type": "code",
   "execution_count": 63,
   "id": "d277b052",
   "metadata": {},
   "outputs": [],
   "source": [
    "# dictionary of lists \n",
    "dict2 = {'Rating': Rating2, 'Review': Review2, 'Review_title': Review_title2} \n",
    "     \n",
    "df = pd.DataFrame(dict2)\n",
    "  \n",
    "# saving the dataframe\n",
    "df.to_csv('Snapdeal.csv')"
   ]
  },
  {
   "cell_type": "code",
   "execution_count": 4,
   "id": "fc9e4fee",
   "metadata": {},
   "outputs": [],
   "source": [
    "# Opening the homepage of flipkart\n",
    "url = \"https://www.flipkart.com/\"\n",
    "driver.get(url)\n",
    "\n",
    "try:\n",
    "    login_X_button = driver.find_element_by_xpath('//button[@class=\"_2KpZ6l _2doB4z\"]') # Button to close login popup\n",
    "    login_X_button.click()\n",
    "except NoSuchElementException : \n",
    "    print(\"No Login page\")\n",
    "\n",
    "time.sleep(2)\n",
    "try:\n",
    "    search_bar = driver.find_element_by_xpath('//*[@id=\"container\"]/div/div[1]/div[1]/div[2]/div[2]/form/div/div/input')    # Finding the search bar using it's xpath\n",
    "    search_bar.clear()                                             # clearing search_bar\n",
    "    search_bar.send_keys('laptops')                                   # sending user input to search bar\n",
    "    search_button = driver.find_element_by_xpath('//*[@id=\"container\"]/div/div[1]/div[1]/div[2]/div[2]/form/div/button')       # Locating search_button by xpath\n",
    "    search_button.click()  \n",
    "except NoSuchElementException:\n",
    "    driver.get(url)"
   ]
  },
  {
   "cell_type": "code",
   "execution_count": 5,
   "id": "b6068b4e",
   "metadata": {},
   "outputs": [],
   "source": [
    "links=[]\n",
    "try:\n",
    "    for l in driver.find_elements_by_xpath('//a[@class=\"_1fQZEK\"]'):\n",
    "        links.append(l.get_attribute('href'))\n",
    "        time.sleep(1)\n",
    "except NoSuchElementException:\n",
    "        links.append(\"-\")\n",
    "        time.sleep(1)\n",
    "        \n",
    "for page in range(0,10):\n",
    "        nxt_button=driver.find_elements_by_xpath(\"//a[@class='_1LKTO3']\")#scraping the list of buttons from the page\n",
    "        time.sleep(2)\n",
    "        try:\n",
    "            driver.get(nxt_button[1].get_attribute('href'))#getting the link from the list for next page\n",
    "            time.sleep(2)\n",
    "        except:\n",
    "            driver.get(nxt_button[0].get_attribute('href'))\n",
    "            time.sleep(2)\n",
    "        try:\n",
    "            for l in driver.find_elements_by_xpath('//a[@class=\"_1fQZEK\"]'):\n",
    "                links.append(l.get_attribute('href'))\n",
    "                time.sleep(1)\n",
    "        except NoSuchElementException:\n",
    "                links.append(\"-\")\n",
    "                time.sleep(1)"
   ]
  },
  {
   "cell_type": "code",
   "execution_count": 6,
   "id": "71640eac",
   "metadata": {},
   "outputs": [
    {
     "data": {
      "text/plain": [
       "264"
      ]
     },
     "execution_count": 6,
     "metadata": {},
     "output_type": "execute_result"
    }
   ],
   "source": [
    "len(links)"
   ]
  },
  {
   "cell_type": "code",
   "execution_count": 8,
   "id": "2f9ecc2b",
   "metadata": {},
   "outputs": [],
   "source": [
    "Rating=[]\n",
    "Review=[]\n",
    "Review_title=[]\n",
    "for url in links:\n",
    "    driver.get(url)\n",
    "    time.sleep(2)\n",
    "    try:\n",
    "        \n",
    "        all_reviews = driver.find_element_by_xpath('//div[@class=\"col JOpGWq\"]/a')\n",
    "        a =all_reviews.get_attribute('href')\n",
    "        driver.get(a)\n",
    "        driver.find_element_by_xpath('//*[@id=\"container\"]/div/div[3]/div/div[1]/div[2]/div[1]/div/div[2]/div/div/div/div/select').click()\n",
    "        driver.find_element_by_xpath('//select[@class=\"_1EDlbo tVKh2S\"]/option[@value=\"NEGATIVE_FIRST\"]').click()\n",
    "        driver.get(driver.current_url)\n",
    "        \n",
    "            \n",
    "        # Extracting stars      \n",
    "        try:\n",
    "            rating = driver.find_elements_by_xpath('//div[@class=\"col _2wzgFH K0kLPL\"]/div[1]/div[1]') \n",
    "            for r in rating:\n",
    "                Rating.append(r.text)\n",
    "        except NoSuchElementException:\n",
    "            Rating.append('-')\n",
    "        except StaleElementReferenceException:\n",
    "            Rating.append('-')\n",
    "\n",
    "        time.sleep(1)\n",
    "        # Extracting review\n",
    "        try:\n",
    "            review = driver.find_elements_by_xpath('//div[@class=\"t-ZTKy\"]/div/div') \n",
    "            for r in review:\n",
    "                Review.append(r.text)\n",
    "        except NoSuchElementException:\n",
    "            Review.append('-')\n",
    "        \n",
    "        time.sleep(1)\n",
    "        # Extracting review\n",
    "        try:\n",
    "            review_title = driver.find_elements_by_xpath('//p[@class=\"_2-N8zT\"]')  \n",
    "            for r in review_title:\n",
    "                Review_title.append(r.text)\n",
    "        except NoSuchElementException:\n",
    "            Review_title.append('-')\n",
    "    except TimeoutException:\n",
    "        pass\n",
    "    except NoSuchElementException:\n",
    "        pass"
   ]
  },
  {
   "cell_type": "code",
   "execution_count": 9,
   "id": "b6a17a95",
   "metadata": {},
   "outputs": [
    {
     "name": "stdout",
     "output_type": "stream",
     "text": [
      "No Login page\n"
     ]
    }
   ],
   "source": [
    "# Opening the homepage of flipkart\n",
    "url = \"https://www.flipkart.com/\"\n",
    "driver.get(url)\n",
    "try:\n",
    "    login_X_button = driver.find_element_by_xpath('//button[@class=\"_2KpZ6l _2doB4z\"]') # Button to close login popup\n",
    "    login_X_button.click()\n",
    "except NoSuchElementException : \n",
    "    print(\"No Login page\")\n",
    "\n",
    "time.sleep(2)\n",
    "\n",
    "search_bar = driver.find_element_by_xpath('//*[@id=\"container\"]/div/div[1]/div[1]/div[2]/div[2]/form/div/div/input')    # Finding the search bar using it's xpath\n",
    "search_bar.clear()                                             # clearing search_bar\n",
    "search_bar.send_keys('Headphones')                                   # sending user input to search bar\n",
    "search_button = driver.find_element_by_xpath('//*[@id=\"container\"]/div/div[1]/div[1]/div[2]/div[2]/form/div/button')       # Locating search_button by xpath\n",
    "search_button.click() \n"
   ]
  },
  {
   "cell_type": "code",
   "execution_count": 10,
   "id": "bc135eb6",
   "metadata": {},
   "outputs": [],
   "source": [
    "links=[]\n",
    "try:\n",
    "    for l in driver.find_elements_by_xpath('//a[@class=\"s1Q9rs\"]'):\n",
    "        links.append(l.get_attribute('href'))\n",
    "        time.sleep(1)\n",
    "except NoSuchElementException:\n",
    "        links.append(\"-\")\n",
    "        time.sleep(1)\n",
    "\n",
    "for page in range(0,10):\n",
    "        nxt_button=driver.find_elements_by_xpath(\"//a[@class='_1LKTO3']\")#scraping the list of buttons from the page\n",
    "        try:\n",
    "            driver.get(nxt_button[1].get_attribute('href'))#getting the link from the list for next page\n",
    "        except:\n",
    "            driver.get(nxt_button[0].get_attribute('href'))\n",
    "        try:\n",
    "            for l in driver.find_elements_by_xpath('//a[@class=\"s1Q9rs\"]'):\n",
    "                links.append(l.get_attribute('href'))\n",
    "                time.sleep(1)\n",
    "        except NoSuchElementException:\n",
    "                links.append(\"-\")\n",
    "                time.sleep(1)"
   ]
  },
  {
   "cell_type": "code",
   "execution_count": 11,
   "id": "61ed2a8c",
   "metadata": {},
   "outputs": [
    {
     "data": {
      "text/plain": [
       "440"
      ]
     },
     "execution_count": 11,
     "metadata": {},
     "output_type": "execute_result"
    }
   ],
   "source": [
    "len(links)"
   ]
  },
  {
   "cell_type": "code",
   "execution_count": 12,
   "id": "33e404ba",
   "metadata": {},
   "outputs": [],
   "source": [
    "for url in links:\n",
    "    driver.get(url)\n",
    "    time.sleep(2)\n",
    "    try:\n",
    "        \n",
    "        all_reviews = driver.find_element_by_xpath('//div[@class=\"col JOpGWq\"]/a')\n",
    "        a =all_reviews.get_attribute('href')\n",
    "        driver.get(a)\n",
    "        #action= ActionChains(driver)\n",
    "        driver.find_element_by_xpath('//*[@id=\"container\"]/div/div[3]/div/div[1]/div[2]/div[1]/div/div[2]/div/div/div/div/select').click()\n",
    "        driver.find_element_by_xpath('//select[@class=\"_1EDlbo tVKh2S\"]/option[@value=\"MOST_RECENT\"]').click()\n",
    "        driver.get(driver.current_url)\n",
    "        \n",
    "            \n",
    "        # Extracting stars      \n",
    "        try:\n",
    "            rating = driver.find_elements_by_xpath('//div[@class=\"col _2wzgFH K0kLPL\"]/div[1]/div[1]') \n",
    "            for r in rating:\n",
    "                Rating.append(r.text)\n",
    "        except NoSuchElementException:\n",
    "            Rating.append('-')\n",
    "        except StaleElementReferenceException:\n",
    "            Rating.append('-')\n",
    "\n",
    "        time.sleep(1)\n",
    "        # Extracting review\n",
    "        try:\n",
    "            review = driver.find_elements_by_xpath('//div[@class=\"t-ZTKy\"]/div/div') \n",
    "            for r in review:\n",
    "                Review.append(r.text)\n",
    "        except NoSuchElementException:\n",
    "            Review.append('-')\n",
    "        \n",
    "        time.sleep(1)\n",
    "        # Extracting review\n",
    "        try:\n",
    "            review_title = driver.find_elements_by_xpath('//p[@class=\"_2-N8zT\"]')  \n",
    "            for r in review_title:\n",
    "                Review_title.append(r.text)\n",
    "        except NoSuchElementException:\n",
    "            Review_title.append('-')\n",
    "    except TimeoutException:\n",
    "        pass\n",
    "    except NoSuchElementException:\n",
    "        pass"
   ]
  },
  {
   "cell_type": "code",
   "execution_count": 13,
   "id": "bbce5ddc",
   "metadata": {},
   "outputs": [
    {
     "name": "stdout",
     "output_type": "stream",
     "text": [
      "No Login page\n"
     ]
    }
   ],
   "source": [
    "# Opening the homepage of flipkart\n",
    "url = \"https://www.flipkart.com/\"\n",
    "driver.get(url)\n",
    "try:\n",
    "    login_X_button = driver.find_element_by_xpath('//button[@class=\"_2KpZ6l _2doB4z\"]') # Button to close login popup\n",
    "    login_X_button.click()\n",
    "except NoSuchElementException : \n",
    "    print(\"No Login page\")\n",
    "\n",
    "time.sleep(2)\n",
    "\n",
    "search_bar = driver.find_element_by_xpath('//*[@id=\"container\"]/div/div[1]/div[1]/div[2]/div[2]/form/div/div/input')    # Finding the search bar using it's xpath\n",
    "search_bar.clear()                                             # clearing search_bar\n",
    "search_bar.send_keys('Phones')                                   # sending user input to search bar\n",
    "search_button = driver.find_element_by_xpath('//*[@id=\"container\"]/div/div[1]/div[1]/div[2]/div[2]/form/div/button')       # Locating search_button by xpath\n",
    "search_button.click()  "
   ]
  },
  {
   "cell_type": "code",
   "execution_count": 14,
   "id": "b86edd6b",
   "metadata": {},
   "outputs": [],
   "source": [
    "links=[]\n",
    "try:\n",
    "    for l in driver.find_elements_by_xpath('//a[@class=\"_1fQZEK\"]'):\n",
    "        links.append(l.get_attribute('href'))\n",
    "        time.sleep(1)\n",
    "except NoSuchElementException:\n",
    "        links.append(\"-\")\n",
    "        time.sleep(1)\n",
    "\n",
    "        \n",
    "for page in range(0,18):\n",
    "        nxt_button=driver.find_elements_by_xpath(\"//a[@class='_1LKTO3']\")#scraping the list of buttons from the page\n",
    "        try:\n",
    "            driver.get(nxt_button[1].get_attribute('href'))#getting the link from the list for next page\n",
    "        except:\n",
    "            driver.get(nxt_button[0].get_attribute('href'))\n",
    "        try:\n",
    "            for l in driver.find_elements_by_xpath('//a[@class=\"_1fQZEK\"]'):\n",
    "                links.append(l.get_attribute('href'))\n",
    "                time.sleep(1)\n",
    "        except NoSuchElementException:\n",
    "                links.append(\"-\")\n",
    "                time.sleep(1)   "
   ]
  },
  {
   "cell_type": "code",
   "execution_count": 15,
   "id": "3470de52",
   "metadata": {},
   "outputs": [
    {
     "data": {
      "text/plain": [
       "456"
      ]
     },
     "execution_count": 15,
     "metadata": {},
     "output_type": "execute_result"
    }
   ],
   "source": [
    "len(links)"
   ]
  },
  {
   "cell_type": "code",
   "execution_count": 16,
   "id": "ed2f0184",
   "metadata": {},
   "outputs": [],
   "source": [
    "for url in links:\n",
    "    driver.get(url)\n",
    "    time.sleep(2)\n",
    "    try:\n",
    "        \n",
    "        all_reviews = driver.find_element_by_xpath('//div[@class=\"col JOpGWq\"]/a')\n",
    "        a =all_reviews.get_attribute('href')\n",
    "        driver.get(a)\n",
    "        driver.find_element_by_xpath('//*[@id=\"container\"]/div/div[3]/div/div[1]/div[2]/div[1]/div/div[2]/div/div/div/div/select').click()\n",
    "        driver.find_element_by_xpath('//select[@class=\"_1EDlbo tVKh2S\"]/option[@value=\"MOST_RECENT\"]').click()\n",
    "        driver.get(driver.current_url)\n",
    "        \n",
    "            \n",
    "        # Extracting stars      \n",
    "        try:\n",
    "            rating = driver.find_elements_by_xpath('//div[@class=\"col _2wzgFH K0kLPL\"]/div[1]/div[1]') \n",
    "            for r in rating:\n",
    "                Rating.append(r.text)\n",
    "        except NoSuchElementException:\n",
    "            Rating.append('-')\n",
    "        except StaleElementReferenceException:\n",
    "            Rating.append('-')\n",
    "\n",
    "        time.sleep(1)\n",
    "        # Extracting review\n",
    "        try:\n",
    "            review = driver.find_elements_by_xpath('//div[@class=\"t-ZTKy\"]/div/div') \n",
    "            for r in review:\n",
    "                Review.append(r.text)\n",
    "        except NoSuchElementException:\n",
    "            Review.append('-')\n",
    "        \n",
    "        time.sleep(1)\n",
    "        # Extracting review\n",
    "        try:\n",
    "            review_title = driver.find_elements_by_xpath('//p[@class=\"_2-N8zT\"]')  \n",
    "            for r in review_title:\n",
    "                Review_title.append(r.text)\n",
    "        except NoSuchElementException:\n",
    "            Review_title.append('-')\n",
    "    except TimeoutException:\n",
    "        pass\n",
    "    except NoSuchElementException:\n",
    "        pass"
   ]
  },
  {
   "cell_type": "code",
   "execution_count": 22,
   "id": "1f50674f",
   "metadata": {},
   "outputs": [],
   "source": [
    "# Opening the homepage of flipkart\n",
    "url = \"https://www.flipkart.com/\"\n",
    "driver.get(url)\n",
    "try:\n",
    "    login_X_button = driver.find_element_by_xpath('//button[@class=\"_2KpZ6l _2doB4z\"]') # Button to close login popup\n",
    "    login_X_button.click()\n",
    "except NoSuchElementException : \n",
    "    print(\"No Login page\")\n",
    "\n",
    "time.sleep(2)\n",
    "\n",
    "search_bar = driver.find_element_by_xpath('//*[@id=\"container\"]/div/div[1]/div[1]/div[2]/div[2]/form/div/div/input')    # Finding the search bar using it's xpath\n",
    "search_bar.clear()                                             # clearing search_bar\n",
    "search_bar.send_keys('smart watches')                                   # sending user input to search bar\n",
    "search_button = driver.find_element_by_xpath('//*[@id=\"container\"]/div/div[1]/div[1]/div[2]/div[2]/form/div/button')       # Locating search_button by xpath\n",
    "search_button.click() "
   ]
  },
  {
   "cell_type": "code",
   "execution_count": 23,
   "id": "f104d0de",
   "metadata": {},
   "outputs": [],
   "source": [
    "links=[]\n",
    "try:\n",
    "    for l in driver.find_elements_by_xpath('//a[@class=\"_1fQZEK\"]'):\n",
    "        links.append(l.get_attribute('href'))\n",
    "        time.sleep(1)\n",
    "except NoSuchElementException:\n",
    "        links.append(\"-\")\n",
    "        time.sleep(1)\n",
    "\n",
    "for page in range(0,23):\n",
    "        nxt_button=driver.find_elements_by_xpath(\"//a[@class='_1LKTO3']\")#scraping the list of buttons from the page\n",
    "        try:\n",
    "            driver.get(nxt_button[1].get_attribute('href'))#getting the link from the list for next page\n",
    "        except:\n",
    "            driver.get(nxt_button[0].get_attribute('href'))\n",
    "            \n",
    "        try:\n",
    "            for l in driver.find_elements_by_xpath('//a[@class=\"_1fQZEK\"]'):\n",
    "                links.append(l.get_attribute('href'))\n",
    "                time.sleep(1)\n",
    "        except NoSuchElementException:\n",
    "                links.append(\"-\")\n",
    "                time.sleep(1)"
   ]
  },
  {
   "cell_type": "code",
   "execution_count": 24,
   "id": "aa49e806",
   "metadata": {},
   "outputs": [
    {
     "data": {
      "text/plain": [
       "576"
      ]
     },
     "execution_count": 24,
     "metadata": {},
     "output_type": "execute_result"
    }
   ],
   "source": [
    "len(links)"
   ]
  },
  {
   "cell_type": "code",
   "execution_count": 25,
   "id": "eb86a827",
   "metadata": {},
   "outputs": [],
   "source": [
    "for url in links:\n",
    "    driver.get(url)\n",
    "    time.sleep(2)\n",
    "    try:\n",
    "        \n",
    "        all_reviews = driver.find_element_by_xpath('//div[@class=\"col JOpGWq\"]/a')\n",
    "        a =all_reviews.get_attribute('href')\n",
    "        driver.get(a)\n",
    "        driver.find_element_by_xpath('//*[@id=\"container\"]/div/div[3]/div/div[1]/div[2]/div[1]/div/div[2]/div/div/div/div/select').click()\n",
    "        driver.find_element_by_xpath('//select[@class=\"_1EDlbo tVKh2S\"]/option[@value=\"MOST_RECENT\"]').click()\n",
    "        driver.get(driver.current_url)\n",
    "        \n",
    "            \n",
    "        # Extracting stars      \n",
    "        try:\n",
    "            rating = driver.find_elements_by_xpath('//div[@class=\"col _2wzgFH K0kLPL\"]/div[1]/div[1]') \n",
    "            for r in rating:\n",
    "                Rating.append(r.text)\n",
    "        except NoSuchElementException:\n",
    "            Rating.append('-')\n",
    "        except StaleElementReferenceException:\n",
    "            Rating.append('-')\n",
    "\n",
    "        time.sleep(1)\n",
    "        # Extracting review\n",
    "        try:\n",
    "            review = driver.find_elements_by_xpath('//div[@class=\"t-ZTKy\"]/div/div') \n",
    "            for r in review:\n",
    "                Review.append(r.text)\n",
    "        except NoSuchElementException:\n",
    "            Review.append('-')\n",
    "        \n",
    "        time.sleep(1)\n",
    "        # Extracting review\n",
    "        try:\n",
    "            review_title = driver.find_elements_by_xpath('//p[@class=\"_2-N8zT\"]')  \n",
    "            for r in review_title:\n",
    "                Review_title.append(r.text)\n",
    "        except NoSuchElementException:\n",
    "            Review_title.append('-')\n",
    "    except TimeoutException:\n",
    "        pass\n",
    "    except NoSuchElementException:\n",
    "        pass"
   ]
  },
  {
   "cell_type": "code",
   "execution_count": 6,
   "id": "4c368b35",
   "metadata": {},
   "outputs": [
    {
     "name": "stdout",
     "output_type": "stream",
     "text": [
      "No Login page\n"
     ]
    }
   ],
   "source": [
    "# Opening the homepage of flipkart\n",
    "url = \"https://www.flipkart.com/\"\n",
    "driver.get(url)\n",
    "try:\n",
    "    login_X_button = driver.find_element_by_xpath('//button[@class=\"_2KpZ6l _2doB4z\"]') # Button to close login popup\n",
    "    login_X_button.click()\n",
    "except NoSuchElementException : \n",
    "    print(\"No Login page\")\n",
    "\n",
    "time.sleep(2)\n",
    "\n",
    "search_bar = driver.find_element_by_xpath('//*[@id=\"container\"]/div/div[1]/div[1]/div[2]/div[2]/form/div/div/input')    # Finding the search bar using it's xpath\n",
    "search_bar.clear()                                             # clearing search_bar\n",
    "search_bar.send_keys('Cameras')                                   # sending user input to search bar\n",
    "search_button = driver.find_element_by_xpath('//*[@id=\"container\"]/div/div[1]/div[1]/div[2]/div[2]/form/div/button')       # Locating search_button by xpath\n",
    "search_button.click()  "
   ]
  },
  {
   "cell_type": "code",
   "execution_count": 7,
   "id": "abf0baed",
   "metadata": {},
   "outputs": [],
   "source": [
    "links=[]\n",
    "try:\n",
    "    for l in driver.find_elements_by_xpath('//a[@class=\"s1Q9rs\"]'):\n",
    "        links.append(l.get_attribute('href'))\n",
    "        time.sleep(1)\n",
    "except NoSuchElementException:\n",
    "        links.append(\"-\")\n",
    "        time.sleep(1)\n",
    "        \n",
    "for page in range(0,10):\n",
    "        nxt_button=driver.find_elements_by_xpath(\"//a[@class='_1LKTO3']\")#scraping the list of buttons from the page\n",
    "        try:\n",
    "            driver.get(nxt_button[1].get_attribute('href'))#getting the link from the list for next page\n",
    "        except:\n",
    "            driver.get(nxt_button[0].get_attribute('href'))\n",
    "            \n",
    "        try:\n",
    "            for l in driver.find_elements_by_xpath('//a[@class=\"s1Q9rs\"]'):\n",
    "                links.append(l.get_attribute('href'))\n",
    "                time.sleep(1)\n",
    "        except NoSuchElementException:\n",
    "                links.append(\"-\")\n",
    "                time.sleep(1)"
   ]
  },
  {
   "cell_type": "code",
   "execution_count": 8,
   "id": "6a47d355",
   "metadata": {},
   "outputs": [
    {
     "data": {
      "text/plain": [
       "439"
      ]
     },
     "execution_count": 8,
     "metadata": {},
     "output_type": "execute_result"
    }
   ],
   "source": [
    "len(links)"
   ]
  },
  {
   "cell_type": "code",
   "execution_count": null,
   "id": "e5d96816",
   "metadata": {},
   "outputs": [],
   "source": [
    "for url in links:\n",
    "    driver.get(url)\n",
    "    time.sleep(2)\n",
    "    try:\n",
    "        \n",
    "        all_reviews = driver.find_element_by_xpath('//div[@class=\"col JOpGWq\"]/a')\n",
    "        a =all_reviews.get_attribute('href')\n",
    "        driver.get(a)\n",
    "        driver.find_element_by_xpath('//*[@id=\"container\"]/div/div[3]/div/div[1]/div[2]/div[1]/div/div[2]/div/div/div/div/select').click()\n",
    "        driver.find_element_by_xpath('//select[@class=\"_1EDlbo tVKh2S\"]/option[@value=\"MOST_RECENT\"]').click()\n",
    "        driver.get(driver.current_url)\n",
    "        \n",
    "            \n",
    "        # Extracting stars      \n",
    "        try:\n",
    "            rating = driver.find_elements_by_xpath('//div[@class=\"col _2wzgFH K0kLPL\"]/div[1]/div[1]') \n",
    "            for r in rating:\n",
    "                Rating.append(r.text)\n",
    "        except NoSuchElementException:\n",
    "            Rating.append('-')\n",
    "        except StaleElementReferenceException:\n",
    "            Rating.append('-')\n",
    "\n",
    "        time.sleep(1)\n",
    "        # Extracting review\n",
    "        try:\n",
    "            review = driver.find_elements_by_xpath('//div[@class=\"t-ZTKy\"]/div/div') \n",
    "            for r in review:\n",
    "                Review.append(r.text)\n",
    "        except NoSuchElementException:\n",
    "            Review.append('-')\n",
    "        \n",
    "        time.sleep(1)\n",
    "        # Extracting review\n",
    "        try:\n",
    "            review_title = driver.find_elements_by_xpath('//p[@class=\"_2-N8zT\"]')  \n",
    "            for r in review_title:\n",
    "                Review_title.append(r.text)\n",
    "        except NoSuchElementException:\n",
    "            Review_title.append('-')\n",
    "    except TimeoutException:\n",
    "        pass\n",
    "    except NoSuchElementException:\n",
    "        pass"
   ]
  },
  {
   "cell_type": "code",
   "execution_count": 9,
   "id": "b4cc90d8",
   "metadata": {},
   "outputs": [
    {
     "name": "stdout",
     "output_type": "stream",
     "text": [
      "No Login page\n"
     ]
    }
   ],
   "source": [
    "# Opening the homepage of flipkart\n",
    "url = \"https://www.flipkart.com/\"\n",
    "driver.get(url)\n",
    "try:\n",
    "    login_X_button = driver.find_element_by_xpath('//button[@class=\"_2KpZ6l _2doB4z\"]') # Button to close login popup\n",
    "    login_X_button.click()\n",
    "except NoSuchElementException : \n",
    "    print(\"No Login page\")\n",
    "\n",
    "time.sleep(2)\n",
    "\n",
    "search_bar = driver.find_element_by_xpath('//*[@id=\"container\"]/div/div[1]/div[1]/div[2]/div[2]/form/div/div/input')    # Finding the search bar using it's xpath\n",
    "search_bar.clear()                                             # clearing search_bar\n",
    "search_bar.send_keys('Printers')                                   # sending user input to search bar\n",
    "search_button = driver.find_element_by_xpath('//*[@id=\"container\"]/div/div[1]/div[1]/div[2]/div[2]/form/div/button')       # Locating search_button by xpath\n",
    "search_button.click() "
   ]
  },
  {
   "cell_type": "code",
   "execution_count": 10,
   "id": "1452eb68",
   "metadata": {},
   "outputs": [],
   "source": [
    "links=[]\n",
    "try:\n",
    "    for l in driver.find_elements_by_xpath('//a[@class=\"s1Q9rs\"]'):\n",
    "        links.append(l.get_attribute('href'))\n",
    "        time.sleep(1)\n",
    "except NoSuchElementException:\n",
    "        links.append(\"-\")\n",
    "        time.sleep(1)\n",
    "\n",
    "for page in range(0,10):\n",
    "        nxt_button=driver.find_elements_by_xpath(\"//a[@class='_1LKTO3']\")#scraping the list of buttons from the page\n",
    "        try:\n",
    "            driver.get(nxt_button[1].get_attribute('href'))#getting the link from the list for next page\n",
    "        except:\n",
    "            driver.get(nxt_button[0].get_attribute('href'))\n",
    "            \n",
    "        try:\n",
    "            for l in driver.find_elements_by_xpath('//a[@class=\"s1Q9rs\"]'):\n",
    "                links.append(l.get_attribute('href'))\n",
    "                time.sleep(1)\n",
    "        except NoSuchElementException:\n",
    "                links.append(\"-\")\n",
    "                time.sleep(1)"
   ]
  },
  {
   "cell_type": "code",
   "execution_count": 11,
   "id": "8fe7e7bb",
   "metadata": {},
   "outputs": [
    {
     "data": {
      "text/plain": [
       "440"
      ]
     },
     "execution_count": 11,
     "metadata": {},
     "output_type": "execute_result"
    }
   ],
   "source": [
    "len(links)"
   ]
  },
  {
   "cell_type": "code",
   "execution_count": null,
   "id": "4688f507",
   "metadata": {},
   "outputs": [],
   "source": [
    "for url in links:\n",
    "    driver.get(url)\n",
    "    time.sleep(2)\n",
    "    try:\n",
    "        \n",
    "        all_reviews = driver.find_element_by_xpath('//div[@class=\"col JOpGWq\"]/a')\n",
    "        a =all_reviews.get_attribute('href')\n",
    "        driver.get(a)\n",
    "        driver.find_element_by_xpath('//*[@id=\"container\"]/div/div[3]/div/div[1]/div[2]/div[1]/div/div[2]/div/div/div/div/select').click()\n",
    "        driver.find_element_by_xpath('//select[@class=\"_1EDlbo tVKh2S\"]/option[@value=\"MOST_RECENT\"]').click()\n",
    "        driver.get(driver.current_url)\n",
    "        \n",
    "            \n",
    "        # Extracting stars      \n",
    "        try:\n",
    "            rating = driver.find_elements_by_xpath('//div[@class=\"col _2wzgFH K0kLPL\"]/div[1]/div[1]') \n",
    "            for r in rating:\n",
    "                Rating.append(r.text)\n",
    "        except NoSuchElementException:\n",
    "            Rating.append('-')\n",
    "        except StaleElementReferenceException:\n",
    "            Rating.append('-')\n",
    "\n",
    "        time.sleep(1)\n",
    "        # Extracting review\n",
    "        try:\n",
    "            review = driver.find_elements_by_xpath('//div[@class=\"t-ZTKy\"]/div/div') \n",
    "            for r in review:\n",
    "                Review.append(r.text)\n",
    "        except NoSuchElementException:\n",
    "            Review.append('-')\n",
    "        \n",
    "        time.sleep(1)\n",
    "        # Extracting review\n",
    "        try:\n",
    "            review_title = driver.find_elements_by_xpath('//p[@class=\"_2-N8zT\"]')  \n",
    "            for r in review_title:\n",
    "                Review_title.append(r.text)\n",
    "        except NoSuchElementException:\n",
    "            Review_title.append('-')\n",
    "    except TimeoutException:\n",
    "        pass\n",
    "    except NoSuchElementException:\n",
    "        pass"
   ]
  },
  {
   "cell_type": "code",
   "execution_count": 12,
   "id": "9d04e029",
   "metadata": {},
   "outputs": [
    {
     "name": "stdout",
     "output_type": "stream",
     "text": [
      "No Login page\n"
     ]
    }
   ],
   "source": [
    "# Opening the homepage of flipkart\n",
    "url = \"https://www.flipkart.com/\"\n",
    "driver.get(url)\n",
    "try:\n",
    "    login_X_button = driver.find_element_by_xpath('//button[@class=\"_2KpZ6l _2doB4z\"]') # Button to close login popup\n",
    "    login_X_button.click()\n",
    "except NoSuchElementException : \n",
    "    print(\"No Login page\")\n",
    "\n",
    "time.sleep(2)\n",
    "\n",
    "search_bar = driver.find_element_by_xpath('//*[@id=\"container\"]/div/div[1]/div[1]/div[2]/div[2]/form/div/div/input')    # Finding the search bar using it's xpath\n",
    "search_bar.clear()                                             # clearing search_bar\n",
    "search_bar.send_keys('Monitors')                                   # sending user input to search bar\n",
    "search_button = driver.find_element_by_xpath('//*[@id=\"container\"]/div/div[1]/div[1]/div[2]/div[2]/form/div/button')       # Locating search_button by xpath\n",
    "search_button.click()"
   ]
  },
  {
   "cell_type": "code",
   "execution_count": 13,
   "id": "e15adcd1",
   "metadata": {},
   "outputs": [],
   "source": [
    "links=[]\n",
    "try:\n",
    "    for l in driver.find_elements_by_xpath('//a[@class=\"_1fQZEK\"]'):\n",
    "        links.append(l.get_attribute('href'))\n",
    "        time.sleep(1)\n",
    "except NoSuchElementException:\n",
    "        links.append(\"-\")\n",
    "        time.sleep(1)\n",
    "        \n",
    "for page in range(0,10):\n",
    "        nxt_button=driver.find_elements_by_xpath(\"//a[@class='_1LKTO3']\")#scraping the list of buttons from the page\n",
    "        try:\n",
    "            driver.get(nxt_button[1].get_attribute('href'))#getting the link from the list for next page\n",
    "        except:\n",
    "            driver.get(nxt_button[0].get_attribute('href'))\n",
    "            \n",
    "        try:\n",
    "            for l in driver.find_elements_by_xpath('//a[@class=\"_1fQZEK\"]'):\n",
    "                links.append(l.get_attribute('href'))\n",
    "                time.sleep(1)\n",
    "        except NoSuchElementException:\n",
    "                links.append(\"-\")\n",
    "                time.sleep(1)"
   ]
  },
  {
   "cell_type": "code",
   "execution_count": 14,
   "id": "dcdc95f0",
   "metadata": {},
   "outputs": [
    {
     "data": {
      "text/plain": [
       "264"
      ]
     },
     "execution_count": 14,
     "metadata": {},
     "output_type": "execute_result"
    }
   ],
   "source": [
    "len(links)"
   ]
  },
  {
   "cell_type": "code",
   "execution_count": null,
   "id": "f572aa7f",
   "metadata": {},
   "outputs": [],
   "source": [
    "for url in links:\n",
    "    driver.get(url)\n",
    "    time.sleep(2)\n",
    "    try:\n",
    "        \n",
    "        all_reviews = driver.find_element_by_xpath('//div[@class=\"col JOpGWq\"]/a')\n",
    "        a =all_reviews.get_attribute('href')\n",
    "        driver.get(a)\n",
    "        driver.find_element_by_xpath('//*[@id=\"container\"]/div/div[3]/div/div[1]/div[2]/div[1]/div/div[2]/div/div/div/div/select').click()\n",
    "        driver.find_element_by_xpath('//select[@class=\"_1EDlbo tVKh2S\"]/option[@value=\"MOST_RECENT\"]').click()\n",
    "        driver.get(driver.current_url)\n",
    "        \n",
    "            \n",
    "        # Extracting stars      \n",
    "        try:\n",
    "            rating = driver.find_elements_by_xpath('//div[@class=\"col _2wzgFH K0kLPL\"]/div[1]/div[1]') \n",
    "            for r in rating:\n",
    "                Rating.append(r.text)\n",
    "        except NoSuchElementException:\n",
    "            Rating.append('-')\n",
    "        except StaleElementReferenceException:\n",
    "            Rating.append('-')\n",
    "\n",
    "        time.sleep(1)\n",
    "        # Extracting review\n",
    "        try:\n",
    "            review = driver.find_elements_by_xpath('//div[@class=\"t-ZTKy\"]/div/div') \n",
    "            for r in review:\n",
    "                Review.append(r.text)\n",
    "        except NoSuchElementException:\n",
    "            Review.append('-')\n",
    "        \n",
    "        time.sleep(1)\n",
    "        # Extracting review\n",
    "        try:\n",
    "            review_title = driver.find_elements_by_xpath('//p[@class=\"_2-N8zT\"]')  \n",
    "            for r in review_title:\n",
    "                Review_title.append(r.text)\n",
    "        except NoSuchElementException:\n",
    "            Review_title.append('-')\n",
    "    except TimeoutException:\n",
    "        pass\n",
    "    except NoSuchElementException:\n",
    "        pass"
   ]
  },
  {
   "cell_type": "code",
   "execution_count": 15,
   "id": "73978a3c",
   "metadata": {},
   "outputs": [
    {
     "name": "stdout",
     "output_type": "stream",
     "text": [
      "No Login page\n"
     ]
    }
   ],
   "source": [
    "# Opening the homepage of flipkart\n",
    "url = \"https://www.flipkart.com/\"\n",
    "driver.get(url)\n",
    "try:\n",
    "    login_X_button = driver.find_element_by_xpath('//button[@class=\"_2KpZ6l _2doB4z\"]') # Button to close login popup\n",
    "    login_X_button.click()\n",
    "except NoSuchElementException : \n",
    "    print(\"No Login page\")\n",
    "\n",
    "time.sleep(2)\n",
    "\n",
    "search_bar = driver.find_element_by_xpath('//*[@id=\"container\"]/div/div[1]/div[1]/div[2]/div[2]/form/div/div/input')    # Finding the search bar using it's xpath\n",
    "search_bar.clear()                                             # clearing search_bar\n",
    "search_bar.send_keys('Home theater')                                   # sending user input to search bar\n",
    "search_button = driver.find_element_by_xpath('//*[@id=\"container\"]/div/div[1]/div[1]/div[2]/div[2]/form/div/button')       # Locating search_button by xpath\n",
    "search_button.click()  "
   ]
  },
  {
   "cell_type": "code",
   "execution_count": 16,
   "id": "da76a364",
   "metadata": {},
   "outputs": [],
   "source": [
    "links=[]\n",
    "try:\n",
    "    for l in driver.find_elements_by_xpath('//a[@class=\"s1Q9rs\"]'):\n",
    "        links.append(l.get_attribute('href'))\n",
    "        time.sleep(1)\n",
    "except NoSuchElementException:\n",
    "        links.append(\"-\")\n",
    "        time.sleep(1)\n",
    "        \n",
    "for page in range(0,10):\n",
    "        nxt_button=driver.find_elements_by_xpath(\"//a[@class='_1LKTO3']\")#scraping the list of buttons from the page\n",
    "        try:\n",
    "            driver.get(nxt_button[1].get_attribute('href'))#getting the link from the list for next page\n",
    "        except:\n",
    "            driver.get(nxt_button[0].get_attribute('href'))\n",
    "            \n",
    "        try:\n",
    "            for l in driver.find_elements_by_xpath('//a[@class=\"s1Q9rs\"]'):\n",
    "                links.append(l.get_attribute('href'))\n",
    "                time.sleep(1)\n",
    "        except NoSuchElementException:\n",
    "                links.append(\"-\")\n",
    "                time.sleep(1)"
   ]
  },
  {
   "cell_type": "code",
   "execution_count": 17,
   "id": "f21d4ae4",
   "metadata": {},
   "outputs": [
    {
     "data": {
      "text/plain": [
       "440"
      ]
     },
     "execution_count": 17,
     "metadata": {},
     "output_type": "execute_result"
    }
   ],
   "source": [
    "len(links)"
   ]
  },
  {
   "cell_type": "code",
   "execution_count": 18,
   "id": "4dad50aa",
   "metadata": {},
   "outputs": [],
   "source": [
    "Rating=[]\n",
    "Review=[]\n",
    "Review_title=[]"
   ]
  },
  {
   "cell_type": "code",
   "execution_count": null,
   "id": "751b2814",
   "metadata": {},
   "outputs": [],
   "source": [
    "for url in links:\n",
    "    driver.get(url)\n",
    "    time.sleep(2)\n",
    "    try:\n",
    "        \n",
    "        all_reviews = driver.find_element_by_xpath('//div[@class=\"col JOpGWq\"]/a')\n",
    "        a =all_reviews.get_attribute('href')\n",
    "        driver.get(a)\n",
    "        try:\n",
    "            driver.find_element_by_xpath('//*[@id=\"container\"]/div/div[3]/div/div[1]/div[2]/div[1]/div/div[2]/div/div/div/div/select').click()\n",
    "            driver.find_element_by_xpath('//select[@class=\"_1EDlbo tVKh2S\"]/option[@value=\"MOST_RECENT\"]').click()\n",
    "            driver.get(driver.current_url)\n",
    "        except NoSuchElementException:\n",
    "            pass\n",
    "            \n",
    "        # Extracting stars      \n",
    "        try:\n",
    "            rating = driver.find_elements_by_xpath('//div[@class=\"col _2wzgFH K0kLPL\"]/div[1]/div[1]') \n",
    "            for r in rating:\n",
    "                Rating.append(r.text)\n",
    "        except NoSuchElementException:\n",
    "            Rating.append('-')\n",
    "        except StaleElementReferenceException:\n",
    "            Rating.append('-')\n",
    "\n",
    "        time.sleep(1)\n",
    "        # Extracting review\n",
    "        try:\n",
    "            review = driver.find_elements_by_xpath('//div[@class=\"t-ZTKy\"]/div/div') \n",
    "            for r in review:\n",
    "                Review.append(r.text)\n",
    "        except NoSuchElementException:\n",
    "            Review.append('-')\n",
    "        \n",
    "        time.sleep(1)\n",
    "        # Extracting review\n",
    "        try:\n",
    "            review_title = driver.find_elements_by_xpath('//p[@class=\"_2-N8zT\"]')  \n",
    "            for r in review_title:\n",
    "                Review_title.append(r.text)\n",
    "        except NoSuchElementException:\n",
    "            Review_title.append('-')\n",
    "    except TimeoutException:\n",
    "        pass\n",
    "    except NoSuchElementException:\n",
    "        pass"
   ]
  },
  {
   "cell_type": "code",
   "execution_count": 19,
   "id": "40b3142e",
   "metadata": {},
   "outputs": [
    {
     "name": "stdout",
     "output_type": "stream",
     "text": [
      "No Login page\n"
     ]
    }
   ],
   "source": [
    "# Opening the homepage of flipkart\n",
    "url = \"https://www.flipkart.com/\"\n",
    "driver.get(url)\n",
    "try:\n",
    "    login_X_button = driver.find_element_by_xpath('//button[@class=\"_2KpZ6l _2doB4z\"]') # Button to close login popup\n",
    "    login_X_button.click()\n",
    "except NoSuchElementException : \n",
    "    print(\"No Login page\")\n",
    "\n",
    "time.sleep(2)\n",
    "\n",
    "search_bar = driver.find_element_by_xpath('//*[@id=\"container\"]/div/div[1]/div[1]/div[2]/div[2]/form/div/div/input')    # Finding the search bar using it's xpath\n",
    "search_bar.clear()                                             # clearing search_bar\n",
    "search_bar.send_keys('Router')                                   # sending user input to search bar\n",
    "search_button = driver.find_element_by_xpath('//*[@id=\"container\"]/div/div[1]/div[1]/div[2]/div[2]/form/div/button')       # Locating search_button by xpath\n",
    "search_button.click()  "
   ]
  },
  {
   "cell_type": "code",
   "execution_count": 20,
   "id": "2210c642",
   "metadata": {},
   "outputs": [],
   "source": [
    "links=[]\n",
    "try:\n",
    "    for l in driver.find_elements_by_xpath('//a[@class=\"s1Q9rs\"]'):\n",
    "        links.append(l.get_attribute('href'))\n",
    "        time.sleep(1)\n",
    "except NoSuchElementException:\n",
    "        links.append(\"-\")\n",
    "        time.sleep(1)\n",
    "        \n",
    "for page in range(0,10):\n",
    "        nxt_button=driver.find_elements_by_xpath(\"//a[@class='_1LKTO3']\")#scraping the list of buttons from the page\n",
    "        try:\n",
    "            driver.get(nxt_button[1].get_attribute('href'))#getting the link from the list for next page\n",
    "        except:\n",
    "            driver.get(nxt_button[0].get_attribute('href'))\n",
    "        \n",
    "        try:\n",
    "            for l in driver.find_elements_by_xpath('//a[@class=\"s1Q9rs\"]'):\n",
    "                links.append(l.get_attribute('href'))\n",
    "                time.sleep(1)\n",
    "        except NoSuchElementException:\n",
    "                links.append(\"-\")\n",
    "                time.sleep(1) "
   ]
  },
  {
   "cell_type": "code",
   "execution_count": 21,
   "id": "2a2933db",
   "metadata": {},
   "outputs": [
    {
     "data": {
      "text/plain": [
       "440"
      ]
     },
     "execution_count": 21,
     "metadata": {},
     "output_type": "execute_result"
    }
   ],
   "source": [
    "len(links)"
   ]
  },
  {
   "cell_type": "code",
   "execution_count": null,
   "id": "73895cd2",
   "metadata": {},
   "outputs": [],
   "source": [
    "for url in links:\n",
    "    driver.get(url)\n",
    "    time.sleep(2)\n",
    "    try:\n",
    "        \n",
    "        all_reviews = driver.find_element_by_xpath('//div[@class=\"col JOpGWq\"]/a')\n",
    "        a =all_reviews.get_attribute('href')\n",
    "        driver.get(a)\n",
    "        driver.find_element_by_xpath('//*[@id=\"container\"]/div/div[3]/div/div[1]/div[2]/div[1]/div/div[2]/div/div/div/div/select').click()\n",
    "        driver.find_element_by_xpath('//select[@class=\"_1EDlbo tVKh2S\"]/option[@value=\"MOST_RECENT\"]').click()\n",
    "        driver.get(driver.current_url)\n",
    "        \n",
    "            \n",
    "        # Extracting stars      \n",
    "        try:\n",
    "            rating = driver.find_elements_by_xpath('//div[@class=\"col _2wzgFH K0kLPL\"]/div[1]/div[1]') \n",
    "            for r in rating:\n",
    "                Rating.append(r.text)\n",
    "        except NoSuchElementException:\n",
    "            Rating.append('-')\n",
    "        except StaleElementReferenceException:\n",
    "            Rating.append('-')\n",
    "\n",
    "        time.sleep(1)\n",
    "        # Extracting review\n",
    "        try:\n",
    "            review = driver.find_elements_by_xpath('//div[@class=\"t-ZTKy\"]/div/div') \n",
    "            for r in review:\n",
    "                Review.append(r.text)\n",
    "        except NoSuchElementException:\n",
    "            Review.append('-')\n",
    "        \n",
    "        time.sleep(1)\n",
    "        # Extracting review\n",
    "        try:\n",
    "            review_title = driver.find_elements_by_xpath('//p[@class=\"_2-N8zT\"]')  \n",
    "            for r in review_title:\n",
    "                Review_title.append(r.text)\n",
    "        except NoSuchElementException:\n",
    "            Review_title.append('-')\n",
    "    except TimeoutException:\n",
    "        pass\n",
    "    except NoSuchElementException:\n",
    "        pass"
   ]
  },
  {
   "cell_type": "code",
   "execution_count": 22,
   "id": "671f8df6",
   "metadata": {},
   "outputs": [
    {
     "name": "stdout",
     "output_type": "stream",
     "text": [
      "No Login page\n"
     ]
    }
   ],
   "source": [
    "# Opening the homepage of flipkart\n",
    "url = \"https://www.flipkart.com/\"\n",
    "driver.get(url)\n",
    "try:\n",
    "    login_X_button = driver.find_element_by_xpath('//button[@class=\"_2KpZ6l _2doB4z\"]') # Button to close login popup\n",
    "    login_X_button.click()\n",
    "except NoSuchElementException : \n",
    "    print(\"No Login page\")\n",
    "\n",
    "time.sleep(2)\n",
    "\n",
    "search_bar = driver.find_element_by_xpath('//*[@id=\"container\"]/div/div[1]/div[1]/div[2]/div[2]/form/div/div/input')    # Finding the search bar using it's xpath\n",
    "search_bar.clear()                                             # clearing search_bar\n",
    "search_bar.send_keys('TV')                                   # sending user input to search bar\n",
    "search_button = driver.find_element_by_xpath('//*[@id=\"container\"]/div/div[1]/div[1]/div[2]/div[2]/form/div/button')       # Locating search_button by xpath\n",
    "search_button.click() "
   ]
  },
  {
   "cell_type": "code",
   "execution_count": 23,
   "id": "204521f7",
   "metadata": {},
   "outputs": [],
   "source": [
    "links=[]\n",
    "try:\n",
    "    for l in driver.find_elements_by_xpath('//a[@class=\"_1fQZEK\"]'):\n",
    "        links.append(l.get_attribute('href'))\n",
    "        time.sleep(1)\n",
    "except NoSuchElementException:\n",
    "        links.append(\"-\")\n",
    "        time.sleep(1)\n",
    "        \n",
    "for page in range(0,10):\n",
    "        nxt_button=driver.find_elements_by_xpath(\"//a[@class='_1LKTO3']\")#scraping the list of buttons from the page\n",
    "        try:\n",
    "            driver.get(nxt_button[1].get_attribute('href'))#getting the link from the list for next page\n",
    "        except:\n",
    "            driver.get(nxt_button[0].get_attribute('href'))\n",
    "        \n",
    "        try:\n",
    "            for l in driver.find_elements_by_xpath('//a[@class=\"_1fQZEK\"]'):\n",
    "                links.append(l.get_attribute('href'))\n",
    "                time.sleep(1)\n",
    "        except NoSuchElementException:\n",
    "                links.append(\"-\")\n",
    "                time.sleep(1) "
   ]
  },
  {
   "cell_type": "code",
   "execution_count": 24,
   "id": "c140dd05",
   "metadata": {},
   "outputs": [
    {
     "data": {
      "text/plain": [
       "264"
      ]
     },
     "execution_count": 24,
     "metadata": {},
     "output_type": "execute_result"
    }
   ],
   "source": [
    "len(links)"
   ]
  },
  {
   "cell_type": "code",
   "execution_count": null,
   "id": "f269ab90",
   "metadata": {},
   "outputs": [],
   "source": [
    "for url in links:\n",
    "    driver.get(url)\n",
    "    time.sleep(2)\n",
    "    try:\n",
    "        \n",
    "        all_reviews = driver.find_element_by_xpath('//div[@class=\"col JOpGWq\"]/a')\n",
    "        a =all_reviews.get_attribute('href')\n",
    "        driver.get(a)\n",
    "        driver.find_element_by_xpath('//*[@id=\"container\"]/div/div[3]/div/div[1]/div[2]/div[1]/div/div[2]/div/div/div/div/select').click()\n",
    "        driver.find_element_by_xpath('//select[@class=\"_1EDlbo tVKh2S\"]/option[@value=\"MOST_RECENT\"]').click()\n",
    "        driver.get(driver.current_url)\n",
    "        \n",
    "            \n",
    "        # Extracting stars      \n",
    "        try:\n",
    "            rating = driver.find_elements_by_xpath('//div[@class=\"col _2wzgFH K0kLPL\"]/div[1]/div[1]') \n",
    "            for r in rating:\n",
    "                Rating.append(r.text)\n",
    "        except NoSuchElementException:\n",
    "            Rating.append('-')\n",
    "        except StaleElementReferenceException:\n",
    "            Rating.append('-')\n",
    "\n",
    "        time.sleep(1)\n",
    "        # Extracting review\n",
    "        try:\n",
    "            review = driver.find_elements_by_xpath('//div[@class=\"t-ZTKy\"]/div/div') \n",
    "            for r in review:\n",
    "                Review.append(r.text)\n",
    "        except NoSuchElementException:\n",
    "            Review.append('-')\n",
    "        \n",
    "        time.sleep(1)\n",
    "        # Extracting review\n",
    "        try:\n",
    "            review_title = driver.find_elements_by_xpath('//p[@class=\"_2-N8zT\"]')  \n",
    "            for r in review_title:\n",
    "                Review_title.append(r.text)\n",
    "        except NoSuchElementException:\n",
    "            Review_title.append('-')\n",
    "    except TimeoutException:\n",
    "        pass\n",
    "    except NoSuchElementException:\n",
    "        pass"
   ]
  },
  {
   "cell_type": "code",
   "execution_count": 25,
   "id": "db71c835",
   "metadata": {},
   "outputs": [
    {
     "name": "stdout",
     "output_type": "stream",
     "text": [
      "No Login page\n"
     ]
    }
   ],
   "source": [
    "# Opening the homepage of flipkart\n",
    "url = \"https://www.flipkart.com/\"\n",
    "driver.get(url)\n",
    "try:\n",
    "    login_X_button = driver.find_element_by_xpath('//button[@class=\"_2KpZ6l _2doB4z\"]') # Button to close login popup\n",
    "    login_X_button.click()\n",
    "except NoSuchElementException : \n",
    "    print(\"No Login page\")\n",
    "\n",
    "time.sleep(2)\n",
    "\n",
    "search_bar = driver.find_element_by_xpath('//*[@id=\"container\"]/div/div[1]/div[1]/div[2]/div[2]/form/div/div/input')    # Finding the search bar using it's xpath\n",
    "search_bar.clear()                                             # clearing search_bar\n",
    "search_bar.send_keys('AC')                                   # sending user input to search bar\n",
    "search_button = driver.find_element_by_xpath('//*[@id=\"container\"]/div/div[1]/div[1]/div[2]/div[2]/form/div/button')       # Locating search_button by xpath\n",
    "search_button.click()  "
   ]
  },
  {
   "cell_type": "code",
   "execution_count": 26,
   "id": "fb31e542",
   "metadata": {},
   "outputs": [],
   "source": [
    "links=[]\n",
    "try:\n",
    "    for l in driver.find_elements_by_xpath('//a[@class=\"_1fQZEK\"]'):\n",
    "        links.append(l.get_attribute('href'))\n",
    "        time.sleep(1)\n",
    "except NoSuchElementException:\n",
    "        links.append(\"-\")\n",
    "        time.sleep(1)\n",
    "        \n",
    "for page in range(0,10):\n",
    "        nxt_button=driver.find_elements_by_xpath(\"//a[@class='_1LKTO3']\")#scraping the list of buttons from the page\n",
    "        try:\n",
    "            driver.get(nxt_button[1].get_attribute('href'))#getting the link from the list for next page\n",
    "        except:\n",
    "            driver.get(nxt_button[0].get_attribute('href'))\n",
    "        \n",
    "        try:\n",
    "            for l in driver.find_elements_by_xpath('//a[@class=\"_1fQZEK\"]'):\n",
    "                links.append(l.get_attribute('href'))\n",
    "                time.sleep(1)\n",
    "        except NoSuchElementException:\n",
    "                links.append(\"-\")\n",
    "                time.sleep(1) "
   ]
  },
  {
   "cell_type": "code",
   "execution_count": 27,
   "id": "f0f78423",
   "metadata": {},
   "outputs": [
    {
     "data": {
      "text/plain": [
       "264"
      ]
     },
     "execution_count": 27,
     "metadata": {},
     "output_type": "execute_result"
    }
   ],
   "source": [
    "len(links)"
   ]
  },
  {
   "cell_type": "code",
   "execution_count": null,
   "id": "e384a82f",
   "metadata": {},
   "outputs": [],
   "source": [
    "for url in links:\n",
    "    driver.get(url)\n",
    "    time.sleep(2)\n",
    "    try:\n",
    "        \n",
    "        all_reviews = driver.find_element_by_xpath('//div[@class=\"col JOpGWq\"]/a')\n",
    "        a =all_reviews.get_attribute('href')\n",
    "        driver.get(a)\n",
    "        driver.find_element_by_xpath('//*[@id=\"container\"]/div/div[3]/div/div[1]/div[2]/div[1]/div/div[2]/div/div/div/div/select').click()\n",
    "        driver.find_element_by_xpath('//select[@class=\"_1EDlbo tVKh2S\"]/option[@value=\"MOST_RECENT\"]').click()\n",
    "        driver.get(driver.current_url)\n",
    "        \n",
    "            \n",
    "        # Extracting stars      \n",
    "        try:\n",
    "            rating = driver.find_elements_by_xpath('//div[@class=\"col _2wzgFH K0kLPL\"]/div[1]/div[1]') \n",
    "            for r in rating:\n",
    "                Rating.append(r.text)\n",
    "        except NoSuchElementException:\n",
    "            Rating.append('-')\n",
    "        except StaleElementReferenceException:\n",
    "            Rating.append('-')\n",
    "\n",
    "        time.sleep(1)\n",
    "        # Extracting review\n",
    "        try:\n",
    "            review = driver.find_elements_by_xpath('//div[@class=\"t-ZTKy\"]/div/div') \n",
    "            for r in review:\n",
    "                Review.append(r.text)\n",
    "        except NoSuchElementException:\n",
    "            Review.append('-')\n",
    "        \n",
    "        time.sleep(1)\n",
    "        # Extracting review\n",
    "        try:\n",
    "            review_title = driver.find_elements_by_xpath('//p[@class=\"_2-N8zT\"]')  \n",
    "            for r in review_title:\n",
    "                Review_title.append(r.text)\n",
    "        except NoSuchElementException:\n",
    "            Review_title.append('-')\n",
    "    except TimeoutException:\n",
    "        pass\n",
    "    except NoSuchElementException:\n",
    "        pass"
   ]
  },
  {
   "cell_type": "code",
   "execution_count": 28,
   "id": "d5f6b16b",
   "metadata": {},
   "outputs": [
    {
     "name": "stdout",
     "output_type": "stream",
     "text": [
      "No Login page\n"
     ]
    }
   ],
   "source": [
    "# Opening the homepage of flipkart\n",
    "url = \"https://www.flipkart.com/\"\n",
    "driver.get(url)\n",
    "try:\n",
    "    login_X_button = driver.find_element_by_xpath('//button[@class=\"_2KpZ6l _2doB4z\"]') # Button to close login popup\n",
    "    login_X_button.click()\n",
    "except NoSuchElementException : \n",
    "    print(\"No Login page\")\n",
    "\n",
    "time.sleep(2)\n",
    "\n",
    "search_bar = driver.find_element_by_xpath('//*[@id=\"container\"]/div/div[1]/div[1]/div[2]/div[2]/form/div/div/input')    # Finding the search bar using it's xpath\n",
    "search_bar.clear()                                             # clearing search_bar\n",
    "search_bar.send_keys('fridge')                                   # sending user input to search bar\n",
    "search_button = driver.find_element_by_xpath('//*[@id=\"container\"]/div/div[1]/div[1]/div[2]/div[2]/form/div/button')       # Locating search_button by xpath\n",
    "search_button.click()  "
   ]
  },
  {
   "cell_type": "code",
   "execution_count": 29,
   "id": "5002a15b",
   "metadata": {},
   "outputs": [],
   "source": [
    "links=[]\n",
    "try:\n",
    "    for l in driver.find_elements_by_xpath('//a[@class=\"_1fQZEK\"]'):\n",
    "        links.append(l.get_attribute('href'))\n",
    "        time.sleep(1)\n",
    "except NoSuchElementException:\n",
    "        links.append(\"-\")\n",
    "        time.sleep(1)\n",
    "        \n",
    "for page in range(0,10):\n",
    "        nxt_button=driver.find_elements_by_xpath(\"//a[@class='_1LKTO3']\")#scraping the list of buttons from the page\n",
    "        try:\n",
    "            driver.get(nxt_button[1].get_attribute('href'))#getting the link from the list for next page\n",
    "        except:\n",
    "            driver.get(nxt_button[0].get_attribute('href'))\n",
    "        \n",
    "        try:\n",
    "            for l in driver.find_elements_by_xpath('//a[@class=\"_1fQZEK\"]'):\n",
    "                links.append(l.get_attribute('href'))\n",
    "                time.sleep(1)\n",
    "        except NoSuchElementException:\n",
    "                links.append(\"-\")\n",
    "                time.sleep(1) "
   ]
  },
  {
   "cell_type": "code",
   "execution_count": 30,
   "id": "733f581e",
   "metadata": {},
   "outputs": [
    {
     "data": {
      "text/plain": [
       "264"
      ]
     },
     "execution_count": 30,
     "metadata": {},
     "output_type": "execute_result"
    }
   ],
   "source": [
    "len(links)"
   ]
  },
  {
   "cell_type": "code",
   "execution_count": null,
   "id": "ac031910",
   "metadata": {},
   "outputs": [],
   "source": [
    "for url in links:\n",
    "    driver.get(url)\n",
    "    time.sleep(2)\n",
    "    try:\n",
    "        \n",
    "        all_reviews = driver.find_element_by_xpath('//div[@class=\"col JOpGWq\"]/a')\n",
    "        a =all_reviews.get_attribute('href')\n",
    "        driver.get(a)\n",
    "        driver.find_element_by_xpath('//*[@id=\"container\"]/div/div[3]/div/div[1]/div[2]/div[1]/div/div[2]/div/div/div/div/select').click()\n",
    "        driver.find_element_by_xpath('//select[@class=\"_1EDlbo tVKh2S\"]/option[@value=\"MOST_RECENT\"]').click()\n",
    "        driver.get(driver.current_url)\n",
    "        \n",
    "            \n",
    "        # Extracting stars      \n",
    "        try:\n",
    "            rating = driver.find_elements_by_xpath('//div[@class=\"col _2wzgFH K0kLPL\"]/div[1]/div[1]') \n",
    "            for r in rating:\n",
    "                Rating.append(r.text)\n",
    "        except NoSuchElementException:\n",
    "            Rating.append('-')\n",
    "        except StaleElementReferenceException:\n",
    "            Rating.append('-')\n",
    "\n",
    "        time.sleep(1)\n",
    "        # Extracting review\n",
    "        try:\n",
    "            review = driver.find_elements_by_xpath('//div[@class=\"t-ZTKy\"]/div/div') \n",
    "            for r in review:\n",
    "                Review.append(r.text)\n",
    "        except NoSuchElementException:\n",
    "            Review.append('-')\n",
    "        \n",
    "        time.sleep(1)\n",
    "        # Extracting review\n",
    "        try:\n",
    "            review_title = driver.find_elements_by_xpath('//p[@class=\"_2-N8zT\"]')  \n",
    "            for r in review_title:\n",
    "                Review_title.append(r.text)\n",
    "        except NoSuchElementException:\n",
    "            Review_title.append('-')\n",
    "    except TimeoutException:\n",
    "        pass\n",
    "    except NoSuchElementException:\n",
    "        pass"
   ]
  },
  {
   "cell_type": "code",
   "execution_count": 31,
   "id": "194d2c0a",
   "metadata": {},
   "outputs": [
    {
     "name": "stdout",
     "output_type": "stream",
     "text": [
      "No Login page\n"
     ]
    }
   ],
   "source": [
    "# Opening the homepage of flipkart\n",
    "url = \"https://www.flipkart.com/\"\n",
    "driver.get(url)\n",
    "try:\n",
    "    login_X_button = driver.find_element_by_xpath('//button[@class=\"_2KpZ6l _2doB4z\"]') # Button to close login popup\n",
    "    login_X_button.click()\n",
    "except NoSuchElementException : \n",
    "    print(\"No Login page\")\n",
    "\n",
    "time.sleep(2)\n",
    "\n",
    "search_bar = driver.find_element_by_xpath('//*[@id=\"container\"]/div/div[1]/div[1]/div[2]/div[2]/form/div/div/input')    # Finding the search bar using it's xpath\n",
    "search_bar.clear()                                             # clearing search_bar\n",
    "search_bar.send_keys('washing machines')                                   # sending user input to search bar\n",
    "search_button = driver.find_element_by_xpath('//*[@id=\"container\"]/div/div[1]/div[1]/div[2]/div[2]/form/div/button')       # Locating search_button by xpath\n",
    "search_button.click()  "
   ]
  },
  {
   "cell_type": "code",
   "execution_count": 32,
   "id": "744992c0",
   "metadata": {},
   "outputs": [],
   "source": [
    "links=[]\n",
    "try:\n",
    "    for l in driver.find_elements_by_xpath('//a[@class=\"_1fQZEK\"]'):\n",
    "        links.append(l.get_attribute('href'))\n",
    "        time.sleep(1)\n",
    "except NoSuchElementException:\n",
    "        links.append(\"-\")\n",
    "        time.sleep(1)\n",
    "        \n",
    "for page in range(0,10):\n",
    "        nxt_button=driver.find_elements_by_xpath(\"//a[@class='_1LKTO3']\")#scraping the list of buttons from the page\n",
    "        try:\n",
    "            driver.get(nxt_button[1].get_attribute('href'))#getting the link from the list for next page\n",
    "        except:\n",
    "            driver.get(nxt_button[0].get_attribute('href'))\n",
    "        \n",
    "        try:\n",
    "            for l in driver.find_elements_by_xpath('//a[@class=\"_1fQZEK\"]'):\n",
    "                links.append(l.get_attribute('href'))\n",
    "                time.sleep(1)\n",
    "        except NoSuchElementException:\n",
    "                links.append(\"-\")\n",
    "                time.sleep(1) "
   ]
  },
  {
   "cell_type": "code",
   "execution_count": 33,
   "id": "b5b9380c",
   "metadata": {},
   "outputs": [
    {
     "data": {
      "text/plain": [
       "264"
      ]
     },
     "execution_count": 33,
     "metadata": {},
     "output_type": "execute_result"
    }
   ],
   "source": [
    "len(links)"
   ]
  },
  {
   "cell_type": "code",
   "execution_count": null,
   "id": "5228894d",
   "metadata": {},
   "outputs": [],
   "source": [
    "for url in links:\n",
    "    driver.get(url)\n",
    "    time.sleep(2)\n",
    "    try:\n",
    "        \n",
    "        all_reviews = driver.find_element_by_xpath('//div[@class=\"col JOpGWq\"]/a')\n",
    "        a =all_reviews.get_attribute('href')\n",
    "        driver.get(a)\n",
    "        driver.find_element_by_xpath('//*[@id=\"container\"]/div/div[3]/div/div[1]/div[2]/div[1]/div/div[2]/div/div/div/div/select').click()\n",
    "        driver.find_element_by_xpath('//select[@class=\"_1EDlbo tVKh2S\"]/option[@value=\"MOST_RECENT\"]').click()\n",
    "        driver.get(driver.current_url)\n",
    "        \n",
    "            \n",
    "        # Extracting stars      \n",
    "        try:\n",
    "            rating = driver.find_elements_by_xpath('//div[@class=\"col _2wzgFH K0kLPL\"]/div[1]/div[1]') \n",
    "            for r in rating:\n",
    "                Rating.append(r.text)\n",
    "        except NoSuchElementException:\n",
    "            Rating.append('-')\n",
    "        except StaleElementReferenceException:\n",
    "            Rating.append('-')\n",
    "\n",
    "        time.sleep(1)\n",
    "        # Extracting review\n",
    "        try:\n",
    "            review = driver.find_elements_by_xpath('//div[@class=\"t-ZTKy\"]/div/div') \n",
    "            for r in review:\n",
    "                Review.append(r.text)\n",
    "        except NoSuchElementException:\n",
    "            Review.append('-')\n",
    "        \n",
    "        time.sleep(1)\n",
    "        # Extracting review\n",
    "        try:\n",
    "            review_title = driver.find_elements_by_xpath('//p[@class=\"_2-N8zT\"]')  \n",
    "            for r in review_title:\n",
    "                Review_title.append(r.text)\n",
    "        except NoSuchElementException:\n",
    "            Review_title.append('-')\n",
    "    except TimeoutException:\n",
    "        pass\n",
    "    except NoSuchElementException:\n",
    "        pass"
   ]
  },
  {
   "cell_type": "code",
   "execution_count": 34,
   "id": "40b1976a",
   "metadata": {},
   "outputs": [],
   "source": [
    "# dictionary of lists \n",
    "dict4 = {'Rating': Rating, 'Review': Review, 'Review_title': Review_title} \n",
    "     \n",
    "df = pd.DataFrame(dict4)\n",
    "  \n",
    "# saving the dataframe\n",
    "df.to_csv('Flipkart2.csv')"
   ]
  },
  {
   "cell_type": "code",
   "execution_count": 35,
   "id": "b69fb74b",
   "metadata": {},
   "outputs": [],
   "source": [
    "# Opening the homepage of Amazon.in\n",
    "url = \"https://www.amazon.in/\"\n",
    "driver.get(url)\n",
    "\n",
    "time.sleep(2)\n",
    "search_bar = driver.find_element_by_id(\"twotabsearchtextbox\")    # Locating searc_bar by id\n",
    "search_bar.clear()                                               # clearing search_bar\n",
    "search_bar.send_keys('TV')                                   # sending user input to search bar\n",
    "search_button = driver.find_element_by_xpath('//div[@class=\"nav-search-submit nav-sprite\"]/span/input')       # Locating search_button by xpath\n",
    "search_button.click()  \n",
    "links=[] \n",
    "try:\n",
    "    for l in driver.find_elements_by_xpath('//a[@class=\"a-link-normal a-text-normal\"]'):\n",
    "        links.append(l.get_attribute('href'))\n",
    "        time.sleep(1)\n",
    "except NoSuchElementException:\n",
    "        links.append(\"-\")\n",
    "    "
   ]
  },
  {
   "cell_type": "code",
   "execution_count": 36,
   "id": "e34d54a8",
   "metadata": {},
   "outputs": [
    {
     "data": {
      "text/plain": [
       "0"
      ]
     },
     "execution_count": 36,
     "metadata": {},
     "output_type": "execute_result"
    }
   ],
   "source": [
    "len(links)"
   ]
  },
  {
   "cell_type": "code",
   "execution_count": 37,
   "id": "0d580c9e",
   "metadata": {},
   "outputs": [],
   "source": [
    "Rating=[]\n",
    "Review=[]\n",
    "Review_title=[]\n",
    "for url in links:\n",
    "    driver.get(url)\n",
    "    time.sleep(2)\n",
    "    try:\n",
    "        all_reviews = driver.find_element_by_xpath('//*[@id=\"reviews-medley-footer\"]/div[2]/a')\n",
    "        a =all_reviews.get_attribute('href')\n",
    "        driver.get(a)\n",
    "        driver.find_element_by_xpath('//*[@id=\"a-autoid-6-announce\"]').click()\n",
    "        driver.find_element_by_xpath('//*[@id=\"star-count-dropdown_4\"]').click()\n",
    "        driver.get(driver.current_url)\n",
    "             # Extracting stars        \n",
    "        try:\n",
    "            rating = driver.find_elements_by_xpath('//i[@data-hook=\"review-star-rating\"]/span')\n",
    "            for r in rating:\n",
    "                Rating.append(2)\n",
    "        except NoSuchElementException:\n",
    "            Rating.append('-')\n",
    "\n",
    "        time.sleep(1)\n",
    "        # Extracting review\n",
    "        try:\n",
    "            review = driver.find_elements_by_xpath('//div[@class=\"a-section celwidget\"]/div[4]') \n",
    "            for r in review:\n",
    "                Review.append(r.text)\n",
    "        except NoSuchElementException:\n",
    "            Review.append('-')\n",
    "\n",
    "        time.sleep(1)\n",
    "        # Extracting review\n",
    "        try:\n",
    "            review_title = driver.find_elements_by_xpath('//a[@data-hook=\"review-title\"]/span')      \n",
    "            for r in review_title:\n",
    "                Review_title.append(r.text)\n",
    "        except NoSuchElementException:\n",
    "            Review_title.append('-')\n",
    "        \n",
    "    except NoSuchElementException:\n",
    "        pass"
   ]
  },
  {
   "cell_type": "code",
   "execution_count": 38,
   "id": "e8b5cdbc",
   "metadata": {},
   "outputs": [],
   "source": [
    "# Opening the homepage of Amazon.in\n",
    "url = \"https://www.amazon.in/\"\n",
    "driver.get(url)\n",
    "\n",
    "time.sleep(2)\n",
    "search_bar = driver.find_element_by_id(\"twotabsearchtextbox\")    # Locating searc_bar by id\n",
    "search_bar.clear()                                               # clearing search_bar\n",
    "search_bar.send_keys('Headphones')                                   # sending user input to search bar\n",
    "search_button = driver.find_element_by_xpath('//div[@class=\"nav-search-submit nav-sprite\"]/span/input')       # Locating search_button by xpath\n",
    "search_button.click() \n",
    "links2=[]\n",
    "try:\n",
    "    for l in driver.find_elements_by_xpath('//a[@class=\"a-link-normal a-text-normal\"]'):\n",
    "        links2.append(l.get_attribute('href'))\n",
    "except NoSuchElementException:\n",
    "    links2.append(\"-\")"
   ]
  },
  {
   "cell_type": "code",
   "execution_count": null,
   "id": "6b8c4092",
   "metadata": {},
   "outputs": [],
   "source": [
    "len(links2)"
   ]
  },
  {
   "cell_type": "code",
   "execution_count": 39,
   "id": "8efaff75",
   "metadata": {},
   "outputs": [],
   "source": [
    "Rating2=[]\n",
    "Review2=[]\n",
    "Review_title2=[]\n",
    "for url in links2:\n",
    "    driver.get(url)\n",
    "    time.sleep(2)\n",
    "    try:\n",
    "        all_reviews = driver.find_element_by_xpath('//*[@id=\"reviews-medley-footer\"]/div[2]/a')\n",
    "        a =all_reviews.get_attribute('href')\n",
    "        driver.get(a)\n",
    "        driver.find_element_by_xpath('//*[@id=\"a-autoid-6-announce\"]').click()\n",
    "        driver.find_element_by_xpath('//*[@id=\"star-count-dropdown_4\"]').click()\n",
    "        driver.get(driver.current_url)\n",
    "             # Extracting stars        \n",
    "        try:\n",
    "            rating = driver.find_elements_by_xpath('//i[@data-hook=\"review-star-rating\"]/span')\n",
    "            for r in rating:\n",
    "                Rating2.append(2)\n",
    "        except NoSuchElementException:\n",
    "            Rating2.append('-')\n",
    "\n",
    "        time.sleep(1)\n",
    "        # Extracting review\n",
    "        try:\n",
    "            review = driver.find_elements_by_xpath('//div[@class=\"a-section celwidget\"]/div[4]') \n",
    "            for r in review:\n",
    "                Review2.append(r.text)\n",
    "        except NoSuchElementException:\n",
    "            Review2.append('-')\n",
    "\n",
    "        time.sleep(1)\n",
    "        # Extracting review\n",
    "        try:\n",
    "            review_title = driver.find_elements_by_xpath('//a[@data-hook=\"review-title\"]/span')      \n",
    "            for r in review_title:\n",
    "                Review_title2.append(r.text)\n",
    "        except NoSuchElementException:\n",
    "            Review_title2.append('-')\n",
    "        \n",
    "    except NoSuchElementException:\n",
    "        pass"
   ]
  },
  {
   "cell_type": "code",
   "execution_count": 40,
   "id": "55226b68",
   "metadata": {},
   "outputs": [],
   "source": [
    "# Opening the homepage of Amazon.in\n",
    "url = \"https://www.amazon.in/\"\n",
    "driver.get(url)\n",
    "\n",
    "time.sleep(2)\n",
    "search_bar = driver.find_element_by_id(\"twotabsearchtextbox\")    # Locating searc_bar by id\n",
    "search_bar.clear()                                               # clearing search_bar\n",
    "search_bar.send_keys('Phones')                                   # sending user input to search bar\n",
    "search_button = driver.find_element_by_xpath('//div[@class=\"nav-search-submit nav-sprite\"]/span/input')       # Locating search_button by xpath\n",
    "search_button.click() \n",
    "links3=[]\n",
    "try:\n",
    "    for l in driver.find_elements_by_xpath('//a[@class=\"a-link-normal a-text-normal\"]'):\n",
    "        links3.append(l.get_attribute('href'))\n",
    "except NoSuchElementException:\n",
    "    links3.append(\"-\")"
   ]
  },
  {
   "cell_type": "raw",
   "id": "163e58f7",
   "metadata": {},
   "source": [
    "len(links3)"
   ]
  },
  {
   "cell_type": "code",
   "execution_count": 43,
   "id": "8b841084",
   "metadata": {},
   "outputs": [],
   "source": [
    "Rating3=[]\n",
    "Review3=[]\n",
    "Review_title3=[]\n",
    "for url in links3:\n",
    "    driver.get(url)\n",
    "    time.sleep(2)\n",
    "    try:\n",
    "        all_reviews = driver.find_element_by_xpath('//*[@id=\"reviews-medley-footer\"]/div[2]/a')\n",
    "        a =all_reviews.get_attribute('href')\n",
    "        driver.get(a)\n",
    "        driver.find_element_by_xpath('//*[@id=\"a-autoid-6-announce\"]').click()\n",
    "        driver.find_element_by_xpath('//*[@id=\"star-count-dropdown_4\"]').click()\n",
    "        driver.get(driver.current_url)\n",
    "             # Extracting stars        \n",
    "        try:\n",
    "            rating = driver.find_elements_by_xpath('//i[@data-hook=\"review-star-rating\"]/span')\n",
    "            for r in rating:\n",
    "                Rating3.append(2)\n",
    "        except NoSuchElementException:\n",
    "            Rating3.append('-')\n",
    "\n",
    "        time.sleep(1)\n",
    "        # Extracting review\n",
    "        try:\n",
    "            review = driver.find_elements_by_xpath('//div[@class=\"a-section celwidget\"]/div[4]') \n",
    "            for r in review:\n",
    "                Review3.append(r.text)\n",
    "        except NoSuchElementException:\n",
    "            Review3.append('-')\n",
    "\n",
    "        time.sleep(1)\n",
    "        # Extracting review\n",
    "        try:\n",
    "            review_title = driver.find_elements_by_xpath('//a[@data-hook=\"review-title\"]/span')      \n",
    "            for r in review_title:\n",
    "                Review_title3.append(r.text)\n",
    "        except NoSuchElementException:\n",
    "            Review_title3.append('-')\n",
    "        \n",
    "    except NoSuchElementException:\n",
    "        pass"
   ]
  },
  {
   "cell_type": "code",
   "execution_count": 44,
   "id": "1ef62fc0",
   "metadata": {},
   "outputs": [],
   "source": [
    "# Opening the homepage of Amazon.in\n",
    "url = \"https://www.amazon.in/\"\n",
    "driver.get(url)\n",
    "\n",
    "time.sleep(2)\n",
    "search_bar = driver.find_element_by_id(\"twotabsearchtextbox\")    # Locating searc_bar by id\n",
    "search_bar.clear()                                               # clearing search_bar\n",
    "search_bar.send_keys('smart watches')                                   # sending user input to search bar\n",
    "search_button = driver.find_element_by_xpath('//div[@class=\"nav-search-submit nav-sprite\"]/span/input')       # Locating search_button by xpath\n",
    "search_button.click() \n",
    "links4=[]\n",
    "try:\n",
    "    for l in driver.find_elements_by_xpath('//a[@class=\"a-link-normal a-text-normal\"]'):\n",
    "        links4.append(l.get_attribute('href'))\n",
    "except NoSuchElementException:\n",
    "    links4.append(\"-\")"
   ]
  },
  {
   "cell_type": "raw",
   "id": "0cd9c48b",
   "metadata": {},
   "source": [
    "len(links4)"
   ]
  },
  {
   "cell_type": "code",
   "execution_count": 45,
   "id": "d0faaaed",
   "metadata": {},
   "outputs": [],
   "source": [
    "Rating4=[]\n",
    "Review4=[]\n",
    "Review_title4=[]\n",
    "for url in links4:\n",
    "    driver.get(url)\n",
    "    time.sleep(2)\n",
    "    try:\n",
    "        all_reviews = driver.find_element_by_xpath('//*[@id=\"reviews-medley-footer\"]/div[2]/a')\n",
    "        a =all_reviews.get_attribute('href')\n",
    "        driver.get(a)\n",
    "        driver.find_element_by_xpath('//*[@id=\"a-autoid-6-announce\"]').click()\n",
    "        driver.find_element_by_xpath('//*[@id=\"star-count-dropdown_4\"]').click()\n",
    "        driver.get(driver.current_url)\n",
    "             # Extracting stars        \n",
    "        try:\n",
    "            rating = driver.find_elements_by_xpath('//i[@data-hook=\"review-star-rating\"]/span')\n",
    "            for r in rating:\n",
    "                Rating4.append(2)\n",
    "        except NoSuchElementException:\n",
    "            Rating4.append('-')\n",
    "\n",
    "        time.sleep(1)\n",
    "        # Extracting review\n",
    "        try:\n",
    "            review = driver.find_elements_by_xpath('//div[@class=\"a-section celwidget\"]/div[4]') \n",
    "            for r in review:\n",
    "                Review4.append(r.text)\n",
    "        except NoSuchElementException:\n",
    "            Review4.append('-')\n",
    "\n",
    "        time.sleep(1)\n",
    "        # Extracting review\n",
    "        try:\n",
    "            review_title = driver.find_elements_by_xpath('//a[@data-hook=\"review-title\"]/span')      \n",
    "            for r in review_title:\n",
    "                Review_title4.append(r.text)\n",
    "        except NoSuchElementException:\n",
    "            Review_title4.append('-')\n",
    "        \n",
    "    except NoSuchElementException:\n",
    "        pass"
   ]
  },
  {
   "cell_type": "code",
   "execution_count": 46,
   "id": "69a1e278",
   "metadata": {},
   "outputs": [],
   "source": [
    "# Opening the homepage of Amazon.in\n",
    "url = \"https://www.amazon.in/\"\n",
    "driver.get(url)\n",
    "\n",
    "time.sleep(2)\n",
    "search_bar = driver.find_element_by_id(\"twotabsearchtextbox\")    # Locating searc_bar by id\n",
    "search_bar.clear()                                               # clearing search_bar\n",
    "search_bar.send_keys('Home theater')                                   # sending user input to search bar\n",
    "search_button = driver.find_element_by_xpath('//div[@class=\"nav-search-submit nav-sprite\"]/span/input')       # Locating search_button by xpath\n",
    "search_button.click() \n",
    "links6=[]\n",
    "try:\n",
    "    for l in driver.find_elements_by_xpath('//a[@class=\"a-link-normal a-text-normal\"]'):\n",
    "        links6.append(l.get_attribute('href'))\n",
    "except NoSuchElementException:\n",
    "    links6.append(\"-\")"
   ]
  },
  {
   "cell_type": "raw",
   "id": "f6893779",
   "metadata": {},
   "source": [
    "len(links6)"
   ]
  },
  {
   "cell_type": "code",
   "execution_count": 48,
   "id": "bbc9260f",
   "metadata": {},
   "outputs": [],
   "source": [
    "Rating6=[]\n",
    "Review6=[]\n",
    "Review_title6=[]\n",
    "for url in links6:\n",
    "    driver.get(url)\n",
    "    time.sleep(2)\n",
    "    try:\n",
    "        all_reviews = driver.find_element_by_xpath('//*[@id=\"reviews-medley-footer\"]/div[2]/a')\n",
    "        a =all_reviews.get_attribute('href')\n",
    "        driver.get(a)\n",
    "        driver.find_element_by_xpath('//*[@id=\"a-autoid-6-announce\"]').click()\n",
    "        driver.find_element_by_xpath('//*[@id=\"star-count-dropdown_4\"]').click()\n",
    "        driver.get(driver.current_url)\n",
    "             # Extracting stars        \n",
    "        try:\n",
    "            rating = driver.find_elements_by_xpath('//i[@data-hook=\"review-star-rating\"]/span')\n",
    "            for r in rating:\n",
    "                Rating6.append(2)\n",
    "        except NoSuchElementException:\n",
    "            Rating6.append('-')\n",
    "\n",
    "        time.sleep(1)\n",
    "        # Extracting review\n",
    "        try:\n",
    "            review = driver.find_elements_by_xpath('//div[@class=\"a-section celwidget\"]/div[4]') \n",
    "            for r in review:\n",
    "                Review6.append(r.text)\n",
    "        except NoSuchElementException:\n",
    "            Review6.append('-')\n",
    "\n",
    "        time.sleep(1)\n",
    "        # Extracting review\n",
    "        try:\n",
    "            review_title = driver.find_elements_by_xpath('//a[@data-hook=\"review-title\"]/span')      \n",
    "            for r in review_title:\n",
    "                Review_title6.append(r.text)\n",
    "        except NoSuchElementException:\n",
    "            Review_title6.append('-')\n",
    "        \n",
    "    except NoSuchElementException:\n",
    "        pass"
   ]
  },
  {
   "cell_type": "code",
   "execution_count": 49,
   "id": "5b25c0cf",
   "metadata": {},
   "outputs": [],
   "source": [
    "total_R= Rating + Rating2 + Rating3 + Rating4 + Rating6\n",
    "total_Re= Review + Review2 + Review3 + Review4 + Review6\n",
    "total_Rt= Review_title + Review_title2 + Review_title3 + Review_title4 + Review_title6"
   ]
  },
  {
   "cell_type": "code",
   "execution_count": 50,
   "id": "599922a2",
   "metadata": {},
   "outputs": [],
   "source": [
    "# dictionary of lists \n",
    "dict5 = {'Rating': total_R, 'Review': total_Re, 'Review_title': total_Rt} \n",
    "     \n",
    "df = pd.DataFrame(dict5)\n",
    "  \n",
    "# saving the dataframe\n",
    "df.to_csv('Amazon.csv')"
   ]
  },
  {
   "cell_type": "code",
   "execution_count": 66,
   "id": "9fc807b1",
   "metadata": {},
   "outputs": [],
   "source": [
    "filename=['Nykaa.csv', 'Snapdeal.csv','Flipkart2.csv','Amazon.csv']"
   ]
  },
  {
   "cell_type": "code",
   "execution_count": 67,
   "id": "106bd187",
   "metadata": {},
   "outputs": [],
   "source": [
    "combined_csv = pd.concat([pd.read_csv(f) for f in filename])"
   ]
  },
  {
   "cell_type": "code",
   "execution_count": 68,
   "id": "a3578b72",
   "metadata": {},
   "outputs": [],
   "source": [
    "combined_csv.to_excel( \"Rating.xlsx\", index=False, encoding='utf-8')"
   ]
  },
  {
   "cell_type": "code",
   "execution_count": 69,
   "id": "bb8e906e",
   "metadata": {},
   "outputs": [],
   "source": [
    "combined_csv.to_excel( \"Rating_combined.xlsx\", index=False, encoding='utf-8')"
   ]
  },
  {
   "cell_type": "code",
   "execution_count": 70,
   "id": "264c880a",
   "metadata": {},
   "outputs": [],
   "source": [
    "#end"
   ]
  },
  {
   "cell_type": "code",
   "execution_count": null,
   "id": "505512ff",
   "metadata": {},
   "outputs": [],
   "source": []
  }
 ],
 "metadata": {
  "kernelspec": {
   "display_name": "Python 3 (ipykernel)",
   "language": "python",
   "name": "python3"
  },
  "language_info": {
   "codemirror_mode": {
    "name": "ipython",
    "version": 3
   },
   "file_extension": ".py",
   "mimetype": "text/x-python",
   "name": "python",
   "nbconvert_exporter": "python",
   "pygments_lexer": "ipython3",
   "version": "3.9.7"
  }
 },
 "nbformat": 4,
 "nbformat_minor": 5
}
