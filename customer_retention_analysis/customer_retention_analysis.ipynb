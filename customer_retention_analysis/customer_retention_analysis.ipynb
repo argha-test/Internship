{
 "cells": [
  {
   "cell_type": "markdown",
   "id": "d78a1811",
   "metadata": {},
   "source": [
    "# problem statement:"
   ]
  },
  {
   "cell_type": "markdown",
   "id": "b10e3fd8",
   "metadata": {},
   "source": [
    "E-retail factors for customer activation and retention: A case study from Indian e-commerce customers\n",
    "\n",
    "Customer satisfaction has emerged as one of the most important factors that guarantee the success of online store; it has been posited as a key stimulant of purchase, repurchase intentions and customer loyalty. A comprehensive review of the literature, theories and models have been carried out to propose the models for customer activation and customer retention. Five major factors that contributed to the success of an e-commerce store have been identified as: service quality, system quality, information quality, trust and net benefit. The research furthermore investigated the factors that influence the online customers repeat purchase intention. The combination of both utilitarian value and hedonistic values are needed to affect the repeat purchase intention (loyalty) positively. The data is collected from the Indian online shoppers. Results indicate the e-retail success factors, which are very much critical for customer satisfaction."
   ]
  },
  {
   "cell_type": "code",
   "execution_count": 1,
   "id": "e56a99e0",
   "metadata": {},
   "outputs": [],
   "source": [
    "# Import Libraries\n",
    "import pandas as pd\n",
    "import seaborn as sns\n",
    "import numpy as np\n",
    "import matplotlib.pyplot as plt\n",
    "import warnings\n",
    "warnings.filterwarnings(\"ignore\")"
   ]
  },
  {
   "cell_type": "code",
   "execution_count": 2,
   "id": "0600b0c4",
   "metadata": {},
   "outputs": [],
   "source": [
    "# Load the data\n",
    "df=pd.read_excel('customer_retention_dataset.xlsx')"
   ]
  },
  {
   "cell_type": "code",
   "execution_count": 3,
   "id": "280bd6e8",
   "metadata": {},
   "outputs": [
    {
     "data": {
      "text/html": [
       "<div>\n",
       "<style scoped>\n",
       "    .dataframe tbody tr th:only-of-type {\n",
       "        vertical-align: middle;\n",
       "    }\n",
       "\n",
       "    .dataframe tbody tr th {\n",
       "        vertical-align: top;\n",
       "    }\n",
       "\n",
       "    .dataframe thead th {\n",
       "        text-align: right;\n",
       "    }\n",
       "</style>\n",
       "<table border=\"1\" class=\"dataframe\">\n",
       "  <thead>\n",
       "    <tr style=\"text-align: right;\">\n",
       "      <th></th>\n",
       "      <th>1Gender of respondent</th>\n",
       "      <th>2 How old are you?</th>\n",
       "      <th>3 Which city do you shop online from?</th>\n",
       "      <th>4 What is the Pin Code of where you shop online from?</th>\n",
       "      <th>5 Since How Long You are Shopping Online ?</th>\n",
       "      <th>6 How many times you have made an online purchase in the past 1 year?</th>\n",
       "      <th>7 How do you access the internet while shopping on-line?</th>\n",
       "      <th>8 Which device do you use to access the online shopping?</th>\n",
       "      <th>9 What is the screen size of your mobile device?\\t\\t\\t\\t\\t\\t</th>\n",
       "      <th>10 What is the operating system (OS) of your device?\\t\\t\\t\\t</th>\n",
       "      <th>...</th>\n",
       "      <th>Longer time to get logged in (promotion, sales period)</th>\n",
       "      <th>Longer time in displaying graphics and photos (promotion, sales period)</th>\n",
       "      <th>Late declaration of price (promotion, sales period)</th>\n",
       "      <th>Longer page loading time (promotion, sales period)</th>\n",
       "      <th>Limited mode of payment on most products (promotion, sales period)</th>\n",
       "      <th>Longer delivery period</th>\n",
       "      <th>Change in website/Application design</th>\n",
       "      <th>Frequent disruption when moving from one page to another</th>\n",
       "      <th>Website is as efficient as before</th>\n",
       "      <th>Which of the Indian online retailer would you recommend to a friend?</th>\n",
       "    </tr>\n",
       "  </thead>\n",
       "  <tbody>\n",
       "    <tr>\n",
       "      <th>0</th>\n",
       "      <td>Male</td>\n",
       "      <td>31-40 years</td>\n",
       "      <td>Delhi</td>\n",
       "      <td>110009</td>\n",
       "      <td>Above 4 years</td>\n",
       "      <td>31-40 times</td>\n",
       "      <td>Dial-up</td>\n",
       "      <td>Desktop</td>\n",
       "      <td>Others</td>\n",
       "      <td>Window/windows Mobile</td>\n",
       "      <td>...</td>\n",
       "      <td>Amazon.in</td>\n",
       "      <td>Amazon.in</td>\n",
       "      <td>Flipkart.com</td>\n",
       "      <td>Flipkart.com</td>\n",
       "      <td>Amazon.in</td>\n",
       "      <td>Paytm.com</td>\n",
       "      <td>Flipkart.com</td>\n",
       "      <td>Amazon.in</td>\n",
       "      <td>Amazon.in</td>\n",
       "      <td>Flipkart.com</td>\n",
       "    </tr>\n",
       "    <tr>\n",
       "      <th>1</th>\n",
       "      <td>Female</td>\n",
       "      <td>21-30 years</td>\n",
       "      <td>Delhi</td>\n",
       "      <td>110030</td>\n",
       "      <td>Above 4 years</td>\n",
       "      <td>41 times and above</td>\n",
       "      <td>Wi-Fi</td>\n",
       "      <td>Smartphone</td>\n",
       "      <td>4.7 inches</td>\n",
       "      <td>IOS/Mac</td>\n",
       "      <td>...</td>\n",
       "      <td>Amazon.in, Flipkart.com</td>\n",
       "      <td>Myntra.com</td>\n",
       "      <td>snapdeal.com</td>\n",
       "      <td>Snapdeal.com</td>\n",
       "      <td>Snapdeal.com</td>\n",
       "      <td>Snapdeal.com</td>\n",
       "      <td>Amazon.in</td>\n",
       "      <td>Myntra.com</td>\n",
       "      <td>Amazon.in, Flipkart.com</td>\n",
       "      <td>Amazon.in, Myntra.com</td>\n",
       "    </tr>\n",
       "    <tr>\n",
       "      <th>2</th>\n",
       "      <td>Female</td>\n",
       "      <td>21-30 years</td>\n",
       "      <td>Greater Noida</td>\n",
       "      <td>201308</td>\n",
       "      <td>3-4 years</td>\n",
       "      <td>41 times and above</td>\n",
       "      <td>Mobile Internet</td>\n",
       "      <td>Smartphone</td>\n",
       "      <td>5.5 inches</td>\n",
       "      <td>Android</td>\n",
       "      <td>...</td>\n",
       "      <td>Myntra.com</td>\n",
       "      <td>Myntra.com</td>\n",
       "      <td>Myntra.com</td>\n",
       "      <td>Myntra.com</td>\n",
       "      <td>Amazon.in</td>\n",
       "      <td>Paytm.com</td>\n",
       "      <td>Paytm.com</td>\n",
       "      <td>Paytm.com</td>\n",
       "      <td>Amazon.in</td>\n",
       "      <td>Amazon.in, Paytm.com, Myntra.com</td>\n",
       "    </tr>\n",
       "    <tr>\n",
       "      <th>3</th>\n",
       "      <td>Male</td>\n",
       "      <td>21-30 years</td>\n",
       "      <td>Karnal</td>\n",
       "      <td>132001</td>\n",
       "      <td>3-4 years</td>\n",
       "      <td>Less than 10 times</td>\n",
       "      <td>Mobile Internet</td>\n",
       "      <td>Smartphone</td>\n",
       "      <td>5.5 inches</td>\n",
       "      <td>IOS/Mac</td>\n",
       "      <td>...</td>\n",
       "      <td>Snapdeal.com</td>\n",
       "      <td>Myntra.com, Snapdeal.com</td>\n",
       "      <td>Myntra.com</td>\n",
       "      <td>Paytm.com</td>\n",
       "      <td>Paytm.com</td>\n",
       "      <td>Paytm.com</td>\n",
       "      <td>Amazon.in, Flipkart.com</td>\n",
       "      <td>Amazon.in, Flipkart.com</td>\n",
       "      <td>Amazon.in, Flipkart.com, Paytm.com</td>\n",
       "      <td>Amazon.in, Flipkart.com</td>\n",
       "    </tr>\n",
       "    <tr>\n",
       "      <th>4</th>\n",
       "      <td>Female</td>\n",
       "      <td>21-30 years</td>\n",
       "      <td>Bangalore</td>\n",
       "      <td>530068</td>\n",
       "      <td>2-3 years</td>\n",
       "      <td>11-20 times</td>\n",
       "      <td>Wi-Fi</td>\n",
       "      <td>Smartphone</td>\n",
       "      <td>4.7 inches</td>\n",
       "      <td>IOS/Mac</td>\n",
       "      <td>...</td>\n",
       "      <td>Flipkart.com, Paytm.com</td>\n",
       "      <td>Paytm.com</td>\n",
       "      <td>Paytm.com</td>\n",
       "      <td>Paytm.com</td>\n",
       "      <td>Snapdeal.com</td>\n",
       "      <td>Paytm.com</td>\n",
       "      <td>Amazon.in</td>\n",
       "      <td>Snapdeal.com</td>\n",
       "      <td>Paytm.com</td>\n",
       "      <td>Amazon.in, Myntra.com</td>\n",
       "    </tr>\n",
       "  </tbody>\n",
       "</table>\n",
       "<p>5 rows × 71 columns</p>\n",
       "</div>"
      ],
      "text/plain": [
       "  1Gender of respondent 2 How old are you?   \\\n",
       "0                  Male         31-40 years   \n",
       "1                Female         21-30 years   \n",
       "2                Female         21-30 years   \n",
       "3                  Male         21-30 years   \n",
       "4                Female         21-30 years   \n",
       "\n",
       "  3 Which city do you shop online from?  \\\n",
       "0                                 Delhi   \n",
       "1                                 Delhi   \n",
       "2                         Greater Noida   \n",
       "3                               Karnal    \n",
       "4                            Bangalore    \n",
       "\n",
       "   4 What is the Pin Code of where you shop online from?  \\\n",
       "0                                             110009       \n",
       "1                                             110030       \n",
       "2                                             201308       \n",
       "3                                             132001       \n",
       "4                                             530068       \n",
       "\n",
       "  5 Since How Long You are Shopping Online ?  \\\n",
       "0                              Above 4 years   \n",
       "1                              Above 4 years   \n",
       "2                                  3-4 years   \n",
       "3                                  3-4 years   \n",
       "4                                  2-3 years   \n",
       "\n",
       "  6 How many times you have made an online purchase in the past 1 year?  \\\n",
       "0                                        31-40 times                      \n",
       "1                                 41 times and above                      \n",
       "2                                 41 times and above                      \n",
       "3                                 Less than 10 times                      \n",
       "4                                        11-20 times                      \n",
       "\n",
       "  7 How do you access the internet while shopping on-line?  \\\n",
       "0                                            Dial-up         \n",
       "1                                              Wi-Fi         \n",
       "2                                    Mobile Internet         \n",
       "3                                    Mobile Internet         \n",
       "4                                              Wi-Fi         \n",
       "\n",
       "  8 Which device do you use to access the online shopping?  \\\n",
       "0                                            Desktop         \n",
       "1                                         Smartphone         \n",
       "2                                         Smartphone         \n",
       "3                                         Smartphone         \n",
       "4                                         Smartphone         \n",
       "\n",
       "  9 What is the screen size of your mobile device?\\t\\t\\t\\t\\t\\t                                          \\\n",
       "0                                             Others                                                     \n",
       "1                                         4.7 inches                                                     \n",
       "2                                         5.5 inches                                                     \n",
       "3                                         5.5 inches                                                     \n",
       "4                                         4.7 inches                                                     \n",
       "\n",
       "  10 What is the operating system (OS) of your device?\\t\\t\\t\\t                                            \\\n",
       "0                              Window/windows Mobile                                                       \n",
       "1                                            IOS/Mac                                                       \n",
       "2                                            Android                                                       \n",
       "3                                            IOS/Mac                                                       \n",
       "4                                            IOS/Mac                                                       \n",
       "\n",
       "   ... Longer time to get logged in (promotion, sales period)  \\\n",
       "0  ...                                          Amazon.in       \n",
       "1  ...                            Amazon.in, Flipkart.com       \n",
       "2  ...                                         Myntra.com       \n",
       "3  ...                                       Snapdeal.com       \n",
       "4  ...                            Flipkart.com, Paytm.com       \n",
       "\n",
       "  Longer time in displaying graphics and photos (promotion, sales period)  \\\n",
       "0                                          Amazon.in                        \n",
       "1                                         Myntra.com                        \n",
       "2                                         Myntra.com                        \n",
       "3                           Myntra.com, Snapdeal.com                        \n",
       "4                                          Paytm.com                        \n",
       "\n",
       "  Late declaration of price (promotion, sales period)  \\\n",
       "0                                       Flipkart.com    \n",
       "1                                       snapdeal.com    \n",
       "2                                         Myntra.com    \n",
       "3                                         Myntra.com    \n",
       "4                                          Paytm.com    \n",
       "\n",
       "  Longer page loading time (promotion, sales period)  \\\n",
       "0                                       Flipkart.com   \n",
       "1                                       Snapdeal.com   \n",
       "2                                         Myntra.com   \n",
       "3                                          Paytm.com   \n",
       "4                                          Paytm.com   \n",
       "\n",
       "  Limited mode of payment on most products (promotion, sales period)  \\\n",
       "0                                          Amazon.in                   \n",
       "1                                       Snapdeal.com                   \n",
       "2                                          Amazon.in                   \n",
       "3                                          Paytm.com                   \n",
       "4                                       Snapdeal.com                   \n",
       "\n",
       "  Longer delivery period Change in website/Application design  \\\n",
       "0              Paytm.com                         Flipkart.com   \n",
       "1           Snapdeal.com                            Amazon.in   \n",
       "2              Paytm.com                            Paytm.com   \n",
       "3              Paytm.com              Amazon.in, Flipkart.com   \n",
       "4              Paytm.com                            Amazon.in   \n",
       "\n",
       "  Frequent disruption when moving from one page to another  \\\n",
       "0                                          Amazon.in         \n",
       "1                                         Myntra.com         \n",
       "2                                          Paytm.com         \n",
       "3                            Amazon.in, Flipkart.com         \n",
       "4                                       Snapdeal.com         \n",
       "\n",
       "    Website is as efficient as before  \\\n",
       "0                           Amazon.in   \n",
       "1             Amazon.in, Flipkart.com   \n",
       "2                           Amazon.in   \n",
       "3  Amazon.in, Flipkart.com, Paytm.com   \n",
       "4                           Paytm.com   \n",
       "\n",
       "  Which of the Indian online retailer would you recommend to a friend?  \n",
       "0                                       Flipkart.com                    \n",
       "1                              Amazon.in, Myntra.com                    \n",
       "2                   Amazon.in, Paytm.com, Myntra.com                    \n",
       "3                            Amazon.in, Flipkart.com                    \n",
       "4                              Amazon.in, Myntra.com                    \n",
       "\n",
       "[5 rows x 71 columns]"
      ]
     },
     "execution_count": 3,
     "metadata": {},
     "output_type": "execute_result"
    }
   ],
   "source": [
    "# Check first 5 rows and columns of dataset\n",
    "df. head()"
   ]
  },
  {
   "cell_type": "code",
   "execution_count": 4,
   "id": "1f83b8a3",
   "metadata": {},
   "outputs": [],
   "source": [
    "#Lets make all features into more redable format\n",
    "df.columns = df.columns.str.replace('\\t','')#remove \\t from column name\n",
    "df.columns = df.columns.str.replace('^\\d+','') # remove digits/numbers from column name\n",
    "df.columns = df.columns.str.strip() # removed whitespace at the beginning and end (both sides)."
   ]
  },
  {
   "cell_type": "code",
   "execution_count": 5,
   "id": "c0852fc2",
   "metadata": {},
   "outputs": [
    {
     "data": {
      "text/plain": [
       "Gender of respondent                                                    object\n",
       "How old are you?                                                        object\n",
       "Which city do you shop online from?                                     object\n",
       "What is the Pin Code of where you shop online from?                      int64\n",
       "Since How Long You are Shopping Online ?                                object\n",
       "                                                                         ...  \n",
       "Longer delivery period                                                  object\n",
       "Change in website/Application design                                    object\n",
       "Frequent disruption when moving from one page to another                object\n",
       "Website is as efficient as before                                       object\n",
       "Which of the Indian online retailer would you recommend to a friend?    object\n",
       "Length: 71, dtype: object"
      ]
     },
     "execution_count": 5,
     "metadata": {},
     "output_type": "execute_result"
    }
   ],
   "source": [
    "df.dtypes"
   ]
  },
  {
   "cell_type": "code",
   "execution_count": 6,
   "id": "f23a196d",
   "metadata": {},
   "outputs": [
    {
     "data": {
      "text/plain": [
       "(269, 71)"
      ]
     },
     "execution_count": 6,
     "metadata": {},
     "output_type": "execute_result"
    }
   ],
   "source": [
    "df.shape"
   ]
  },
  {
   "cell_type": "code",
   "execution_count": 7,
   "id": "cc61be96",
   "metadata": {},
   "outputs": [
    {
     "data": {
      "text/plain": [
       "Index(['Gender of respondent', 'How old are you?',\n",
       "       'Which city do you shop online from?',\n",
       "       'What is the Pin Code of where you shop online from?',\n",
       "       'Since How Long You are Shopping Online ?',\n",
       "       'How many times you have made an online purchase in the past 1 year?',\n",
       "       'How do you access the internet while shopping on-line?',\n",
       "       'Which device do you use to access the online shopping?',\n",
       "       'What is the screen size of your mobile device?',\n",
       "       'What is the operating system (OS) of your device?',\n",
       "       'What browser do you run on your device to access the website?',\n",
       "       'Which channel did you follow to arrive at your favorite online store for the first time?',\n",
       "       'After first visit, how do you reach the online retail store?',\n",
       "       'How much time do you explore the e- retail store before making a purchase decision?',\n",
       "       'What is your preferred payment Option?',\n",
       "       'How frequently do you abandon (selecting an items and leaving without making payment) your shopping cart?',\n",
       "       'Why did you abandon the “Bag”, “Shopping Cart”?',\n",
       "       'The content on the website must be easy to read and understand',\n",
       "       'Information on similar product to the one highlighted  is important for product comparison',\n",
       "       'Complete information on listed seller and product being offered is important for purchase decision.',\n",
       "       'All relevant information on listed products must be stated clearly',\n",
       "       'Ease of navigation in website', 'Loading and processing speed',\n",
       "       'User friendly Interface of the website', 'Convenient Payment methods',\n",
       "       'Trust that the online retail store will fulfill its part of the transaction at the stipulated time',\n",
       "       'Empathy (readiness to assist with queries) towards the customers',\n",
       "       'Being able to guarantee the privacy of the customer',\n",
       "       'Responsiveness, availability of several communication channels (email, online rep, twitter, phone etc.)',\n",
       "       'Online shopping gives monetary benefit and discounts',\n",
       "       'Enjoyment is derived from shopping online',\n",
       "       'Shopping online is convenient and flexible',\n",
       "       'Return and replacement policy of the e-tailer is important for purchase decision',\n",
       "       'Gaining access to loyalty programs is a benefit of shopping online',\n",
       "       'Displaying quality Information on the website improves satisfaction of customers',\n",
       "       'User derive satisfaction while shopping on a good quality website or application',\n",
       "       'Net Benefit derived from shopping online can lead to users satisfaction',\n",
       "       'User satisfaction cannot exist without trust',\n",
       "       'Offering a wide variety of listed product in several category',\n",
       "       'Provision of complete and relevant product information',\n",
       "       'Monetary savings',\n",
       "       'The Convenience of patronizing the online retailer',\n",
       "       'Shopping on the website gives you the sense of adventure',\n",
       "       'Shopping on your preferred e-tailer enhances your social status',\n",
       "       'You feel gratification shopping on your favorite e-tailer',\n",
       "       'Shopping on the website helps you fulfill certain roles',\n",
       "       'Getting value for money spent',\n",
       "       'From the following, tick any (or all) of the online retailers you have shopped from;',\n",
       "       'Easy to use website or application',\n",
       "       'Visual appealing web-page layout', 'Wild variety of product on offer',\n",
       "       'Complete, relevant description information of products',\n",
       "       'Fast loading website speed of website and application',\n",
       "       'Reliability of the website or application',\n",
       "       'Quickness to complete purchase',\n",
       "       'Availability of several payment options', 'Speedy order delivery',\n",
       "       'Privacy of customers’ information',\n",
       "       'Security of customer financial information',\n",
       "       'Perceived Trustworthiness',\n",
       "       'Presence of online assistance through multi-channel',\n",
       "       'Longer time to get logged in (promotion, sales period)',\n",
       "       'Longer time in displaying graphics and photos (promotion, sales period)',\n",
       "       'Late declaration of price (promotion, sales period)',\n",
       "       'Longer page loading time (promotion, sales period)',\n",
       "       'Limited mode of payment on most products (promotion, sales period)',\n",
       "       'Longer delivery period', 'Change in website/Application design',\n",
       "       'Frequent disruption when moving from one page to another',\n",
       "       'Website is as efficient as before',\n",
       "       'Which of the Indian online retailer would you recommend to a friend?'],\n",
       "      dtype='object')"
      ]
     },
     "execution_count": 7,
     "metadata": {},
     "output_type": "execute_result"
    }
   ],
   "source": [
    "# Check the name of columns\n",
    "df.columns"
   ]
  },
  {
   "cell_type": "code",
   "execution_count": 8,
   "id": "7ca759e5",
   "metadata": {},
   "outputs": [],
   "source": [
    "#Renaming columns into a right form for easy & better understanding\n",
    "\n",
    "df.columns=['Gender', 'Age', 'city', 'Pin Code', 'How Long You are Shopping Online', 'How many times in the past 1 year', \n",
    "              'How do you access the internet', 'device', 'screen size', 'operating system', 'browser', \n",
    "              'channel', 'After first visit', 'How much times', 'payment Option', 'How frequently do you abandon', \n",
    "              'Why did you abandon', 'content on the website', 'similar product', 'Complete information', \n",
    "              'relevant information', 'Ease of navigation', 'Loading and processing speed', 'User friendly', \n",
    "              'Convenient Payment methods', 'Trust that the online retail store', 'Empathy towards the customers', \n",
    "              'privacy of the customer', 'Responsiveness and availability', 'monetary benefit and discounts', \n",
    "              'Enjoyment is derived from shopping online', 'Shopping online is convenient and flexible', \n",
    "              'Return and replacement policy', 'Gaining access to loyalty', 'quality Information on the website', \n",
    "              'User derive satisfaction', 'Net Benefit', 'User satisfaction cannot exist without trust',\n",
    "              'Offering a wide variety', 'Provision of complete and relevant product information', \n",
    "              'Monetary savings', 'The Convenience of patronizing the online retailer', 'sense of adventure', \n",
    "              'enhances your social status', 'gratification shopping on your favorite e-tailer', \n",
    "              'Shopping on the website helps you fulfill certain roles', 'Getting value for money spent',\n",
    "              'you have shopped from', 'Easy to use website or application', 'Visual appealing web-page layout',\n",
    "              'Wild variety of product on offer', 'Complete description information of products', \n",
    "              'Fast loading website speed of website and application', 'Reliability of the website or application', \n",
    "              'Quickness to complete purchase', 'Availability of several payment options', 'Speedy order delivery ', \n",
    "              'Privacy of customers’ information', 'Security of customer financial information', 'Perceived Trustworthiness', \n",
    "              'Presence of online assistance through multi-channel', 'Longer time to get logged in', \n",
    "              'Longer time in displaying graphics and photos', 'Late declaration of price', 'Longer page loading time',\n",
    "              'Limited mode of payment on most products', 'Longer delivery period', 'Change in website/Application design', \n",
    "              'Frequent disruption when moving from one page to another', 'Website is as efficient as before', \n",
    "              'Which of the Indian online retailer would you recommend to a friend']"
   ]
  },
  {
   "cell_type": "code",
   "execution_count": 9,
   "id": "a21ba35d",
   "metadata": {},
   "outputs": [
    {
     "data": {
      "text/html": [
       "<div>\n",
       "<style scoped>\n",
       "    .dataframe tbody tr th:only-of-type {\n",
       "        vertical-align: middle;\n",
       "    }\n",
       "\n",
       "    .dataframe tbody tr th {\n",
       "        vertical-align: top;\n",
       "    }\n",
       "\n",
       "    .dataframe thead th {\n",
       "        text-align: right;\n",
       "    }\n",
       "</style>\n",
       "<table border=\"1\" class=\"dataframe\">\n",
       "  <thead>\n",
       "    <tr style=\"text-align: right;\">\n",
       "      <th></th>\n",
       "      <th>Gender</th>\n",
       "      <th>Age</th>\n",
       "      <th>city</th>\n",
       "      <th>Pin Code</th>\n",
       "      <th>How Long You are Shopping Online</th>\n",
       "      <th>How many times in the past 1 year</th>\n",
       "      <th>How do you access the internet</th>\n",
       "      <th>device</th>\n",
       "      <th>screen size</th>\n",
       "      <th>operating system</th>\n",
       "      <th>...</th>\n",
       "      <th>Longer time to get logged in</th>\n",
       "      <th>Longer time in displaying graphics and photos</th>\n",
       "      <th>Late declaration of price</th>\n",
       "      <th>Longer page loading time</th>\n",
       "      <th>Limited mode of payment on most products</th>\n",
       "      <th>Longer delivery period</th>\n",
       "      <th>Change in website/Application design</th>\n",
       "      <th>Frequent disruption when moving from one page to another</th>\n",
       "      <th>Website is as efficient as before</th>\n",
       "      <th>Which of the Indian online retailer would you recommend to a friend</th>\n",
       "    </tr>\n",
       "  </thead>\n",
       "  <tbody>\n",
       "    <tr>\n",
       "      <th>0</th>\n",
       "      <td>False</td>\n",
       "      <td>False</td>\n",
       "      <td>False</td>\n",
       "      <td>False</td>\n",
       "      <td>False</td>\n",
       "      <td>False</td>\n",
       "      <td>False</td>\n",
       "      <td>False</td>\n",
       "      <td>False</td>\n",
       "      <td>False</td>\n",
       "      <td>...</td>\n",
       "      <td>False</td>\n",
       "      <td>False</td>\n",
       "      <td>False</td>\n",
       "      <td>False</td>\n",
       "      <td>False</td>\n",
       "      <td>False</td>\n",
       "      <td>False</td>\n",
       "      <td>False</td>\n",
       "      <td>False</td>\n",
       "      <td>False</td>\n",
       "    </tr>\n",
       "    <tr>\n",
       "      <th>1</th>\n",
       "      <td>False</td>\n",
       "      <td>False</td>\n",
       "      <td>False</td>\n",
       "      <td>False</td>\n",
       "      <td>False</td>\n",
       "      <td>False</td>\n",
       "      <td>False</td>\n",
       "      <td>False</td>\n",
       "      <td>False</td>\n",
       "      <td>False</td>\n",
       "      <td>...</td>\n",
       "      <td>False</td>\n",
       "      <td>False</td>\n",
       "      <td>False</td>\n",
       "      <td>False</td>\n",
       "      <td>False</td>\n",
       "      <td>False</td>\n",
       "      <td>False</td>\n",
       "      <td>False</td>\n",
       "      <td>False</td>\n",
       "      <td>False</td>\n",
       "    </tr>\n",
       "    <tr>\n",
       "      <th>2</th>\n",
       "      <td>False</td>\n",
       "      <td>False</td>\n",
       "      <td>False</td>\n",
       "      <td>False</td>\n",
       "      <td>False</td>\n",
       "      <td>False</td>\n",
       "      <td>False</td>\n",
       "      <td>False</td>\n",
       "      <td>False</td>\n",
       "      <td>False</td>\n",
       "      <td>...</td>\n",
       "      <td>False</td>\n",
       "      <td>False</td>\n",
       "      <td>False</td>\n",
       "      <td>False</td>\n",
       "      <td>False</td>\n",
       "      <td>False</td>\n",
       "      <td>False</td>\n",
       "      <td>False</td>\n",
       "      <td>False</td>\n",
       "      <td>False</td>\n",
       "    </tr>\n",
       "    <tr>\n",
       "      <th>3</th>\n",
       "      <td>False</td>\n",
       "      <td>False</td>\n",
       "      <td>False</td>\n",
       "      <td>False</td>\n",
       "      <td>False</td>\n",
       "      <td>False</td>\n",
       "      <td>False</td>\n",
       "      <td>False</td>\n",
       "      <td>False</td>\n",
       "      <td>False</td>\n",
       "      <td>...</td>\n",
       "      <td>False</td>\n",
       "      <td>False</td>\n",
       "      <td>False</td>\n",
       "      <td>False</td>\n",
       "      <td>False</td>\n",
       "      <td>False</td>\n",
       "      <td>False</td>\n",
       "      <td>False</td>\n",
       "      <td>False</td>\n",
       "      <td>False</td>\n",
       "    </tr>\n",
       "    <tr>\n",
       "      <th>4</th>\n",
       "      <td>False</td>\n",
       "      <td>False</td>\n",
       "      <td>False</td>\n",
       "      <td>False</td>\n",
       "      <td>False</td>\n",
       "      <td>False</td>\n",
       "      <td>False</td>\n",
       "      <td>False</td>\n",
       "      <td>False</td>\n",
       "      <td>False</td>\n",
       "      <td>...</td>\n",
       "      <td>False</td>\n",
       "      <td>False</td>\n",
       "      <td>False</td>\n",
       "      <td>False</td>\n",
       "      <td>False</td>\n",
       "      <td>False</td>\n",
       "      <td>False</td>\n",
       "      <td>False</td>\n",
       "      <td>False</td>\n",
       "      <td>False</td>\n",
       "    </tr>\n",
       "    <tr>\n",
       "      <th>...</th>\n",
       "      <td>...</td>\n",
       "      <td>...</td>\n",
       "      <td>...</td>\n",
       "      <td>...</td>\n",
       "      <td>...</td>\n",
       "      <td>...</td>\n",
       "      <td>...</td>\n",
       "      <td>...</td>\n",
       "      <td>...</td>\n",
       "      <td>...</td>\n",
       "      <td>...</td>\n",
       "      <td>...</td>\n",
       "      <td>...</td>\n",
       "      <td>...</td>\n",
       "      <td>...</td>\n",
       "      <td>...</td>\n",
       "      <td>...</td>\n",
       "      <td>...</td>\n",
       "      <td>...</td>\n",
       "      <td>...</td>\n",
       "      <td>...</td>\n",
       "    </tr>\n",
       "    <tr>\n",
       "      <th>264</th>\n",
       "      <td>False</td>\n",
       "      <td>False</td>\n",
       "      <td>False</td>\n",
       "      <td>False</td>\n",
       "      <td>False</td>\n",
       "      <td>False</td>\n",
       "      <td>False</td>\n",
       "      <td>False</td>\n",
       "      <td>False</td>\n",
       "      <td>False</td>\n",
       "      <td>...</td>\n",
       "      <td>False</td>\n",
       "      <td>False</td>\n",
       "      <td>False</td>\n",
       "      <td>False</td>\n",
       "      <td>False</td>\n",
       "      <td>False</td>\n",
       "      <td>False</td>\n",
       "      <td>False</td>\n",
       "      <td>False</td>\n",
       "      <td>False</td>\n",
       "    </tr>\n",
       "    <tr>\n",
       "      <th>265</th>\n",
       "      <td>False</td>\n",
       "      <td>False</td>\n",
       "      <td>False</td>\n",
       "      <td>False</td>\n",
       "      <td>False</td>\n",
       "      <td>False</td>\n",
       "      <td>False</td>\n",
       "      <td>False</td>\n",
       "      <td>False</td>\n",
       "      <td>False</td>\n",
       "      <td>...</td>\n",
       "      <td>False</td>\n",
       "      <td>False</td>\n",
       "      <td>False</td>\n",
       "      <td>False</td>\n",
       "      <td>False</td>\n",
       "      <td>False</td>\n",
       "      <td>False</td>\n",
       "      <td>False</td>\n",
       "      <td>False</td>\n",
       "      <td>False</td>\n",
       "    </tr>\n",
       "    <tr>\n",
       "      <th>266</th>\n",
       "      <td>False</td>\n",
       "      <td>False</td>\n",
       "      <td>False</td>\n",
       "      <td>False</td>\n",
       "      <td>False</td>\n",
       "      <td>False</td>\n",
       "      <td>False</td>\n",
       "      <td>False</td>\n",
       "      <td>False</td>\n",
       "      <td>False</td>\n",
       "      <td>...</td>\n",
       "      <td>False</td>\n",
       "      <td>False</td>\n",
       "      <td>False</td>\n",
       "      <td>False</td>\n",
       "      <td>False</td>\n",
       "      <td>False</td>\n",
       "      <td>False</td>\n",
       "      <td>False</td>\n",
       "      <td>False</td>\n",
       "      <td>False</td>\n",
       "    </tr>\n",
       "    <tr>\n",
       "      <th>267</th>\n",
       "      <td>False</td>\n",
       "      <td>False</td>\n",
       "      <td>False</td>\n",
       "      <td>False</td>\n",
       "      <td>False</td>\n",
       "      <td>False</td>\n",
       "      <td>False</td>\n",
       "      <td>False</td>\n",
       "      <td>False</td>\n",
       "      <td>False</td>\n",
       "      <td>...</td>\n",
       "      <td>False</td>\n",
       "      <td>False</td>\n",
       "      <td>False</td>\n",
       "      <td>False</td>\n",
       "      <td>False</td>\n",
       "      <td>False</td>\n",
       "      <td>False</td>\n",
       "      <td>False</td>\n",
       "      <td>False</td>\n",
       "      <td>False</td>\n",
       "    </tr>\n",
       "    <tr>\n",
       "      <th>268</th>\n",
       "      <td>False</td>\n",
       "      <td>False</td>\n",
       "      <td>False</td>\n",
       "      <td>False</td>\n",
       "      <td>False</td>\n",
       "      <td>False</td>\n",
       "      <td>False</td>\n",
       "      <td>False</td>\n",
       "      <td>False</td>\n",
       "      <td>False</td>\n",
       "      <td>...</td>\n",
       "      <td>False</td>\n",
       "      <td>False</td>\n",
       "      <td>False</td>\n",
       "      <td>False</td>\n",
       "      <td>False</td>\n",
       "      <td>False</td>\n",
       "      <td>False</td>\n",
       "      <td>False</td>\n",
       "      <td>False</td>\n",
       "      <td>False</td>\n",
       "    </tr>\n",
       "  </tbody>\n",
       "</table>\n",
       "<p>269 rows × 71 columns</p>\n",
       "</div>"
      ],
      "text/plain": [
       "     Gender    Age   city  Pin Code  How Long You are Shopping Online  \\\n",
       "0     False  False  False     False                             False   \n",
       "1     False  False  False     False                             False   \n",
       "2     False  False  False     False                             False   \n",
       "3     False  False  False     False                             False   \n",
       "4     False  False  False     False                             False   \n",
       "..      ...    ...    ...       ...                               ...   \n",
       "264   False  False  False     False                             False   \n",
       "265   False  False  False     False                             False   \n",
       "266   False  False  False     False                             False   \n",
       "267   False  False  False     False                             False   \n",
       "268   False  False  False     False                             False   \n",
       "\n",
       "     How many times in the past 1 year  How do you access the internet  \\\n",
       "0                                False                           False   \n",
       "1                                False                           False   \n",
       "2                                False                           False   \n",
       "3                                False                           False   \n",
       "4                                False                           False   \n",
       "..                                 ...                             ...   \n",
       "264                              False                           False   \n",
       "265                              False                           False   \n",
       "266                              False                           False   \n",
       "267                              False                           False   \n",
       "268                              False                           False   \n",
       "\n",
       "     device  screen size  operating system  ...  Longer time to get logged in  \\\n",
       "0     False        False             False  ...                         False   \n",
       "1     False        False             False  ...                         False   \n",
       "2     False        False             False  ...                         False   \n",
       "3     False        False             False  ...                         False   \n",
       "4     False        False             False  ...                         False   \n",
       "..      ...          ...               ...  ...                           ...   \n",
       "264   False        False             False  ...                         False   \n",
       "265   False        False             False  ...                         False   \n",
       "266   False        False             False  ...                         False   \n",
       "267   False        False             False  ...                         False   \n",
       "268   False        False             False  ...                         False   \n",
       "\n",
       "     Longer time in displaying graphics and photos  Late declaration of price  \\\n",
       "0                                            False                      False   \n",
       "1                                            False                      False   \n",
       "2                                            False                      False   \n",
       "3                                            False                      False   \n",
       "4                                            False                      False   \n",
       "..                                             ...                        ...   \n",
       "264                                          False                      False   \n",
       "265                                          False                      False   \n",
       "266                                          False                      False   \n",
       "267                                          False                      False   \n",
       "268                                          False                      False   \n",
       "\n",
       "     Longer page loading time  Limited mode of payment on most products  \\\n",
       "0                       False                                     False   \n",
       "1                       False                                     False   \n",
       "2                       False                                     False   \n",
       "3                       False                                     False   \n",
       "4                       False                                     False   \n",
       "..                        ...                                       ...   \n",
       "264                     False                                     False   \n",
       "265                     False                                     False   \n",
       "266                     False                                     False   \n",
       "267                     False                                     False   \n",
       "268                     False                                     False   \n",
       "\n",
       "     Longer delivery period  Change in website/Application design  \\\n",
       "0                     False                                 False   \n",
       "1                     False                                 False   \n",
       "2                     False                                 False   \n",
       "3                     False                                 False   \n",
       "4                     False                                 False   \n",
       "..                      ...                                   ...   \n",
       "264                   False                                 False   \n",
       "265                   False                                 False   \n",
       "266                   False                                 False   \n",
       "267                   False                                 False   \n",
       "268                   False                                 False   \n",
       "\n",
       "     Frequent disruption when moving from one page to another  \\\n",
       "0                                                False          \n",
       "1                                                False          \n",
       "2                                                False          \n",
       "3                                                False          \n",
       "4                                                False          \n",
       "..                                                 ...          \n",
       "264                                              False          \n",
       "265                                              False          \n",
       "266                                              False          \n",
       "267                                              False          \n",
       "268                                              False          \n",
       "\n",
       "     Website is as efficient as before  \\\n",
       "0                                False   \n",
       "1                                False   \n",
       "2                                False   \n",
       "3                                False   \n",
       "4                                False   \n",
       "..                                 ...   \n",
       "264                              False   \n",
       "265                              False   \n",
       "266                              False   \n",
       "267                              False   \n",
       "268                              False   \n",
       "\n",
       "     Which of the Indian online retailer would you recommend to a friend  \n",
       "0                                                False                    \n",
       "1                                                False                    \n",
       "2                                                False                    \n",
       "3                                                False                    \n",
       "4                                                False                    \n",
       "..                                                 ...                    \n",
       "264                                              False                    \n",
       "265                                              False                    \n",
       "266                                              False                    \n",
       "267                                              False                    \n",
       "268                                              False                    \n",
       "\n",
       "[269 rows x 71 columns]"
      ]
     },
     "execution_count": 9,
     "metadata": {},
     "output_type": "execute_result"
    }
   ],
   "source": [
    "df.isnull()"
   ]
  },
  {
   "cell_type": "markdown",
   "id": "fa5e0340",
   "metadata": {},
   "source": [
    "As there is no null values so for visualization I'll make some groups for analysing data"
   ]
  },
  {
   "cell_type": "code",
   "execution_count": 10,
   "id": "a4f6e372",
   "metadata": {},
   "outputs": [
    {
     "data": {
      "text/plain": [
       "Gender                                                                  2\n",
       "Age                                                                     5\n",
       "city                                                                   11\n",
       "Pin Code                                                               39\n",
       "How Long You are Shopping Online                                        5\n",
       "                                                                       ..\n",
       "Longer delivery period                                                  6\n",
       "Change in website/Application design                                    7\n",
       "Frequent disruption when moving from one page to another                8\n",
       "Website is as efficient as before                                       8\n",
       "Which of the Indian online retailer would you recommend to a friend     8\n",
       "Length: 71, dtype: int64"
      ]
     },
     "execution_count": 10,
     "metadata": {},
     "output_type": "execute_result"
    }
   ],
   "source": [
    "# Check Unique values of dataset\n",
    "df.nunique()"
   ]
  },
  {
   "cell_type": "code",
   "execution_count": 11,
   "id": "a0fdc8b8",
   "metadata": {},
   "outputs": [
    {
     "name": "stdout",
     "output_type": "stream",
     "text": [
      "<class 'pandas.core.frame.DataFrame'>\n",
      "RangeIndex: 269 entries, 0 to 268\n",
      "Data columns (total 71 columns):\n",
      " #   Column                                                               Non-Null Count  Dtype \n",
      "---  ------                                                               --------------  ----- \n",
      " 0   Gender                                                               269 non-null    object\n",
      " 1   Age                                                                  269 non-null    object\n",
      " 2   city                                                                 269 non-null    object\n",
      " 3   Pin Code                                                             269 non-null    int64 \n",
      " 4   How Long You are Shopping Online                                     269 non-null    object\n",
      " 5   How many times in the past 1 year                                    269 non-null    object\n",
      " 6   How do you access the internet                                       269 non-null    object\n",
      " 7   device                                                               269 non-null    object\n",
      " 8   screen size                                                          269 non-null    object\n",
      " 9   operating system                                                     269 non-null    object\n",
      " 10  browser                                                              269 non-null    object\n",
      " 11  channel                                                              269 non-null    object\n",
      " 12  After first visit                                                    269 non-null    object\n",
      " 13  How much times                                                       269 non-null    object\n",
      " 14  payment Option                                                       269 non-null    object\n",
      " 15  How frequently do you abandon                                        269 non-null    object\n",
      " 16  Why did you abandon                                                  269 non-null    object\n",
      " 17  content on the website                                               269 non-null    object\n",
      " 18  similar product                                                      269 non-null    object\n",
      " 19  Complete information                                                 269 non-null    object\n",
      " 20  relevant information                                                 269 non-null    object\n",
      " 21  Ease of navigation                                                   269 non-null    object\n",
      " 22  Loading and processing speed                                         269 non-null    object\n",
      " 23  User friendly                                                        269 non-null    object\n",
      " 24  Convenient Payment methods                                           269 non-null    object\n",
      " 25  Trust that the online retail store                                   269 non-null    object\n",
      " 26  Empathy towards the customers                                        269 non-null    object\n",
      " 27  privacy of the customer                                              269 non-null    object\n",
      " 28  Responsiveness and availability                                      269 non-null    object\n",
      " 29  monetary benefit and discounts                                       269 non-null    object\n",
      " 30  Enjoyment is derived from shopping online                            269 non-null    object\n",
      " 31  Shopping online is convenient and flexible                           269 non-null    object\n",
      " 32  Return and replacement policy                                        269 non-null    object\n",
      " 33  Gaining access to loyalty                                            269 non-null    object\n",
      " 34  quality Information on the website                                   269 non-null    object\n",
      " 35  User derive satisfaction                                             269 non-null    object\n",
      " 36  Net Benefit                                                          269 non-null    object\n",
      " 37  User satisfaction cannot exist without trust                         269 non-null    object\n",
      " 38  Offering a wide variety                                              269 non-null    object\n",
      " 39  Provision of complete and relevant product information               269 non-null    object\n",
      " 40  Monetary savings                                                     269 non-null    object\n",
      " 41  The Convenience of patronizing the online retailer                   269 non-null    object\n",
      " 42  sense of adventure                                                   269 non-null    object\n",
      " 43  enhances your social status                                          269 non-null    object\n",
      " 44  gratification shopping on your favorite e-tailer                     269 non-null    object\n",
      " 45  Shopping on the website helps you fulfill certain roles              269 non-null    object\n",
      " 46  Getting value for money spent                                        269 non-null    object\n",
      " 47  you have shopped from                                                269 non-null    object\n",
      " 48  Easy to use website or application                                   269 non-null    object\n",
      " 49  Visual appealing web-page layout                                     269 non-null    object\n",
      " 50  Wild variety of product on offer                                     269 non-null    object\n",
      " 51  Complete description information of products                         269 non-null    object\n",
      " 52  Fast loading website speed of website and application                269 non-null    object\n",
      " 53  Reliability of the website or application                            269 non-null    object\n",
      " 54  Quickness to complete purchase                                       269 non-null    object\n",
      " 55  Availability of several payment options                              269 non-null    object\n",
      " 56  Speedy order delivery                                                269 non-null    object\n",
      " 57  Privacy of customers’ information                                    269 non-null    object\n",
      " 58  Security of customer financial information                           269 non-null    object\n",
      " 59  Perceived Trustworthiness                                            269 non-null    object\n",
      " 60  Presence of online assistance through multi-channel                  269 non-null    object\n",
      " 61  Longer time to get logged in                                         269 non-null    object\n",
      " 62  Longer time in displaying graphics and photos                        269 non-null    object\n",
      " 63  Late declaration of price                                            269 non-null    object\n",
      " 64  Longer page loading time                                             269 non-null    object\n",
      " 65  Limited mode of payment on most products                             269 non-null    object\n",
      " 66  Longer delivery period                                               269 non-null    object\n",
      " 67  Change in website/Application design                                 269 non-null    object\n",
      " 68  Frequent disruption when moving from one page to another             269 non-null    object\n",
      " 69  Website is as efficient as before                                    269 non-null    object\n",
      " 70  Which of the Indian online retailer would you recommend to a friend  269 non-null    object\n",
      "dtypes: int64(1), object(70)\n",
      "memory usage: 149.3+ KB\n"
     ]
    }
   ],
   "source": [
    "#Getting information about each column which gives null value, count and data type\n",
    "\n",
    "df.info()"
   ]
  },
  {
   "cell_type": "code",
   "execution_count": 12,
   "id": "f619145e",
   "metadata": {},
   "outputs": [],
   "source": [
    "#This converts all the columns to string data type\n",
    "\n",
    "df[['Gender', 'Age', 'city', 'Pin Code', 'How Long You are Shopping Online', 'How many times in the past 1 year', \n",
    "              'How do you access the internet', 'device', 'screen size', 'operating system', 'browser', \n",
    "              'channel', 'After first visit', 'How much times', 'payment Option', 'How frequently do you abandon', \n",
    "              'Why did you abandon', 'content on the website', 'similar product', 'Complete information', \n",
    "              'relevant information', 'Ease of navigation', 'Loading and processing speed', 'User friendly', \n",
    "              'Convenient Payment methods', 'Trust that the online retail store', 'Empathy towards the customers', \n",
    "              'privacy of the customer', 'Responsiveness and availability', 'monetary benefit and discounts', \n",
    "              'Enjoyment is derived from shopping online', 'Shopping online is convenient and flexible', \n",
    "              'Return and replacement policy', 'Gaining access to loyalty', 'quality Information on the website', \n",
    "              'User derive satisfaction', 'Net Benefit', 'User satisfaction cannot exist without trust',\n",
    "              'Offering a wide variety', 'Provision of complete and relevant product information', \n",
    "              'Monetary savings', 'The Convenience of patronizing the online retailer', 'sense of adventure', \n",
    "              'enhances your social status', 'gratification shopping on your favorite e-tailer', \n",
    "              'Shopping on the website helps you fulfill certain roles', 'Getting value for money spent',\n",
    "              'you have shopped from', 'Easy to use website or application', 'Visual appealing web-page layout',\n",
    "              'Wild variety of product on offer', 'Complete description information of products', \n",
    "              'Fast loading website speed of website and application', 'Reliability of the website or application', \n",
    "              'Quickness to complete purchase', 'Availability of several payment options', 'Speedy order delivery ', \n",
    "              'Privacy of customers’ information', 'Security of customer financial information', 'Perceived Trustworthiness', \n",
    "              'Presence of online assistance through multi-channel', 'Longer time to get logged in', \n",
    "              'Longer time in displaying graphics and photos', 'Late declaration of price', 'Longer page loading time',\n",
    "              'Limited mode of payment on most products', 'Longer delivery period', 'Change in website/Application design', \n",
    "              'Frequent disruption when moving from one page to another', 'Website is as efficient as before', \n",
    "              'Which of the Indian online retailer would you recommend to a friend']] = df[['Gender', 'Age', \n",
    "              'city', 'Pin Code', 'How Long You are Shopping Online', 'How many times in the past 1 year', \n",
    "              'How do you access the internet', 'device', 'screen size', 'operating system', 'browser', \n",
    "              'channel', 'After first visit', 'How much times', 'payment Option', 'How frequently do you abandon', \n",
    "              'Why did you abandon', 'content on the website', 'similar product', 'Complete information', \n",
    "              'relevant information', 'Ease of navigation', 'Loading and processing speed', 'User friendly', \n",
    "              'Convenient Payment methods', 'Trust that the online retail store', 'Empathy towards the customers', \n",
    "              'privacy of the customer', 'Responsiveness and availability', 'monetary benefit and discounts', \n",
    "              'Enjoyment is derived from shopping online', 'Shopping online is convenient and flexible', \n",
    "              'Return and replacement policy', 'Gaining access to loyalty', 'quality Information on the website', \n",
    "              'User derive satisfaction', 'Net Benefit', 'User satisfaction cannot exist without trust',\n",
    "              'Offering a wide variety', 'Provision of complete and relevant product information', \n",
    "              'Monetary savings', 'The Convenience of patronizing the online retailer', 'sense of adventure', \n",
    "              'enhances your social status', 'gratification shopping on your favorite e-tailer', \n",
    "              'Shopping on the website helps you fulfill certain roles', 'Getting value for money spent',\n",
    "              'you have shopped from', 'Easy to use website or application', 'Visual appealing web-page layout',\n",
    "              'Wild variety of product on offer', 'Complete description information of products', \n",
    "              'Fast loading website speed of website and application', 'Reliability of the website or application', \n",
    "              'Quickness to complete purchase', 'Availability of several payment options', 'Speedy order delivery ', \n",
    "              'Privacy of customers’ information', 'Security of customer financial information', 'Perceived Trustworthiness', \n",
    "              'Presence of online assistance through multi-channel', 'Longer time to get logged in', \n",
    "              'Longer time in displaying graphics and photos', 'Late declaration of price', 'Longer page loading time',\n",
    "               'Limited mode of payment on most products', 'Longer delivery period', 'Change in website/Application design', \n",
    "              'Frequent disruption when moving from one page to another', 'Website is as efficient as before', \n",
    "              'Which of the Indian online retailer would you recommend to a friend']].astype(str)                                                                             "
   ]
  },
  {
   "cell_type": "code",
   "execution_count": 13,
   "id": "c72e58a2",
   "metadata": {},
   "outputs": [
    {
     "data": {
      "text/plain": [
       "Gender                                                                 object\n",
       "Age                                                                    object\n",
       "city                                                                   object\n",
       "Pin Code                                                               object\n",
       "How Long You are Shopping Online                                       object\n",
       "                                                                        ...  \n",
       "Longer delivery period                                                 object\n",
       "Change in website/Application design                                   object\n",
       "Frequent disruption when moving from one page to another               object\n",
       "Website is as efficient as before                                      object\n",
       "Which of the Indian online retailer would you recommend to a friend    object\n",
       "Length: 71, dtype: object"
      ]
     },
     "execution_count": 13,
     "metadata": {},
     "output_type": "execute_result"
    }
   ],
   "source": [
    "df.dtypes"
   ]
  },
  {
   "cell_type": "code",
   "execution_count": 14,
   "id": "7f3f79e4",
   "metadata": {},
   "outputs": [
    {
     "data": {
      "text/html": [
       "<div>\n",
       "<style scoped>\n",
       "    .dataframe tbody tr th:only-of-type {\n",
       "        vertical-align: middle;\n",
       "    }\n",
       "\n",
       "    .dataframe tbody tr th {\n",
       "        vertical-align: top;\n",
       "    }\n",
       "\n",
       "    .dataframe thead th {\n",
       "        text-align: right;\n",
       "    }\n",
       "</style>\n",
       "<table border=\"1\" class=\"dataframe\">\n",
       "  <thead>\n",
       "    <tr style=\"text-align: right;\">\n",
       "      <th></th>\n",
       "      <th>Gender</th>\n",
       "      <th>Age</th>\n",
       "      <th>city</th>\n",
       "      <th>Pin Code</th>\n",
       "      <th>How Long You are Shopping Online</th>\n",
       "      <th>How many times in the past 1 year</th>\n",
       "      <th>How do you access the internet</th>\n",
       "      <th>device</th>\n",
       "      <th>screen size</th>\n",
       "      <th>operating system</th>\n",
       "      <th>...</th>\n",
       "      <th>Longer time to get logged in</th>\n",
       "      <th>Longer time in displaying graphics and photos</th>\n",
       "      <th>Late declaration of price</th>\n",
       "      <th>Longer page loading time</th>\n",
       "      <th>Limited mode of payment on most products</th>\n",
       "      <th>Longer delivery period</th>\n",
       "      <th>Change in website/Application design</th>\n",
       "      <th>Frequent disruption when moving from one page to another</th>\n",
       "      <th>Website is as efficient as before</th>\n",
       "      <th>Which of the Indian online retailer would you recommend to a friend</th>\n",
       "    </tr>\n",
       "  </thead>\n",
       "  <tbody>\n",
       "    <tr>\n",
       "      <th>count</th>\n",
       "      <td>269</td>\n",
       "      <td>269</td>\n",
       "      <td>269</td>\n",
       "      <td>269</td>\n",
       "      <td>269</td>\n",
       "      <td>269</td>\n",
       "      <td>269</td>\n",
       "      <td>269</td>\n",
       "      <td>269</td>\n",
       "      <td>269</td>\n",
       "      <td>...</td>\n",
       "      <td>269</td>\n",
       "      <td>269</td>\n",
       "      <td>269</td>\n",
       "      <td>269</td>\n",
       "      <td>269</td>\n",
       "      <td>269</td>\n",
       "      <td>269</td>\n",
       "      <td>269</td>\n",
       "      <td>269</td>\n",
       "      <td>269</td>\n",
       "    </tr>\n",
       "    <tr>\n",
       "      <th>unique</th>\n",
       "      <td>2</td>\n",
       "      <td>5</td>\n",
       "      <td>11</td>\n",
       "      <td>39</td>\n",
       "      <td>5</td>\n",
       "      <td>6</td>\n",
       "      <td>4</td>\n",
       "      <td>4</td>\n",
       "      <td>4</td>\n",
       "      <td>3</td>\n",
       "      <td>...</td>\n",
       "      <td>10</td>\n",
       "      <td>10</td>\n",
       "      <td>8</td>\n",
       "      <td>11</td>\n",
       "      <td>8</td>\n",
       "      <td>6</td>\n",
       "      <td>7</td>\n",
       "      <td>8</td>\n",
       "      <td>8</td>\n",
       "      <td>8</td>\n",
       "    </tr>\n",
       "    <tr>\n",
       "      <th>top</th>\n",
       "      <td>Female</td>\n",
       "      <td>31-40 years</td>\n",
       "      <td>Delhi</td>\n",
       "      <td>201308</td>\n",
       "      <td>Above 4 years</td>\n",
       "      <td>Less than 10 times</td>\n",
       "      <td>Mobile internet</td>\n",
       "      <td>Smartphone</td>\n",
       "      <td>Others</td>\n",
       "      <td>Window/windows Mobile</td>\n",
       "      <td>...</td>\n",
       "      <td>Amazon.in</td>\n",
       "      <td>Amazon.in, Flipkart.com</td>\n",
       "      <td>Myntra.com</td>\n",
       "      <td>Myntra.com</td>\n",
       "      <td>Snapdeal.com</td>\n",
       "      <td>Paytm.com</td>\n",
       "      <td>Amazon.in</td>\n",
       "      <td>Amazon.in</td>\n",
       "      <td>Amazon.in</td>\n",
       "      <td>Amazon.in</td>\n",
       "    </tr>\n",
       "    <tr>\n",
       "      <th>freq</th>\n",
       "      <td>181</td>\n",
       "      <td>81</td>\n",
       "      <td>58</td>\n",
       "      <td>38</td>\n",
       "      <td>98</td>\n",
       "      <td>114</td>\n",
       "      <td>142</td>\n",
       "      <td>141</td>\n",
       "      <td>134</td>\n",
       "      <td>122</td>\n",
       "      <td>...</td>\n",
       "      <td>57</td>\n",
       "      <td>60</td>\n",
       "      <td>75</td>\n",
       "      <td>61</td>\n",
       "      <td>87</td>\n",
       "      <td>72</td>\n",
       "      <td>96</td>\n",
       "      <td>53</td>\n",
       "      <td>94</td>\n",
       "      <td>79</td>\n",
       "    </tr>\n",
       "  </tbody>\n",
       "</table>\n",
       "<p>4 rows × 71 columns</p>\n",
       "</div>"
      ],
      "text/plain": [
       "        Gender          Age   city Pin Code How Long You are Shopping Online  \\\n",
       "count      269          269    269      269                              269   \n",
       "unique       2            5     11       39                                5   \n",
       "top     Female  31-40 years  Delhi   201308                    Above 4 years   \n",
       "freq       181           81     58       38                               98   \n",
       "\n",
       "       How many times in the past 1 year How do you access the internet  \\\n",
       "count                                269                            269   \n",
       "unique                                 6                              4   \n",
       "top                   Less than 10 times                Mobile internet   \n",
       "freq                                 114                            142   \n",
       "\n",
       "            device screen size       operating system  ...  \\\n",
       "count          269         269                    269  ...   \n",
       "unique           4           4                      3  ...   \n",
       "top     Smartphone      Others  Window/windows Mobile  ...   \n",
       "freq           141         134                    122  ...   \n",
       "\n",
       "       Longer time to get logged in  \\\n",
       "count                           269   \n",
       "unique                           10   \n",
       "top                       Amazon.in   \n",
       "freq                             57   \n",
       "\n",
       "       Longer time in displaying graphics and photos  \\\n",
       "count                                            269   \n",
       "unique                                            10   \n",
       "top                          Amazon.in, Flipkart.com   \n",
       "freq                                              60   \n",
       "\n",
       "       Late declaration of price Longer page loading time  \\\n",
       "count                        269                      269   \n",
       "unique                         8                       11   \n",
       "top                   Myntra.com               Myntra.com   \n",
       "freq                          75                       61   \n",
       "\n",
       "       Limited mode of payment on most products Longer delivery period  \\\n",
       "count                                       269                    269   \n",
       "unique                                        8                      6   \n",
       "top                                Snapdeal.com              Paytm.com   \n",
       "freq                                         87                     72   \n",
       "\n",
       "       Change in website/Application design  \\\n",
       "count                                   269   \n",
       "unique                                    7   \n",
       "top                               Amazon.in   \n",
       "freq                                     96   \n",
       "\n",
       "       Frequent disruption when moving from one page to another  \\\n",
       "count                                                 269         \n",
       "unique                                                  8         \n",
       "top                                             Amazon.in         \n",
       "freq                                                   53         \n",
       "\n",
       "       Website is as efficient as before  \\\n",
       "count                                269   \n",
       "unique                                 8   \n",
       "top                            Amazon.in   \n",
       "freq                                  94   \n",
       "\n",
       "       Which of the Indian online retailer would you recommend to a friend  \n",
       "count                                                 269                   \n",
       "unique                                                  8                   \n",
       "top                                             Amazon.in                   \n",
       "freq                                                   79                   \n",
       "\n",
       "[4 rows x 71 columns]"
      ]
     },
     "execution_count": 14,
     "metadata": {},
     "output_type": "execute_result"
    }
   ],
   "source": [
    "df.describe()"
   ]
  },
  {
   "cell_type": "code",
   "execution_count": 15,
   "id": "c8302a96",
   "metadata": {},
   "outputs": [
    {
     "name": "stdout",
     "output_type": "stream",
     "text": [
      "Gender : ['Male' 'Female']\n",
      "Female    181\n",
      "Male       88\n",
      "Name: Gender, dtype: int64\n",
      "---------------------------------------------------------------\n",
      "\n",
      "\n",
      "Age : ['31-40 years' '21-30 years' '41-50 yaers' 'Less than 20 years'\n",
      " '51 years and above']\n",
      "31-40 years           81\n",
      "21-30 years           79\n",
      "41-50 yaers           70\n",
      "Less than 20 years    20\n",
      "51 years and above    19\n",
      "Name: Age, dtype: int64\n",
      "---------------------------------------------------------------\n",
      "\n",
      "\n",
      "city : ['Delhi' 'Greater Noida' 'Karnal ' 'Bangalore ' 'Noida' 'Solan'\n",
      " 'Moradabad' 'Gurgaon ' 'Merrut' 'Ghaziabad' 'Bulandshahr']\n",
      "Delhi            58\n",
      "Greater Noida    43\n",
      "Noida            40\n",
      "Bangalore        37\n",
      "Karnal           27\n",
      "Solan            18\n",
      "Ghaziabad        18\n",
      "Gurgaon          12\n",
      "Merrut            9\n",
      "Moradabad         5\n",
      "Bulandshahr       2\n",
      "Name: city, dtype: int64\n",
      "---------------------------------------------------------------\n",
      "\n",
      "\n",
      "Pin Code : ['110009' '110030' '201308' '132001' '530068' '110011' '110018' '173229'\n",
      " '110039' '244001' '122018' '201310' '560037' '203207' '250001' '201005'\n",
      " '110044' '201306' '560010' '201305' '110042' '132036' '560018' '110008'\n",
      " '560002' '201303' '201312' '203202' '560001' '201304' '560003' '110014'\n",
      " '560013' '173212' '122009' '201009' '201008' '201001' '203001']\n",
      "201308    38\n",
      "132001    19\n",
      "201310    18\n",
      "110044    16\n",
      "250001     9\n",
      "173229     9\n",
      "173212     9\n",
      "560010     8\n",
      "132036     8\n",
      "122018     8\n",
      "560037     8\n",
      "110008     7\n",
      "110011     7\n",
      "201306     7\n",
      "110014     6\n",
      "110018     6\n",
      "201305     5\n",
      "201008     5\n",
      "201009     5\n",
      "201312     5\n",
      "244001     5\n",
      "530068     5\n",
      "122009     4\n",
      "201001     4\n",
      "560003     4\n",
      "201304     4\n",
      "110009     4\n",
      "201303     4\n",
      "560002     4\n",
      "560018     4\n",
      "110042     4\n",
      "110030     4\n",
      "201005     4\n",
      "110039     4\n",
      "560013     3\n",
      "203001     2\n",
      "203202     1\n",
      "560001     1\n",
      "203207     1\n",
      "Name: Pin Code, dtype: int64\n",
      "---------------------------------------------------------------\n",
      "\n",
      "\n",
      "How Long You are Shopping Online : ['Above 4 years' '3-4 years' '2-3 years' 'Less than 1 year' '1-2 years']\n",
      "Above 4 years       98\n",
      "2-3 years           65\n",
      "3-4 years           47\n",
      "Less than 1 year    43\n",
      "1-2 years           16\n",
      "Name: How Long You are Shopping Online, dtype: int64\n",
      "---------------------------------------------------------------\n",
      "\n",
      "\n",
      "How many times in the past 1 year : ['31-40 times' '41 times and above' 'Less than 10 times' '11-20 times'\n",
      " '21-30 times' '42 times and above']\n",
      "Less than 10 times    114\n",
      "31-40 times            63\n",
      "41 times and above     47\n",
      "11-20 times            29\n",
      "21-30 times            10\n",
      "42 times and above      6\n",
      "Name: How many times in the past 1 year, dtype: int64\n",
      "---------------------------------------------------------------\n",
      "\n",
      "\n",
      "How do you access the internet : ['Dial-up' 'Wi-Fi' 'Mobile Internet' 'Mobile internet']\n",
      "Mobile internet    142\n",
      "Wi-Fi               76\n",
      "Mobile Internet     47\n",
      "Dial-up              4\n",
      "Name: How do you access the internet, dtype: int64\n",
      "---------------------------------------------------------------\n",
      "\n",
      "\n",
      "device : ['Desktop' 'Smartphone' 'Tablet' 'Laptop']\n",
      "Smartphone    141\n",
      "Laptop         86\n",
      "Desktop        30\n",
      "Tablet         12\n",
      "Name: device, dtype: int64\n",
      "---------------------------------------------------------------\n",
      "\n",
      "\n",
      "screen size : ['Others' '4.7 inches' '5.5 inches' '5 inches']\n",
      "Others        134\n",
      "5.5 inches     99\n",
      "4.7 inches     29\n",
      "5 inches        7\n",
      "Name: screen size, dtype: int64\n",
      "---------------------------------------------------------------\n",
      "\n",
      "\n",
      "operating system : ['Window/windows Mobile' 'IOS/Mac' 'Android']\n",
      "Window/windows Mobile    122\n",
      "Android                   85\n",
      "IOS/Mac                   62\n",
      "Name: operating system, dtype: int64\n",
      "---------------------------------------------------------------\n",
      "\n",
      "\n",
      "browser : ['Google chrome' 'Safari' 'Opera' 'Mozilla Firefox']\n",
      "Google chrome      216\n",
      "Safari              40\n",
      "Opera                8\n",
      "Mozilla Firefox      5\n",
      "Name: browser, dtype: int64\n",
      "---------------------------------------------------------------\n",
      "\n",
      "\n",
      "channel : ['Search Engine' 'Content Marketing' 'Display Adverts']\n",
      "Search Engine        230\n",
      "Content Marketing     20\n",
      "Display Adverts       19\n",
      "Name: channel, dtype: int64\n",
      "---------------------------------------------------------------\n",
      "\n",
      "\n",
      "After first visit : ['Search Engine' 'Via application' 'Direct URL' 'E-mail' 'Social Media']\n",
      "Search Engine      87\n",
      "Via application    86\n",
      "Direct URL         70\n",
      "E-mail             18\n",
      "Social Media        8\n",
      "Name: After first visit, dtype: int64\n",
      "---------------------------------------------------------------\n",
      "\n",
      "\n",
      "How much times : ['6-10 mins' 'more than 15 mins' '11-15 mins' '1-5 mins' 'Less than 1 min']\n",
      "more than 15 mins    123\n",
      "6-10 mins             71\n",
      "11-15 mins            46\n",
      "Less than 1 min       15\n",
      "1-5 mins              14\n",
      "Name: How much times, dtype: int64\n",
      "---------------------------------------------------------------\n",
      "\n",
      "\n",
      "payment Option : ['E-wallets (Paytm, Freecharge etc.)' 'Credit/Debit cards'\n",
      " 'Cash on delivery (CoD)']\n",
      "Credit/Debit cards                    148\n",
      "Cash on delivery (CoD)                 76\n",
      "E-wallets (Paytm, Freecharge etc.)     45\n",
      "Name: payment Option, dtype: int64\n",
      "---------------------------------------------------------------\n",
      "\n",
      "\n",
      "How frequently do you abandon : ['Sometimes' 'Very frequently' 'Never' 'Frequently']\n",
      "Sometimes          171\n",
      "Never               48\n",
      "Frequently          35\n",
      "Very frequently     15\n",
      "Name: How frequently do you abandon, dtype: int64\n",
      "---------------------------------------------------------------\n",
      "\n",
      "\n",
      "Why did you abandon : ['Lack of trust' 'Promo code not applicable' 'Better alternative offer'\n",
      " 'Change in price' 'No preferred mode of payment']\n",
      "Better alternative offer        133\n",
      "Promo code not applicable        54\n",
      "Change in price                  37\n",
      "Lack of trust                    31\n",
      "No preferred mode of payment     14\n",
      "Name: Why did you abandon, dtype: int64\n",
      "---------------------------------------------------------------\n",
      "\n",
      "\n",
      "content on the website : ['Agree (4)' 'Strongly agree (5)' 'Strongly disagree (1)'\n",
      " 'Indifferent (3)']\n",
      "Strongly agree (5)       164\n",
      "Agree (4)                 80\n",
      "Strongly disagree (1)     18\n",
      "Indifferent (3)            7\n",
      "Name: content on the website, dtype: int64\n",
      "---------------------------------------------------------------\n",
      "\n",
      "\n",
      "similar product : ['Indifferent (3)' 'Strongly agree (5)' 'Agree (4)' 'Dis-agree (2)']\n",
      "Strongly agree (5)    116\n",
      "Agree (4)              92\n",
      "Indifferent (3)        43\n",
      "Dis-agree (2)          18\n",
      "Name: similar product, dtype: int64\n",
      "---------------------------------------------------------------\n",
      "\n",
      "\n",
      "Complete information : ['Indifferent (3)' 'Strongly agree (5)' 'Agree (4)' 'Dis-agree (2)'\n",
      " 'Strongly disagree (1)']\n",
      "Agree (4)                101\n",
      "Strongly agree (5)        87\n",
      "Indifferent (3)           52\n",
      "Dis-agree (2)             18\n",
      "Strongly disagree (1)     11\n",
      "Name: Complete information, dtype: int64\n",
      "---------------------------------------------------------------\n",
      "\n",
      "\n",
      "relevant information : ['Agree (4)' 'Strongly agree (5)' 'Strongly disagree (1)' 'Dis-agree (2)']\n",
      "Agree (4)                132\n",
      "Strongly agree (5)       107\n",
      "Strongly disagree (1)     18\n",
      "Dis-agree (2)             12\n",
      "Name: relevant information, dtype: int64\n",
      "---------------------------------------------------------------\n",
      "\n",
      "\n",
      "Ease of navigation : ['Agree (4)' 'Strongly agree (5)' 'Strongly disagree (1)' 'Dis-agree (2)']\n",
      "Strongly agree (5)       141\n",
      "Agree (4)                105\n",
      "Strongly disagree (1)     18\n",
      "Dis-agree (2)              5\n",
      "Name: Ease of navigation, dtype: int64\n",
      "---------------------------------------------------------------\n",
      "\n",
      "\n",
      "Loading and processing speed : ['Strongly disagree (1)' 'Strongly agree (5)' 'Agree (4)' 'Dis-agree (2)'\n",
      " 'Indifferent (3)']\n",
      "Strongly agree (5)       115\n",
      "Agree (4)                112\n",
      "Dis-agree (2)             18\n",
      "Strongly disagree (1)     12\n",
      "Indifferent (3)           12\n",
      "Name: Loading and processing speed, dtype: int64\n",
      "---------------------------------------------------------------\n",
      "\n",
      "\n",
      "User friendly : ['Dis-agree (2)' 'Strongly agree (5)' 'Agree (4)' 'Strongly disagree (1)'\n",
      " 'Indifferent (3)']\n",
      "Strongly agree (5)       189\n",
      "Agree (4)                 45\n",
      "Strongly disagree (1)     18\n",
      "Dis-agree (2)             12\n",
      "Indifferent (3)            5\n",
      "Name: User friendly, dtype: int64\n",
      "---------------------------------------------------------------\n",
      "\n",
      "\n",
      "Convenient Payment methods : ['Dis-agree (2)' 'Strongly agree (5)' 'Agree (4)']\n",
      "Strongly agree (5)    159\n",
      "Agree (4)              80\n",
      "Dis-agree (2)          30\n",
      "Name: Convenient Payment methods, dtype: int64\n",
      "---------------------------------------------------------------\n",
      "\n",
      "\n",
      "Trust that the online retail store : ['Disagree (2)' 'Strongly agree (5)' 'Agree (4)' 'indifferent  (3)']\n",
      "Strongly agree (5)    141\n",
      "Agree (4)              86\n",
      "Disagree (2)           30\n",
      "indifferent  (3)       12\n",
      "Name: Trust that the online retail store, dtype: int64\n",
      "---------------------------------------------------------------\n",
      "\n",
      "\n",
      "Empathy towards the customers : ['Strongly agree (5)' 'Agree (4)' 'Strongly disagree (1)'\n",
      " 'indifferent (3)']\n",
      "Strongly agree (5)       194\n",
      "Agree (4)                 42\n",
      "Strongly disagree (1)     18\n",
      "indifferent (3)           15\n",
      "Name: Empathy towards the customers, dtype: int64\n",
      "---------------------------------------------------------------\n",
      "\n",
      "\n",
      "privacy of the customer : ['Agree (4)' 'Strongly agree (5)' 'indifferent (3)']\n",
      "Strongly agree (5)    185\n",
      "Agree (4)              58\n",
      "indifferent (3)        26\n",
      "Name: privacy of the customer, dtype: int64\n",
      "---------------------------------------------------------------\n",
      "\n",
      "\n",
      "Responsiveness and availability : ['Agree (4)' 'Strongly agree (5)' 'indifferent (3)'\n",
      " 'Strongly disagree (1)']\n",
      "Strongly agree (5)       149\n",
      "Agree (4)                 94\n",
      "indifferent (3)           15\n",
      "Strongly disagree (1)     11\n",
      "Name: Responsiveness and availability, dtype: int64\n",
      "---------------------------------------------------------------\n",
      "\n",
      "\n",
      "monetary benefit and discounts : ['indifferent (3)' 'Strongly agree (5)' 'Agree (4)'\n",
      " 'Strongly disagree (1)' 'Dis-agree (2)']\n",
      "Strongly agree (5)       105\n",
      "Agree (4)                 85\n",
      "indifferent (3)           50\n",
      "Strongly disagree (1)     18\n",
      "Dis-agree (2)             11\n",
      "Name: monetary benefit and discounts, dtype: int64\n",
      "---------------------------------------------------------------\n",
      "\n",
      "\n",
      "Enjoyment is derived from shopping online : ['Strongly disagree (1)' 'Strongly agree (5)' 'indifferent (3)'\n",
      " 'Agree (4)' 'Dis-agree (2)']\n",
      "Strongly agree (5)       86\n",
      "indifferent (3)          75\n",
      "Agree (4)                59\n",
      "Strongly disagree (1)    30\n",
      "Dis-agree (2)            19\n",
      "Name: Enjoyment is derived from shopping online, dtype: int64\n",
      "---------------------------------------------------------------\n",
      "\n",
      "\n",
      "Shopping online is convenient and flexible : ['Dis-agree (2)' 'Strongly agree (5)' 'indifferent (3)' 'Agree (4)']\n",
      "Strongly agree (5)    146\n",
      "Agree (4)              78\n",
      "indifferent (3)        33\n",
      "Dis-agree (2)          12\n",
      "Name: Shopping online is convenient and flexible, dtype: int64\n",
      "---------------------------------------------------------------\n",
      "\n",
      "\n",
      "Return and replacement policy : ['Dis-agree (2)' 'Strongly agree (5)' 'Agree (4)']\n",
      "Strongly agree (5)    198\n",
      "Agree (4)              51\n",
      "Dis-agree (2)          20\n",
      "Name: Return and replacement policy, dtype: int64\n",
      "---------------------------------------------------------------\n",
      "\n",
      "\n",
      "Gaining access to loyalty : ['Agree (4)' 'Strongly agree (5)' 'indifferent (3)' 'Dis-agree (2)'\n",
      " 'Strongly disagree (1)']\n",
      "Strongly agree (5)       115\n",
      "Agree (4)                 64\n",
      "indifferent (3)           64\n",
      "Dis-agree (2)             15\n",
      "Strongly disagree (1)     11\n",
      "Name: Gaining access to loyalty, dtype: int64\n",
      "---------------------------------------------------------------\n",
      "\n",
      "\n",
      "quality Information on the website : ['indifferent (3)' 'Strongly agree (5)' 'Agree (4)']\n",
      "Strongly agree (5)    133\n",
      "Agree (4)              80\n",
      "indifferent (3)        56\n",
      "Name: quality Information on the website, dtype: int64\n",
      "---------------------------------------------------------------\n",
      "\n",
      "\n",
      "User derive satisfaction : ['Strongly agree (5)' 'Agree (4)' 'Dis-agree (2)']\n",
      "Strongly agree (5)    175\n",
      "Agree (4)              86\n",
      "Dis-agree (2)           8\n",
      "Name: User derive satisfaction, dtype: int64\n",
      "---------------------------------------------------------------\n",
      "\n",
      "\n",
      "Net Benefit : ['Agree (4)' 'Strongly agree (5)' 'indifferent (3)' 'Dis-agree (2)']\n",
      "Strongly agree (5)    164\n",
      "Agree (4)              54\n",
      "indifferent (3)        40\n",
      "Dis-agree (2)          11\n",
      "Name: Net Benefit, dtype: int64\n",
      "---------------------------------------------------------------\n",
      "\n",
      "\n",
      "User satisfaction cannot exist without trust : ['Strongly agree (5)' 'Agree (4)' 'Strongly disagree (1)' 'Dis-agree (2)'\n",
      " 'indifferent (3)']\n",
      "Strongly agree (5)       122\n",
      "Agree (4)                117\n",
      "Strongly disagree (1)     18\n",
      "Dis-agree (2)              7\n",
      "indifferent (3)            5\n",
      "Name: User satisfaction cannot exist without trust, dtype: int64\n",
      "---------------------------------------------------------------\n",
      "\n",
      "\n",
      "Offering a wide variety : ['indifferent (3)' 'Strongly agree (5)' 'Agree (4)' 'Dis-agree (2)']\n",
      "Strongly agree (5)    111\n",
      "Agree (4)              94\n",
      "indifferent (3)        57\n",
      "Dis-agree (2)           7\n",
      "Name: Offering a wide variety, dtype: int64\n",
      "---------------------------------------------------------------\n",
      "\n",
      "\n",
      "Provision of complete and relevant product information : ['indifferent (3)' 'Strongly agree (5)' 'Agree (4)' 'Disagree (2)']\n",
      "Strongly agree (5)    135\n",
      "Agree (4)              98\n",
      "indifferent (3)        31\n",
      "Disagree (2)            5\n",
      "Name: Provision of complete and relevant product information, dtype: int64\n",
      "---------------------------------------------------------------\n",
      "\n",
      "\n",
      "Monetary savings : ['Disagree (2)' 'Strongly agree (5)' 'Agree (4)' 'indifferent (3)']\n",
      "Strongly agree (5)    148\n",
      "Agree (4)              75\n",
      "Disagree (2)           31\n",
      "indifferent (3)        15\n",
      "Name: Monetary savings, dtype: int64\n",
      "---------------------------------------------------------------\n",
      "\n",
      "\n",
      "The Convenience of patronizing the online retailer : ['indifferent (3)' 'Agree (4)' 'Strongly agree (5)']\n",
      "Agree (4)             138\n",
      "indifferent (3)        77\n",
      "Strongly agree (5)     54\n",
      "Name: The Convenience of patronizing the online retailer, dtype: int64\n",
      "---------------------------------------------------------------\n",
      "\n",
      "\n",
      "sense of adventure : ['Agree (4)' 'indifferent (3)' 'Strongly agree (5)' 'Dis-agree (2)'\n",
      " 'Strongly disagree (1)']\n",
      "Agree (4)                101\n",
      "indifferent (3)           59\n",
      "Strongly agree (5)        54\n",
      "Dis-agree (2)             50\n",
      "Strongly disagree (1)      5\n",
      "Name: sense of adventure, dtype: int64\n",
      "---------------------------------------------------------------\n",
      "\n",
      "\n",
      "enhances your social status : ['Agree (4)' 'indifferent (3)' 'Strongly agree (5)'\n",
      " 'Strongly disagree (1)' 'Dis-agree (2)']\n",
      "indifferent (3)          100\n",
      "Agree (4)                 59\n",
      "Strongly agree (5)        48\n",
      "Strongly disagree (1)     33\n",
      "Dis-agree (2)             29\n",
      "Name: enhances your social status, dtype: int64\n",
      "---------------------------------------------------------------\n",
      "\n",
      "\n",
      "gratification shopping on your favorite e-tailer : ['Strongly agree (5)' 'indifferent (3)' 'Agree (4)'\n",
      " 'Strongly disagree (1)' 'Disagree (2)']\n",
      "indifferent (3)          101\n",
      "Strongly agree (5)        65\n",
      "Agree (4)                 63\n",
      "Disagree (2)              22\n",
      "Strongly disagree (1)     18\n",
      "Name: gratification shopping on your favorite e-tailer, dtype: int64\n",
      "---------------------------------------------------------------\n",
      "\n",
      "\n",
      "Shopping on the website helps you fulfill certain roles : ['Agree (4)' 'Strongly agree (5)' 'indifferent (3)'\n",
      " 'Strongly disagree (1)' 'Dis-agree (2)']\n",
      "Agree (4)                88\n",
      "indifferent (3)          88\n",
      "Strongly agree (5)       38\n",
      "Strongly disagree (1)    33\n",
      "Dis-agree (2)            22\n",
      "Name: Shopping on the website helps you fulfill certain roles, dtype: int64\n",
      "---------------------------------------------------------------\n",
      "\n",
      "\n",
      "Getting value for money spent : ['Strongly agree (5)' 'Agree (4)' 'indifferent (3)']\n",
      "Agree (4)             149\n",
      "Strongly agree (5)     82\n",
      "indifferent (3)        38\n",
      "Name: Getting value for money spent, dtype: int64\n",
      "---------------------------------------------------------------\n",
      "\n",
      "\n",
      "you have shopped from : ['Amazon.in, Paytm.com'\n",
      " 'Amazon.in, Flipkart.com, Myntra.com, Snapdeal.com'\n",
      " 'Amazon.in, Paytm.com, Myntra.com'\n",
      " 'Amazon.in, Flipkart.com, Paytm.com, Myntra.com, Snapdeal.com'\n",
      " 'Amazon.in, Flipkart.com, Paytm.com, Snapdeal.com'\n",
      " 'Amazon.in, Flipkart.com' 'Amazon.in, Flipkart.com, Snapdeal.com'\n",
      " 'Amazon.in' 'Amazon.in, Flipkart.com, Paytm.com']\n",
      "Amazon.in, Flipkart.com, Paytm.com, Myntra.com, Snapdeal.com    82\n",
      "Amazon.in, Flipkart.com, Myntra.com, Snapdeal.com               44\n",
      "Amazon.in, Flipkart.com                                         32\n",
      "Amazon.in, Flipkart.com, Paytm.com, Snapdeal.com                29\n",
      "Amazon.in, Flipkart.com, Snapdeal.com                           27\n",
      "Amazon.in, Paytm.com, Myntra.com                                20\n",
      "Amazon.in                                                       16\n",
      "Amazon.in, Paytm.com                                            12\n",
      "Amazon.in, Flipkart.com, Paytm.com                               7\n",
      "Name: you have shopped from, dtype: int64\n",
      "---------------------------------------------------------------\n",
      "\n",
      "\n",
      "Easy to use website or application : ['Paytm.com' 'Amazon.in, Flipkart.com, Myntra.com, Snapdeal.com'\n",
      " 'Amazon.in, Paytm.com, Myntra.com'\n",
      " 'Amazon.in, Flipkart.com, Paytm.com, Myntra.com, Snapdeal.com'\n",
      " 'Amazon.in, Flipkart.com, Paytm.com, Snapdeal.com'\n",
      " 'Amazon.in, Flipkart.com' 'Amazon.in, Flipkart.com, Myntra.com'\n",
      " 'Amazon.in' 'Amazon.in, Paytm.com' 'Flipkart.com']\n",
      "Amazon.in, Flipkart.com, Paytm.com, Myntra.com, Snapdeal.com    64\n",
      "Amazon.in, Flipkart.com, Myntra.com, Snapdeal.com               44\n",
      "Amazon.in, Flipkart.com                                         44\n",
      "Amazon.in                                                       29\n",
      "Amazon.in, Flipkart.com, Paytm.com, Snapdeal.com                22\n",
      "Amazon.in, Paytm.com, Myntra.com                                20\n",
      "Amazon.in, Flipkart.com, Myntra.com                             19\n",
      "Paytm.com                                                       12\n",
      "Flipkart.com                                                     8\n",
      "Amazon.in, Paytm.com                                             7\n",
      "Name: Easy to use website or application, dtype: int64\n",
      "---------------------------------------------------------------\n",
      "\n",
      "\n",
      "Visual appealing web-page layout : ['Flipkart.com' 'Amazon.in, Myntra.com' 'Amazon.in, Paytm.com, Myntra.com'\n",
      " 'Amazon.in, Flipkart.com, Paytm.com, Myntra.com, Snapdeal.com'\n",
      " 'Myntra.com' 'Amazon.in, Flipkart.com'\n",
      " 'Amazon.in, Flipkart.com, Myntra.com, Snapdeal.com'\n",
      " 'Amazon.in, Flipkart.com, Paytm.com, Snapdeal.com'\n",
      " 'Flipkart.com, Myntra.com' 'Amazon.in']\n",
      "Amazon.in, Flipkart.com                                         87\n",
      "Amazon.in                                                       44\n",
      "Amazon.in, Flipkart.com, Paytm.com, Myntra.com, Snapdeal.com    36\n",
      "Amazon.in, Paytm.com, Myntra.com                                20\n",
      "Amazon.in, Myntra.com                                           15\n",
      "Myntra.com                                                      15\n",
      "Flipkart.com, Myntra.com                                        15\n",
      "Amazon.in, Flipkart.com, Myntra.com, Snapdeal.com               14\n",
      "Flipkart.com                                                    12\n",
      "Amazon.in, Flipkart.com, Paytm.com, Snapdeal.com                11\n",
      "Name: Visual appealing web-page layout, dtype: int64\n",
      "---------------------------------------------------------------\n",
      "\n",
      "\n",
      "Wild variety of product on offer : ['Flipkart.com' 'Flipkart.com, Myntra.com' 'Amazon.in, Myntra.com'\n",
      " 'Amazon.in, Flipkart.com' 'Myntra.com'\n",
      " 'Amazon.in, Flipkart.com, Paytm.com' 'Amazon.in'\n",
      " 'Amazon.in, Flipkart.com, Myntra.com, Snapdeal.com' 'Paytm.com']\n",
      "Amazon.in, Flipkart.com                              130\n",
      "Amazon.in                                             43\n",
      "Amazon.in, Myntra.com                                 20\n",
      "Flipkart.com, Myntra.com                              15\n",
      "Myntra.com                                            15\n",
      "Amazon.in, Flipkart.com, Myntra.com, Snapdeal.com     14\n",
      "Amazon.in, Flipkart.com, Paytm.com                    13\n",
      "Flipkart.com                                          12\n",
      "Paytm.com                                              7\n",
      "Name: Wild variety of product on offer, dtype: int64\n",
      "---------------------------------------------------------------\n",
      "\n",
      "\n",
      "Complete description information of products : ['Snapdeal.com' 'Amazon.in, Flipkart.com, Myntra.com'\n",
      " 'Amazon.in, Paytm.com, Myntra.com' 'Amazon.in, Flipkart.com'\n",
      " 'Amazon.in, Flipkart.com, Paytm.com, Myntra.com, Snapdeal.com'\n",
      " 'Amazon.in, Flipkart.com, Paytm.com' 'Flipkart.com, Snapdeal.com'\n",
      " 'Amazon.in, Flipkart.com, Myntra.com, Snapdeal.com' 'Amazon.in'\n",
      " 'Amazon.in, Flipkart.com, Snapdeal.com' 'Flipkart.com']\n",
      "Amazon.in, Flipkart.com                                         100\n",
      "Amazon.in                                                        43\n",
      "Amazon.in, Flipkart.com, Paytm.com                               24\n",
      "Amazon.in, Paytm.com, Myntra.com                                 20\n",
      "Amazon.in, Flipkart.com, Myntra.com                              15\n",
      "Amazon.in, Flipkart.com, Paytm.com, Myntra.com, Snapdeal.com     15\n",
      "Amazon.in, Flipkart.com, Myntra.com, Snapdeal.com                14\n",
      "Snapdeal.com                                                     12\n",
      "Flipkart.com, Snapdeal.com                                       11\n",
      "Flipkart.com                                                      8\n",
      "Amazon.in, Flipkart.com, Snapdeal.com                             7\n",
      "Name: Complete description information of products, dtype: int64\n",
      "---------------------------------------------------------------\n",
      "\n",
      "\n",
      "Fast loading website speed of website and application : ['Snapdeal.com' 'Amazon.in, Flipkart.com, Myntra.com'\n",
      " 'Amazon.in, Paytm.com' 'Amazon.in, Flipkart.com, Snapdeal.com'\n",
      " 'Amazon.in'\n",
      " 'Amazon.in, Flipkart.com, Paytm.com, Myntra.com, Snapdeal.com'\n",
      " 'Amazon.in, Flipkart.com, Paytm.com'\n",
      " 'Amazon.in, Flipkart.com, Myntra.com, Snapdeal.com'\n",
      " 'Amazon.in, Flipkart.com' 'Flipkart.com']\n",
      "Amazon.in                                                       51\n",
      "Amazon.in, Paytm.com                                            44\n",
      "Amazon.in, Flipkart.com, Myntra.com                             30\n",
      "Amazon.in, Flipkart.com, Paytm.com, Myntra.com, Snapdeal.com    30\n",
      "Amazon.in, Flipkart.com                                         30\n",
      "Amazon.in, Flipkart.com, Snapdeal.com                           25\n",
      "Amazon.in, Flipkart.com, Paytm.com                              25\n",
      "Amazon.in, Flipkart.com, Myntra.com, Snapdeal.com               14\n",
      "Snapdeal.com                                                    12\n",
      "Flipkart.com                                                     8\n",
      "Name: Fast loading website speed of website and application, dtype: int64\n",
      "---------------------------------------------------------------\n",
      "\n",
      "\n",
      "Reliability of the website or application : ['Paytm.com' 'Myntra.com' 'Amazon.in, Paytm.com, Myntra.com'\n",
      " 'Amazon.in, Flipkart.com, Paytm.com'\n",
      " 'Amazon.in, Flipkart.com, Paytm.com, Snapdeal.com'\n",
      " 'Amazon.in, Flipkart.com, Snapdeal.com' 'Amazon.in'\n",
      " 'Amazon.in, Flipkart.com, Myntra.com, Snapdeal.com'\n",
      " 'Amazon.in, Flipkart.com' 'Flipkart.com']\n",
      "Amazon.in                                            61\n",
      "Amazon.in, Flipkart.com                              50\n",
      "Amazon.in, Flipkart.com, Paytm.com                   36\n",
      "Amazon.in, Paytm.com, Myntra.com                     35\n",
      "Amazon.in, Flipkart.com, Snapdeal.com                18\n",
      "Myntra.com                                           15\n",
      "Flipkart.com                                         15\n",
      "Amazon.in, Flipkart.com, Myntra.com, Snapdeal.com    14\n",
      "Amazon.in, Flipkart.com, Paytm.com, Snapdeal.com     13\n",
      "Paytm.com                                            12\n",
      "Name: Reliability of the website or application, dtype: int64\n",
      "---------------------------------------------------------------\n",
      "\n",
      "\n",
      "Quickness to complete purchase : ['Paytm.com' 'Amazon.com, Flipkart.com, Myntra.com'\n",
      " 'Amazon.com, Paytm.com, Myntra.com' 'Amazon.com, Flipkart.com, Paytm.com'\n",
      " 'Amazon.com, Flipkart.com, Paytm.com, Myntra.com, Snapdeal' 'Amazon.com'\n",
      " 'Flipkart.com, Myntra.com, Snapdeal' 'Amazon.com, Flipkart.com'\n",
      " 'Flipkart.com']\n",
      "Amazon.com                                                   66\n",
      "Amazon.com, Flipkart.com, Paytm.com                          47\n",
      "Amazon.com, Flipkart.com                                     37\n",
      "Amazon.com, Flipkart.com, Myntra.com                         30\n",
      "Paytm.com                                                    25\n",
      "Amazon.com, Paytm.com, Myntra.com                            20\n",
      "Amazon.com, Flipkart.com, Paytm.com, Myntra.com, Snapdeal    15\n",
      "Flipkart.com                                                 15\n",
      "Flipkart.com, Myntra.com, Snapdeal                           14\n",
      "Name: Quickness to complete purchase, dtype: int64\n",
      "---------------------------------------------------------------\n",
      "\n",
      "\n",
      "Availability of several payment options : ['Patym.com' 'Amazon.in, Flipkart.com, Myntra.com' 'Patym.com, Myntra.com'\n",
      " 'Amazon.in, Flipkart.com, Patym.com, Myntra.com, Snapdeal.com'\n",
      " 'Amazon.in, Flipkart.com, Snapdeal.com' 'Amazon.in, Flipkart.com'\n",
      " 'Flipkart.com, Myntra.com, Snapdeal.com' 'Amazon.in, Patym.com'\n",
      " 'Amazon.in, Flipkart.com, Myntra.com, Snapdeal.com' 'Amazon.in'\n",
      " 'Flipkart.com']\n",
      "Amazon.in, Flipkart.com                                         65\n",
      "Amazon.in, Flipkart.com, Myntra.com                             40\n",
      "Amazon.in, Flipkart.com, Patym.com, Myntra.com, Snapdeal.com    39\n",
      "Amazon.in                                                       23\n",
      "Patym.com, Myntra.com                                           20\n",
      "Amazon.in, Flipkart.com, Myntra.com, Snapdeal.com               19\n",
      "Amazon.in, Flipkart.com, Snapdeal.com                           18\n",
      "Flipkart.com, Myntra.com, Snapdeal.com                          14\n",
      "Patym.com                                                       12\n",
      "Amazon.in, Patym.com                                            11\n",
      "Flipkart.com                                                     8\n",
      "Name: Availability of several payment options, dtype: int64\n",
      "---------------------------------------------------------------\n",
      "\n",
      "\n",
      "Speedy order delivery  : ['Amazon.in' 'Amazon.in, Flipkart.com'\n",
      " 'Amazon.in, Flipkart.com, Snapdeal.com'\n",
      " 'Flipkart.com, Myntra.com, Snapdeal.com'\n",
      " 'Amazon.in, Flipkart.com, Myntra.com' 'Flipkart.com']\n",
      "Amazon.in                                 107\n",
      "Amazon.in, Flipkart.com                    82\n",
      "Amazon.in, Flipkart.com, Snapdeal.com      36\n",
      "Amazon.in, Flipkart.com, Myntra.com        15\n",
      "Flipkart.com                               15\n",
      "Flipkart.com, Myntra.com, Snapdeal.com     14\n",
      "Name: Speedy order delivery , dtype: int64\n",
      "---------------------------------------------------------------\n",
      "\n",
      "\n",
      "Privacy of customers’ information : ['Amazon.in' 'Myntra.com' 'Amazon.in, Flipkart.com, Myntra.com'\n",
      " 'Amazon.in, Paytm.com'\n",
      " 'Amazon.in, Flipkart.com, Paytm.com, Myntra.com, Snapdeal.com'\n",
      " 'Paytm.com' 'Amazon.in, Flipkart.com, Myntra.com, Snapdeal.com'\n",
      " 'Amazon.in, Flipkart.com' 'Amazon.in, Flipkart.com, Paytm.com'\n",
      " 'Amazon.in, Flipkart.com, Snapdeal.com' 'Flipkart.com']\n",
      "Amazon.in                                                       71\n",
      "Amazon.in, Flipkart.com                                         54\n",
      "Amazon.in, Flipkart.com, Myntra.com                             25\n",
      "Amazon.in, Flipkart.com, Paytm.com, Myntra.com, Snapdeal.com    24\n",
      "Paytm.com                                                       18\n",
      "Myntra.com                                                      15\n",
      "Amazon.in, Paytm.com                                            15\n",
      "Flipkart.com                                                    15\n",
      "Amazon.in, Flipkart.com, Myntra.com, Snapdeal.com               14\n",
      "Amazon.in, Flipkart.com, Paytm.com                              11\n",
      "Amazon.in, Flipkart.com, Snapdeal.com                            7\n",
      "Name: Privacy of customers’ information, dtype: int64\n",
      "---------------------------------------------------------------\n",
      "\n",
      "\n",
      "Security of customer financial information : ['Amazon.in' 'Myntra.com' 'Amazon.in, Paytm.com, Myntra.com'\n",
      " 'Amazon.in, Flipkart.com, Snapdeal.com' 'Paytm.com'\n",
      " 'Amazon.in, Flipkart.com, Paytm.com, Myntra.com, Snapdeal.com'\n",
      " 'Flipkart.com' 'Amazon.in, Flipkart.com, Myntra.com, Snapdeal.com'\n",
      " 'Amazon.in, Flipkart.com' 'Amazon.in, Flipkart.com, Paytm.com'\n",
      " 'Amazon.in, Snapdeal.com']\n",
      "Amazon.in                                                       51\n",
      "Amazon.in, Flipkart.com, Paytm.com, Myntra.com, Snapdeal.com    42\n",
      "Flipkart.com                                                    33\n",
      "Amazon.in, Flipkart.com, Snapdeal.com                           25\n",
      "Amazon.in, Flipkart.com                                         24\n",
      "Amazon.in, Paytm.com, Myntra.com                                20\n",
      "Amazon.in, Snapdeal.com                                         19\n",
      "Myntra.com                                                      15\n",
      "Paytm.com                                                       15\n",
      "Amazon.in, Flipkart.com, Myntra.com, Snapdeal.com               14\n",
      "Amazon.in, Flipkart.com, Paytm.com                              11\n",
      "Name: Security of customer financial information, dtype: int64\n",
      "---------------------------------------------------------------\n",
      "\n",
      "\n"
     ]
    },
    {
     "name": "stdout",
     "output_type": "stream",
     "text": [
      "Perceived Trustworthiness : ['Flipkart.com' 'Myntra.com' 'Amazon.in, Myntra.com'\n",
      " 'Amazon.in, Flipkart.com, Snapdeal.com'\n",
      " 'Amazon.in, Flipkart.com, Paytm.com, Myntra.com, Snapdeal.com'\n",
      " 'Amazon.in' 'Amazon.in, Flipkart.com, Myntra.com, Snapdeal.com'\n",
      " 'Amazon.in, Flipkart.com' 'Amazon.in, Flipkart.com, Paytm.com']\n",
      "Amazon.in                                                       76\n",
      "Amazon.in, Flipkart.com, Snapdeal.com                           36\n",
      "Amazon.in, Myntra.com                                           35\n",
      "Amazon.in, Flipkart.com                                         31\n",
      "Flipkart.com                                                    27\n",
      "Amazon.in, Flipkart.com, Myntra.com, Snapdeal.com               25\n",
      "Myntra.com                                                      15\n",
      "Amazon.in, Flipkart.com, Paytm.com, Myntra.com, Snapdeal.com    13\n",
      "Amazon.in, Flipkart.com, Paytm.com                              11\n",
      "Name: Perceived Trustworthiness, dtype: int64\n",
      "---------------------------------------------------------------\n",
      "\n",
      "\n",
      "Presence of online assistance through multi-channel : ['Paytm.com' 'Amazon.in, Flipkart.com, Myntra.com' 'Myntra.com'\n",
      " 'Amazon.in, Flipkart.com, Myntra.com, Snapdeal' 'Amazon.in, Myntra.com'\n",
      " 'Amazon.in, Flipkart.com, Paytm.com' 'Amazon.in'\n",
      " 'Amazon.in, Flipkart.com' 'Amazon.in, Snapdeal' 'Flipkart.com']\n",
      "Amazon.in, Flipkart.com, Myntra.com, Snapdeal    61\n",
      "Amazon.in                                        60\n",
      "Amazon.in, Flipkart.com                          39\n",
      "Amazon.in, Snapdeal                              26\n",
      "Myntra.com                                       20\n",
      "Amazon.in, Flipkart.com, Myntra.com              15\n",
      "Amazon.in, Myntra.com                            15\n",
      "Amazon.in, Flipkart.com, Paytm.com               13\n",
      "Paytm.com                                        12\n",
      "Flipkart.com                                      8\n",
      "Name: Presence of online assistance through multi-channel, dtype: int64\n",
      "---------------------------------------------------------------\n",
      "\n",
      "\n",
      "Longer time to get logged in : ['Amazon.in' 'Amazon.in, Flipkart.com' 'Myntra.com' 'Snapdeal.com'\n",
      " 'Flipkart.com, Paytm.com' 'Flipkart.com, Paytm.com, Snapdeal.com'\n",
      " 'Amazon.in, Flipkart.com, Snapdeal.com' 'Paytm.com'\n",
      " 'Amazon.in, Paytm.com' 'Flipkart.com']\n",
      "Amazon.in                                57\n",
      "Amazon.in, Flipkart.com                  38\n",
      "Paytm.com                                38\n",
      "Myntra.com                               35\n",
      "Amazon.in, Flipkart.com, Snapdeal.com    29\n",
      "Snapdeal.com                             25\n",
      "Flipkart.com, Paytm.com                  15\n",
      "Flipkart.com, Paytm.com, Snapdeal.com    13\n",
      "Amazon.in, Paytm.com                     11\n",
      "Flipkart.com                              8\n",
      "Name: Longer time to get logged in, dtype: int64\n",
      "---------------------------------------------------------------\n",
      "\n",
      "\n",
      "Longer time in displaying graphics and photos : ['Amazon.in' 'Myntra.com' 'Myntra.com, Snapdeal.com' 'Paytm.com'\n",
      " 'Amazon.in, Paytm.com' 'Amazon.in, Flipkart.com'\n",
      " 'Amazon.in, Myntra.com, Snapdeal.com' 'Flipkart.com, Snapdeal.com'\n",
      " 'Snapdeal.com' 'Flipkart.com']\n",
      "Amazon.in, Flipkart.com                60\n",
      "Amazon.in                              39\n",
      "Myntra.com                             35\n",
      "Snapdeal.com                           34\n",
      "Myntra.com, Snapdeal.com               25\n",
      "Flipkart.com, Snapdeal.com             19\n",
      "Paytm.com                              15\n",
      "Flipkart.com                           15\n",
      "Amazon.in, Myntra.com, Snapdeal.com    14\n",
      "Amazon.in, Paytm.com                   13\n",
      "Name: Longer time in displaying graphics and photos, dtype: int64\n",
      "---------------------------------------------------------------\n",
      "\n",
      "\n",
      "Late declaration of price : ['Flipkart.com' 'snapdeal.com' 'Myntra.com' 'Paytm.com'\n",
      " 'Amazon.in, Paytm.com' 'Amazon.in' 'Paytm.com, snapdeal.com'\n",
      " 'Amazon.in, Flipkart.com']\n",
      "Myntra.com                 75\n",
      "Paytm.com                  52\n",
      "snapdeal.com               41\n",
      "Flipkart.com               38\n",
      "Amazon.in                  38\n",
      "Amazon.in, Paytm.com       13\n",
      "Paytm.com, snapdeal.com     7\n",
      "Amazon.in, Flipkart.com     5\n",
      "Name: Late declaration of price, dtype: int64\n",
      "---------------------------------------------------------------\n",
      "\n",
      "\n",
      "Longer page loading time : ['Flipkart.com' 'Snapdeal.com' 'Myntra.com' 'Paytm.com'\n",
      " 'Amazon.in, Paytm.com' 'Amazon.in, Flipkart.com'\n",
      " 'Amazon.in, Snapdeal.com' 'Flipkart.com, Snapdeal.com'\n",
      " 'Paytm.com, Snapdeal.com' 'Amazon.in' 'Amazon.in, Paytm.com, Myntra.com']\n",
      "Myntra.com                          61\n",
      "Paytm.com                           59\n",
      "Flipkart.com                        32\n",
      "Snapdeal.com                        23\n",
      "Amazon.in, Flipkart.com             18\n",
      "Amazon.in                           16\n",
      "Paytm.com, Snapdeal.com             15\n",
      "Amazon.in, Snapdeal.com             14\n",
      "Amazon.in, Paytm.com                13\n",
      "Flipkart.com, Snapdeal.com          11\n",
      "Amazon.in, Paytm.com, Myntra.com     7\n",
      "Name: Longer page loading time, dtype: int64\n",
      "---------------------------------------------------------------\n",
      "\n",
      "\n",
      "Limited mode of payment on most products : ['Amazon.in' 'Snapdeal.com' 'Paytm.com' 'Amazon.in, Paytm.com'\n",
      " 'Flipkart.com' 'Amazon.in, Flipkart.com' 'Paytm.com, Snapdeal.com'\n",
      " 'Myntra.com, Snapdeal.com']\n",
      "Snapdeal.com                87\n",
      "Amazon.in                   62\n",
      "Flipkart.com                31\n",
      "Amazon.in, Flipkart.com     29\n",
      "Paytm.com                   25\n",
      "Paytm.com, Snapdeal.com     15\n",
      "Amazon.in, Paytm.com        13\n",
      "Myntra.com, Snapdeal.com     7\n",
      "Name: Limited mode of payment on most products, dtype: int64\n",
      "---------------------------------------------------------------\n",
      "\n",
      "\n",
      "Longer delivery period : ['Paytm.com' 'Snapdeal.com' 'Flipkart.com' 'Amazon.in'\n",
      " 'Paytm.com, Snapdeal.com' 'Myntra.com']\n",
      "Paytm.com                  72\n",
      "Snapdeal.com               64\n",
      "Flipkart.com               44\n",
      "Amazon.in                  37\n",
      "Paytm.com, Snapdeal.com    26\n",
      "Myntra.com                 26\n",
      "Name: Longer delivery period, dtype: int64\n",
      "---------------------------------------------------------------\n",
      "\n",
      "\n",
      "Change in website/Application design : ['Flipkart.com' 'Amazon.in' 'Paytm.com' 'Amazon.in, Flipkart.com'\n",
      " 'Myntra.com' 'Snapdeal.com' 'Flipkart.com, Myntra.com']\n",
      "Amazon.in                   96\n",
      "Paytm.com                   63\n",
      "Amazon.in, Flipkart.com     45\n",
      "Myntra.com                  30\n",
      "Flipkart.com                20\n",
      "Snapdeal.com                 8\n",
      "Flipkart.com, Myntra.com     7\n",
      "Name: Change in website/Application design, dtype: int64\n",
      "---------------------------------------------------------------\n",
      "\n",
      "\n",
      "Frequent disruption when moving from one page to another : ['Amazon.in' 'Myntra.com' 'Paytm.com' 'Amazon.in, Flipkart.com'\n",
      " 'Snapdeal.com' 'Flipkart.com' 'Myntra.com, Snapdeal.com'\n",
      " 'Flipkart.com, Snapdeal.com']\n",
      "Amazon.in                     53\n",
      "Myntra.com                    52\n",
      "Snapdeal.com                  49\n",
      "Paytm.com                     39\n",
      "Flipkart.com                  26\n",
      "Amazon.in, Flipkart.com       25\n",
      "Myntra.com, Snapdeal.com      14\n",
      "Flipkart.com, Snapdeal.com    11\n",
      "Name: Frequent disruption when moving from one page to another, dtype: int64\n",
      "---------------------------------------------------------------\n",
      "\n",
      "\n",
      "Website is as efficient as before : ['Amazon.in' 'Amazon.in, Flipkart.com'\n",
      " 'Amazon.in, Flipkart.com, Paytm.com' 'Paytm.com' 'Snapdeal.com'\n",
      " 'Myntra.com, Snapdeal.com' 'Flipkart.com' 'Amazon.in, Paytm.com']\n",
      "Amazon.in                             94\n",
      "Flipkart.com                          47\n",
      "Amazon.in, Flipkart.com               45\n",
      "Amazon.in, Flipkart.com, Paytm.com    25\n",
      "Amazon.in, Paytm.com                  18\n",
      "Paytm.com                             15\n",
      "Myntra.com, Snapdeal.com              14\n",
      "Snapdeal.com                          11\n",
      "Name: Website is as efficient as before, dtype: int64\n",
      "---------------------------------------------------------------\n",
      "\n",
      "\n",
      "Which of the Indian online retailer would you recommend to a friend : ['Flipkart.com' 'Amazon.in, Myntra.com' 'Amazon.in, Paytm.com, Myntra.com'\n",
      " 'Amazon.in, Flipkart.com' 'Amazon.in, Paytm.com'\n",
      " 'Flipkart.com, Paytm.com, Myntra.com, snapdeal.com' 'Amazon.in'\n",
      " 'Amazon.in, Flipkart.com, Myntra.com']\n",
      "Amazon.in                                            79\n",
      "Amazon.in, Flipkart.com                              62\n",
      "Flipkart.com                                         39\n",
      "Amazon.in, Myntra.com                                30\n",
      "Amazon.in, Paytm.com, Myntra.com                     20\n",
      "Amazon.in, Flipkart.com, Myntra.com                  15\n",
      "Amazon.in, Paytm.com                                 13\n",
      "Flipkart.com, Paytm.com, Myntra.com, snapdeal.com    11\n",
      "Name: Which of the Indian online retailer would you recommend to a friend, dtype: int64\n",
      "---------------------------------------------------------------\n",
      "\n",
      "\n"
     ]
    }
   ],
   "source": [
    "# Exploring Categorical Columns\n",
    "\n",
    "for column in df.columns:\n",
    "    if df[column].dtypes == object:\n",
    "        print(str(column) + ' : ' + str(df[column].unique()))\n",
    "        print(df[column].value_counts())\n",
    "        print('---------------------------------------------------------------')\n",
    "        print('\\n')"
   ]
  },
  {
   "cell_type": "markdown",
   "id": "174f4305",
   "metadata": {},
   "source": [
    "# Exploratory data analysis"
   ]
  },
  {
   "cell_type": "markdown",
   "id": "848a8ffd",
   "metadata": {},
   "source": [
    "customer related analysis"
   ]
  },
  {
   "cell_type": "code",
   "execution_count": 16,
   "id": "33ef8a55",
   "metadata": {},
   "outputs": [
    {
     "name": "stdout",
     "output_type": "stream",
     "text": [
      "Female    181\n",
      "Male       88\n",
      "Name: Gender, dtype: int64\n"
     ]
    },
    {
     "data": {
      "text/plain": [
       "<AxesSubplot:>"
      ]
     },
     "execution_count": 16,
     "metadata": {},
     "output_type": "execute_result"
    },
    {
     "data": {
      "image/png": "[encoded data removed]",
      "text/plain": [
       "<Figure size 720x288 with 1 Axes>"
      ]
     },
     "metadata": {
      "needs_background": "light"
     },
     "output_type": "display_data"
    }
   ],
   "source": [
    "plt.figure(figsize=(10,4))\n",
    "plt.xticks(rotation=45)\n",
    "print(df['Gender'].value_counts())\n",
    "\n",
    "df['Gender'].value_counts().sort_index().plot.bar()"
   ]
  },
  {
   "cell_type": "markdown",
   "id": "fc3b0596",
   "metadata": {},
   "source": [
    "From the above analysis, it has been observed that around 70% of the customers are women"
   ]
  },
  {
   "cell_type": "code",
   "execution_count": 17,
   "id": "67589e63",
   "metadata": {},
   "outputs": [
    {
     "name": "stdout",
     "output_type": "stream",
     "text": [
      "31-40 years           81\n",
      "21-30 years           79\n",
      "41-50 yaers           70\n",
      "Less than 20 years    20\n",
      "51 years and above    19\n",
      "Name: Age, dtype: int64\n"
     ]
    },
    {
     "data": {
      "text/plain": [
       "<AxesSubplot:xlabel='Age', ylabel='count'>"
      ]
     },
     "execution_count": 17,
     "metadata": {},
     "output_type": "execute_result"
    },
    {
     "data": {
      "image/png": "[encoded data removed]",
      "text/plain": [
       "<Figure size 720x288 with 1 Axes>"
      ]
     },
     "metadata": {
      "needs_background": "light"
     },
     "output_type": "display_data"
    }
   ],
   "source": [
    "plt.figure(figsize=(10,4))\n",
    "plt.xticks(rotation=45)\n",
    "print(df['Age'].value_counts())\n",
    "sns.countplot(df['Age'])"
   ]
  },
  {
   "cell_type": "markdown",
   "id": "e4cb25a7",
   "metadata": {},
   "source": [
    "Most of the customers are aged between 31 to 40 years do online shopping,\n",
    "\n",
    "next comes the customers aged between 21 to 30 yers old and so on as shown in graph above"
   ]
  },
  {
   "cell_type": "code",
   "execution_count": 18,
   "id": "9f732b24",
   "metadata": {},
   "outputs": [
    {
     "name": "stdout",
     "output_type": "stream",
     "text": [
      "Delhi            58\n",
      "Greater Noida    43\n",
      "Noida            40\n",
      "Bangalore        37\n",
      "Karnal           27\n",
      "Solan            18\n",
      "Ghaziabad        18\n",
      "Gurgaon          12\n",
      "Merrut            9\n",
      "Moradabad         5\n",
      "Bulandshahr       2\n",
      "Name: city, dtype: int64\n"
     ]
    },
    {
     "data": {
      "text/plain": [
       "<AxesSubplot:xlabel='city', ylabel='count'>"
      ]
     },
     "execution_count": 18,
     "metadata": {},
     "output_type": "execute_result"
    },
    {
     "data": {
      "image/png": "[encoded data removed]",
      "text/plain": [
       "<Figure size 720x288 with 1 Axes>"
      ]
     },
     "metadata": {
      "needs_background": "light"
     },
     "output_type": "display_data"
    }
   ],
   "source": [
    "plt.figure(figsize=(10,4))\n",
    "plt.xticks(rotation=45)\n",
    "\n",
    "print(df['city'].value_counts())\n",
    "sns.countplot(df['city'])"
   ]
  },
  {
   "cell_type": "markdown",
   "id": "c6a4330c",
   "metadata": {},
   "source": [
    "Customers from delhi have the highest online shopping actions than comes the greater noida and least online shopping is in bulandshahar\n",
    "\n",
    "So we can also say that the people from Metro Cities like Delhi-NCR, Bangalore are more preferred or active on online shopping sites"
   ]
  },
  {
   "cell_type": "code",
   "execution_count": 19,
   "id": "a67042e3",
   "metadata": {},
   "outputs": [
    {
     "name": "stdout",
     "output_type": "stream",
     "text": [
      "Mobile internet    142\n",
      "Wi-Fi               76\n",
      "Mobile Internet     47\n",
      "Dial-up              4\n",
      "Name: How do you access the internet, dtype: int64\n"
     ]
    },
    {
     "data": {
      "text/plain": [
       "<AxesSubplot:>"
      ]
     },
     "execution_count": 19,
     "metadata": {},
     "output_type": "execute_result"
    },
    {
     "data": {
      "image/png": "[encoded data removed]",
      "text/plain": [
       "<Figure size 720x288 with 1 Axes>"
      ]
     },
     "metadata": {
      "needs_background": "light"
     },
     "output_type": "display_data"
    }
   ],
   "source": [
    "plt.figure(figsize=(10,4))\n",
    "plt.xticks(rotation=45)\n",
    "print(df['How do you access the internet'].value_counts())\n",
    "df['How do you access the internet'].value_counts().plot.line()"
   ]
  },
  {
   "cell_type": "code",
   "execution_count": 20,
   "id": "14c38a60",
   "metadata": {},
   "outputs": [
    {
     "name": "stdout",
     "output_type": "stream",
     "text": [
      "Smartphone    141\n",
      "Laptop         86\n",
      "Desktop        30\n",
      "Tablet         12\n",
      "Name: device, dtype: int64\n"
     ]
    },
    {
     "data": {
      "text/plain": [
       "<AxesSubplot:xlabel='device', ylabel='count'>"
      ]
     },
     "execution_count": 20,
     "metadata": {},
     "output_type": "execute_result"
    },
    {
     "data": {
      "image/png": "[encoded data removed]",
      "text/plain": [
       "<Figure size 720x288 with 1 Axes>"
      ]
     },
     "metadata": {
      "needs_background": "light"
     },
     "output_type": "display_data"
    }
   ],
   "source": [
    "# Checking the number of people using which device for online shopping\n",
    "plt.figure(figsize=(10,4))\n",
    "plt.xticks(rotation=45)\n",
    "print(df['device'].value_counts())\n",
    "sns.countplot(df['device'])"
   ]
  },
  {
   "cell_type": "code",
   "execution_count": 21,
   "id": "5bd6be4e",
   "metadata": {},
   "outputs": [
    {
     "name": "stdout",
     "output_type": "stream",
     "text": [
      "Above 4 years       98\n",
      "2-3 years           65\n",
      "3-4 years           47\n",
      "Less than 1 year    43\n",
      "1-2 years           16\n",
      "Name: How Long You are Shopping Online, dtype: int64\n"
     ]
    },
    {
     "data": {
      "text/plain": [
       "<AxesSubplot:>"
      ]
     },
     "execution_count": 21,
     "metadata": {},
     "output_type": "execute_result"
    },
    {
     "data": {
      "image/png": "[encoded data removed]",
      "text/plain": [
       "<Figure size 720x288 with 1 Axes>"
      ]
     },
     "metadata": {
      "needs_background": "light"
     },
     "output_type": "display_data"
    }
   ],
   "source": [
    "plt.figure(figsize=(10,4))\n",
    "plt.xticks(rotation=45)\n",
    "print(df['How Long You are Shopping Online'].value_counts())\n",
    "df['How Long You are Shopping Online'].value_counts().plot.line()"
   ]
  },
  {
   "cell_type": "markdown",
   "id": "12836ebd",
   "metadata": {},
   "source": [
    "Here we can see that mostly people are using smartphone for online shopping , So we can say that people are very comfortable to use smartphone and It is more easier to operate than other device"
   ]
  },
  {
   "cell_type": "code",
   "execution_count": 22,
   "id": "46459fe2",
   "metadata": {},
   "outputs": [
    {
     "name": "stdout",
     "output_type": "stream",
     "text": [
      "Window/windows Mobile    122\n",
      "Android                   85\n",
      "IOS/Mac                   62\n",
      "Name: operating system, dtype: int64\n"
     ]
    },
    {
     "data": {
      "text/plain": [
       "<AxesSubplot:xlabel='operating system', ylabel='count'>"
      ]
     },
     "execution_count": 22,
     "metadata": {},
     "output_type": "execute_result"
    },
    {
     "data": {
      "image/png": "[encoded data removed]",
      "text/plain": [
       "<Figure size 720x288 with 1 Axes>"
      ]
     },
     "metadata": {
      "needs_background": "light"
     },
     "output_type": "display_data"
    }
   ],
   "source": [
    "plt.figure(figsize=(10,4))\n",
    "plt.xticks(rotation=45)\n",
    "print(df['operating system'].value_counts())\n",
    "sns.countplot(df['operating system'])"
   ]
  },
  {
   "cell_type": "code",
   "execution_count": 23,
   "id": "6691cb71",
   "metadata": {},
   "outputs": [
    {
     "name": "stdout",
     "output_type": "stream",
     "text": [
      "Google chrome      216\n",
      "Safari              40\n",
      "Opera                8\n",
      "Mozilla Firefox      5\n",
      "Name: browser, dtype: int64\n"
     ]
    },
    {
     "data": {
      "text/plain": [
       "<AxesSubplot:xlabel='browser', ylabel='count'>"
      ]
     },
     "execution_count": 23,
     "metadata": {},
     "output_type": "execute_result"
    },
    {
     "data": {
      "image/png": "[encoded data removed]",
      "text/plain": [
       "<Figure size 720x288 with 1 Axes>"
      ]
     },
     "metadata": {
      "needs_background": "light"
     },
     "output_type": "display_data"
    }
   ],
   "source": [
    "# checking  which browser preferred by people for online shoppings\n",
    "plt.figure(figsize=(10,4))\n",
    "plt.xticks(rotation=45)\n",
    "print(df['browser'].value_counts())\n",
    "sns.countplot(df['browser'])"
   ]
  },
  {
   "cell_type": "markdown",
   "id": "e9355f24",
   "metadata": {},
   "source": [
    "According to analysis, Google Chrome has the highest usage browser for online shoppings or we can say that people has lots of faith on Google Chrome for online transactions or shoppings. This is the biggest achievement for Google."
   ]
  },
  {
   "cell_type": "code",
   "execution_count": 24,
   "id": "5f528b12",
   "metadata": {},
   "outputs": [
    {
     "name": "stdout",
     "output_type": "stream",
     "text": [
      "Search Engine        230\n",
      "Content Marketing     20\n",
      "Display Adverts       19\n",
      "Name: channel, dtype: int64\n"
     ]
    },
    {
     "data": {
      "text/plain": [
       "<AxesSubplot:xlabel='channel', ylabel='count'>"
      ]
     },
     "execution_count": 24,
     "metadata": {},
     "output_type": "execute_result"
    },
    {
     "data": {
      "image/png": "[encoded data removed]",
      "text/plain": [
       "<Figure size 720x288 with 1 Axes>"
      ]
     },
     "metadata": {
      "needs_background": "light"
     },
     "output_type": "display_data"
    }
   ],
   "source": [
    "plt.figure(figsize=(10,4))\n",
    "plt.xticks(rotation=45)\n",
    "print(df['channel'].value_counts())\n",
    "sns.countplot(df['channel'])"
   ]
  },
  {
   "cell_type": "markdown",
   "id": "28a68143",
   "metadata": {},
   "source": [
    "# conclusion for customer related information"
   ]
  },
  {
   "cell_type": "markdown",
   "id": "28a58f9d",
   "metadata": {},
   "source": [
    " In people doing online shopping Females are more as compared to Males.\n",
    "\n",
    " People in the age group from 21 to 50 are doing more online shopping as compared to other age groups.\n",
    "\n",
    " Delhi Topped in the city list where more number of people doing online shopping.\n",
    "\n",
    " Mostly people are using mobile internet while shopping online.\n",
    "\n",
    " Mostly People are doing online shopping through smartphone.\n",
    "\n",
    " People having windows as operating system(OS) have maximum count.\n",
    "\n",
    " Mostly people are choosing google chrome as browser to access the website\n",
    "\n",
    " People are mostly use search engine to arrive at their favorite online store for the first time.\n",
    "\n",
    " After first visit people are using application or search engine to access website."
   ]
  },
  {
   "cell_type": "code",
   "execution_count": 25,
   "id": "967c84ec",
   "metadata": {},
   "outputs": [
    {
     "data": {
      "text/plain": [
       "<AxesSubplot:>"
      ]
     },
     "execution_count": 25,
     "metadata": {},
     "output_type": "execute_result"
    },
    {
     "data": {
      "image/png": "[encoded data removed]",
      "text/plain": [
       "<Figure size 432x288 with 1 Axes>"
      ]
     },
     "metadata": {
      "needs_background": "light"
     },
     "output_type": "display_data"
    }
   ],
   "source": [
    "df['How many times in the past 1 year'].value_counts().plot.barh()"
   ]
  },
  {
   "cell_type": "markdown",
   "id": "de0fa132",
   "metadata": {},
   "source": [
    "Most customers fall under the category of less than 10 orders per year, around the same number fall under the category where no of orders is more than 30\n",
    "\n",
    "The number of customers who made more than 30 would be our area of interest are they are loyal customers / likely to purchase more"
   ]
  },
  {
   "cell_type": "code",
   "execution_count": 26,
   "id": "97f0a74a",
   "metadata": {},
   "outputs": [
    {
     "name": "stdout",
     "output_type": "stream",
     "text": [
      "Credit/Debit cards                    148\n",
      "Cash on delivery (CoD)                 76\n",
      "E-wallets (Paytm, Freecharge etc.)     45\n",
      "Name: payment Option, dtype: int64\n"
     ]
    },
    {
     "data": {
      "text/plain": [
       "<AxesSubplot:xlabel='payment Option', ylabel='count'>"
      ]
     },
     "execution_count": 26,
     "metadata": {},
     "output_type": "execute_result"
    },
    {
     "data": {
      "image/png": "[encoded data removed]",
      "text/plain": [
       "<Figure size 504x288 with 1 Axes>"
      ]
     },
     "metadata": {
      "needs_background": "light"
     },
     "output_type": "display_data"
    }
   ],
   "source": [
    "plt.figure(figsize=(7,4))\n",
    "plt.xticks(rotation=45)\n",
    "print(df['payment Option'].value_counts())\n",
    "sns.countplot(df['payment Option'])"
   ]
  },
  {
   "cell_type": "markdown",
   "id": "b1d0b783",
   "metadata": {},
   "source": [
    "Mostly people are using credit and debit cards as their preferred payment option."
   ]
  },
  {
   "cell_type": "code",
   "execution_count": 27,
   "id": "e0aa7bb6",
   "metadata": {},
   "outputs": [
    {
     "name": "stdout",
     "output_type": "stream",
     "text": [
      "Better alternative offer        133\n",
      "Promo code not applicable        54\n",
      "Change in price                  37\n",
      "Lack of trust                    31\n",
      "No preferred mode of payment     14\n",
      "Name: Why did you abandon, dtype: int64\n"
     ]
    },
    {
     "data": {
      "text/plain": [
       "<AxesSubplot:>"
      ]
     },
     "execution_count": 27,
     "metadata": {},
     "output_type": "execute_result"
    },
    {
     "data": {
      "image/png": "[encoded data removed]",
      "text/plain": [
       "<Figure size 1008x288 with 1 Axes>"
      ]
     },
     "metadata": {
      "needs_background": "light"
     },
     "output_type": "display_data"
    }
   ],
   "source": [
    "plt.figure(figsize=(14,4))\n",
    "plt.xticks(rotation=45)\n",
    "print(df['Why did you abandon'].value_counts())\n",
    "df['Why did you abandon'].value_counts().plot.line()"
   ]
  },
  {
   "cell_type": "markdown",
   "id": "19583e32",
   "metadata": {},
   "source": [
    "Now we Analysing the Feed-Back from Customers"
   ]
  },
  {
   "cell_type": "code",
   "execution_count": 28,
   "id": "f352245d",
   "metadata": {},
   "outputs": [
    {
     "name": "stdout",
     "output_type": "stream",
     "text": [
      "Strongly agree (5)       189\n",
      "Agree (4)                 45\n",
      "Strongly disagree (1)     18\n",
      "Dis-agree (2)             12\n",
      "Indifferent (3)            5\n",
      "Name: User friendly, dtype: int64\n"
     ]
    },
    {
     "data": {
      "text/plain": [
       "<AxesSubplot:xlabel='User friendly', ylabel='count'>"
      ]
     },
     "execution_count": 28,
     "metadata": {},
     "output_type": "execute_result"
    },
    {
     "data": {
      "image/png": "[encoded data removed]",
      "text/plain": [
       "<Figure size 720x288 with 1 Axes>"
      ]
     },
     "metadata": {
      "needs_background": "light"
     },
     "output_type": "display_data"
    }
   ],
   "source": [
    "plt.figure(figsize=(10,4))\n",
    "plt.xticks(rotation=45)\n",
    "print(df['User friendly'].value_counts())\n",
    "sns.countplot(df['User friendly'])"
   ]
  },
  {
   "cell_type": "code",
   "execution_count": 29,
   "id": "cbbcec13",
   "metadata": {},
   "outputs": [
    {
     "name": "stdout",
     "output_type": "stream",
     "text": [
      "Strongly agree (5)    159\n",
      "Agree (4)              80\n",
      "Dis-agree (2)          30\n",
      "Name: Convenient Payment methods, dtype: int64\n"
     ]
    },
    {
     "data": {
      "text/plain": [
       "<AxesSubplot:xlabel='Convenient Payment methods', ylabel='count'>"
      ]
     },
     "execution_count": 29,
     "metadata": {},
     "output_type": "execute_result"
    },
    {
     "data": {
      "image/png": "[encoded data removed]",
      "text/plain": [
       "<Figure size 648x288 with 1 Axes>"
      ]
     },
     "metadata": {
      "needs_background": "light"
     },
     "output_type": "display_data"
    }
   ],
   "source": [
    "plt.figure(figsize=(9,4))\n",
    "plt.xticks(rotation=45)\n",
    "print(df['Convenient Payment methods'].value_counts())\n",
    "sns.countplot(df['Convenient Payment methods'])"
   ]
  },
  {
   "cell_type": "code",
   "execution_count": 30,
   "id": "c425ef7a",
   "metadata": {},
   "outputs": [
    {
     "name": "stdout",
     "output_type": "stream",
     "text": [
      "Strongly agree (5)       149\n",
      "Agree (4)                 94\n",
      "indifferent (3)           15\n",
      "Strongly disagree (1)     11\n",
      "Name: Responsiveness and availability, dtype: int64\n"
     ]
    },
    {
     "data": {
      "text/plain": [
       "<AxesSubplot:xlabel='Responsiveness and availability', ylabel='count'>"
      ]
     },
     "execution_count": 30,
     "metadata": {},
     "output_type": "execute_result"
    },
    {
     "data": {
      "image/png": "[encoded data removed]",
      "text/plain": [
       "<Figure size 720x288 with 1 Axes>"
      ]
     },
     "metadata": {
      "needs_background": "light"
     },
     "output_type": "display_data"
    }
   ],
   "source": [
    "plt.figure(figsize=(10,4))\n",
    "plt.xticks(rotation=45)\n",
    "print(df['Responsiveness and availability'].value_counts())\n",
    "sns.countplot(df['Responsiveness and availability'])"
   ]
  },
  {
   "cell_type": "code",
   "execution_count": 31,
   "id": "b5eb9f25",
   "metadata": {},
   "outputs": [
    {
     "name": "stdout",
     "output_type": "stream",
     "text": [
      "Strongly agree (5)       105\n",
      "Agree (4)                 85\n",
      "indifferent (3)           50\n",
      "Strongly disagree (1)     18\n",
      "Dis-agree (2)             11\n",
      "Name: monetary benefit and discounts, dtype: int64\n"
     ]
    },
    {
     "data": {
      "text/plain": [
       "<AxesSubplot:xlabel='monetary benefit and discounts', ylabel='count'>"
      ]
     },
     "execution_count": 31,
     "metadata": {},
     "output_type": "execute_result"
    },
    {
     "data": {
      "image/png": "[encoded data removed]",
      "text/plain": [
       "<Figure size 720x288 with 1 Axes>"
      ]
     },
     "metadata": {
      "needs_background": "light"
     },
     "output_type": "display_data"
    }
   ],
   "source": [
    "plt.figure(figsize=(10,4))\n",
    "plt.xticks(rotation=45)\n",
    "print(df['monetary benefit and discounts'].value_counts())\n",
    "sns.countplot(df['monetary benefit and discounts'])"
   ]
  },
  {
   "cell_type": "code",
   "execution_count": 32,
   "id": "6f594433",
   "metadata": {},
   "outputs": [
    {
     "name": "stdout",
     "output_type": "stream",
     "text": [
      "Strongly agree (5)    133\n",
      "Agree (4)              80\n",
      "indifferent (3)        56\n",
      "Name: quality Information on the website, dtype: int64\n"
     ]
    },
    {
     "data": {
      "text/plain": [
       "<AxesSubplot:xlabel='quality Information on the website', ylabel='count'>"
      ]
     },
     "execution_count": 32,
     "metadata": {},
     "output_type": "execute_result"
    },
    {
     "data": {
      "image/png": "[encoded data removed]",
      "text/plain": [
       "<Figure size 432x288 with 1 Axes>"
      ]
     },
     "metadata": {
      "needs_background": "light"
     },
     "output_type": "display_data"
    }
   ],
   "source": [
    "plt.figure(figsize=(6,4))\n",
    "plt.xticks(rotation=45)\n",
    "print(df['quality Information on the website'].value_counts())\n",
    "sns.countplot(df['quality Information on the website'])"
   ]
  },
  {
   "cell_type": "code",
   "execution_count": 33,
   "id": "40722bd0",
   "metadata": {},
   "outputs": [
    {
     "name": "stdout",
     "output_type": "stream",
     "text": [
      "Strongly agree (5)    198\n",
      "Agree (4)              51\n",
      "Dis-agree (2)          20\n",
      "Name: Return and replacement policy, dtype: int64\n"
     ]
    },
    {
     "data": {
      "text/plain": [
       "<AxesSubplot:xlabel='Return and replacement policy', ylabel='count'>"
      ]
     },
     "execution_count": 33,
     "metadata": {},
     "output_type": "execute_result"
    },
    {
     "data": {
      "image/png": "[encoded data removed]",
      "text/plain": [
       "<Figure size 432x288 with 1 Axes>"
      ]
     },
     "metadata": {
      "needs_background": "light"
     },
     "output_type": "display_data"
    }
   ],
   "source": [
    "plt.figure(figsize=(6,4))\n",
    "plt.xticks(rotation=45)\n",
    "print(df['Return and replacement policy'].value_counts())\n",
    "sns.countplot(df['Return and replacement policy'])"
   ]
  },
  {
   "cell_type": "code",
   "execution_count": 34,
   "id": "238b8bd6",
   "metadata": {},
   "outputs": [
    {
     "name": "stdout",
     "output_type": "stream",
     "text": [
      "Agree (4)             149\n",
      "Strongly agree (5)     82\n",
      "indifferent (3)        38\n",
      "Name: Getting value for money spent, dtype: int64\n"
     ]
    },
    {
     "data": {
      "text/plain": [
       "<AxesSubplot:xlabel='Getting value for money spent', ylabel='count'>"
      ]
     },
     "execution_count": 34,
     "metadata": {},
     "output_type": "execute_result"
    },
    {
     "data": {
      "image/png": "[encoded data removed]",
      "text/plain": [
       "<Figure size 432x288 with 1 Axes>"
      ]
     },
     "metadata": {
      "needs_background": "light"
     },
     "output_type": "display_data"
    }
   ],
   "source": [
    "plt.figure(figsize=(6,4))\n",
    "plt.xticks(rotation=45)\n",
    "print(df['Getting value for money spent'].value_counts())\n",
    "sns.countplot(df['Getting value for money spent'])"
   ]
  },
  {
   "cell_type": "code",
   "execution_count": 35,
   "id": "dc5a56b3",
   "metadata": {},
   "outputs": [
    {
     "name": "stdout",
     "output_type": "stream",
     "text": [
      "Agree (4)                101\n",
      "indifferent (3)           59\n",
      "Strongly agree (5)        54\n",
      "Dis-agree (2)             50\n",
      "Strongly disagree (1)      5\n",
      "Name: sense of adventure, dtype: int64\n"
     ]
    },
    {
     "data": {
      "text/plain": [
       "<AxesSubplot:xlabel='sense of adventure', ylabel='count'>"
      ]
     },
     "execution_count": 35,
     "metadata": {},
     "output_type": "execute_result"
    },
    {
     "data": {
      "image/png": "[encoded data removed]",
      "text/plain": [
       "<Figure size 720x288 with 1 Axes>"
      ]
     },
     "metadata": {
      "needs_background": "light"
     },
     "output_type": "display_data"
    }
   ],
   "source": [
    "plt.figure(figsize=(10,4))\n",
    "plt.xticks(rotation=45)\n",
    "print(df['sense of adventure'].value_counts())\n",
    "sns.countplot(df['sense of adventure'])"
   ]
  },
  {
   "cell_type": "code",
   "execution_count": 36,
   "id": "5a01887c",
   "metadata": {},
   "outputs": [
    {
     "name": "stdout",
     "output_type": "stream",
     "text": [
      "Strongly agree (5)    185\n",
      "Agree (4)              58\n",
      "indifferent (3)        26\n",
      "Name: privacy of the customer, dtype: int64\n"
     ]
    },
    {
     "data": {
      "text/plain": [
       "<AxesSubplot:xlabel='privacy of the customer', ylabel='count'>"
      ]
     },
     "execution_count": 36,
     "metadata": {},
     "output_type": "execute_result"
    },
    {
     "data": {
      "image/png": "[encoded data removed]",
      "text/plain": [
       "<Figure size 432x288 with 1 Axes>"
      ]
     },
     "metadata": {
      "needs_background": "light"
     },
     "output_type": "display_data"
    }
   ],
   "source": [
    "plt.figure(figsize=(6,4))\n",
    "plt.xticks(rotation=45)\n",
    "print(df['privacy of the customer'].value_counts())\n",
    "sns.countplot(df['privacy of the customer'])"
   ]
  },
  {
   "cell_type": "code",
   "execution_count": 37,
   "id": "b0f6aa89",
   "metadata": {},
   "outputs": [
    {
     "name": "stdout",
     "output_type": "stream",
     "text": [
      "Strongly agree (5)    164\n",
      "Agree (4)              54\n",
      "indifferent (3)        40\n",
      "Dis-agree (2)          11\n",
      "Name: Net Benefit, dtype: int64\n"
     ]
    },
    {
     "data": {
      "text/plain": [
       "<AxesSubplot:xlabel='Net Benefit', ylabel='count'>"
      ]
     },
     "execution_count": 37,
     "metadata": {},
     "output_type": "execute_result"
    },
    {
     "data": {
      "image/png": "[encoded data removed]",
      "text/plain": [
       "<Figure size 432x288 with 1 Axes>"
      ]
     },
     "metadata": {
      "needs_background": "light"
     },
     "output_type": "display_data"
    }
   ],
   "source": [
    "plt.figure(figsize=(6,4))\n",
    "plt.xticks(rotation=45)\n",
    "print(df['Net Benefit'].value_counts())\n",
    "sns.countplot(df['Net Benefit'])"
   ]
  },
  {
   "cell_type": "code",
   "execution_count": 38,
   "id": "d236320f",
   "metadata": {},
   "outputs": [
    {
     "name": "stdout",
     "output_type": "stream",
     "text": [
      "Strongly agree (5)    146\n",
      "Agree (4)              78\n",
      "indifferent (3)        33\n",
      "Dis-agree (2)          12\n",
      "Name: Shopping online is convenient and flexible, dtype: int64\n"
     ]
    },
    {
     "data": {
      "text/plain": [
       "<AxesSubplot:xlabel='Shopping online is convenient and flexible', ylabel='count'>"
      ]
     },
     "execution_count": 38,
     "metadata": {},
     "output_type": "execute_result"
    },
    {
     "data": {
      "image/png": "[encoded data removed]",
      "text/plain": [
       "<Figure size 432x288 with 1 Axes>"
      ]
     },
     "metadata": {
      "needs_background": "light"
     },
     "output_type": "display_data"
    }
   ],
   "source": [
    "plt.figure(figsize=(6,4))\n",
    "plt.xticks(rotation=45)\n",
    "print(df['Shopping online is convenient and flexible'].value_counts())\n",
    "sns.countplot(df['Shopping online is convenient and flexible'])"
   ]
  },
  {
   "cell_type": "code",
   "execution_count": 39,
   "id": "24429d71",
   "metadata": {},
   "outputs": [
    {
     "name": "stdout",
     "output_type": "stream",
     "text": [
      "Strongly agree (5)       115\n",
      "Agree (4)                 64\n",
      "indifferent (3)           64\n",
      "Dis-agree (2)             15\n",
      "Strongly disagree (1)     11\n",
      "Name: Gaining access to loyalty, dtype: int64\n"
     ]
    },
    {
     "data": {
      "text/plain": [
       "<AxesSubplot:xlabel='Gaining access to loyalty', ylabel='count'>"
      ]
     },
     "execution_count": 39,
     "metadata": {},
     "output_type": "execute_result"
    },
    {
     "data": {
      "image/png": "[encoded data removed]",
      "text/plain": [
       "<Figure size 432x288 with 1 Axes>"
      ]
     },
     "metadata": {
      "needs_background": "light"
     },
     "output_type": "display_data"
    }
   ],
   "source": [
    "plt.figure(figsize=(6,4))\n",
    "plt.xticks(rotation=45)\n",
    "print(df['Gaining access to loyalty'].value_counts())\n",
    "sns.countplot(df['Gaining access to loyalty'])"
   ]
  },
  {
   "cell_type": "code",
   "execution_count": 40,
   "id": "12fc4a19",
   "metadata": {},
   "outputs": [
    {
     "name": "stdout",
     "output_type": "stream",
     "text": [
      "Strongly agree (5)       122\n",
      "Agree (4)                117\n",
      "Strongly disagree (1)     18\n",
      "Dis-agree (2)              7\n",
      "indifferent (3)            5\n",
      "Name: User satisfaction cannot exist without trust, dtype: int64\n"
     ]
    },
    {
     "data": {
      "text/plain": [
       "<AxesSubplot:xlabel='User satisfaction cannot exist without trust', ylabel='count'>"
      ]
     },
     "execution_count": 40,
     "metadata": {},
     "output_type": "execute_result"
    },
    {
     "data": {
      "image/png": "[encoded data removed]",
      "text/plain": [
       "<Figure size 432x288 with 1 Axes>"
      ]
     },
     "metadata": {
      "needs_background": "light"
     },
     "output_type": "display_data"
    }
   ],
   "source": [
    "plt.figure(figsize=(6,4))\n",
    "plt.xticks(rotation=45)\n",
    "print(df['User satisfaction cannot exist without trust'].value_counts())\n",
    "sns.countplot(df['User satisfaction cannot exist without trust'])"
   ]
  },
  {
   "cell_type": "code",
   "execution_count": 41,
   "id": "e244b975",
   "metadata": {},
   "outputs": [
    {
     "name": "stdout",
     "output_type": "stream",
     "text": [
      "Strongly agree (5)    135\n",
      "Agree (4)              98\n",
      "indifferent (3)        31\n",
      "Disagree (2)            5\n",
      "Name: Provision of complete and relevant product information, dtype: int64\n"
     ]
    },
    {
     "data": {
      "text/plain": [
       "<AxesSubplot:xlabel='Provision of complete and relevant product information', ylabel='count'>"
      ]
     },
     "execution_count": 41,
     "metadata": {},
     "output_type": "execute_result"
    },
    {
     "data": {
      "image/png": "[encoded data removed]",
      "text/plain": [
       "<Figure size 432x288 with 1 Axes>"
      ]
     },
     "metadata": {
      "needs_background": "light"
     },
     "output_type": "display_data"
    }
   ],
   "source": [
    "plt.figure(figsize=(6,4))\n",
    "plt.xticks(rotation=45)\n",
    "print(df['Provision of complete and relevant product information'].value_counts())\n",
    "sns.countplot(df['Provision of complete and relevant product information'])"
   ]
  },
  {
   "cell_type": "code",
   "execution_count": 42,
   "id": "dc17f842",
   "metadata": {},
   "outputs": [
    {
     "name": "stdout",
     "output_type": "stream",
     "text": [
      "Agree (4)             138\n",
      "indifferent (3)        77\n",
      "Strongly agree (5)     54\n",
      "Name: The Convenience of patronizing the online retailer, dtype: int64\n"
     ]
    },
    {
     "data": {
      "text/plain": [
       "<AxesSubplot:xlabel='The Convenience of patronizing the online retailer', ylabel='count'>"
      ]
     },
     "execution_count": 42,
     "metadata": {},
     "output_type": "execute_result"
    },
    {
     "data": {
      "image/png": "[encoded data removed]",
      "text/plain": [
       "<Figure size 432x288 with 1 Axes>"
      ]
     },
     "metadata": {
      "needs_background": "light"
     },
     "output_type": "display_data"
    }
   ],
   "source": [
    "plt.figure(figsize=(6,4))\n",
    "plt.xticks(rotation=45)\n",
    "print(df['The Convenience of patronizing the online retailer'].value_counts())\n",
    "sns.countplot(df['The Convenience of patronizing the online retailer'])"
   ]
  },
  {
   "cell_type": "code",
   "execution_count": 43,
   "id": "aa78bd84",
   "metadata": {},
   "outputs": [
    {
     "name": "stdout",
     "output_type": "stream",
     "text": [
      "indifferent (3)          101\n",
      "Strongly agree (5)        65\n",
      "Agree (4)                 63\n",
      "Disagree (2)              22\n",
      "Strongly disagree (1)     18\n",
      "Name: gratification shopping on your favorite e-tailer, dtype: int64\n"
     ]
    },
    {
     "data": {
      "text/plain": [
       "<AxesSubplot:xlabel='gratification shopping on your favorite e-tailer', ylabel='count'>"
      ]
     },
     "execution_count": 43,
     "metadata": {},
     "output_type": "execute_result"
    },
    {
     "data": {
      "image/png": "[encoded data removed]",
      "text/plain": [
       "<Figure size 432x288 with 1 Axes>"
      ]
     },
     "metadata": {
      "needs_background": "light"
     },
     "output_type": "display_data"
    }
   ],
   "source": [
    "plt.figure(figsize=(6,4))\n",
    "plt.xticks(rotation=45)\n",
    "print(df['gratification shopping on your favorite e-tailer'].value_counts())\n",
    "sns.countplot(df['gratification shopping on your favorite e-tailer'])"
   ]
  },
  {
   "cell_type": "code",
   "execution_count": 44,
   "id": "d6198ee3",
   "metadata": {},
   "outputs": [
    {
     "name": "stdout",
     "output_type": "stream",
     "text": [
      "indifferent (3)          100\n",
      "Agree (4)                 59\n",
      "Strongly agree (5)        48\n",
      "Strongly disagree (1)     33\n",
      "Dis-agree (2)             29\n",
      "Name: enhances your social status, dtype: int64\n"
     ]
    },
    {
     "data": {
      "text/plain": [
       "<AxesSubplot:xlabel='enhances your social status', ylabel='count'>"
      ]
     },
     "execution_count": 44,
     "metadata": {},
     "output_type": "execute_result"
    },
    {
     "data": {
      "image/png": "[encoded data removed]",
      "text/plain": [
       "<Figure size 720x288 with 1 Axes>"
      ]
     },
     "metadata": {
      "needs_background": "light"
     },
     "output_type": "display_data"
    }
   ],
   "source": [
    "plt.figure(figsize=(10,4))\n",
    "plt.xticks(rotation=45)\n",
    "print(df['enhances your social status'].value_counts())\n",
    "sns.countplot(df['enhances your social status'])"
   ]
  },
  {
   "cell_type": "code",
   "execution_count": 45,
   "id": "3aa61c05",
   "metadata": {},
   "outputs": [
    {
     "name": "stdout",
     "output_type": "stream",
     "text": [
      "Agree (4)                88\n",
      "indifferent (3)          88\n",
      "Strongly agree (5)       38\n",
      "Strongly disagree (1)    33\n",
      "Dis-agree (2)            22\n",
      "Name: Shopping on the website helps you fulfill certain roles, dtype: int64\n"
     ]
    },
    {
     "data": {
      "text/plain": [
       "<AxesSubplot:xlabel='Shopping on the website helps you fulfill certain roles', ylabel='count'>"
      ]
     },
     "execution_count": 45,
     "metadata": {},
     "output_type": "execute_result"
    },
    {
     "data": {
      "image/png": "[encoded data removed]",
      "text/plain": [
       "<Figure size 720x288 with 1 Axes>"
      ]
     },
     "metadata": {
      "needs_background": "light"
     },
     "output_type": "display_data"
    }
   ],
   "source": [
    "plt.figure(figsize=(10,4))\n",
    "plt.xticks(rotation=45)\n",
    "print(df['Shopping on the website helps you fulfill certain roles'].value_counts())\n",
    "sns.countplot(df['Shopping on the website helps you fulfill certain roles'])"
   ]
  },
  {
   "cell_type": "markdown",
   "id": "c3a04e04",
   "metadata": {},
   "source": [
    "# Conclusion From Customer's Feed-Back"
   ]
  },
  {
   "cell_type": "markdown",
   "id": "1fb55d6d",
   "metadata": {},
   "source": [
    "People strongly agree that"
   ]
  },
  {
   "cell_type": "markdown",
   "id": "2c7ed2c3",
   "metadata": {},
   "source": [
    "   Website has user friendly interface. \n",
    "\n",
    "   Payment method Should be convenient.\n",
    "\n",
    "   Responsiveness, availability of several communication channels (email, online rep, twitter, phone etc ) is necessary.\n",
    "\n",
    "   Online shopping gives monetary benefit and discounts to the customers.\n",
    "\n",
    "   Displaying quality Information on the website improves satisfaction of customers.\n",
    "\n",
    "   Return and replacement policy of the e-tailer is important for purchase decision.\n",
    "\n",
    "   Doing online shopping give them value of money spend.\n",
    "\n",
    "   Shopping on the website give them sense of adventure.\n",
    "\n",
    "   Being able to guarantee the privacy of the customer\n",
    "\n",
    "   User derive satisfaction while shopping on a good quality website or application.\n",
    "\n",
    "   Shopping online is convenient and flexible.\n",
    "\n",
    "   Gaining access to loyalty programs is a benefit of shopping online.\n",
    "\n",
    "   User satisfaction exist when they have trust one website. \n",
    "\n",
    "   Their should be provision of complete and relevant product information website.\n",
    "\n",
    "   They feel gratification shopping on your favorite e-tailer.\n",
    "\n",
    "   The Convenience of patronizing the online retailer.\n",
    "\n",
    "User have indifferent opnion that shopping on their preferred e-tailer enhances their social status.\n",
    "\n",
    "User have mixed reaction on wheither shopping on website helps them to fulfil certain roles some agree it some are indifferent ."
   ]
  },
  {
   "cell_type": "markdown",
   "id": "69918c93",
   "metadata": {},
   "source": [
    "# Different Websites or online Shopping Platform Used By Customers"
   ]
  },
  {
   "cell_type": "code",
   "execution_count": 46,
   "id": "b7949f91",
   "metadata": {},
   "outputs": [
    {
     "name": "stdout",
     "output_type": "stream",
     "text": [
      "Amazon.in, Flipkart.com, Paytm.com, Myntra.com, Snapdeal.com    64\n",
      "Amazon.in, Flipkart.com, Myntra.com, Snapdeal.com               44\n",
      "Amazon.in, Flipkart.com                                         44\n",
      "Amazon.in                                                       29\n",
      "Amazon.in, Flipkart.com, Paytm.com, Snapdeal.com                22\n",
      "Amazon.in, Paytm.com, Myntra.com                                20\n",
      "Amazon.in, Flipkart.com, Myntra.com                             19\n",
      "Paytm.com                                                       12\n",
      "Flipkart.com                                                     8\n",
      "Amazon.in, Paytm.com                                             7\n",
      "Name: Easy to use website or application, dtype: int64\n"
     ]
    },
    {
     "data": {
      "image/png": "[encoded data removed]",
      "text/plain": [
       "<Figure size 720x288 with 1 Axes>"
      ]
     },
     "metadata": {
      "needs_background": "light"
     },
     "output_type": "display_data"
    }
   ],
   "source": [
    "plt.figure(figsize=(10,4))\n",
    "plt.xticks(rotation=45)\n",
    "print(df['Easy to use website or application'].value_counts())\n",
    "df['Easy to use website or application'].value_counts().plot(kind=\"bar\")\n",
    "plt.show()"
   ]
  },
  {
   "cell_type": "markdown",
   "id": "302dd350",
   "metadata": {},
   "source": [
    "As per above graph, Majority of the customers are using Amazon.in, Flipkart.com, Paytm.com, Myntra.com, Snapdeal.com as It is Easy to use Websites and as our earlier analysis on device using category shows that Most of the people are using Smartphone and all of these online platform has their own mobile application which has lots of features even and Easy to use\n",
    "\n",
    "Amazon is the choice of among 90% Users, Showing very clear in above Graph"
   ]
  },
  {
   "cell_type": "code",
   "execution_count": 47,
   "id": "6e162de8",
   "metadata": {},
   "outputs": [
    {
     "name": "stdout",
     "output_type": "stream",
     "text": [
      "Amazon.in, Flipkart.com                              130\n",
      "Amazon.in                                             43\n",
      "Amazon.in, Myntra.com                                 20\n",
      "Flipkart.com, Myntra.com                              15\n",
      "Myntra.com                                            15\n",
      "Amazon.in, Flipkart.com, Myntra.com, Snapdeal.com     14\n",
      "Amazon.in, Flipkart.com, Paytm.com                    13\n",
      "Flipkart.com                                          12\n",
      "Paytm.com                                              7\n",
      "Name: Wild variety of product on offer, dtype: int64\n"
     ]
    },
    {
     "data": {
      "text/plain": [
       "<AxesSubplot:>"
      ]
     },
     "execution_count": 47,
     "metadata": {},
     "output_type": "execute_result"
    },
    {
     "data": {
      "image/png": "[encoded data removed]",
      "text/plain": [
       "<Figure size 720x288 with 1 Axes>"
      ]
     },
     "metadata": {
      "needs_background": "light"
     },
     "output_type": "display_data"
    }
   ],
   "source": [
    "plt.figure(figsize=(10,4))\n",
    "plt.xticks(rotation=45)\n",
    "print(df['Wild variety of product on offer'].value_counts())\n",
    "df['Wild variety of product on offer'].value_counts().plot(kind=\"bar\")"
   ]
  },
  {
   "cell_type": "markdown",
   "id": "e28f665c",
   "metadata": {},
   "source": [
    "Website like Amazon and Flipkart have visual appealing webpage layout and they offer wild variety of products."
   ]
  },
  {
   "cell_type": "code",
   "execution_count": 48,
   "id": "622a425b",
   "metadata": {},
   "outputs": [
    {
     "name": "stdout",
     "output_type": "stream",
     "text": [
      "Amazon.in                                            61\n",
      "Amazon.in, Flipkart.com                              50\n",
      "Amazon.in, Flipkart.com, Paytm.com                   36\n",
      "Amazon.in, Paytm.com, Myntra.com                     35\n",
      "Amazon.in, Flipkart.com, Snapdeal.com                18\n",
      "Myntra.com                                           15\n",
      "Flipkart.com                                         15\n",
      "Amazon.in, Flipkart.com, Myntra.com, Snapdeal.com    14\n",
      "Amazon.in, Flipkart.com, Paytm.com, Snapdeal.com     13\n",
      "Paytm.com                                            12\n",
      "Name: Reliability of the website or application, dtype: int64\n"
     ]
    },
    {
     "data": {
      "text/plain": [
       "<AxesSubplot:>"
      ]
     },
     "execution_count": 48,
     "metadata": {},
     "output_type": "execute_result"
    },
    {
     "data": {
      "image/png": "[encoded data removed]",
      "text/plain": [
       "<Figure size 720x288 with 1 Axes>"
      ]
     },
     "metadata": {
      "needs_background": "light"
     },
     "output_type": "display_data"
    }
   ],
   "source": [
    "plt.figure(figsize=(10,4))\n",
    "plt.xticks(rotation=50)\n",
    "print(df['Reliability of the website or application'].value_counts())\n",
    "df['Reliability of the website or application'].value_counts().plot(kind=\"bar\")"
   ]
  },
  {
   "cell_type": "markdown",
   "id": "29e21db7",
   "metadata": {},
   "source": [
    "For Reliability of the website or application\n",
    "\n",
    "61 out of 269 customers choose amazon and\n",
    "\n",
    "50 out of 269 customers choose amazon and flipkart"
   ]
  },
  {
   "cell_type": "code",
   "execution_count": 49,
   "id": "3de6ad56",
   "metadata": {},
   "outputs": [
    {
     "name": "stdout",
     "output_type": "stream",
     "text": [
      "Amazon.in                                                       71\n",
      "Amazon.in, Flipkart.com                                         54\n",
      "Amazon.in, Flipkart.com, Myntra.com                             25\n",
      "Amazon.in, Flipkart.com, Paytm.com, Myntra.com, Snapdeal.com    24\n",
      "Paytm.com                                                       18\n",
      "Myntra.com                                                      15\n",
      "Amazon.in, Paytm.com                                            15\n",
      "Flipkart.com                                                    15\n",
      "Amazon.in, Flipkart.com, Myntra.com, Snapdeal.com               14\n",
      "Amazon.in, Flipkart.com, Paytm.com                              11\n",
      "Amazon.in, Flipkart.com, Snapdeal.com                            7\n",
      "Name: Privacy of customers’ information, dtype: int64\n"
     ]
    },
    {
     "data": {
      "text/plain": [
       "<AxesSubplot:xlabel='Privacy of customers’ information', ylabel='count'>"
      ]
     },
     "execution_count": 49,
     "metadata": {},
     "output_type": "execute_result"
    },
    {
     "data": {
      "image/png": "[encoded data removed]",
      "text/plain": [
       "<Figure size 720x288 with 1 Axes>"
      ]
     },
     "metadata": {
      "needs_background": "light"
     },
     "output_type": "display_data"
    }
   ],
   "source": [
    "plt.figure(figsize=(10,4))\n",
    "plt.xticks(rotation=45)\n",
    "print(df['Privacy of customers’ information'].value_counts())\n",
    "sns.countplot(df['Privacy of customers’ information'])"
   ]
  },
  {
   "cell_type": "code",
   "execution_count": 50,
   "id": "561e163d",
   "metadata": {},
   "outputs": [
    {
     "name": "stdout",
     "output_type": "stream",
     "text": [
      "Amazon.in                                                       51\n",
      "Amazon.in, Flipkart.com, Paytm.com, Myntra.com, Snapdeal.com    42\n",
      "Flipkart.com                                                    33\n",
      "Amazon.in, Flipkart.com, Snapdeal.com                           25\n",
      "Amazon.in, Flipkart.com                                         24\n",
      "Amazon.in, Paytm.com, Myntra.com                                20\n",
      "Amazon.in, Snapdeal.com                                         19\n",
      "Myntra.com                                                      15\n",
      "Paytm.com                                                       15\n",
      "Amazon.in, Flipkart.com, Myntra.com, Snapdeal.com               14\n",
      "Amazon.in, Flipkart.com, Paytm.com                              11\n",
      "Name: Security of customer financial information, dtype: int64\n"
     ]
    },
    {
     "data": {
      "text/plain": [
       "<AxesSubplot:xlabel='Security of customer financial information', ylabel='count'>"
      ]
     },
     "execution_count": 50,
     "metadata": {},
     "output_type": "execute_result"
    },
    {
     "data": {
      "image/png": "[encoded data removed]",
      "text/plain": [
       "<Figure size 720x288 with 1 Axes>"
      ]
     },
     "metadata": {
      "needs_background": "light"
     },
     "output_type": "display_data"
    }
   ],
   "source": [
    "plt.figure(figsize=(10,4))\n",
    "plt.xticks(rotation=45)\n",
    "print(df['Security of customer financial information'].value_counts())\n",
    "sns.countplot(df['Security of customer financial information'])"
   ]
  },
  {
   "cell_type": "code",
   "execution_count": 51,
   "id": "fc95dc59",
   "metadata": {},
   "outputs": [
    {
     "name": "stdout",
     "output_type": "stream",
     "text": [
      "Amazon.in                                                       76\n",
      "Amazon.in, Flipkart.com, Snapdeal.com                           36\n",
      "Amazon.in, Myntra.com                                           35\n",
      "Amazon.in, Flipkart.com                                         31\n",
      "Flipkart.com                                                    27\n",
      "Amazon.in, Flipkart.com, Myntra.com, Snapdeal.com               25\n",
      "Myntra.com                                                      15\n",
      "Amazon.in, Flipkart.com, Paytm.com, Myntra.com, Snapdeal.com    13\n",
      "Amazon.in, Flipkart.com, Paytm.com                              11\n",
      "Name: Perceived Trustworthiness, dtype: int64\n"
     ]
    },
    {
     "data": {
      "text/plain": [
       "<AxesSubplot:>"
      ]
     },
     "execution_count": 51,
     "metadata": {},
     "output_type": "execute_result"
    },
    {
     "data": {
      "image/png": "[encoded data removed]",
      "text/plain": [
       "<Figure size 720x288 with 1 Axes>"
      ]
     },
     "metadata": {
      "needs_background": "light"
     },
     "output_type": "display_data"
    }
   ],
   "source": [
    "plt.figure(figsize=(10,4))\n",
    "plt.xticks(rotation=45)\n",
    "print(df['Perceived Trustworthiness'].value_counts())\n",
    "df['Perceived Trustworthiness'].value_counts().plot(kind=\"line\")"
   ]
  },
  {
   "cell_type": "code",
   "execution_count": 52,
   "id": "cb10a9cb",
   "metadata": {},
   "outputs": [
    {
     "name": "stdout",
     "output_type": "stream",
     "text": [
      "Paytm.com                  72\n",
      "Snapdeal.com               64\n",
      "Flipkart.com               44\n",
      "Amazon.in                  37\n",
      "Paytm.com, Snapdeal.com    26\n",
      "Myntra.com                 26\n",
      "Name: Longer delivery period, dtype: int64\n"
     ]
    },
    {
     "data": {
      "text/plain": [
       "<AxesSubplot:xlabel='Longer delivery period', ylabel='count'>"
      ]
     },
     "execution_count": 52,
     "metadata": {},
     "output_type": "execute_result"
    },
    {
     "data": {
      "image/png": "[encoded data removed]",
      "text/plain": [
       "<Figure size 720x288 with 1 Axes>"
      ]
     },
     "metadata": {
      "needs_background": "light"
     },
     "output_type": "display_data"
    }
   ],
   "source": [
    "plt.figure(figsize=(10,4))\n",
    "plt.xticks(rotation=45)\n",
    "print(df['Longer delivery period'].value_counts())\n",
    "sns.countplot(df['Longer delivery period'])"
   ]
  },
  {
   "cell_type": "code",
   "execution_count": 53,
   "id": "10db2d2f",
   "metadata": {},
   "outputs": [
    {
     "name": "stdout",
     "output_type": "stream",
     "text": [
      "Amazon.in                   96\n",
      "Paytm.com                   63\n",
      "Amazon.in, Flipkart.com     45\n",
      "Myntra.com                  30\n",
      "Flipkart.com                20\n",
      "Snapdeal.com                 8\n",
      "Flipkart.com, Myntra.com     7\n",
      "Name: Change in website/Application design, dtype: int64\n"
     ]
    },
    {
     "data": {
      "text/plain": [
       "<AxesSubplot:xlabel='Change in website/Application design', ylabel='count'>"
      ]
     },
     "execution_count": 53,
     "metadata": {},
     "output_type": "execute_result"
    },
    {
     "data": {
      "image/png": "[encoded data removed]",
      "text/plain": [
       "<Figure size 720x288 with 1 Axes>"
      ]
     },
     "metadata": {
      "needs_background": "light"
     },
     "output_type": "display_data"
    }
   ],
   "source": [
    "plt.figure(figsize=(10,4))\n",
    "plt.xticks(rotation=50)\n",
    "print(df['Change in website/Application design'].value_counts())\n",
    "sns.countplot(df['Change in website/Application design'])\n"
   ]
  },
  {
   "cell_type": "markdown",
   "id": "6128550c",
   "metadata": {},
   "source": [
    "In Change in website/Application design amazon.in topped the list."
   ]
  },
  {
   "cell_type": "code",
   "execution_count": 54,
   "id": "d7b1eafc",
   "metadata": {},
   "outputs": [
    {
     "name": "stdout",
     "output_type": "stream",
     "text": [
      "Amazon.in                             94\n",
      "Flipkart.com                          47\n",
      "Amazon.in, Flipkart.com               45\n",
      "Amazon.in, Flipkart.com, Paytm.com    25\n",
      "Amazon.in, Paytm.com                  18\n",
      "Paytm.com                             15\n",
      "Myntra.com, Snapdeal.com              14\n",
      "Snapdeal.com                          11\n",
      "Name: Website is as efficient as before, dtype: int64\n"
     ]
    },
    {
     "data": {
      "text/plain": [
       "<AxesSubplot:xlabel='Website is as efficient as before', ylabel='count'>"
      ]
     },
     "execution_count": 54,
     "metadata": {},
     "output_type": "execute_result"
    },
    {
     "data": {
      "image/png": "[encoded data removed]",
      "text/plain": [
       "<Figure size 720x288 with 1 Axes>"
      ]
     },
     "metadata": {
      "needs_background": "light"
     },
     "output_type": "display_data"
    }
   ],
   "source": [
    "plt.figure(figsize=(10,4))\n",
    "plt.xticks(rotation=45)\n",
    "print(df['Website is as efficient as before'].value_counts())\n",
    "sns.countplot(df['Website is as efficient as before'])"
   ]
  },
  {
   "cell_type": "code",
   "execution_count": 55,
   "id": "899251d2",
   "metadata": {},
   "outputs": [
    {
     "name": "stdout",
     "output_type": "stream",
     "text": [
      "Amazon.in                                            79\n",
      "Amazon.in, Flipkart.com                              62\n",
      "Flipkart.com                                         39\n",
      "Amazon.in, Myntra.com                                30\n",
      "Amazon.in, Paytm.com, Myntra.com                     20\n",
      "Amazon.in, Flipkart.com, Myntra.com                  15\n",
      "Amazon.in, Paytm.com                                 13\n",
      "Flipkart.com, Paytm.com, Myntra.com, snapdeal.com    11\n",
      "Name: Which of the Indian online retailer would you recommend to a friend, dtype: int64\n"
     ]
    },
    {
     "data": {
      "text/plain": [
       "<AxesSubplot:xlabel='Which of the Indian online retailer would you recommend to a friend', ylabel='count'>"
      ]
     },
     "execution_count": 55,
     "metadata": {},
     "output_type": "execute_result"
    },
    {
     "data": {
      "image/png": "[encoded data removed]",
      "text/plain": [
       "<Figure size 1008x288 with 1 Axes>"
      ]
     },
     "metadata": {
      "needs_background": "light"
     },
     "output_type": "display_data"
    }
   ],
   "source": [
    "plt.figure(figsize=(14,4))\n",
    "plt.xticks(rotation=40)\n",
    "print(df['Which of the Indian online retailer would you recommend to a friend'].value_counts())\n",
    "sns.countplot(df['Which of the Indian online retailer would you recommend to a friend'])"
   ]
  },
  {
   "cell_type": "markdown",
   "id": "227eb2fc",
   "metadata": {},
   "source": [
    "Which of the Indian online retailer would you recommend to a friend\n",
    "\n",
    "79 out of 269 choose amazon which tops the list\n",
    "\n",
    "2nd most is 62 out of 269 choose amazon and flipkart"
   ]
  },
  {
   "cell_type": "markdown",
   "id": "868f6e26",
   "metadata": {},
   "source": [
    "# Last Conclusion:"
   ]
  },
  {
   "cell_type": "markdown",
   "id": "756e4c77",
   "metadata": {},
   "source": [
    "As in the final countplot in which user were asked which online retailer they would recommend to a friend in this Amazon.in topped the list because it is providing all the features that users want. Website is efficient and it is fast loading , it gives complete , relevant description and information of products . It is reliable and quick to complete the purchase. Amazon give speedy delivery to its customers and there are several payment options available on the website. It provides online assistance through multi channels. Providing good deals on products. Its website have visual appealing webpage layout and they offer wide variety of products and its application is easy to use . lastly the main thing why user recommend it is because of its Trustworthiness and its robust Security in protecting customer financial information and their Privacy information .\n",
    "\n",
    "These all features make it top the list of recommended online retailer .Providing these features it is retaining its customers.\n",
    "\n",
    "They are some cons like the amazon website topping the list In Frequent disruption when moving from one page to another this con company should see and improve it to give overall best experience to the users."
   ]
  },
  {
   "cell_type": "code",
   "execution_count": null,
   "id": "0325a6a0",
   "metadata": {},
   "outputs": [],
   "source": []
  }
 ],
 "metadata": {
  "kernelspec": {
   "display_name": "Python 3 (ipykernel)",
   "language": "python",
   "name": "python3"
  },
  "language_info": {
   "codemirror_mode": {
    "name": "ipython",
    "version": 3
   },
   "file_extension": ".py",
   "mimetype": "text/x-python",
   "name": "python",
   "nbconvert_exporter": "python",
   "pygments_lexer": "ipython3",
   "version": "3.9.7"
  }
 },
 "nbformat": 4,
 "nbformat_minor": 5
}
